{
 "cells": [
  {
   "cell_type": "code",
   "execution_count": 3,
   "id": "95e8aa5c",
   "metadata": {},
   "outputs": [
    {
     "name": "stdout",
     "output_type": "stream",
     "text": [
      "Enter the Numbers :5\n",
      "Enter the Numbers :4\n",
      "Addition of (A + B) :  9\n",
      "Subtraction of (A - B) :  1\n",
      "Division of (A / B) :  1.25\n",
      "Multiplication of (A * B) :  20\n",
      "Floor Division of (A // B) :  1\n",
      "Modulus of (A % B) :  1\n",
      "Here done Arithmetic Operators..!!!\n"
     ]
    }
   ],
   "source": [
    "#OPERATORS\n",
    "\n",
    "# SEVEN TYPES OF OPERATORS\n",
    "\n",
    "# ARITHMETIC OPERATORS\n",
    "# ASSIGNMENT OPERATORS\n",
    "# RELATIONAL OPERATORS\n",
    "# MEMBERSHIP OPERATORS\n",
    "# IDENTITY OPERATORS\n",
    "# BITWISE OPERATORS\n",
    "# LOGICAL OPERATORS\n",
    "\n",
    "#Arithmetic Operators\n",
    "a = int(input(\"Enter the Numbers :\"))\n",
    "b = int(input(\"Enter the Numbers :\"))\n",
    "print(\"Addition of (A + B) : \", a+b)\n",
    "print(\"Subtraction of (A - B) : \", a-b)\n",
    "print(\"Division of (A / B) : \", a/b)\n",
    "print(\"Multiplication of (A * B) : \", a*b)\n",
    "print(\"Floor Division of (A // B) : \", a//b)\n",
    "print(\"Modulus of (A % B) : \", a%b)\n",
    "print(\"Here done Arithmetic Operators..!!!\")"
   ]
  },
  {
   "cell_type": "code",
   "execution_count": 5,
   "id": "74ecb865",
   "metadata": {},
   "outputs": [
    {
     "name": "stdout",
     "output_type": "stream",
     "text": [
      "Enter the Numbers :5\n",
      "Enter the Numbers :4\n",
      "Addition of (A += B) :  9\n",
      "\n",
      "Enter the Numbers :5\n",
      "Subtraction of (A -= B) :  1\n",
      "\n",
      "Enter the Numbers :5\n",
      "Division of (A /= B) :  1.25\n",
      "\n",
      "Enter the Numbers :5\n",
      "Multiplication of (A *= B) :  20\n",
      "\n",
      "Enter the Numbers :5\n",
      "Floor Division of (A //= B) :  1\n",
      "\n",
      "Enter the Numbers :5\n",
      "Modulus of (A %= B) :  1\n",
      "\n",
      "Here done Assignment Operators..!!!\n"
     ]
    }
   ],
   "source": [
    "#Assignment Operators\n",
    "\n",
    "a = int(input(\"Enter the Numbers :\"))\n",
    "b = int(input(\"Enter the Numbers :\"))\n",
    "a+=b\n",
    "print(\"Addition of (A += B) : \", a)\n",
    "print()\n",
    "a = 0\n",
    "a = int(input(\"Enter the Numbers :\"))\n",
    "a-=b\n",
    "print(\"Subtraction of (A -= B) : \", a)\n",
    "print()\n",
    "a = 0\n",
    "a = int(input(\"Enter the Numbers :\"))\n",
    "a/=b\n",
    "print(\"Division of (A /= B) : \", a)\n",
    "print()\n",
    "a = 0\n",
    "a = int(input(\"Enter the Numbers :\"))\n",
    "a*=b\n",
    "print(\"Multiplication of (A *= B) : \", a)\n",
    "print()\n",
    "a = 0\n",
    "a = int(input(\"Enter the Numbers :\"))\n",
    "a//=b\n",
    "print(\"Floor Division of (A //= B) : \", a)\n",
    "print()\n",
    "a = 0\n",
    "a = int(input(\"Enter the Numbers :\"))\n",
    "a%=b\n",
    "print(\"Modulus of (A %= B) : \", a)\n",
    "print()\n",
    "print(\"Here done Assignment Operators..!!!\")"
   ]
  },
  {
   "cell_type": "code",
   "execution_count": 14,
   "id": "582a94ad",
   "metadata": {},
   "outputs": [
    {
     "name": "stdout",
     "output_type": "stream",
     "text": [
      "Enter the Numbers :4\n",
      "Enter the Numbers :5\n",
      "\n",
      " A is Equal to B : False\n",
      "\n",
      " A is not Equal to B : True\n",
      "\n",
      " A is Greater than B : False\n",
      "\n",
      " A is Greater Than and Equal to B : False\n",
      "\n",
      " A is Less Than B : True\n",
      "\n",
      " A is Less Than Equal to B : True\n",
      "\n",
      " Here done Comparison Operators..!!!\n"
     ]
    }
   ],
   "source": [
    "# RELATIONAL OPERATORS\n",
    "a = int(input(\"Enter the Numbers :\"))\n",
    "b = int(input(\"Enter the Numbers :\"))\n",
    "print(\"\\n A is Equal to B :\" , a == b)\n",
    "print(\"\\n A is not Equal to B :\" , a != b)\n",
    "print(\"\\n A is Greater than B :\" ,a > b)\n",
    "print(\"\\n A is Greater Than and Equal to B :\" ,a >= b)\n",
    "print(\"\\n A is Less Than B :\" ,a < b)\n",
    "print(\"\\n A is Less Than Equal to B :\" , a <= b)\n",
    "print(\"\\n Here done Comparison Operators..!!!\")"
   ]
  },
  {
   "cell_type": "code",
   "execution_count": 19,
   "id": "6de93f24",
   "metadata": {},
   "outputs": [
    {
     "name": "stdout",
     "output_type": "stream",
     "text": [
      "Enter the Value :rutuja\n",
      "True\n",
      "False\n"
     ]
    }
   ],
   "source": [
    "# MEMBERSHIP OPERATORS\n",
    "\n",
    "a = input(\"Enter the Value :\")\n",
    "\n",
    "print(\"u\" in a)\n",
    "print(\"r\" not in a)"
   ]
  },
  {
   "cell_type": "code",
   "execution_count": 22,
   "id": "51a9bf2d",
   "metadata": {},
   "outputs": [
    {
     "name": "stdout",
     "output_type": "stream",
     "text": [
      "Enter the Value :rutuja\n",
      "Enter the Value :develearn\n",
      "False\n",
      "True\n",
      "True\n"
     ]
    }
   ],
   "source": [
    "# IDENTITY OPERATORS\n",
    "a = input(\"Enter the Value :\")\n",
    "b = input(\"Enter the Value :\")\n",
    "c = a\n",
    "print(a is b)\n",
    "print(a is c)\n",
    "print(a is not b)"
   ]
  },
  {
   "cell_type": "code",
   "execution_count": 23,
   "id": "f72827d7",
   "metadata": {},
   "outputs": [
    {
     "name": "stdout",
     "output_type": "stream",
     "text": [
      "Enter the Numbers :4\n",
      "Enter the Numbers :5\n",
      "\n",
      " AND Operators A & B : 4\n",
      "\n",
      " OR Operator a | B : 5\n",
      "\n",
      " NOR Operators A ^ B : 1\n",
      "\n",
      " Here done Bitwise Operators..!!!\n"
     ]
    }
   ],
   "source": [
    "# BITWISE OPERATORS\n",
    "\n",
    "a = int(input(\"Enter the Numbers :\"))\n",
    "b = int(input(\"Enter the Numbers :\"))\n",
    "print(\"\\n AND Operators A & B :\" , a & b)\n",
    "print(\"\\n OR Operator a | B :\" , a | b)\n",
    "print(\"\\n NOR Operators A ^ B :\" ,a ^ b)\n",
    "print(\"\\n Here done Bitwise Operators..!!!\")"
   ]
  },
  {
   "cell_type": "code",
   "execution_count": 25,
   "id": "84d774dd",
   "metadata": {},
   "outputs": [
    {
     "name": "stdout",
     "output_type": "stream",
     "text": [
      "Enter the Numbers :4\n",
      "Enter the Numbers :5\n",
      "\n",
      " AND Operators equ1 AND equ2 : False\n",
      "\n",
      " OR Operator equ1 or equ2 : True\n",
      "\n",
      " NOT Operators not(equ1 and equ2) : True\n",
      "\n",
      " NOT Operators not(equ1 and equ2) : False\n",
      "\n",
      " Here done Bitwise Operators..!!!\n"
     ]
    }
   ],
   "source": [
    "# Logical Operators\n",
    "\n",
    "a = int(input(\"Enter the Numbers :\"))\n",
    "b = int(input(\"Enter the Numbers :\"))\n",
    "equ1 = a < 5\n",
    "equ2 = b > 10\n",
    "print(\"\\n AND Operators equ1 AND equ2 :\" , equ1 and equ2)\n",
    "print(\"\\n OR Operator equ1 or equ2 :\" , equ1 or equ2)\n",
    "print(\"\\n NOT Operators not(equ1 and equ2) :\" ,not(equ1 and equ2))\n",
    "print(\"\\n NOT Operators not(equ1 and equ2) :\" ,not(equ1 or equ2))\n",
    "print(\"\\n Here done Bitwise Operators..!!!\")"
   ]
  },
  {
   "cell_type": "code",
   "execution_count": null,
   "id": "c568ce2b",
   "metadata": {},
   "outputs": [],
   "source": []
  }
 ],
 "metadata": {
  "kernelspec": {
   "display_name": "Python 3 (ipykernel)",
   "language": "python",
   "name": "python3"
  },
  "language_info": {
   "codemirror_mode": {
    "name": "ipython",
    "version": 3
   },
   "file_extension": ".py",
   "mimetype": "text/x-python",
   "name": "python",
   "nbconvert_exporter": "python",
   "pygments_lexer": "ipython3",
   "version": "3.11.5"
  }
 },
 "nbformat": 4,
 "nbformat_minor": 5
}
