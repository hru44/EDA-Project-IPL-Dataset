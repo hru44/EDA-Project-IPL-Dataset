{
 "cells": [
  {
   "cell_type": "code",
   "execution_count": 1,
   "id": "2081b487",
   "metadata": {},
   "outputs": [
    {
     "name": "stdout",
     "output_type": "stream",
     "text": [
      " The current life is : 1.\n",
      " The current life is : 15.\n"
     ]
    }
   ],
   "source": [
    "#MARIO GAME\n",
    "\n",
    "class Character:\n",
    "    def __init__(self, name):\n",
    "        self.name = name\n",
    "        self.__life = 3\n",
    "        self.__score = 0\n",
    "        \n",
    "    def Kicked(self):\n",
    "        self.__score += 10\n",
    "        \n",
    "    def Punched(self):\n",
    "        self.__score += 5\n",
    "        \n",
    "    def Stabbed(self):\n",
    "        self.__life -= 1\n",
    "        \n",
    "    def displaylife(self):\n",
    "        return f\" The current life is : {self.__life}.\"\n",
    "        \n",
    "    def displayscore(self):\n",
    "        return f\" The current life is : {self.__score}.\"\n",
    "        \n",
    "        \n",
    "game = Character(\"Mario\")\n",
    "game.Kicked()\n",
    "game.Stabbed()\n",
    "game.Punched()\n",
    "game.Stabbed()\n",
    "print(game.displaylife())\n",
    "print(game.displayscore())"
   ]
  },
  {
   "cell_type": "code",
   "execution_count": null,
   "id": "909cfc28",
   "metadata": {},
   "outputs": [],
   "source": []
  }
 ],
 "metadata": {
  "kernelspec": {
   "display_name": "Python 3 (ipykernel)",
   "language": "python",
   "name": "python3"
  },
  "language_info": {
   "codemirror_mode": {
    "name": "ipython",
    "version": 3
   },
   "file_extension": ".py",
   "mimetype": "text/x-python",
   "name": "python",
   "nbconvert_exporter": "python",
   "pygments_lexer": "ipython3",
   "version": "3.11.5"
  }
 },
 "nbformat": 4,
 "nbformat_minor": 5
}
