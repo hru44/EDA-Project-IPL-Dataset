{
 "cells": [
  {
   "cell_type": "markdown",
   "id": "5ca98b15",
   "metadata": {},
   "source": [
    "### Datatypes & Variables"
   ]
  },
  {
   "cell_type": "markdown",
   "id": "f9355bde",
   "metadata": {},
   "source": [
    "Basic Understanding\n",
    "\n",
    "Shift + Enter = Run The Code Shift + Tab = Hint or Help\n"
   ]
  },
  {
   "cell_type": "markdown",
   "id": "a72f84aa",
   "metadata": {},
   "source": [
    "Variables\n",
    "a = 19\n",
    "\n",
    "Here 'a' is Variable respective to any name to define"
   ]
  },
  {
   "cell_type": "markdown",
   "id": "67c2a3e5",
   "metadata": {},
   "source": [
    "### Datatype\n",
    "\n",
    "1.Numeric - integer (int), float (float), Complex numbers\n",
    "\n",
    "2.Boolean type - (bool),\n",
    "\n",
    "3.Text Type - string - (str),\n",
    "\n",
    "4.Sequence type - List[ ], tuple( ), Set{}\n",
    "\n",
    "5.Mapping type - Dictionary - {key:value}"
   ]
  },
  {
   "cell_type": "markdown",
   "id": "95bb56c0",
   "metadata": {},
   "source": [
    "### Datatypes has 2 numerical\n",
    "\n",
    "1. Integer (int)\n",
    "\n",
    "2. Float (float)\n",
    "\n",
    "3. Complex Number"
   ]
  },
  {
   "cell_type": "markdown",
   "id": "feb5ae63",
   "metadata": {},
   "source": [
    "int is defined in term of whole numbers = 0,1,2,3,4\n",
    "\n",
    "float is defined in term of decimals = 0.1,0.2,8.9"
   ]
  },
  {
   "cell_type": "code",
   "execution_count": 1,
   "id": "61b9b8f4",
   "metadata": {},
   "outputs": [
    {
     "data": {
      "text/plain": [
       "23"
      ]
     },
     "execution_count": 1,
     "metadata": {},
     "output_type": "execute_result"
    }
   ],
   "source": [
    "Number1 = 23    #Number1 is any variable\n",
    "\n",
    "Number1         #form of print"
   ]
  },
  {
   "cell_type": "code",
   "execution_count": 45,
   "id": "955b2cee",
   "metadata": {},
   "outputs": [
    {
     "data": {
      "text/plain": [
       "int"
      ]
     },
     "execution_count": 45,
     "metadata": {},
     "output_type": "execute_result"
    }
   ],
   "source": [
    "type(Number1)   #to identify a datatype, function 'type(variable)' is used"
   ]
  },
  {
   "cell_type": "code",
   "execution_count": 46,
   "id": "677b5777",
   "metadata": {},
   "outputs": [
    {
     "data": {
      "text/plain": [
       "float"
      ]
     },
     "execution_count": 46,
     "metadata": {},
     "output_type": "execute_result"
    }
   ],
   "source": [
    "Number2 = 2.3   #where 'Number2' is any variable\n",
    "\n",
    "type(Number2)     #to idetify the datatype using type() function"
   ]
  },
  {
   "cell_type": "markdown",
   "id": "91323879",
   "metadata": {},
   "source": [
    "Complex Number are in form of 'a+bj' where, a is real Number b is Imaginary"
   ]
  },
  {
   "cell_type": "code",
   "execution_count": 47,
   "id": "867b1022",
   "metadata": {},
   "outputs": [
    {
     "data": {
      "text/plain": [
       "complex"
      ]
     },
     "execution_count": 47,
     "metadata": {},
     "output_type": "execute_result"
    }
   ],
   "source": [
    "Variable1 = 2+3j    #where 'Variable1' is any Variable \n",
    "\n",
    "type(Variable1)     #To identify the datatype"
   ]
  },
  {
   "cell_type": "markdown",
   "id": "647a45f7",
   "metadata": {},
   "source": [
    "Boolean Operation are in form of >,<, =="
   ]
  },
  {
   "cell_type": "code",
   "execution_count": 48,
   "id": "d5c628f3",
   "metadata": {},
   "outputs": [
    {
     "data": {
      "text/plain": [
       "bool"
      ]
     },
     "execution_count": 48,
     "metadata": {},
     "output_type": "execute_result"
    }
   ],
   "source": [
    "Variable2 = 10>11\n",
    "\n",
    "type(Variable2)    #To identify the datatype in form of function'type()'"
   ]
  },
  {
   "cell_type": "markdown",
   "id": "d7597412",
   "metadata": {},
   "source": [
    "All integer and float can be converted into str. But all str cannot be converted into integer and float."
   ]
  },
  {
   "cell_type": "markdown",
   "id": "590a43be",
   "metadata": {},
   "source": [
    "Sequence Datatype includes Tuple & List"
   ]
  },
  {
   "cell_type": "code",
   "execution_count": 49,
   "id": "efb72edd",
   "metadata": {},
   "outputs": [
    {
     "data": {
      "text/plain": [
       "tuple"
      ]
     },
     "execution_count": 49,
     "metadata": {},
     "output_type": "execute_result"
    }
   ],
   "source": [
    "Variable3 = (1, 0.3, 'name')    #tuple are form of sequence of any number or text enclosed in '()' and can't be changed\n",
    "\n",
    "type(Variable3)                 #To identify datatype in given function"
   ]
  },
  {
   "cell_type": "code",
   "execution_count": 50,
   "id": "ec652cd3",
   "metadata": {},
   "outputs": [
    {
     "data": {
      "text/plain": [
       "list"
      ]
     },
     "execution_count": 50,
     "metadata": {},
     "output_type": "execute_result"
    }
   ],
   "source": [
    "Variable4 = [1, 3.4, 'name1']    #tuple are form of sequence of any number or text enclosed in '[]' and can be changed\n",
    "\n",
    "\n",
    "type(Variable4)"
   ]
  },
  {
   "cell_type": "code",
   "execution_count": null,
   "id": "34fc4b7f",
   "metadata": {},
   "outputs": [],
   "source": [
    "#String Type is defined in function str"
   ]
  },
  {
   "cell_type": "code",
   "execution_count": 51,
   "id": "7748c473",
   "metadata": {},
   "outputs": [
    {
     "data": {
      "text/plain": [
       "str"
      ]
     },
     "execution_count": 51,
     "metadata": {},
     "output_type": "execute_result"
    }
   ],
   "source": [
    "Variable5 = \"Python\"    #Variable5 is any form of Variable\n",
    "\n",
    "type(Variable5)"
   ]
  },
  {
   "cell_type": "markdown",
   "id": "ea9dbccb",
   "metadata": {},
   "source": [
    "Mapping Type\n",
    "\n",
    "Generally usage of Dictionary which has combination of key:value denoted such as {key:value}"
   ]
  },
  {
   "cell_type": "code",
   "execution_count": 52,
   "id": "59966b5e",
   "metadata": {},
   "outputs": [
    {
     "data": {
      "text/plain": [
       "dict"
      ]
     },
     "execution_count": 52,
     "metadata": {},
     "output_type": "execute_result"
    }
   ],
   "source": [
    "Variable6 = {\"Inch\": 1}   # : for storing values\n",
    "\n",
    "type(Variable6)"
   ]
  },
  {
   "cell_type": "code",
   "execution_count": null,
   "id": "7e1570b6",
   "metadata": {},
   "outputs": [],
   "source": [
    "#Print function"
   ]
  },
  {
   "cell_type": "code",
   "execution_count": 53,
   "id": "7d990f22",
   "metadata": {},
   "outputs": [
    {
     "name": "stdout",
     "output_type": "stream",
     "text": [
      "water\n"
     ]
    }
   ],
   "source": [
    "River = 'water'\n",
    "\n",
    "print(River)"
   ]
  },
  {
   "cell_type": "code",
   "execution_count": 54,
   "id": "6b6ac6aa",
   "metadata": {},
   "outputs": [
    {
     "data": {
      "text/plain": [
       "'Rock'"
      ]
     },
     "execution_count": 54,
     "metadata": {},
     "output_type": "execute_result"
    }
   ],
   "source": [
    "Mountain = 'Rock'\n",
    "\n",
    "Mountain"
   ]
  },
  {
   "cell_type": "code",
   "execution_count": 55,
   "id": "d4325772",
   "metadata": {},
   "outputs": [
    {
     "data": {
      "text/plain": [
       "'Paper'"
      ]
     },
     "execution_count": 55,
     "metadata": {},
     "output_type": "execute_result"
    }
   ],
   "source": [
    "Printer = \"Paper\"\n",
    "\n",
    "Printer"
   ]
  },
  {
   "cell_type": "code",
   "execution_count": 56,
   "id": "1db52efa",
   "metadata": {},
   "outputs": [
    {
     "name": "stdout",
     "output_type": "stream",
     "text": [
      "Plate\n"
     ]
    }
   ],
   "source": [
    "Metal = \"Plate\"\n",
    "\n",
    "print(Metal)"
   ]
  },
  {
   "cell_type": "code",
   "execution_count": 17,
   "id": "d8469fe5",
   "metadata": {},
   "outputs": [
    {
     "data": {
      "text/plain": [
       "-1"
      ]
     },
     "execution_count": 17,
     "metadata": {},
     "output_type": "execute_result"
    }
   ],
   "source": [
    "a = \"Siddhesh\"\n",
    "a.find(\"z\")"
   ]
  },
  {
   "cell_type": "markdown",
   "id": "a6a37409",
   "metadata": {},
   "source": [
    "Here tuple can have duplicates elements, and are unmutable\n",
    "Here list are accessed by Indexe"
   ]
  },
  {
   "cell_type": "markdown",
   "id": "9026d56c",
   "metadata": {},
   "source": [
    "Here element in the list are sorted in form of ascending order"
   ]
  },
  {
   "cell_type": "code",
   "execution_count": 3,
   "id": "5a1cdf93",
   "metadata": {},
   "outputs": [
    {
     "name": "stdout",
     "output_type": "stream",
     "text": [
      "['adi', 'siddhesh', 'deve', 'learn', 'python']\n"
     ]
    }
   ],
   "source": [
    "Variable = ['adi','siddhesh','deve','learn','python']   \n",
    "print(Variable)      #Basic Print Function"
   ]
  },
  {
   "cell_type": "code",
   "execution_count": 4,
   "id": "5577038e",
   "metadata": {},
   "outputs": [
    {
     "data": {
      "text/plain": [
       "['adi', 'deve', 'learn', 'python', 'siddhesh']"
      ]
     },
     "execution_count": 4,
     "metadata": {},
     "output_type": "execute_result"
    }
   ],
   "source": [
    "Variable.sort()     #Syntx for performing sort function\n",
    "\n",
    "Variable"
   ]
  },
  {
   "cell_type": "code",
   "execution_count": 5,
   "id": "0926d151",
   "metadata": {},
   "outputs": [
    {
     "data": {
      "text/plain": [
       "['siddhesh', 'python', 'learn', 'deve', 'adi']"
      ]
     },
     "execution_count": 5,
     "metadata": {},
     "output_type": "execute_result"
    }
   ],
   "source": [
    "Variable.reverse()    #Syntx for reverse function\n",
    "\n",
    "Variable"
   ]
  },
  {
   "cell_type": "code",
   "execution_count": 6,
   "id": "23202dda",
   "metadata": {},
   "outputs": [
    {
     "data": {
      "text/plain": [
       "['siddhesh', 'python', 'learn', 'deve', 'adi', 'Data']"
      ]
     },
     "execution_count": 6,
     "metadata": {},
     "output_type": "execute_result"
    }
   ],
   "source": [
    "Variable.append('Data')     #Syntx for adding an element in List\n",
    "\n",
    "Variable"
   ]
  },
  {
   "cell_type": "code",
   "execution_count": 7,
   "id": "a80f21d2",
   "metadata": {},
   "outputs": [
    {
     "data": {
      "text/plain": [
       "'learn'"
      ]
     },
     "execution_count": 7,
     "metadata": {},
     "output_type": "execute_result"
    }
   ],
   "source": [
    "Variable[2]      #Denoting an index to find a particular element in an List"
   ]
  },
  {
   "cell_type": "code",
   "execution_count": 8,
   "id": "aecda6e2",
   "metadata": {},
   "outputs": [
    {
     "data": {
      "text/plain": [
       "['siddhesh', 'sasanapuri', 'python', 'learn', 'deve', 'adi', 'Data']"
      ]
     },
     "execution_count": 8,
     "metadata": {},
     "output_type": "execute_result"
    }
   ],
   "source": [
    "Variable.insert(1,'sasanapuri')    #Performing an insert function\n",
    "\n",
    "Variable"
   ]
  },
  {
   "cell_type": "code",
   "execution_count": 9,
   "id": "9e3c5658",
   "metadata": {},
   "outputs": [
    {
     "data": {
      "text/plain": [
       "['learn', 'deve', 'adi']"
      ]
     },
     "execution_count": 9,
     "metadata": {},
     "output_type": "execute_result"
    }
   ],
   "source": [
    "Variable[3:6]      #Performing slicing where '3' is starting index till '6', except '6' str"
   ]
  },
  {
   "cell_type": "code",
   "execution_count": 10,
   "id": "12ea84af",
   "metadata": {},
   "outputs": [
    {
     "data": {
      "text/plain": [
       "['siddhesh', 'sasanapuri', 'replace', 'learn', 'deve', 'adi', 'Data']"
      ]
     },
     "execution_count": 10,
     "metadata": {},
     "output_type": "execute_result"
    }
   ],
   "source": [
    "Variable[2] = 'replace'       #This syntx replaces an element in the present list\n",
    "\n",
    "Variable"
   ]
  },
  {
   "cell_type": "code",
   "execution_count": 12,
   "id": "bd60d062",
   "metadata": {},
   "outputs": [
    {
     "data": {
      "text/plain": [
       "1"
      ]
     },
     "execution_count": 12,
     "metadata": {},
     "output_type": "execute_result"
    }
   ],
   "source": [
    "Variable.count('siddhesh')       #Counting number of elements"
   ]
  },
  {
   "cell_type": "code",
   "execution_count": 13,
   "id": "01d2d153",
   "metadata": {},
   "outputs": [
    {
     "data": {
      "text/plain": [
       "['siddhesh', 'sasanapuri', 'replace', 'learn', 'deve', 'adi', 'Data']"
      ]
     },
     "execution_count": 13,
     "metadata": {},
     "output_type": "execute_result"
    }
   ],
   "source": [
    "Variable"
   ]
  },
  {
   "cell_type": "code",
   "execution_count": 17,
   "id": "c92a80d2",
   "metadata": {},
   "outputs": [
    {
     "ename": "ValueError",
     "evalue": "list.remove(x): x not in list",
     "output_type": "error",
     "traceback": [
      "\u001b[1;31m---------------------------------------------------------------------------\u001b[0m",
      "\u001b[1;31mValueError\u001b[0m                                Traceback (most recent call last)",
      "Cell \u001b[1;32mIn[17], line 1\u001b[0m\n\u001b[1;32m----> 1\u001b[0m Variable\u001b[38;5;241m.\u001b[39mremove(\u001b[38;5;124m'\u001b[39m\u001b[38;5;124mData\u001b[39m\u001b[38;5;124m'\u001b[39m)\n",
      "\u001b[1;31mValueError\u001b[0m: list.remove(x): x not in list"
     ]
    }
   ],
   "source": [
    "Variable.remove('Data')      #To remove any element from the list"
   ]
  },
  {
   "cell_type": "code",
   "execution_count": 19,
   "id": "0b045924",
   "metadata": {},
   "outputs": [
    {
     "data": {
      "text/plain": [
       "0"
      ]
     },
     "execution_count": 19,
     "metadata": {},
     "output_type": "execute_result"
    }
   ],
   "source": [
    "Variable.index('siddhesh')         #Identifies the index in list"
   ]
  },
  {
   "cell_type": "code",
   "execution_count": 20,
   "id": "2844237d",
   "metadata": {},
   "outputs": [
    {
     "data": {
      "text/plain": [
       "'deve'"
      ]
     },
     "execution_count": 20,
     "metadata": {},
     "output_type": "execute_result"
    }
   ],
   "source": [
    "Variable[-2]       #Identify element from reverse direction in list"
   ]
  },
  {
   "cell_type": "code",
   "execution_count": 27,
   "id": "b9599f77",
   "metadata": {
    "scrolled": true
   },
   "outputs": [
    {
     "name": "stdout",
     "output_type": "stream",
     "text": [
      "['siddhesh', 'sasanapuri', 'replace', 'learn', 'deve', 'adi', 'a', 'b', 'a', 'b', 'a', 'b', 'a', 'b', 'a', 'b', 'a', 'b']\n"
     ]
    }
   ],
   "source": [
    "Variable1 = ['a','b']       #To add an list to another list \n",
    "\n",
    "Variable.extend(Variable1)      #Extend synntx, where Variable is current list, extend(Variable1) is New one \n",
    "\n",
    "print(Variable)      #Printing the orginal"
   ]
  },
  {
   "cell_type": "code",
   "execution_count": 28,
   "id": "959c749e",
   "metadata": {},
   "outputs": [
    {
     "data": {
      "text/plain": [
       "['siddhesh',\n",
       " 'sasanapuri',\n",
       " 'replace',\n",
       " 'learn',\n",
       " 'deve',\n",
       " 'adi',\n",
       " 'a',\n",
       " 'b',\n",
       " 'a',\n",
       " 'b',\n",
       " 'a',\n",
       " 'b',\n",
       " 'a',\n",
       " 'b',\n",
       " 'a',\n",
       " 'b',\n",
       " 'a',\n",
       " 'b',\n",
       " 'agree']"
      ]
     },
     "execution_count": 28,
     "metadata": {},
     "output_type": "execute_result"
    }
   ],
   "source": [
    "Variable.__add__(['agree'])"
   ]
  },
  {
   "cell_type": "code",
   "execution_count": 29,
   "id": "0041a843",
   "metadata": {},
   "outputs": [
    {
     "data": {
      "text/plain": [
       "'deve'"
      ]
     },
     "execution_count": 29,
     "metadata": {},
     "output_type": "execute_result"
    }
   ],
   "source": [
    "Variable.pop(4)     #To retain any Element in the string"
   ]
  },
  {
   "cell_type": "code",
   "execution_count": 31,
   "id": "7428d892",
   "metadata": {},
   "outputs": [
    {
     "data": {
      "text/plain": [
       "['siddhesh', 'sasanapuri', 'replace', 'learn', 'deve', 'adi', 'a', 'b']"
      ]
     },
     "execution_count": 31,
     "metadata": {},
     "output_type": "execute_result"
    }
   ],
   "source": [
    "Variable = ['siddhesh', 'sasanapuri', 'replace', 'learn', 'deve', 'adi', 'a', 'b',]\n",
    "Variable"
   ]
  },
  {
   "cell_type": "code",
   "execution_count": 32,
   "id": "92dbe0d7",
   "metadata": {},
   "outputs": [
    {
     "data": {
      "text/plain": [
       "[1, 2, 3, 45, 3, 4, 2, 4, 3, 56, 76, 98, 304, 3, 3, 4]"
      ]
     },
     "execution_count": 32,
     "metadata": {},
     "output_type": "execute_result"
    }
   ],
   "source": [
    "x = [1,2,3,45,3,4,2,4,3,56,76,98,304,3,3,4]\n",
    "x"
   ]
  },
  {
   "cell_type": "code",
   "execution_count": 33,
   "id": "452d0f7d",
   "metadata": {},
   "outputs": [
    {
     "data": {
      "text/plain": [
       "1"
      ]
     },
     "execution_count": 33,
     "metadata": {},
     "output_type": "execute_result"
    }
   ],
   "source": [
    "x.count(1)      #Count function for calculating the number of elements"
   ]
  },
  {
   "cell_type": "code",
   "execution_count": 35,
   "id": "3382558e",
   "metadata": {},
   "outputs": [
    {
     "data": {
      "text/plain": [
       "[1, 2, 2, 3, 3, 3, 3, 3, 4, 4, 4, 45, 56, 76, 98, 304]"
      ]
     },
     "execution_count": 35,
     "metadata": {},
     "output_type": "execute_result"
    }
   ],
   "source": [
    "x.sort()       #Sorting the elements in the present list\n",
    "x"
   ]
  },
  {
   "cell_type": "code",
   "execution_count": 37,
   "id": "c9357cf5",
   "metadata": {},
   "outputs": [
    {
     "data": {
      "text/plain": [
       "False"
      ]
     },
     "execution_count": 37,
     "metadata": {},
     "output_type": "execute_result"
    }
   ],
   "source": [
    "100 in x      #To check whether the element is present or absent in List"
   ]
  },
  {
   "cell_type": "code",
   "execution_count": 13,
   "id": "6872d56d",
   "metadata": {},
   "outputs": [
    {
     "name": "stdout",
     "output_type": "stream",
     "text": [
      "I want 15 piece of 300 item no for 100 Rs.\n"
     ]
    }
   ],
   "source": [
    "# second method of f formatting.\n",
    "quantity = 300\n",
    "item = 15\n",
    "price = 100\n",
    "Order = \"I want {1} piece of {0} item no for {2} Rs.\"\n",
    "print(Order.format(quantity,item,price))\n"
   ]
  },
  {
   "cell_type": "code",
   "execution_count": null,
   "id": "07ae34b3",
   "metadata": {},
   "outputs": [],
   "source": [
    "#Escape the character\n",
    "n = \"We\""
   ]
  },
  {
   "cell_type": "code",
   "execution_count": 39,
   "id": "3b459709",
   "metadata": {},
   "outputs": [
    {
     "name": "stdout",
     "output_type": "stream",
     "text": [
      "enter the value1:4\n",
      "enter the value2:5\n",
      "Num 2 is greater\n"
     ]
    }
   ],
   "source": [
    "\n",
    "#To check with one more condition\n",
    "Num1 = int(input('enter the value1:'))\n",
    "Num2 = int(input('enter the value2:'))\n",
    "if Num1==Num2:\n",
    "    print('both value are equal')\n",
    "elif Num1>Num2:\n",
    "    print('Num 1 is greater')\n",
    "else:\n",
    "    print('Num 2 is greater')"
   ]
  },
  {
   "cell_type": "code",
   "execution_count": null,
   "id": "a2820315",
   "metadata": {},
   "outputs": [],
   "source": [
    "#if, if else, if elif else Constructs\n",
    "1. if elvaluates either trua or false\n",
    "2. if else evaluates both true nd false\n",
    "3.if elif else evaluates multiple conditions\n",
    "4. No switch cases in python\n",
    "5. Dict datatype can be used instead of switch case"
   ]
  },
  {
   "cell_type": "code",
   "execution_count": 42,
   "id": "913474ba",
   "metadata": {},
   "outputs": [
    {
     "name": "stdout",
     "output_type": "stream",
     "text": [
      "enter the number10\n",
      "Number is even: 10\n"
     ]
    }
   ],
   "source": [
    "# To check even numbers using if\n",
    "Number = int(input('enter the number'))\n",
    "if Number%2==0:\n",
    "    print('Number is even:', Number)"
   ]
  },
  {
   "cell_type": "code",
   "execution_count": 4,
   "id": "98769ead",
   "metadata": {},
   "outputs": [],
   "source": [
    "Dept_head = {\"Hod\":\"Raman\",\"prof\":\"K.V.S\",\"Principal\":\"J.N\"}"
   ]
  },
  {
   "cell_type": "code",
   "execution_count": 5,
   "id": "2e430a77",
   "metadata": {},
   "outputs": [
    {
     "data": {
      "text/plain": [
       "'Raman'"
      ]
     },
     "execution_count": 5,
     "metadata": {},
     "output_type": "execute_result"
    }
   ],
   "source": [
    "Dept_head[\"Hod\"]     # Variable[key] gives 'values'"
   ]
  },
  {
   "cell_type": "code",
   "execution_count": 6,
   "id": "65eb9866",
   "metadata": {},
   "outputs": [
    {
     "data": {
      "text/plain": [
       "dict_keys(['Hod', 'prof', 'Principal'])"
      ]
     },
     "execution_count": 6,
     "metadata": {},
     "output_type": "execute_result"
    }
   ],
   "source": [
    "Dept_head.keys()      # Variable.keys()  gives all key elements"
   ]
  },
  {
   "cell_type": "code",
   "execution_count": 7,
   "id": "01809bad",
   "metadata": {},
   "outputs": [
    {
     "data": {
      "text/plain": [
       "dict_values(['Raman', 'K.V.S', 'J.N'])"
      ]
     },
     "execution_count": 7,
     "metadata": {},
     "output_type": "execute_result"
    }
   ],
   "source": [
    "Dept_head.values()     # Variable.values()  gives all value elements"
   ]
  },
  {
   "cell_type": "code",
   "execution_count": 8,
   "id": "07e0acb7",
   "metadata": {},
   "outputs": [
    {
     "data": {
      "text/plain": [
       "dict_items([('Hod', 'Raman'), ('prof', 'K.V.S'), ('Principal', 'J.N')])"
      ]
     },
     "execution_count": 8,
     "metadata": {},
     "output_type": "execute_result"
    }
   ],
   "source": [
    "Dept_head.items()       # Variable.item() gives all items in form of tuple"
   ]
  },
  {
   "cell_type": "code",
   "execution_count": 9,
   "id": "cf144d2c",
   "metadata": {},
   "outputs": [
    {
     "data": {
      "text/plain": [
       "{'Hod': 'Raman', 'prof': 'K.V.S', 'Principal': 'J.N'}"
      ]
     },
     "execution_count": 9,
     "metadata": {},
     "output_type": "execute_result"
    }
   ],
   "source": [
    "Dept_head"
   ]
  },
  {
   "cell_type": "markdown",
   "id": "af948dff",
   "metadata": {},
   "source": [
    "### function:"
   ]
  },
  {
   "cell_type": "code",
   "execution_count": null,
   "id": "1be3ffea",
   "metadata": {},
   "outputs": [],
   "source": [
    "#In python, the functiom is a block of code defined with a name. We use functions whenever we need to perform the same task\n",
    "#multiple times without writing the same code again. It can be take aguments and returns the value."
   ]
  },
  {
   "cell_type": "code",
   "execution_count": null,
   "id": "9a77b1cd",
   "metadata": {},
   "outputs": [],
   "source": [
    "#Function improves efficiency and reduces errors because of the reusability of a code.once we create a function,we can call it\n",
    "#anywhere and anytime. The benefit of using a function is reusability and modularity."
   ]
  },
  {
   "cell_type": "code",
   "execution_count": null,
   "id": "c78218be",
   "metadata": {},
   "outputs": [],
   "source": [
    "#Types of Functions Pthon support two types of functions.\n",
    "#1. Built-in function(range(),id(),type(),input(),eval() etc.)\n",
    "#2. User-defined function (Functions which are created by programmer explicilty according to the requirement are called a \n",
    "#user-defined function.)"
   ]
  },
  {
   "cell_type": "code",
   "execution_count": null,
   "id": "b0f1843a",
   "metadata": {},
   "outputs": [],
   "source": [
    "#creating function."
   ]
  },
  {
   "cell_type": "code",
   "execution_count": null,
   "id": "c86fe9a6",
   "metadata": {},
   "outputs": [],
   "source": [
    "#Use the following steps to to define a function in Python.\n",
    "#1. Use the det keyword with the function name to define a function.\n",
    "#2. Next, pass the number of parmeters as per your requirements. (Optional)."
   ]
  },
  {
   "cell_type": "code",
   "execution_count": 1,
   "id": "321f755b",
   "metadata": {},
   "outputs": [
    {
     "name": "stdout",
     "output_type": "stream",
     "text": [
      "Hello World\n"
     ]
    }
   ],
   "source": [
    "#Creating a function without any parameters\n",
    "# function\n",
    "def message():\n",
    "    print(\"Hello World\")\n",
    "message()"
   ]
  },
  {
   "cell_type": "code",
   "execution_count": null,
   "id": "95d0c7a6",
   "metadata": {},
   "outputs": [],
   "source": [
    "#Parameter Vs Arguement ?"
   ]
  },
  {
   "cell_type": "code",
   "execution_count": null,
   "id": "41302a39",
   "metadata": {},
   "outputs": [],
   "source": [
    "#Generally when people sa parameter/argument they mean the same thing. but the main difference between tem is that the parameter\n",
    "#is what is declared in the functiom. While an arguments is what is passed through when calling the function."
   ]
  },
  {
   "cell_type": "code",
   "execution_count": 2,
   "id": "74552573",
   "metadata": {},
   "outputs": [
    {
     "name": "stdout",
     "output_type": "stream",
     "text": [
      "9\n"
     ]
    },
    {
     "data": {
      "text/plain": [
       "637"
      ]
     },
     "execution_count": 2,
     "metadata": {},
     "output_type": "execute_result"
    }
   ],
   "source": [
    "#Here,the parameters are a and b, and the arguments being passed through are 5 and 4.\n",
    "def add(a, b):\n",
    "    return a+b\n",
    "print(add(5,4))\n",
    "add(48,589)"
   ]
  },
  {
   "cell_type": "code",
   "execution_count": 8,
   "id": "bf2e6a5d",
   "metadata": {},
   "outputs": [
    {
     "name": "stdout",
     "output_type": "stream",
     "text": [
      "Siddhesh\n",
      "9\n"
     ]
    }
   ],
   "source": [
    "\n",
    "def add(a, b):\n",
    "    return a+b\n",
    "print(\"Siddhesh\")\n",
    "print(add(5, 4))\n",
    "#print(40,565)"
   ]
  },
  {
   "cell_type": "code",
   "execution_count": 10,
   "id": "0dfb6c23",
   "metadata": {},
   "outputs": [
    {
     "name": "stdout",
     "output_type": "stream",
     "text": [
      "Hello Student Welcome to Institute\n",
      "Your course name is Data Science\n",
      "Hello Siddhesh Welcome to Institute\n",
      "Your course name is Mat\n"
     ]
    }
   ],
   "source": [
    "#Creating a function with parameters\n",
    "# function\n",
    "def course_func(name, course_name,sn=\"Balmoghan\"):\n",
    "    print(\"Hello\",name, \"Welcome to Institute\")\n",
    "    print(\"Your course name is\",course_name)\n",
    "#call function\n",
    "course_func('Student','Data Science')\n",
    "course_func(\"Siddhesh\",\"Mat\")"
   ]
  },
  {
   "cell_type": "code",
   "execution_count": 11,
   "id": "0a44f86f",
   "metadata": {},
   "outputs": [
    {
     "name": "stdout",
     "output_type": "stream",
     "text": [
      "Siddhesh Dusar\n"
     ]
    }
   ],
   "source": [
    "#This function expects 2 arguments, ad gets 2 arguments:\n",
    "def my_function(fname, lname):\n",
    "    print(fname + \" \" + lname)\n",
    "my_function(\"Siddhesh\",\"Dusar\")"
   ]
  },
  {
   "cell_type": "code",
   "execution_count": 15,
   "id": "c71d8a1f",
   "metadata": {},
   "outputs": [
    {
     "ename": "TypeError",
     "evalue": "my_function() missing 1 required positional argument: 'lname'",
     "output_type": "error",
     "traceback": [
      "\u001b[1;31m---------------------------------------------------------------------------\u001b[0m",
      "\u001b[1;31mTypeError\u001b[0m                                 Traceback (most recent call last)",
      "Cell \u001b[1;32mIn[15], line 4\u001b[0m\n\u001b[0;32m      2\u001b[0m \u001b[38;5;28;01mdef\u001b[39;00m \u001b[38;5;21mmy_function\u001b[39m(fname, lname):\n\u001b[0;32m      3\u001b[0m     \u001b[38;5;28mprint\u001b[39m(fname \u001b[38;5;241m+\u001b[39m \u001b[38;5;124m\"\u001b[39m\u001b[38;5;124m \u001b[39m\u001b[38;5;124m\"\u001b[39m \u001b[38;5;241m+\u001b[39m lname)\n\u001b[1;32m----> 4\u001b[0m my_function(\u001b[38;5;124m\"\u001b[39m\u001b[38;5;124mEmail\u001b[39m\u001b[38;5;124m\"\u001b[39m)\n",
      "\u001b[1;31mTypeError\u001b[0m: my_function() missing 1 required positional argument: 'lname'"
     ]
    }
   ],
   "source": [
    "#This function expects 2 arguments, but gets only 1 :\n",
    "def my_function(fname, lname):\n",
    "    print(fname + \" \" + lname)\n",
    "my_function(\"Email\")\n",
    "    "
   ]
  },
  {
   "cell_type": "code",
   "execution_count": null,
   "id": "f228a379",
   "metadata": {},
   "outputs": [],
   "source": [
    "#Arbitrary Arguments, \"args."
   ]
  },
  {
   "cell_type": "code",
   "execution_count": null,
   "id": "04068271",
   "metadata": {},
   "outputs": [],
   "source": [
    "#If you do not know how many argumets that will be passed into your function,add a \" before the parameter name in the function\n",
    "#definition.\""
   ]
  },
  {
   "cell_type": "code",
   "execution_count": 17,
   "id": "7571ac74",
   "metadata": {},
   "outputs": [
    {
     "name": "stdout",
     "output_type": "stream",
     "text": [
      "The youngest child is c\n"
     ]
    }
   ],
   "source": [
    "def my_function(*Kids):\n",
    "    print(\"The youngest child is \" + Kids[2])\n",
    "my_function(\"a\",\"b\",\"c\")"
   ]
  },
  {
   "cell_type": "code",
   "execution_count": 18,
   "id": "319b5329",
   "metadata": {},
   "outputs": [
    {
     "name": "stdout",
     "output_type": "stream",
     "text": [
      "The youngest child is c\n"
     ]
    }
   ],
   "source": [
    "#You can also send arguments with the key = value syntax.\n",
    "def my_function(child3, child2, child1):\n",
    "    print(\"The youngest child is \" +child3)\n",
    "my_function(child1 = \"a\", child2 = \"b\", child3 = \"c\")"
   ]
  },
  {
   "cell_type": "code",
   "execution_count": null,
   "id": "121d7e29",
   "metadata": {},
   "outputs": [],
   "source": [
    "#Arbitrary Keyword Arguments, \"kwargs"
   ]
  },
  {
   "cell_type": "code",
   "execution_count": null,
   "id": "baf30eb6",
   "metadata": {},
   "outputs": [],
   "source": [
    "#If you do not know how many keyword arguments that will be passed into your function, add asterisk \" before the parameter name\n",
    "#in the function definition."
   ]
  },
  {
   "cell_type": "code",
   "execution_count": 20,
   "id": "5c53796c",
   "metadata": {},
   "outputs": [
    {
     "name": "stdout",
     "output_type": "stream",
     "text": [
      "His last name is Dusar\n"
     ]
    }
   ],
   "source": [
    "def my_function(**boys):\n",
    "    print(\"His last name is \" + boys[\"lname\"])\n",
    "my_function(fname = \"Siddhesh\",lname = \"Dusar\")"
   ]
  },
  {
   "cell_type": "code",
   "execution_count": 22,
   "id": "b2dcb008",
   "metadata": {},
   "outputs": [
    {
     "name": "stdout",
     "output_type": "stream",
     "text": [
      "15.0\n"
     ]
    }
   ],
   "source": [
    "def average(a,b):\n",
    "    mean = (a+b)/2\n",
    "    print(mean)\n",
    "average(10,20)"
   ]
  },
  {
   "cell_type": "code",
   "execution_count": 24,
   "id": "092b9215",
   "metadata": {},
   "outputs": [],
   "source": [
    "# Four types of arguments\n",
    "#1) Default arguments -- If we call the function without argument, it uses the default value:\n",
    "'''We can provide a default value while creating a fun. While you can give 1 value of parameter it take default value.'''\n",
    "def add(a=5,b=4):\n",
    "    total = a+b\n",
    "    print(total)\n"
   ]
  },
  {
   "cell_type": "code",
   "execution_count": 25,
   "id": "b8a17123",
   "metadata": {},
   "outputs": [
    {
     "name": "stdout",
     "output_type": "stream",
     "text": [
      "5\n"
     ]
    }
   ],
   "source": [
    "(add(2,3))"
   ]
  },
  {
   "cell_type": "code",
   "execution_count": 26,
   "id": "b96cf4b3",
   "metadata": {},
   "outputs": [
    {
     "name": "stdout",
     "output_type": "stream",
     "text": [
      "10\n"
     ]
    }
   ],
   "source": [
    "add(6) # Here it take second value b=4."
   ]
  },
  {
   "cell_type": "code",
   "execution_count": 28,
   "id": "2e00b952",
   "metadata": {},
   "outputs": [
    {
     "name": "stdout",
     "output_type": "stream",
     "text": [
      " I am from US\n",
      "None\n"
     ]
    }
   ],
   "source": [
    "def inf(country=\"India\"):\n",
    "    print(\" I am from\", country)\n",
    "print(inf(\"US\"))\n",
    "#print(inf())"
   ]
  },
  {
   "cell_type": "code",
   "execution_count": 29,
   "id": "7e9f20cd",
   "metadata": {},
   "outputs": [
    {
     "name": "stdout",
     "output_type": "stream",
     "text": [
      " I am from India\n",
      "None\n"
     ]
    }
   ],
   "source": [
    "print(inf())"
   ]
  },
  {
   "cell_type": "code",
   "execution_count": 30,
   "id": "9658eb51",
   "metadata": {},
   "outputs": [
    {
     "name": "stdout",
     "output_type": "stream",
     "text": [
      "2\n"
     ]
    }
   ],
   "source": [
    "#2) Keyword arguments.\n",
    "''' We can provide arguments with key=value, this way the interepreter recognoze the arguments by the parameter name.\n",
    "Hence, the order in which the arguments the passed does not matter.'''\n",
    "def sub(a,b):\n",
    "    t=a-b\n",
    "    print(t)\n",
    "sub(8,6)"
   ]
  },
  {
   "cell_type": "code",
   "execution_count": 1,
   "id": "d176a602",
   "metadata": {},
   "outputs": [],
   "source": [
    "#3) Required Arguments\n",
    "'''In this situation we dont pass the arguments with key=value syntax.\n",
    "Then it is necessary to the pass arguments in correct positional order and \n",
    "number of arguments passed to match with actual defined function'''\n",
    "def avg(a,b,c):\n",
    "    m=(a+b+c)/3\n",
    "    print(m)"
   ]
  },
  {
   "cell_type": "code",
   "execution_count": 2,
   "id": "64fbefda",
   "metadata": {},
   "outputs": [
    {
     "name": "stdout",
     "output_type": "stream",
     "text": [
      "14.0\n"
     ]
    }
   ],
   "source": [
    "avg(10,12,20)"
   ]
  },
  {
   "cell_type": "code",
   "execution_count": 3,
   "id": "a8f8a849",
   "metadata": {},
   "outputs": [
    {
     "ename": "TypeError",
     "evalue": "avg() missing 1 required positional argument: 'c'",
     "output_type": "error",
     "traceback": [
      "\u001b[1;31m---------------------------------------------------------------------------\u001b[0m",
      "\u001b[1;31mTypeError\u001b[0m                                 Traceback (most recent call last)",
      "Cell \u001b[1;32mIn[3], line 1\u001b[0m\n\u001b[1;32m----> 1\u001b[0m avg(\u001b[38;5;241m5\u001b[39m,\u001b[38;5;241m2\u001b[39m)\n",
      "\u001b[1;31mTypeError\u001b[0m: avg() missing 1 required positional argument: 'c'"
     ]
    }
   ],
   "source": [
    "avg(5,2) #gives the error\n"
   ]
  },
  {
   "cell_type": "code",
   "execution_count": null,
   "id": "adfd5c7b",
   "metadata": {},
   "outputs": [],
   "source": [
    "#4) variable a length arguments -- there is a situation where we need to pass multiple number of arguments to the function .\n",
    "# Such types of arguments are called variable-length arguments."
   ]
  },
  {
   "cell_type": "code",
   "execution_count": 8,
   "id": "cc39cbd7",
   "metadata": {},
   "outputs": [],
   "source": [
    "def aver1(*numbers):\n",
    "    sum1 = 0\n",
    "    for i in numbers:\n",
    "        sum1 = sum1 + i\n",
    "    print(sum1/len(numbers))"
   ]
  },
  {
   "cell_type": "code",
   "execution_count": 9,
   "id": "be8a0e55",
   "metadata": {},
   "outputs": [
    {
     "name": "stdout",
     "output_type": "stream",
     "text": [
      "5.0\n"
     ]
    }
   ],
   "source": [
    "aver1(4,5,3,8)"
   ]
  },
  {
   "cell_type": "markdown",
   "id": "9deec6a3",
   "metadata": {},
   "source": [
    "### Return Values"
   ]
  },
  {
   "cell_type": "markdown",
   "id": "77cbe455",
   "metadata": {},
   "source": [
    "To let a function a value, use the return statment."
   ]
  },
  {
   "cell_type": "code",
   "execution_count": 10,
   "id": "c94a2e69",
   "metadata": {},
   "outputs": [
    {
     "name": "stdout",
     "output_type": "stream",
     "text": [
      "15\n"
     ]
    }
   ],
   "source": [
    "def my_function(x):\n",
    "    return 5 * x\n",
    "print(my_function(3))"
   ]
  },
  {
   "cell_type": "code",
   "execution_count": 11,
   "id": "ffb20400",
   "metadata": {},
   "outputs": [
    {
     "name": "stdout",
     "output_type": "stream",
     "text": [
      "Addition : 25\n"
     ]
    }
   ],
   "source": [
    "# function\n",
    "def calculator (a,b):\n",
    "    add = a + b\n",
    "#return the addition\n",
    "    return add\n",
    "# call function\n",
    "# take return value in variable\n",
    "res = calculator(20,5)\n",
    "print(\"Addition :\",res)"
   ]
  },
  {
   "cell_type": "code",
   "execution_count": 12,
   "id": "51a21359",
   "metadata": {},
   "outputs": [
    {
     "name": "stdout",
     "output_type": "stream",
     "text": [
      "30\n",
      "35\n"
     ]
    }
   ],
   "source": [
    "def sum(a, b):\n",
    "    return a + b\n",
    "total = sum(10, 20)\n",
    "print(total)\n",
    "total = sum (5, sum(10, 20 ))\n",
    "print(total)"
   ]
  },
  {
   "cell_type": "markdown",
   "id": "7677f5d9",
   "metadata": {},
   "source": [
    "The return value is nothing but a outcome of function.\n",
    "The return statement ends the function execution.\n",
    "For a function, it is not mandatory to return a value.\n",
    "If a return statement is used without any expression, then the None is returned.\n",
    "The return statement should be inside of the function block."
   ]
  },
  {
   "cell_type": "code",
   "execution_count": 13,
   "id": "0e4e0eda",
   "metadata": {},
   "outputs": [
    {
     "name": "stdout",
     "output_type": "stream",
     "text": [
      "Addition:  12\n",
      "Subtraction:  8\n",
      "Multiplication:  20\n",
      "Division:  5.0\n"
     ]
    }
   ],
   "source": [
    "#Return multiple values.\n",
    "def arithmetic (num1, num2):\n",
    "    add = num1 + num2\n",
    "    sub = num1 - num2\n",
    "    multiply  = num1 * num2\n",
    "    division = num1/num2\n",
    "#return four values\n",
    "    return add, sub, multiply, division\n",
    "#read four return values in four variables\n",
    "a, b, c, d = arithmetic(10,2)\n",
    "print(\"Addition: \", a)\n",
    "print(\"Subtraction: \", b)\n",
    "print(\"Multiplication: \",c)\n",
    "print(\"Division: \",d)"
   ]
  },
  {
   "cell_type": "markdown",
   "id": "7fbdfd02",
   "metadata": {},
   "source": [
    "### Local v/s Global\n"
   ]
  },
  {
   "cell_type": "markdown",
   "id": "8779434b",
   "metadata": {},
   "source": [
    "Variables deined within a function body have a local shop, and those that are defined a global scope."
   ]
  },
  {
   "cell_type": "markdown",
   "id": "a819c451",
   "metadata": {},
   "source": [
    "That means, local variables are defined in a function block and can only be accesed inside that particular functon, while global variables can be used by all te functions in your program."
   ]
  },
  {
   "cell_type": "code",
   "execution_count": 1,
   "id": "352bf4f1",
   "metadata": {},
   "outputs": [
    {
     "name": "stdout",
     "output_type": "stream",
     "text": [
      "Hello Siddhesh\n"
     ]
    }
   ],
   "source": [
    "#Local variables.\n",
    "def n1():\n",
    "    name1 = \"Siddhesh\"\n",
    "    print(\"Hello\", name1)\n",
    "n1()"
   ]
  },
  {
   "cell_type": "code",
   "execution_count": 2,
   "id": "c5b60642",
   "metadata": {},
   "outputs": [
    {
     "ename": "NameError",
     "evalue": "name 'name1' is not defined",
     "output_type": "error",
     "traceback": [
      "\u001b[1;31m---------------------------------------------------------------------------\u001b[0m",
      "\u001b[1;31mNameError\u001b[0m                                 Traceback (most recent call last)",
      "Cell \u001b[1;32mIn[2], line 1\u001b[0m\n\u001b[1;32m----> 1\u001b[0m \u001b[38;5;28mprint\u001b[39m(name1)\n",
      "\u001b[1;31mNameError\u001b[0m: name 'name1' is not defined"
     ]
    }
   ],
   "source": [
    "print(name1)"
   ]
  },
  {
   "cell_type": "code",
   "execution_count": 3,
   "id": "ff455f2f",
   "metadata": {},
   "outputs": [
    {
     "name": "stdout",
     "output_type": "stream",
     "text": [
      "Hello Siddhesh\n"
     ]
    }
   ],
   "source": [
    "#global variable \n",
    "name = \"Siddhesh\"\n",
    "def n2():\n",
    "    print(\"Hello\",name)\n",
    "n2()"
   ]
  },
  {
   "cell_type": "code",
   "execution_count": 4,
   "id": "3846bc87",
   "metadata": {},
   "outputs": [
    {
     "data": {
      "text/plain": [
       "'Siddhesh'"
      ]
     },
     "execution_count": 4,
     "metadata": {},
     "output_type": "execute_result"
    }
   ],
   "source": [
    "name"
   ]
  },
  {
   "cell_type": "code",
   "execution_count": 8,
   "id": "7f6e64d3",
   "metadata": {},
   "outputs": [
    {
     "name": "stdout",
     "output_type": "stream",
     "text": [
      "Hello Bill Gates\n"
     ]
    }
   ],
   "source": [
    "def fun():\n",
    "    global name\n",
    "    name = \"Bill Gates\"\n",
    "    print(\"Hello\",name)\n",
    "fun()"
   ]
  },
  {
   "cell_type": "code",
   "execution_count": 9,
   "id": "488e127c",
   "metadata": {},
   "outputs": [
    {
     "data": {
      "text/plain": [
       "'Bill Gates'"
      ]
     },
     "execution_count": 9,
     "metadata": {},
     "output_type": "execute_result"
    }
   ],
   "source": [
    "name"
   ]
  },
  {
   "cell_type": "code",
   "execution_count": 10,
   "id": "d9ad9cd8",
   "metadata": {},
   "outputs": [
    {
     "name": "stdout",
     "output_type": "stream",
     "text": [
      "Hello Bill Gates\n",
      "Siddhesh\n"
     ]
    }
   ],
   "source": [
    "name = \"Siddhesh\"\n",
    "def fun():\n",
    "    name = \"Bill Gates\"\n",
    "    print(\"Hello\",name)\n",
    "fun()\n",
    "print(name)"
   ]
  },
  {
   "cell_type": "code",
   "execution_count": 11,
   "id": "6660061a",
   "metadata": {},
   "outputs": [
    {
     "name": "stdout",
     "output_type": "stream",
     "text": [
      "Hello Bill\n"
     ]
    }
   ],
   "source": [
    "name = \"Siddhesh\"\n",
    "def man():\n",
    "    global name\n",
    "    name = \"Bill\"\n",
    "    print(\"Hello\",name)\n",
    "man()"
   ]
  },
  {
   "cell_type": "code",
   "execution_count": 12,
   "id": "8fa6aed3",
   "metadata": {},
   "outputs": [
    {
     "name": "stdout",
     "output_type": "stream",
     "text": [
      "Bill\n"
     ]
    }
   ],
   "source": [
    "print(name)"
   ]
  },
  {
   "cell_type": "code",
   "execution_count": 14,
   "id": "82028c81",
   "metadata": {},
   "outputs": [
    {
     "name": "stdout",
     "output_type": "stream",
     "text": [
      "Value is  907\n"
     ]
    },
    {
     "ename": "NameError",
     "evalue": "name 'loc_var' is not defined",
     "output_type": "error",
     "traceback": [
      "\u001b[1;31m---------------------------------------------------------------------------\u001b[0m",
      "\u001b[1;31mNameError\u001b[0m                                 Traceback (most recent call last)",
      "Cell \u001b[1;32mIn[14], line 9\u001b[0m\n\u001b[0;32m      7\u001b[0m     \u001b[38;5;28mprint\u001b[39m(\u001b[38;5;124m\"\u001b[39m\u001b[38;5;124mValue is \u001b[39m\u001b[38;5;124m\"\u001b[39m,loc_var)\n\u001b[0;32m      8\u001b[0m function1()\n\u001b[1;32m----> 9\u001b[0m function2()\n",
      "Cell \u001b[1;32mIn[14], line 7\u001b[0m, in \u001b[0;36mfunction2\u001b[1;34m()\u001b[0m\n\u001b[0;32m      6\u001b[0m \u001b[38;5;28;01mdef\u001b[39;00m \u001b[38;5;21mfunction2\u001b[39m():\n\u001b[1;32m----> 7\u001b[0m     \u001b[38;5;28mprint\u001b[39m(\u001b[38;5;124m\"\u001b[39m\u001b[38;5;124mValue is \u001b[39m\u001b[38;5;124m\"\u001b[39m,loc_var)\n",
      "\u001b[1;31mNameError\u001b[0m: name 'loc_var' is not defined"
     ]
    }
   ],
   "source": [
    "def function1():\n",
    "#Local variables\n",
    "    loc_var = 907\n",
    "    print(\"Value is \",loc_var)\n",
    "#Loc_var = 4562\n",
    "def function2():\n",
    "    print(\"Value is \",loc_var)\n",
    "function1()\n",
    "function2()"
   ]
  },
  {
   "cell_type": "code",
   "execution_count": 5,
   "id": "f556554f",
   "metadata": {},
   "outputs": [],
   "source": [
    "global_value = 907\n",
    "def fun1():\n",
    "    print(\"Value of 1st fun : \", global_value)\n",
    "def fun2():\n",
    "    print(\"Value of 2nd fun : \" , global_value)"
   ]
  },
  {
   "cell_type": "code",
   "execution_count": 6,
   "id": "c610fda1",
   "metadata": {},
   "outputs": [
    {
     "name": "stdout",
     "output_type": "stream",
     "text": [
      "Value of 1st fun :  907\n",
      "Value of 2nd fun :  907\n"
     ]
    }
   ],
   "source": [
    "fun1()\n",
    "fun2()"
   ]
  },
  {
   "cell_type": "code",
   "execution_count": 14,
   "id": "c0e05530",
   "metadata": {},
   "outputs": [
    {
     "name": "stdout",
     "output_type": "stream",
     "text": [
      "Value in 1st function :  5\n",
      "Value in 2nd function :  555\n",
      "Value in 3rd function :  5\n"
     ]
    }
   ],
   "source": [
    "# Global variable\n",
    "global_var = 5\n",
    "def function1():\n",
    "    print(\"Value in 1st function : \", global_var)\n",
    "def function2():\n",
    "    # Modify global  varibale\n",
    "    # function will treat it as a local variable\n",
    "        global_var = 555\n",
    "        print(\"Value in 2nd function : \",global_var)\n",
    "def function3():\n",
    "    print(\"Value in 3rd function : \", global_var)\n",
    "function1()\n",
    "function2()\n",
    "function3()"
   ]
  },
  {
   "cell_type": "code",
   "execution_count": 16,
   "id": "7d175a3b",
   "metadata": {},
   "outputs": [
    {
     "name": "stdout",
     "output_type": "stream",
     "text": [
      "Value in 1st function :  5\n",
      "Value in 2nd function :  555\n",
      "Value in 3rd function :  555\n"
     ]
    }
   ],
   "source": [
    "# Global variable\n",
    "x = 5\n",
    "# defining 1st function\n",
    "def function1():\n",
    "    print(\"Value in 1st function : \",x)\n",
    "    \n",
    "    \n",
    "#defining 2nd function\n",
    "def function2():\n",
    "    #Modify global variable using global keyword\n",
    "    global x\n",
    "    x = 555\n",
    "    print(\"Value in 2nd function : \" ,x)\n",
    "    \n",
    "    \n",
    "#defining 3rd function \n",
    "def function3():\n",
    "    print(\"Value in 3rd function : \", x)\n",
    "function1()\n",
    "function2()\n",
    "function3()\n",
    "#print(x)"
   ]
  },
  {
   "cell_type": "markdown",
   "id": "8c31fe02",
   "metadata": {},
   "source": [
    "## Module"
   ]
  },
  {
   "cell_type": "markdown",
   "id": "b14e3346",
   "metadata": {},
   "source": [
    "In Python, modules refer to the python file, which contains Python code like Python statements, classes, function,variables, etc. A file with Python code is defined with exyension."
   ]
  },
  {
   "cell_type": "markdown",
   "id": "81797608",
   "metadata": {},
   "source": [
    "For example : In Test.py where the test is the module name."
   ]
  },
  {
   "cell_type": "markdown",
   "id": "ae3e3014",
   "metadata": {},
   "source": [
    "In Python, large code is divided into small modules. The benefit of modules is, it provides a way to share reusable functions."
   ]
  },
  {
   "cell_type": "markdown",
   "id": "1185f91a",
   "metadata": {},
   "source": [
    "Typess of module"
   ]
  },
  {
   "cell_type": "markdown",
   "id": "9abe9647",
   "metadata": {},
   "source": [
    "1) Built in module 2)User defined"
   ]
  },
  {
   "cell_type": "markdown",
   "id": "56cb82ac",
   "metadata": {},
   "source": [
    "### 1) Built in Module"
   ]
  },
  {
   "cell_type": "markdown",
   "id": "8d66e7fb",
   "metadata": {},
   "source": [
    "Built-in modules come with default Python insatllation. One of Python\"s most significant advantages is its rich library support\n",
    "that contains lots of built-in modules Hence, it provides a lot of reusable code."
   ]
  },
  {
   "cell_type": "markdown",
   "id": "37feb86c",
   "metadata": {},
   "source": [
    "Some commonly used Pyhton Built-in modules are datetime, as math, sys, random, etc."
   ]
  },
  {
   "cell_type": "markdown",
   "id": "c36bb718",
   "metadata": {},
   "source": [
    "### 2) User Defined Module"
   ]
  },
  {
   "cell_type": "markdown",
   "id": "c329bfe7",
   "metadata": {},
   "source": [
    "The modules which the user defines or create are clled a user-Defined module. We can create own module, whcih contains classes, function, variables, etc, as per our requirements."
   ]
  },
  {
   "cell_type": "code",
   "execution_count": 14,
   "id": "95513fca",
   "metadata": {},
   "outputs": [],
   "source": [
    "import Module"
   ]
  },
  {
   "cell_type": "code",
   "execution_count": 15,
   "id": "c354df10",
   "metadata": {},
   "outputs": [
    {
     "name": "stdout",
     "output_type": "stream",
     "text": [
      "30\n"
     ]
    }
   ],
   "source": [
    "m = Module.add(10,20)"
   ]
  },
  {
   "cell_type": "markdown",
   "id": "a7b68f0b",
   "metadata": {},
   "source": [
    "### OS Module "
   ]
  },
  {
   "cell_type": "markdown",
   "id": "e79af0cf",
   "metadata": {},
   "source": [
    "OS modules make it possible to automatically to perform many operating system tasks. The built in module in python offers function for creating and removing a directory(folder), fetching its content, changing and identifying the current directory."
   ]
  },
  {
   "cell_type": "code",
   "execution_count": 1,
   "id": "905ac0b2",
   "metadata": {},
   "outputs": [],
   "source": [
    "import os"
   ]
  },
  {
   "cell_type": "code",
   "execution_count": 2,
   "id": "7d96c1c8",
   "metadata": {},
   "outputs": [
    {
     "data": {
      "text/plain": [
       "'C:\\\\Users\\\\admin'"
      ]
     },
     "execution_count": 2,
     "metadata": {},
     "output_type": "execute_result"
    }
   ],
   "source": [
    "os.getcwd() # current working directory"
   ]
  },
  {
   "cell_type": "code",
   "execution_count": null,
   "id": "647c251a",
   "metadata": {},
   "outputs": [],
   "source": []
  },
  {
   "cell_type": "code",
   "execution_count": null,
   "id": "d3dbe172",
   "metadata": {},
   "outputs": [],
   "source": []
  },
  {
   "cell_type": "markdown",
   "id": "467c081b",
   "metadata": {},
   "source": [
    "### List files and sub-directories"
   ]
  },
  {
   "cell_type": "markdown",
   "id": "c777843b",
   "metadata": {},
   "source": [
    "listdir() returns the all the files and directories in the defined directory."
   ]
  },
  {
   "cell_type": "markdown",
   "id": "79fd2816",
   "metadata": {},
   "source": [
    "If directory is not specified then gives list of current directory."
   ]
  },
  {
   "cell_type": "code",
   "execution_count": 3,
   "id": "82bf49b4",
   "metadata": {},
   "outputs": [
    {
     "data": {
      "text/plain": [
       "['.anaconda',\n",
       " '.conda',\n",
       " '.condarc',\n",
       " '.continuum',\n",
       " '.ipynb_checkpoints',\n",
       " '.ipython',\n",
       " '.jupyter',\n",
       " '.matplotlib',\n",
       " '01-Distribution Plots.ipynb',\n",
       " '01-Matplotlib Concepts Lecture.ipynb',\n",
       " '01-SF Salaries Exercise.ipynb',\n",
       " '01_NumPy_Arrays.ipynb',\n",
       " '02-Categorical Plots.ipynb',\n",
       " '02-Matplotlib Exercises.ipynb',\n",
       " '02-Series.ipynb',\n",
       " '02_Numpy_Indexing_and_Selection.ipynb',\n",
       " '03-DataFrames.ipynb',\n",
       " '03-Matrix Plots.ipynb',\n",
       " '03-Numpy Operations.ipynb',\n",
       " '04-Grids.ipynb',\n",
       " '04-Missing Data.ipynb',\n",
       " '04_Numpy_Exercises.ipynb',\n",
       " '05-Groupby.ipynb',\n",
       " '06-Merging, Joining, and Concatenating.ipynb',\n",
       " '06-Style and Color.ipynb',\n",
       " '07-Seaborn Exercises.ipynb',\n",
       " '09 Web Scraping.ipynb',\n",
       " 'anaconda3',\n",
       " 'AppData',\n",
       " 'Application Data',\n",
       " 'Apriori.ipynb',\n",
       " 'Contacts',\n",
       " 'Cookies',\n",
       " 'data conversion and dict.ipynb',\n",
       " 'DATA.ipynb',\n",
       " 'Database Connectivity.ipynb',\n",
       " 'data_clean.csv',\n",
       " 'Desktop',\n",
       " 'Documents',\n",
       " 'Downloads',\n",
       " 'Excel_Sample.xlsx',\n",
       " 'Favorites',\n",
       " 'for loop.ipynb',\n",
       " 'innercity.csv',\n",
       " 'Intel',\n",
       " 'IntelGraphicsProfiles',\n",
       " 'Links',\n",
       " 'LOan Data.ipynb',\n",
       " 'loan_sanction_project.ipynb',\n",
       " 'Local Settings',\n",
       " 'matches.csv',\n",
       " 'Music',\n",
       " 'My Documents',\n",
       " 'NetHood',\n",
       " 'NTUSER.DAT',\n",
       " 'ntuser.dat.LOG1',\n",
       " 'ntuser.dat.LOG2',\n",
       " 'NTUSER.DAT{a2332f18-cdbf-11ec-8680-002248483d79}.TM.blf',\n",
       " 'NTUSER.DAT{a2332f18-cdbf-11ec-8680-002248483d79}.TMContainer00000000000000000001.regtrans-ms',\n",
       " 'NTUSER.DAT{a2332f18-cdbf-11ec-8680-002248483d79}.TMContainer00000000000000000002.regtrans-ms',\n",
       " 'ntuser.ini',\n",
       " 'numpy extra.ipynb',\n",
       " 'OneDrive',\n",
       " 'Pictures',\n",
       " 'PrintHood',\n",
       " 'Python_Day_27_Podar_(EDA_City_Data).ipynb',\n",
       " 'Recent',\n",
       " 'Salaries.csv',\n",
       " 'Saved Games',\n",
       " 'Searches',\n",
       " 'SendTo',\n",
       " 'sid@10.ipynb',\n",
       " 'sid@18.ipynb',\n",
       " 'Start Menu',\n",
       " 'Templates',\n",
       " 'Untitled.ipynb',\n",
       " 'Untitled1.ipynb',\n",
       " 'Untitled2.ipynb',\n",
       " 'Untitled3.ipynb',\n",
       " 'Untitled4.ipynb',\n",
       " 'Untitled5.ipynb',\n",
       " 'Videos']"
      ]
     },
     "execution_count": 3,
     "metadata": {},
     "output_type": "execute_result"
    }
   ],
   "source": [
    "os.listdir()"
   ]
  },
  {
   "cell_type": "code",
   "execution_count": 4,
   "id": "6f38c454",
   "metadata": {},
   "outputs": [
    {
     "name": "stdout",
     "output_type": "stream",
     "text": [
      "2024-03-19 13:14:46.578003\n"
     ]
    }
   ],
   "source": [
    "import datetime as dt\n",
    "print(dt.datetime.now())"
   ]
  },
  {
   "cell_type": "code",
   "execution_count": 5,
   "id": "dabbe2f1",
   "metadata": {},
   "outputs": [
    {
     "ename": "ModuleNotFoundError",
     "evalue": "No module named 'calender'",
     "output_type": "error",
     "traceback": [
      "\u001b[1;31m---------------------------------------------------------------------------\u001b[0m",
      "\u001b[1;31mModuleNotFoundError\u001b[0m                       Traceback (most recent call last)",
      "Cell \u001b[1;32mIn[5], line 1\u001b[0m\n\u001b[1;32m----> 1\u001b[0m \u001b[38;5;28;01mimport\u001b[39;00m \u001b[38;5;21;01mcalender\u001b[39;00m \u001b[38;5;28;01mas\u001b[39;00m \u001b[38;5;21;01mc\u001b[39;00m\n\u001b[0;32m      2\u001b[0m m \u001b[38;5;241m=\u001b[39m c\u001b[38;5;241m.\u001b[39mcalendar(\u001b[38;5;241m2023\u001b[39m)\n\u001b[0;32m      3\u001b[0m \u001b[38;5;28mprint\u001b[39m(m)\n",
      "\u001b[1;31mModuleNotFoundError\u001b[0m: No module named 'calender'"
     ]
    }
   ],
   "source": [
    "import calender as c\n",
    "m = c.calendar(2023)\n",
    "print(m)"
   ]
  },
  {
   "cell_type": "markdown",
   "id": "f73b8ed6",
   "metadata": {},
   "source": [
    "### Sys Module"
   ]
  },
  {
   "cell_type": "markdown",
   "id": "53d0c0e3",
   "metadata": {},
   "source": [
    "The sys module contains functions and variables to manipulate the different parts of the pythonruntime environmrent sys.argv"
   ]
  },
  {
   "cell_type": "code",
   "execution_count": 6,
   "id": "b1b801f7",
   "metadata": {},
   "outputs": [],
   "source": [
    "import sys"
   ]
  },
  {
   "cell_type": "code",
   "execution_count": 7,
   "id": "49c1a987",
   "metadata": {},
   "outputs": [
    {
     "data": {
      "text/plain": [
       "['C:\\\\Users\\\\admin\\\\anaconda3\\\\Lib\\\\site-packages\\\\ipykernel_launcher.py',\n",
       " '-f',\n",
       " 'C:\\\\Users\\\\admin\\\\AppData\\\\Roaming\\\\jupyter\\\\runtime\\\\kernel-e374ba40-400b-4830-8da0-f3a9fcd0c654.json']"
      ]
     },
     "execution_count": 7,
     "metadata": {},
     "output_type": "execute_result"
    }
   ],
   "source": [
    "sys.argv # returns a list of command line arguments that were passed to a python script."
   ]
  },
  {
   "cell_type": "code",
   "execution_count": 8,
   "id": "b1fa15db",
   "metadata": {},
   "outputs": [
    {
     "data": {
      "text/plain": [
       "['C:\\\\Users\\\\admin',\n",
       " 'C:\\\\Users\\\\admin\\\\anaconda3\\\\python311.zip',\n",
       " 'C:\\\\Users\\\\admin\\\\anaconda3\\\\DLLs',\n",
       " 'C:\\\\Users\\\\admin\\\\anaconda3\\\\Lib',\n",
       " 'C:\\\\Users\\\\admin\\\\anaconda3',\n",
       " '',\n",
       " 'C:\\\\Users\\\\admin\\\\anaconda3\\\\Lib\\\\site-packages',\n",
       " 'C:\\\\Users\\\\admin\\\\anaconda3\\\\Lib\\\\site-packages\\\\win32',\n",
       " 'C:\\\\Users\\\\admin\\\\anaconda3\\\\Lib\\\\site-packages\\\\win32\\\\lib',\n",
       " 'C:\\\\Users\\\\admin\\\\anaconda3\\\\Lib\\\\site-packages\\\\Pythonwin']"
      ]
     },
     "execution_count": 8,
     "metadata": {},
     "output_type": "execute_result"
    }
   ],
   "source": [
    "sys.path # search path for all modules"
   ]
  },
  {
   "cell_type": "code",
   "execution_count": 9,
   "id": "04f179ba",
   "metadata": {},
   "outputs": [
    {
     "data": {
      "text/plain": [
       "9223372036854775807"
      ]
     },
     "execution_count": 9,
     "metadata": {},
     "output_type": "execute_result"
    }
   ],
   "source": [
    "sys.maxsize # returns largest integer a variable can take "
   ]
  },
  {
   "cell_type": "code",
   "execution_count": 10,
   "id": "4598352f",
   "metadata": {},
   "outputs": [
    {
     "data": {
      "text/plain": [
       "'3.11.5 | packaged by Anaconda, Inc. | (main, Sep 11 2023, 13:26:23) [MSC v.1916 64 bit (AMD64)]'"
      ]
     },
     "execution_count": 10,
     "metadata": {},
     "output_type": "execute_result"
    }
   ],
   "source": [
    "sys.version # current version number of python interprter"
   ]
  },
  {
   "cell_type": "markdown",
   "id": "63f7bd4d",
   "metadata": {},
   "source": [
    "### Math"
   ]
  },
  {
   "cell_type": "code",
   "execution_count": 12,
   "id": "891c0fb3",
   "metadata": {},
   "outputs": [
    {
     "name": "stdout",
     "output_type": "stream",
     "text": [
      "5.0\n",
      "6\n"
     ]
    }
   ],
   "source": [
    "# Using the import keyword we can import module\n",
    "import math\n",
    "print(math.sqrt(25))\n",
    "\n",
    "#Similary import multiple modules\n",
    "import math, random\n",
    "print(math.factorial(3))\n",
    "#print(random.randint(10,20))  # give any random number between given ranges"
   ]
  },
  {
   "cell_type": "code",
   "execution_count": 13,
   "id": "7f212445",
   "metadata": {},
   "outputs": [
    {
     "name": "stdout",
     "output_type": "stream",
     "text": [
      "3.141592653589793\n",
      "2.718281828459045\n"
     ]
    }
   ],
   "source": [
    "import math\n",
    "#constant pi & Euler's\n",
    "p = math.pi\n",
    "print(p)\n",
    "e = math.e\n",
    "print(e)"
   ]
  },
  {
   "cell_type": "code",
   "execution_count": 14,
   "id": "9526c0d7",
   "metadata": {},
   "outputs": [
    {
     "data": {
      "text/plain": [
       "0.5235987755982988"
      ]
     },
     "execution_count": 14,
     "metadata": {},
     "output_type": "execute_result"
    }
   ],
   "source": [
    "math.radians(30) # convert into rad"
   ]
  },
  {
   "cell_type": "code",
   "execution_count": 15,
   "id": "f59f62f2",
   "metadata": {},
   "outputs": [
    {
     "data": {
      "text/plain": [
       "29.999995668536535"
      ]
     },
     "execution_count": 15,
     "metadata": {},
     "output_type": "execute_result"
    }
   ],
   "source": [
    "math.degrees(0.5235987) # convert into deg"
   ]
  },
  {
   "cell_type": "code",
   "execution_count": 16,
   "id": "ace9455b",
   "metadata": {},
   "outputs": [
    {
     "data": {
      "text/plain": [
       "0.49999993452995123"
      ]
     },
     "execution_count": 16,
     "metadata": {},
     "output_type": "execute_result"
    }
   ],
   "source": [
    "math.sin(0.5235987) # insert value in rad "
   ]
  },
  {
   "cell_type": "code",
   "execution_count": 17,
   "id": "0bbf26b6",
   "metadata": {},
   "outputs": [
    {
     "data": {
      "text/plain": [
       "0.577218575901686"
      ]
     },
     "execution_count": 17,
     "metadata": {},
     "output_type": "execute_result"
    }
   ],
   "source": [
    "math.tan(0.5235)"
   ]
  },
  {
   "cell_type": "code",
   "execution_count": 18,
   "id": "18d44e51",
   "metadata": {},
   "outputs": [
    {
     "name": "stdout",
     "output_type": "stream",
     "text": [
      "0.0\n",
      "1.1760912590556813\n"
     ]
    }
   ],
   "source": [
    "#Log\n",
    "print(math.log(1)) # base e_Natural log\n",
    "print(math.log10(15)) # base 10 - standard log"
   ]
  },
  {
   "cell_type": "code",
   "execution_count": 19,
   "id": "4a591e83",
   "metadata": {},
   "outputs": [
    {
     "name": "stdout",
     "output_type": "stream",
     "text": [
      "22026.465794806718\n",
      "22026.465794806703\n"
     ]
    }
   ],
   "source": [
    "print(math.exp(10))  #Exp\n",
    "print(math.e**(10))  #cross check"
   ]
  },
  {
   "cell_type": "code",
   "execution_count": 21,
   "id": "afbec1de",
   "metadata": {},
   "outputs": [
    {
     "name": "stdout",
     "output_type": "stream",
     "text": [
      "49.0\n",
      "6.0\n",
      "5\n",
      "6\n"
     ]
    }
   ],
   "source": [
    "print(math.pow(7,2)) #power\n",
    "print(math.sqrt(36))\n",
    "print(math.floor(5.3))  #Smmallest int\n",
    "print(math.ceil(5.3))  #Largest  int"
   ]
  },
  {
   "cell_type": "markdown",
   "id": "4ff427cf",
   "metadata": {},
   "source": [
    "### Random"
   ]
  },
  {
   "cell_type": "markdown",
   "id": "64ee5117",
   "metadata": {},
   "source": [
    "Generate pseudo random numbers."
   ]
  },
  {
   "cell_type": "code",
   "execution_count": 2,
   "id": "6e1667e5",
   "metadata": {},
   "outputs": [
    {
     "name": "stdout",
     "output_type": "stream",
     "text": [
      "0.7523707061367106\n",
      "11\n",
      "16\n",
      "94\n"
     ]
    }
   ],
   "source": [
    "import random\n",
    "a = random.random() # Gives float random number between 0-1\n",
    "print(a)\n",
    "b = random.randint(1,20) # gives random nu between ranges\n",
    "print(b)\n",
    "\n",
    "c = random.randrange(1,20,5) # start,stop,step\n",
    "print(c)\n",
    "\n",
    "d= random.randrange(90,100) # bydefault step 1\n",
    "print(d)"
   ]
  },
  {
   "cell_type": "code",
   "execution_count": 4,
   "id": "b14f51a4",
   "metadata": {},
   "outputs": [
    {
     "name": "stdout",
     "output_type": "stream",
     "text": [
      "45\n",
      "4\n"
     ]
    }
   ],
   "source": [
    "a = random.choice([10,225,36,45,78,98,4]) #returns randomly element in seq; if empty gives Index Error\n",
    "print(a)\n",
    "\n",
    "b = random.choice((10,25,45,78,98,4))\n",
    "print(b)"
   ]
  },
  {
   "cell_type": "code",
   "execution_count": 5,
   "id": "9620f7ee",
   "metadata": {},
   "outputs": [
    {
     "data": {
      "text/plain": [
       "[63, 10, 52, 48, 12, 45]"
      ]
     },
     "execution_count": 5,
     "metadata": {},
     "output_type": "execute_result"
    }
   ],
   "source": [
    "l = [10,52,63,48,12,45]\n",
    "random.shuffle(l)\n",
    "l"
   ]
  },
  {
   "cell_type": "markdown",
   "id": "42fbbd39",
   "metadata": {},
   "source": [
    "### Stat"
   ]
  },
  {
   "cell_type": "code",
   "execution_count": 6,
   "id": "b4bc2bd6",
   "metadata": {},
   "outputs": [],
   "source": [
    "import statistics"
   ]
  },
  {
   "cell_type": "code",
   "execution_count": 7,
   "id": "cc9ed3f4",
   "metadata": {},
   "outputs": [
    {
     "data": {
      "text/plain": [
       "20"
      ]
     },
     "execution_count": 7,
     "metadata": {},
     "output_type": "execute_result"
    }
   ],
   "source": [
    "statistics.mean([10,20,30])"
   ]
  },
  {
   "cell_type": "code",
   "execution_count": 8,
   "id": "24ea5cd0",
   "metadata": {},
   "outputs": [
    {
     "data": {
      "text/plain": [
       "6.5"
      ]
     },
     "execution_count": 8,
     "metadata": {},
     "output_type": "execute_result"
    }
   ],
   "source": [
    "statistics.median([4,2,3,6,8,7,9,10])"
   ]
  },
  {
   "cell_type": "code",
   "execution_count": 9,
   "id": "f05f9c47",
   "metadata": {},
   "outputs": [
    {
     "data": {
      "text/plain": [
       "8.5"
      ]
     },
     "execution_count": 9,
     "metadata": {},
     "output_type": "execute_result"
    }
   ],
   "source": [
    "statistics.median([7,9,12,8])"
   ]
  },
  {
   "cell_type": "code",
   "execution_count": 10,
   "id": "e59986c2",
   "metadata": {},
   "outputs": [
    {
     "data": {
      "text/plain": [
       "5"
      ]
     },
     "execution_count": 10,
     "metadata": {},
     "output_type": "execute_result"
    }
   ],
   "source": [
    "statistics.mode([45,12,13,1,5,465,45,48,4,62,7,5,5,46,46])"
   ]
  },
  {
   "cell_type": "code",
   "execution_count": 11,
   "id": "f25453fd",
   "metadata": {},
   "outputs": [
    {
     "data": {
      "text/plain": [
       "2.3664319132398464"
      ]
     },
     "execution_count": 11,
     "metadata": {},
     "output_type": "execute_result"
    }
   ],
   "source": [
    "statistics.stdev([7,6,2,3,4,8])"
   ]
  },
  {
   "cell_type": "code",
   "execution_count": 12,
   "id": "dec5b124",
   "metadata": {},
   "outputs": [
    {
     "data": {
      "text/plain": [
       "['FILE_ATTRIBUTE_ARCHIVE',\n",
       " 'FILE_ATTRIBUTE_COMPRESSED',\n",
       " 'FILE_ATTRIBUTE_DEVICE',\n",
       " 'FILE_ATTRIBUTE_DIRECTORY',\n",
       " 'FILE_ATTRIBUTE_ENCRYPTED',\n",
       " 'FILE_ATTRIBUTE_HIDDEN',\n",
       " 'FILE_ATTRIBUTE_INTEGRITY_STREAM',\n",
       " 'FILE_ATTRIBUTE_NORMAL',\n",
       " 'FILE_ATTRIBUTE_NOT_CONTENT_INDEXED',\n",
       " 'FILE_ATTRIBUTE_NO_SCRUB_DATA',\n",
       " 'FILE_ATTRIBUTE_OFFLINE',\n",
       " 'FILE_ATTRIBUTE_READONLY',\n",
       " 'FILE_ATTRIBUTE_REPARSE_POINT',\n",
       " 'FILE_ATTRIBUTE_SPARSE_FILE',\n",
       " 'FILE_ATTRIBUTE_SYSTEM',\n",
       " 'FILE_ATTRIBUTE_TEMPORARY',\n",
       " 'FILE_ATTRIBUTE_VIRTUAL',\n",
       " 'IO_REPARSE_TAG_APPEXECLINK',\n",
       " 'IO_REPARSE_TAG_MOUNT_POINT',\n",
       " 'IO_REPARSE_TAG_SYMLINK',\n",
       " 'SF_APPEND',\n",
       " 'SF_ARCHIVED',\n",
       " 'SF_IMMUTABLE',\n",
       " 'SF_NOUNLINK',\n",
       " 'SF_SNAPSHOT',\n",
       " 'ST_ATIME',\n",
       " 'ST_CTIME',\n",
       " 'ST_DEV',\n",
       " 'ST_GID',\n",
       " 'ST_INO',\n",
       " 'ST_MODE',\n",
       " 'ST_MTIME',\n",
       " 'ST_NLINK',\n",
       " 'ST_SIZE',\n",
       " 'ST_UID',\n",
       " 'S_ENFMT',\n",
       " 'S_IEXEC',\n",
       " 'S_IFBLK',\n",
       " 'S_IFCHR',\n",
       " 'S_IFDIR',\n",
       " 'S_IFDOOR',\n",
       " 'S_IFIFO',\n",
       " 'S_IFLNK',\n",
       " 'S_IFMT',\n",
       " 'S_IFPORT',\n",
       " 'S_IFREG',\n",
       " 'S_IFSOCK',\n",
       " 'S_IFWHT',\n",
       " 'S_IMODE',\n",
       " 'S_IREAD',\n",
       " 'S_IRGRP',\n",
       " 'S_IROTH',\n",
       " 'S_IRUSR',\n",
       " 'S_IRWXG',\n",
       " 'S_IRWXO',\n",
       " 'S_IRWXU',\n",
       " 'S_ISBLK',\n",
       " 'S_ISCHR',\n",
       " 'S_ISDIR',\n",
       " 'S_ISDOOR',\n",
       " 'S_ISFIFO',\n",
       " 'S_ISGID',\n",
       " 'S_ISLNK',\n",
       " 'S_ISPORT',\n",
       " 'S_ISREG',\n",
       " 'S_ISSOCK',\n",
       " 'S_ISUID',\n",
       " 'S_ISVTX',\n",
       " 'S_ISWHT',\n",
       " 'S_IWGRP',\n",
       " 'S_IWOTH',\n",
       " 'S_IWRITE',\n",
       " 'S_IWUSR',\n",
       " 'S_IXGRP',\n",
       " 'S_IXOTH',\n",
       " 'S_IXUSR',\n",
       " 'UF_APPEND',\n",
       " 'UF_COMPRESSED',\n",
       " 'UF_HIDDEN',\n",
       " 'UF_IMMUTABLE',\n",
       " 'UF_NODUMP',\n",
       " 'UF_NOUNLINK',\n",
       " 'UF_OPAQUE',\n",
       " '__builtins__',\n",
       " '__doc__',\n",
       " '__file__',\n",
       " '__loader__',\n",
       " '__name__',\n",
       " '__package__',\n",
       " '__spec__',\n",
       " '_filemode_table',\n",
       " 'filemode']"
      ]
     },
     "execution_count": 12,
     "metadata": {},
     "output_type": "execute_result"
    }
   ],
   "source": [
    "import stat\n",
    "dir(stat)"
   ]
  },
  {
   "cell_type": "code",
   "execution_count": null,
   "id": "23d0456e",
   "metadata": {},
   "outputs": [],
   "source": [
    "#Import only specific classes or fuctions froma module\n",
    "from math import sqrt\n",
    "print(sqrt(25))\n",
    "\n",
    "from math import fa"
   ]
  }
 ],
 "metadata": {
  "kernelspec": {
   "display_name": "Python 3 (ipykernel)",
   "language": "python",
   "name": "python3"
  },
  "language_info": {
   "codemirror_mode": {
    "name": "ipython",
    "version": 3
   },
   "file_extension": ".py",
   "mimetype": "text/x-python",
   "name": "python",
   "nbconvert_exporter": "python",
   "pygments_lexer": "ipython3",
   "version": "3.11.5"
  }
 },
 "nbformat": 4,
 "nbformat_minor": 5
}
