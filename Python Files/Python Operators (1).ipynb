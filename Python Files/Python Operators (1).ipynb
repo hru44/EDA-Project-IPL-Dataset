{
 "cells": [
  {
   "cell_type": "code",
   "execution_count": 3,
   "id": "989037b2",
   "metadata": {},
   "outputs": [
    {
     "name": "stdout",
     "output_type": "stream",
     "text": [
      "<class 'int'>\n",
      "<class 'float'>\n",
      "<class 'str'>\n",
      "<class 'complex'>\n",
      "<class 'list'>\n",
      "<class 'tuple'>\n",
      "<class 'set'>\n",
      "<class 'dict'>\n"
     ]
    }
   ],
   "source": [
    "#integer Data Type\n",
    "a = 45\n",
    "print(type(a))\n",
    "#Float Data Type\n",
    "b = 45.9\n",
    "print(type(b))\n",
    "#String Data type\n",
    "c = 'Hello World!!'\n",
    "print(type(c))\n",
    "#Complex Data type\n",
    "d = 5+6j\n",
    "print(type(d))\n",
    "\n",
    "\n",
    "#Advanced Data Type\n",
    "#List Data Type\n",
    "e = [1,2,'Hello']\n",
    "print(type(e))\n",
    "#Tuple Data Type\n",
    "f = (3,4,'World')\n",
    "print(type(f))\n",
    "#Set Data Type\n",
    "g = {1,2,3}\n",
    "print(type(g))\n",
    "#Dictionary Data Type\n",
    "h = {'name' : 'Hello'}\n",
    "print(type(h))"
   ]
  },
  {
   "cell_type": "code",
   "execution_count": null,
   "id": "f4abd1b4",
   "metadata": {},
   "outputs": [],
   "source": []
  }
 ],
 "metadata": {
  "kernelspec": {
   "display_name": "Python 3 (ipykernel)",
   "language": "python",
   "name": "python3"
  },
  "language_info": {
   "codemirror_mode": {
    "name": "ipython",
    "version": 3
   },
   "file_extension": ".py",
   "mimetype": "text/x-python",
   "name": "python",
   "nbconvert_exporter": "python",
   "pygments_lexer": "ipython3",
   "version": "3.11.5"
  }
 },
 "nbformat": 4,
 "nbformat_minor": 5
}
