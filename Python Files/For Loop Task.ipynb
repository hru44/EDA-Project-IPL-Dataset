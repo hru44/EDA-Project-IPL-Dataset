{
 "cells": [
  {
   "cell_type": "code",
   "execution_count": 8,
   "id": "ef80ade3",
   "metadata": {},
   "outputs": [
    {
     "name": "stdout",
     "output_type": "stream",
     "text": [
      "0\n",
      "1\n",
      "2\n",
      "3\n",
      "4\n"
     ]
    }
   ],
   "source": [
    "#for loop works on sequenece \n",
    "#for loop is a finite loop\n",
    "#i = iteration...#\n",
    "\n",
    "for i in range(0,5):#0-9\n",
    "    print(i)"
   ]
  },
  {
   "cell_type": "code",
   "execution_count": 9,
   "id": "f776cdce",
   "metadata": {},
   "outputs": [
    {
     "name": "stdout",
     "output_type": "stream",
     "text": [
      "0\n",
      "2\n",
      "4\n",
      "6\n",
      "8\n"
     ]
    }
   ],
   "source": [
    "for sum1 in range(0,10,2):#0 start .... 10 end ...2 step(increment)\n",
    "    print(sum1)  # even numbers"
   ]
  },
  {
   "cell_type": "code",
   "execution_count": 10,
   "id": "256cd20e",
   "metadata": {},
   "outputs": [
    {
     "name": "stdout",
     "output_type": "stream",
     "text": [
      "1\n",
      "3\n",
      "5\n",
      "7\n",
      "9\n",
      "11\n",
      "13\n",
      "15\n",
      "17\n",
      "19\n"
     ]
    }
   ],
   "source": [
    "for i in range(1,20,2): # works on rows\n",
    "    print(i) #odd numbers "
   ]
  },
  {
   "cell_type": "code",
   "execution_count": 11,
   "id": "7f59b894",
   "metadata": {},
   "outputs": [
    {
     "name": "stdout",
     "output_type": "stream",
     "text": [
      "['apple', 'banana', 'cherry']\n"
     ]
    }
   ],
   "source": [
    "list1 = [\"apple\",\"banana\",\"cherry\"]\n",
    "print(list1)"
   ]
  },
  {
   "cell_type": "code",
   "execution_count": 12,
   "id": "8bd11630",
   "metadata": {},
   "outputs": [
    {
     "name": "stdout",
     "output_type": "stream",
     "text": [
      "apple\n",
      "banana\n",
      "cherry\n"
     ]
    }
   ],
   "source": [
    "# apple\n",
    "# banana\n",
    "# cherry\n",
    "\n",
    "for i in list1:\n",
    "    print(i)"
   ]
  },
  {
   "cell_type": "code",
   "execution_count": 14,
   "id": "e59cb63a",
   "metadata": {},
   "outputs": [
    {
     "name": "stdout",
     "output_type": "stream",
     "text": [
      "d e v e l e a r n "
     ]
    }
   ],
   "source": [
    "string = \"develearn\"\n",
    "for s in string:\n",
    "    print(s , end = \" \")"
   ]
  },
  {
   "cell_type": "code",
   "execution_count": 18,
   "id": "1ae37ca7",
   "metadata": {},
   "outputs": [
    {
     "name": "stdout",
     "output_type": "stream",
     "text": [
      "1 2 3 4 5 "
     ]
    }
   ],
   "source": [
    "set1 = {1,2,3,4,5}\n",
    "for i in set1:\n",
    "    print(i, end = \" \")"
   ]
  },
  {
   "cell_type": "code",
   "execution_count": 23,
   "id": "c26a3921",
   "metadata": {},
   "outputs": [
    {
     "name": "stdout",
     "output_type": "stream",
     "text": [
      "name\n",
      "year\n"
     ]
    }
   ],
   "source": [
    "dic = {\"name\": \"develearn\", \"year\" : 2000}\n",
    "for i in dic.keys():\n",
    "    print(i)"
   ]
  },
  {
   "cell_type": "code",
   "execution_count": 25,
   "id": "3d89d8eb",
   "metadata": {},
   "outputs": [
    {
     "name": "stdout",
     "output_type": "stream",
     "text": [
      "develearn 2000 "
     ]
    }
   ],
   "source": [
    "for i in dic.values():\n",
    "    print(i, end = \" \")"
   ]
  },
  {
   "cell_type": "code",
   "execution_count": 1,
   "id": "62b36220",
   "metadata": {},
   "outputs": [
    {
     "name": "stdout",
     "output_type": "stream",
     "text": [
      "0 1 2 3 4 "
     ]
    }
   ],
   "source": [
    "#break statements \n",
    "\n",
    "for i in range(0,10):\n",
    "    if i == 5:\n",
    "        break\n",
    "    print(i, end  = \" \")"
   ]
  },
  {
   "cell_type": "code",
   "execution_count": 29,
   "id": "27ec8490",
   "metadata": {},
   "outputs": [
    {
     "name": "stdout",
     "output_type": "stream",
     "text": [
      "apple\n",
      "cherry\n"
     ]
    }
   ],
   "source": [
    "#continue statement\n",
    "\n",
    "list1 = [\"apple\",\"banana\",\"cherry\"]\n",
    "for i in list1:\n",
    "    if i == \"banana\":\n",
    "        continue\n",
    "    print(i)"
   ]
  },
  {
   "cell_type": "code",
   "execution_count": 33,
   "id": "6807031a",
   "metadata": {},
   "outputs": [
    {
     "ename": "TypeError",
     "evalue": "range expected at least 1 argument, got 0",
     "output_type": "error",
     "traceback": [
      "\u001b[1;31m---------------------------------------------------------------------------\u001b[0m",
      "\u001b[1;31mTypeError\u001b[0m                                 Traceback (most recent call last)",
      "Cell \u001b[1;32mIn[33], line 3\u001b[0m\n\u001b[0;32m      1\u001b[0m \u001b[38;5;66;03m#pass statement\u001b[39;00m\n\u001b[1;32m----> 3\u001b[0m \u001b[38;5;28;01mfor\u001b[39;00m i \u001b[38;5;129;01min\u001b[39;00m \u001b[38;5;28mrange\u001b[39m():\n\u001b[0;32m      4\u001b[0m     \u001b[38;5;28;01mpass\u001b[39;00m\n",
      "\u001b[1;31mTypeError\u001b[0m: range expected at least 1 argument, got 0"
     ]
    }
   ],
   "source": [
    "#pass statement\n",
    "\n",
    "for i in range():\n",
    "    pass"
   ]
  },
  {
   "cell_type": "code",
   "execution_count": 34,
   "id": "2151f009",
   "metadata": {},
   "outputs": [
    {
     "ename": "SyntaxError",
     "evalue": "incomplete input (1935284599.py, line 1)",
     "output_type": "error",
     "traceback": [
      "\u001b[1;36m  Cell \u001b[1;32mIn[34], line 1\u001b[1;36m\u001b[0m\n\u001b[1;33m    for i in range(6):\u001b[0m\n\u001b[1;37m                      ^\u001b[0m\n\u001b[1;31mSyntaxError\u001b[0m\u001b[1;31m:\u001b[0m incomplete input\n"
     ]
    }
   ],
   "source": [
    "for i in range(6):"
   ]
  },
  {
   "cell_type": "code",
   "execution_count": 35,
   "id": "0833332b",
   "metadata": {},
   "outputs": [],
   "source": [
    "for i in range(6):\n",
    "    pass"
   ]
  },
  {
   "cell_type": "code",
   "execution_count": 36,
   "id": "a902003b",
   "metadata": {},
   "outputs": [
    {
     "name": "stdout",
     "output_type": "stream",
     "text": [
      "0 1 2 3 4 5 6 7 8 9 10 11 12 13 14 15 16 17 18 19 "
     ]
    }
   ],
   "source": [
    "a = 20\n",
    "\n",
    "for i in range(0,a):\n",
    "    print(i, end = \" \")"
   ]
  },
  {
   "cell_type": "code",
   "execution_count": 41,
   "id": "321c2437",
   "metadata": {},
   "outputs": [
    {
     "name": "stdout",
     "output_type": "stream",
     "text": [
      "['apple', 'banana', 'kiwi']\n"
     ]
    }
   ],
   "source": [
    "#list comprehension\n",
    "\n",
    "fruits =[\"apple\",\"banana\",\"kiwi\"]\n",
    "newList = []\n",
    "\n",
    "for i in fruits:\n",
    "    newList.append(i)\n",
    "print(newList)"
   ]
  },
  {
   "cell_type": "code",
   "execution_count": 42,
   "id": "e10cff80",
   "metadata": {},
   "outputs": [
    {
     "name": "stdout",
     "output_type": "stream",
     "text": [
      "['apple', 'banana', 'Mango', 'guava']\n"
     ]
    }
   ],
   "source": [
    "fruits =[\"apple\",\"banana\",\"kiwi\",\"Mango\",\"guava\"]\n",
    "newList = []\n",
    "\n",
    "for i in fruits:\n",
    "    if \"a\" in i:\n",
    "        newList.append(i)\n",
    "print(newList)"
   ]
  },
  {
   "cell_type": "code",
   "execution_count": 44,
   "id": "5657fb56",
   "metadata": {},
   "outputs": [
    {
     "name": "stdout",
     "output_type": "stream",
     "text": [
      "['apple', 'banana', 'mango']\n"
     ]
    }
   ],
   "source": [
    "fruits = [\"apple\", \"banana\", \"cherry\", \"kiwi\", \"mango\"]\n",
    "\n",
    "newlist = [fru for fru in fruits if \"a\" in fru]\n",
    "\n",
    "print(newlist)\n"
   ]
  },
  {
   "cell_type": "code",
   "execution_count": 8,
   "id": "76b6fa91",
   "metadata": {},
   "outputs": [
    {
     "name": "stdout",
     "output_type": "stream",
     "text": [
      "0 0 0 0 0 0 0 0 0 0 0 \n",
      "\n",
      "1 1 1 1 1 1 1 1 1 1 1 \n",
      "\n",
      "2 2 2 2 2 2 2 2 2 2 2 \n",
      "\n",
      "3 3 3 3 3 3 3 3 3 3 3 \n",
      "\n",
      "4 4 4 4 4 4 4 4 4 4 4 \n",
      "\n",
      "5 5 5 5 5 5 5 5 5 5 5 \n",
      "\n",
      "6 6 6 6 6 6 6 6 6 6 6 \n",
      "\n",
      "7 7 7 7 7 7 7 7 7 7 7 \n",
      "\n",
      "8 8 8 8 8 8 8 8 8 8 8 \n",
      "\n",
      "9 9 9 9 9 9 9 9 9 9 9 \n",
      "\n"
     ]
    }
   ],
   "source": [
    "for row in range(0,10): #rows #0--1--2--9\n",
    "    for col in range(0,11): #columns #0-10--0-10--0-10--0-10\n",
    "         print(row , end= \" \")\n",
    "    print('\\n')\n",
    "    "
   ]
  },
  {
   "cell_type": "code",
   "execution_count": 10,
   "id": "f1a37a4e",
   "metadata": {},
   "outputs": [
    {
     "name": "stdout",
     "output_type": "stream",
     "text": [
      "1  2  3  4  5  6  7  8  9  10  \n",
      "2  4  6  8  10  12  14  16  18  20  \n",
      "3  6  9  12  15  18  21  24  27  30  \n",
      "4  8  12  16  20  24  28  32  36  40  \n",
      "5  10  15  20  25  30  35  40  45  50  \n",
      "6  12  18  24  30  36  42  48  54  60  \n",
      "7  14  21  28  35  42  49  56  63  70  \n",
      "8  16  24  32  40  48  56  64  72  80  \n",
      "9  18  27  36  45  54  63  72  81  90  \n",
      "10  20  30  40  50  60  70  80  90  100  \n"
     ]
    }
   ],
   "source": [
    "for row in range(1,11): \n",
    "    for col in range(1,11): \n",
    "         print(row*col , end = \"  \")\n",
    "    print()"
   ]
  },
  {
   "cell_type": "code",
   "execution_count": 11,
   "id": "dc34aa2d",
   "metadata": {},
   "outputs": [
    {
     "name": "stdout",
     "output_type": "stream",
     "text": [
      "* * * * * * * * * * \n",
      "* * * * * * * * * * \n",
      "* * * * * * * * * * \n",
      "* * * * * * * * * * \n",
      "* * * * * * * * * * \n",
      "* * * * * * * * * * \n"
     ]
    }
   ],
   "source": [
    "for a in range(1,7): #number of rows\n",
    "    for j in range(1,11): #number of columns of each rows\n",
    "        print(\"*\", end = \" \")\n",
    "    print()"
   ]
  },
  {
   "cell_type": "code",
   "execution_count": 13,
   "id": "e77ee21d",
   "metadata": {},
   "outputs": [
    {
     "name": "stdout",
     "output_type": "stream",
     "text": [
      "1 2 3 4 5 6 7 8 9 10 \n",
      "1 2 3 4 5 6 7 8 9 10 \n",
      "1 2 3 4 5 6 7 8 9 10 \n",
      "1 2 3 4 5 6 7 8 9 10 \n",
      "1 2 3 4 5 6 7 8 9 10 \n",
      "1 2 3 4 5 6 7 8 9 10 \n"
     ]
    }
   ],
   "source": [
    "for i in range(1,7): #number of rows\n",
    "    for j in range(1,11): #number of columns of each rows\n",
    "        print(j , end = \" \")\n",
    "    print()"
   ]
  },
  {
   "cell_type": "code",
   "execution_count": 14,
   "id": "6259d413",
   "metadata": {},
   "outputs": [
    {
     "name": "stdout",
     "output_type": "stream",
     "text": [
      "1 1 1 1 1 1 1 1 1 1 \n",
      "2 2 2 2 2 2 2 2 2 2 \n",
      "3 3 3 3 3 3 3 3 3 3 \n",
      "4 4 4 4 4 4 4 4 4 4 \n",
      "5 5 5 5 5 5 5 5 5 5 \n",
      "6 6 6 6 6 6 6 6 6 6 \n"
     ]
    }
   ],
   "source": [
    "for i in range(1,7): #number of rows\n",
    "    for j in range(1,11): #number of columns of each rows\n",
    "        print(i , end = \" \")\n",
    "    print()"
   ]
  },
  {
   "cell_type": "code",
   "execution_count": 16,
   "id": "865cd5c6",
   "metadata": {},
   "outputs": [
    {
     "name": "stdout",
     "output_type": "stream",
     "text": [
      "* * * * * * \n",
      "* * * * * * \n",
      "* * * * * * \n",
      "* * * * * * \n",
      "* * * * * * \n",
      "* * * * * * \n",
      "* * * * * * \n",
      "* * * * * * \n",
      "* * * * * * \n",
      "* * * * * * \n",
      "* * * * * * \n"
     ]
    }
   ],
   "source": [
    "for i in range(0,11):\n",
    "    for j in range(1,7):\n",
    "        print(\"*\", end = \" \")\n",
    "    print()"
   ]
  },
  {
   "cell_type": "code",
   "execution_count": 19,
   "id": "c7c11002",
   "metadata": {},
   "outputs": [
    {
     "name": "stdout",
     "output_type": "stream",
     "text": [
      "0 0 0 0 0 0 \n",
      "1 1 1 1 1 1 \n",
      "2 2 2 2 2 2 \n",
      "3 3 3 3 3 3 \n",
      "4 4 4 4 4 4 \n",
      "5 5 5 5 5 5 \n",
      "6 6 6 6 6 6 \n",
      "7 7 7 7 7 7 \n",
      "8 8 8 8 8 8 \n",
      "9 9 9 9 9 9 \n",
      "10 10 10 10 10 10 \n"
     ]
    }
   ],
   "source": [
    "for i in range(0,11):\n",
    "    for j in range(1,7):\n",
    "        print(i, end = \" \")\n",
    "    print()"
   ]
  },
  {
   "cell_type": "code",
   "execution_count": 20,
   "id": "341541bb",
   "metadata": {},
   "outputs": [
    {
     "name": "stdout",
     "output_type": "stream",
     "text": [
      "1 2 3 4 5 6 \n",
      "1 2 3 4 5 6 \n",
      "1 2 3 4 5 6 \n",
      "1 2 3 4 5 6 \n",
      "1 2 3 4 5 6 \n",
      "1 2 3 4 5 6 \n",
      "1 2 3 4 5 6 \n",
      "1 2 3 4 5 6 \n",
      "1 2 3 4 5 6 \n",
      "1 2 3 4 5 6 \n",
      "1 2 3 4 5 6 \n"
     ]
    }
   ],
   "source": [
    "for i in range(0,11):\n",
    "    for j in range(1,7):\n",
    "        print(j, end = \" \")\n",
    "    print()"
   ]
  },
  {
   "cell_type": "code",
   "execution_count": 16,
   "id": "da4a3a09",
   "metadata": {},
   "outputs": [
    {
     "name": "stdout",
     "output_type": "stream",
     "text": [
      "0 \n",
      "0 1 \n",
      "0 1 2 \n",
      "0 1 2 3 \n",
      "0 1 2 3 4 \n"
     ]
    }
   ],
   "source": [
    "for i in range(0,5):  #i = 1 -- 2--3--4--5\n",
    "    for j in range(0,i+1):  #(0,2)(0,3)(1,4)\n",
    "        print(j, end = \" \")\n",
    "    print()"
   ]
  },
  {
   "cell_type": "code",
   "execution_count": 31,
   "id": "a68217b5",
   "metadata": {},
   "outputs": [
    {
     "name": "stdout",
     "output_type": "stream",
     "text": [
      "5 4 3 2 1 \n",
      "5 4 3 2 \n",
      "5 4 3 \n",
      "5 4 \n",
      "5 \n"
     ]
    }
   ],
   "source": [
    "# 5 4 3 2 1\n",
    "# 5 4 3 2\n",
    "# 5 4 3\n",
    "# 5 4\n",
    "# 5\n",
    "\n",
    "\n",
    "for i in range(5,0,-1):\n",
    "    for j in range(5,5-i,-1):\n",
    "        print(j, end = \" \")\n",
    "    print()"
   ]
  },
  {
   "cell_type": "code",
   "execution_count": 34,
   "id": "96eb6493",
   "metadata": {},
   "outputs": [
    {
     "name": "stdout",
     "output_type": "stream",
     "text": [
      "5 4 3 2 1 \n",
      "5 4 3 2 \n",
      "5 4 3 "
     ]
    }
   ],
   "source": [
    "for i in range(5,5-5,-1):\n",
    "    print(i, end = \" \")\n",
    "    \n",
    "print()\n",
    "    \n",
    "for j in range(5,5-4,-1):\n",
    "    print(j,end = \" \")\n",
    "    \n",
    "print()\n",
    "\n",
    "for k in range(5,5-3,-1):\n",
    "    print(k,end= \" \")"
   ]
  },
  {
   "cell_type": "code",
   "execution_count": 35,
   "id": "71b99577",
   "metadata": {},
   "outputs": [
    {
     "name": "stdout",
     "output_type": "stream",
     "text": [
      "5 5 5 5 5 \n",
      "4 4 4 4 \n",
      "3 3 3 \n",
      "2 2 \n",
      "1 \n"
     ]
    }
   ],
   "source": [
    "for i in range(5, 0, -1):\n",
    "    for j in range(i):\n",
    "        print(i, end = \" \")\n",
    "    print()"
   ]
  },
  {
   "cell_type": "code",
   "execution_count": 44,
   "id": "0efb253e",
   "metadata": {},
   "outputs": [
    {
     "name": "stdout",
     "output_type": "stream",
     "text": [
      "6 6 6 6 6 6 \n",
      "5 5 5 5 5 \n",
      "4 4 4 4 \n",
      "3 3 3 \n",
      "2 2 \n",
      "1 \n"
     ]
    }
   ],
   "source": [
    "# 1 2 3 4 5\n",
    "# 1 2 3 4\n",
    "# 1 2 3\n",
    "# 1 2\n",
    "# 1\n",
    "\n",
    "for i in range(6,0,-1):  #i = 6 i= 5\n",
    "    for j in range(0,i): #j = (1-4) 1-2-3\n",
    "        print(i, end=\" \")\n",
    "    print()"
   ]
  },
  {
   "cell_type": "code",
   "execution_count": 45,
   "id": "c3a65252",
   "metadata": {},
   "outputs": [
    {
     "name": "stdout",
     "output_type": "stream",
     "text": [
      "1 \n",
      "2 2 \n",
      "3 3 3 \n",
      "4 4 4 4 \n",
      "5 5 5 5 5 \n"
     ]
    }
   ],
   "source": [
    "for i in range(1,6):\n",
    "    for j in range(1,i+1):\n",
    "        print(i, end = \" \")\n",
    "    print()"
   ]
  },
  {
   "cell_type": "code",
   "execution_count": 49,
   "id": "705d10f5",
   "metadata": {},
   "outputs": [
    {
     "name": "stdout",
     "output_type": "stream",
     "text": [
      "5 \n",
      "4 4 \n",
      "3 3 3 \n",
      "2 2 2 2 \n",
      "1 1 1 1 1 \n"
     ]
    }
   ],
   "source": [
    "for i in range(5,0,-1):\n",
    "    for j in range(6,i,-1):\n",
    "        print(i, end = \" \")\n",
    "    print()"
   ]
  },
  {
   "cell_type": "code",
   "execution_count": 52,
   "id": "3b1616c1",
   "metadata": {},
   "outputs": [
    {
     "name": "stdout",
     "output_type": "stream",
     "text": [
      "5 \n",
      "5 4 \n",
      "5 4 3 \n",
      "5 4 3 2 \n",
      "5 4 3 2 1 \n"
     ]
    }
   ],
   "source": [
    "for i in range(5,0,-1):\n",
    "    for j in range(5,i-1,-1):\n",
    "        print(j, end =\" \")\n",
    "    print()"
   ]
  },
  {
   "cell_type": "code",
   "execution_count": 51,
   "id": "7aea0e94",
   "metadata": {},
   "outputs": [
    {
     "name": "stdout",
     "output_type": "stream",
     "text": [
      "5 \n",
      "5 4 \n",
      "5 4 3 \n",
      "5 4 3 2 \n",
      "5 4 3 2 1 \n"
     ]
    }
   ],
   "source": [
    "# 5\n",
    "# 4 4\n",
    "# 3 3 3\n",
    "# 2 2 2 2 \n",
    "# 1 1 1 1 1\n",
    "\n",
    "for i in range(5,0,-1):\n",
    "    for j in range(5,i-1,-1):\n",
    "        print(j, end = \" \")\n",
    "    print()"
   ]
  },
  {
   "cell_type": "code",
   "execution_count": 16,
   "id": "c1d80a09",
   "metadata": {},
   "outputs": [
    {
     "name": "stdout",
     "output_type": "stream",
     "text": [
      "1 \n",
      "2 2 \n",
      "3 3 3 \n",
      "4 4 4 4 \n",
      "5 5 5 5 5 \n"
     ]
    }
   ],
   "source": [
    "for i in range(1, 6):\n",
    "    for j in range(1, i+1):\n",
    "        print(i, end = \" \")\n",
    "    print()"
   ]
  },
  {
   "cell_type": "code",
   "execution_count": 15,
   "id": "09ac4eb9",
   "metadata": {},
   "outputs": [
    {
     "name": "stdout",
     "output_type": "stream",
     "text": [
      "1 \n",
      "2 2 \n",
      "3 3 3 \n",
      "4 4 4 4 \n",
      "5 5 5 5 5 \n"
     ]
    }
   ],
   "source": [
    "for i in range(1, 6):\n",
    "    for j in range(0, i):\n",
    "        print(i, end = \" \")\n",
    "    print()"
   ]
  },
  {
   "cell_type": "code",
   "execution_count": 32,
   "id": "c6cdc862",
   "metadata": {},
   "outputs": [
    {
     "name": "stdout",
     "output_type": "stream",
     "text": [
      "* * * * 1 \n",
      "* * * 1 2 \n",
      "* * 1 2 3 \n",
      "* 1 2 3 4 \n",
      "1 2 3 4 5 \n"
     ]
    }
   ],
   "source": [
    "for i in range(0,5): #i = 0\n",
    "    for j in range(5-i-1): #(5-0-1) ==4\n",
    "        print(\"*\",end=\" \") \n",
    "    for K in range(0,i+1):#(0,1)\n",
    "        print(K+1, end=\" \")\n",
    "    print()"
   ]
  },
  {
   "cell_type": "code",
   "execution_count": 34,
   "id": "b81bb4cc",
   "metadata": {},
   "outputs": [
    {
     "name": "stdout",
     "output_type": "stream",
     "text": [
      "* * * * 1 \n",
      "* * * 2 2 \n",
      "* * 3 3 3 \n",
      "* 4 4 4 4 \n",
      "5 5 5 5 5 \n"
     ]
    }
   ],
   "source": [
    "for i in range(0,5): #i = 0\n",
    "    for j in range(5-i-1): #(5-0-1) ==4\n",
    "        print(\"*\",end=\" \") \n",
    "    for K in range(0,i+1):#(0,1)\n",
    "        print(i+1, end=\" \")\n",
    "    print()"
   ]
  },
  {
   "cell_type": "code",
   "execution_count": 36,
   "id": "12a20c61",
   "metadata": {},
   "outputs": [
    {
     "name": "stdout",
     "output_type": "stream",
     "text": [
      "* * * * 1 \n",
      "* * * 2 1 \n",
      "* * 3 2 1 \n",
      "* 4 3 2 1 \n",
      "5 4 3 2 1 \n"
     ]
    }
   ],
   "source": [
    "for i in range(0,5): #i = 0\n",
    "    for j in range(5-i-1): #(5-0-1) ==4\n",
    "        print(\"*\",end=\" \") \n",
    "    for K in range(i+1 , 0 , -1):#(0,1)\n",
    "        print(K, end=\" \")\n",
    "    print()"
   ]
  },
  {
   "cell_type": "code",
   "execution_count": 37,
   "id": "55352900",
   "metadata": {},
   "outputs": [
    {
     "name": "stdout",
     "output_type": "stream",
     "text": [
      "1 \n",
      "2 1 \n",
      "3 2 1 \n",
      "4 3 2 1 \n",
      "5 4 3 2 1 \n"
     ]
    }
   ],
   "source": [
    "# 1\n",
    "# 2 1\n",
    "# 3 2 1\n",
    "# 4 3 2 1\n",
    "# 5 4 3 2 1\n",
    "\n",
    "for i in range(1,6): #1--2--3\n",
    "    for j in range(i,0,-1):#(1,0,-1)(1)--(2,0,-1)(2,1)(3,0)\n",
    "        print(j, end = \" \")\n",
    "    print()"
   ]
  },
  {
   "cell_type": "code",
   "execution_count": 7,
   "id": "a075b0f4",
   "metadata": {},
   "outputs": [
    {
     "name": "stdout",
     "output_type": "stream",
     "text": [
      "1 \n",
      "2 3 \n",
      "4 5 6 \n",
      "7 8 9 10 \n"
     ]
    }
   ],
   "source": [
    "# 1\n",
    "# 2 3\n",
    "# 4 5 6\n",
    "\n",
    "c = 1 #2 #3\n",
    "st = 2\n",
    "\n",
    "for i in range(4):  # by default(0,3) i = 0 i=1 I=2\n",
    "    for j in range(1,st): #(1,2)(1,3)j=1 j=2(1,4)\n",
    "        print(c , end= \" \")\n",
    "        c+=1\n",
    "    print()\n",
    "    st+=1"
   ]
  },
  {
   "cell_type": "code",
   "execution_count": 8,
   "id": "a0204fc2",
   "metadata": {},
   "outputs": [
    {
     "name": "stdout",
     "output_type": "stream",
     "text": [
      "1 \n",
      "2 3 4 \n",
      "5 6 7 8 9 \n"
     ]
    }
   ],
   "source": [
    "c = 1\n",
    "st = 2\n",
    "for i in range(3):\n",
    "    for j in range(1, st):\n",
    "        print(c, end=\" \")\n",
    "        c += 1\n",
    "    print()\n",
    "    st = st+2"
   ]
  },
  {
   "cell_type": "code",
   "execution_count": 11,
   "id": "44d6aeff",
   "metadata": {},
   "outputs": [
    {
     "name": "stdout",
     "output_type": "stream",
     "text": [
      "0 \n",
      "0 1 \n",
      "0 2 4 \n",
      "0 3 6 9 \n",
      "0 4 8 12 16 \n",
      "0 5 10 15 20 25 \n"
     ]
    }
   ],
   "source": [
    "# 0\n",
    "# 0 1\n",
    "# 0 2 4\n",
    "# 0 3 6 9\n",
    "# 0 4 8 12 16\n",
    "\n",
    "for i in range(0, 6):\n",
    "    for j in range(0, i+1):\n",
    "        print(j*i, end = \" \")\n",
    "    print()"
   ]
  },
  {
   "cell_type": "code",
   "execution_count": 13,
   "id": "b365f1c7",
   "metadata": {},
   "outputs": [
    {
     "name": "stdout",
     "output_type": "stream",
     "text": [
      "0 \n",
      "0 1 \n",
      "0 1 4 \n",
      "0 1 4 9 \n",
      "0 1 4 9 16 \n",
      "0 1 4 9 16 25 \n"
     ]
    }
   ],
   "source": [
    "# 0\n",
    "# 0 1\n",
    "# 0 1 4\n",
    "# 0 1 4 9\n",
    "# 0 1 4 9 16\n",
    "\n",
    "for i in range(0, 6):\n",
    "    for j in range(0, i+1):\n",
    "        print(j*j, end = \" \")\n",
    "    print()"
   ]
  },
  {
   "cell_type": "code",
   "execution_count": 22,
   "id": "85640739",
   "metadata": {},
   "outputs": [
    {
     "name": "stdout",
     "output_type": "stream",
     "text": [
      "1 \n",
      "4 4 \n",
      "9 9 9 \n",
      "16 16 16 16 \n",
      "25 25 25 25 25 \n"
     ]
    }
   ],
   "source": [
    "# 1\n",
    "# 4 4\n",
    "# 9 9 9\n",
    "# 16 16 16 16\n",
    "# 25 25 25 25 25\n",
    "\n",
    "for i in range(1, 6):\n",
    "    for j in range(1, i+1):\n",
    "        print(i*i, end = \" \") #print(i*i, end = \" \")\n",
    "    print()"
   ]
  },
  {
   "cell_type": "code",
   "execution_count": 32,
   "id": "57b1233d",
   "metadata": {},
   "outputs": [
    {
     "name": "stdout",
     "output_type": "stream",
     "text": [
      "2 \n",
      "4 4 \n",
      "6 6 6 \n",
      "8 8 8 8 \n",
      "10 10 10 10 10 \n"
     ]
    }
   ],
   "source": [
    "# 1\n",
    "# 3 3\n",
    "# 5 5 5\n",
    "# 7 7 7 7\n",
    "# 9 9 9 9 9\n",
    "\n",
    "for i in range(1, 6):\n",
    "    for j in range(1, i+1):\n",
    "        print(i*2, end = \" \")\n",
    "    print()"
   ]
  },
  {
   "cell_type": "code",
   "execution_count": 38,
   "id": "498134fa",
   "metadata": {},
   "outputs": [
    {
     "name": "stdout",
     "output_type": "stream",
     "text": [
      " *  \n",
      " *   *  \n",
      " *   *   *  \n",
      " *   *   *   *  \n",
      " *   *   *   *   *  \n"
     ]
    }
   ],
   "source": [
    "# *\n",
    "# * *\n",
    "# * * *\n",
    "# * * * *\n",
    "# * * * * *\n",
    "\n",
    "for i in range(1,6):\n",
    "    for j in range(i):\n",
    "        print(\" * \", end =\" \")\n",
    "    print()"
   ]
  },
  {
   "cell_type": "code",
   "execution_count": 39,
   "id": "22d1a940",
   "metadata": {},
   "outputs": [
    {
     "name": "stdout",
     "output_type": "stream",
     "text": [
      " *   *   *   *   *  \n",
      " *   *   *   *  \n",
      " *   *   *  \n",
      " *   *  \n",
      " *  \n"
     ]
    }
   ],
   "source": [
    "# * * * * *\n",
    "# * * * *\n",
    "# * * *\n",
    "# * *\n",
    "# *\n",
    "\n",
    "for i in range(5,0,-1):\n",
    "    for j in range(i):\n",
    "        print(\" * \", end =\" \")\n",
    "    print()"
   ]
  },
  {
   "cell_type": "code",
   "execution_count": 45,
   "id": "a6be4d8b",
   "metadata": {},
   "outputs": [
    {
     "name": "stdout",
     "output_type": "stream",
     "text": [
      "        *  \n",
      "      *  *  \n",
      "    *  *  *  \n",
      "  *  *  *  *  \n",
      "*  *  *  *  *  \n"
     ]
    }
   ],
   "source": [
    "#         *\n",
    "#       * *\n",
    "#     * * *\n",
    "#   * * * *\n",
    "# * * * * *\n",
    "\n",
    "for i in range(0, 5):\n",
    "    for j in range(5-i-1):\n",
    "        print(\" \",end= \" \")\n",
    "    for k in range(0,i+1):\n",
    "        print(\"* \", end = \" \")\n",
    "    print()\n"
   ]
  },
  {
   "cell_type": "code",
   "execution_count": 48,
   "id": "a64a29a6",
   "metadata": {},
   "outputs": [
    {
     "name": "stdout",
     "output_type": "stream",
     "text": [
      "1 2 3 4 5 \n",
      "1 2 3 4 5 \n",
      "1 2 3 4 5 \n",
      "1 2 3 4 5 \n",
      "1 2 3 4 5 \n"
     ]
    }
   ],
   "source": [
    "# 1 2 3 4 5\n",
    "# 1 2 3 4 5\n",
    "# 1 2 3 4 5\n",
    "# 1 2 3 4 5\n",
    "# 1 2 3 4 5\n",
    "# 1 2 3 4 5\n",
    "\n",
    "for i in range(5):\n",
    "    for j in range(1,6):\n",
    "        print(j,end = \" \")\n",
    "    print()"
   ]
  },
  {
   "cell_type": "code",
   "execution_count": 52,
   "id": "800f4072",
   "metadata": {},
   "outputs": [
    {
     "name": "stdout",
     "output_type": "stream",
     "text": [
      "1 1 1 1 1 \n",
      "2 2 2 2 2 \n",
      "3 3 3 3 3 \n",
      "4 4 4 4 4 \n",
      "5 5 5 5 5 \n"
     ]
    }
   ],
   "source": [
    "# 1 1 1 1 1\n",
    "# 2 2 2 2 2\n",
    "# 3 3 3 3 3\n",
    "# 4 4 4 4 4\n",
    "# 5 5 5 5 5\n",
    "\n",
    "for i in range(1,6):\n",
    "    for j in range(5):\n",
    "        print(i, end = \" \")\n",
    "    print()"
   ]
  },
  {
   "cell_type": "code",
   "execution_count": 78,
   "id": "ff38a8b0",
   "metadata": {},
   "outputs": [
    {
     "name": "stdout",
     "output_type": "stream",
     "text": [
      "A \n",
      "A B \n",
      "A B C \n",
      "A B C D \n",
      "A B C D E\n"
     ]
    }
   ],
   "source": [
    "a = \"A B C D E\"\n",
    "print(a[:1*2])\n",
    "print(a[:2*2])\n",
    "print(a[:3*2])\n",
    "print(a[:4*2])\n",
    "print(a[:5*2])"
   ]
  },
  {
   "cell_type": "code",
   "execution_count": 70,
   "id": "52960fd4",
   "metadata": {},
   "outputs": [
    {
     "name": "stdout",
     "output_type": "stream",
     "text": [
      "A \n",
      "A B \n",
      "A B C \n",
      "A B C D \n",
      "A B C D E\n"
     ]
    }
   ],
   "source": [
    "for i in range(1,6):#i = 1\n",
    "     print(a[:i*2])"
   ]
  },
  {
   "cell_type": "code",
   "execution_count": 98,
   "id": "206b3aaa",
   "metadata": {},
   "outputs": [
    {
     "name": "stdout",
     "output_type": "stream",
     "text": [
      "A\n",
      "BB\n",
      "CCC\n",
      "DDDD\n",
      "EEEEE\n"
     ]
    }
   ],
   "source": [
    "a = \"ABCDE\"\n",
    "\n",
    "print(a[0]*1)\n",
    "print(a[1]*2)\n",
    "print(a[2]*3)\n",
    "print(a[3]*4)\n",
    "print(a[4]*5)"
   ]
  },
  {
   "cell_type": "code",
   "execution_count": 102,
   "id": "8bb42723",
   "metadata": {},
   "outputs": [
    {
     "name": "stdout",
     "output_type": "stream",
     "text": [
      "A\n",
      "BB\n",
      "CCC\n",
      "DDDD\n",
      "EEEEE\n"
     ]
    }
   ],
   "source": [
    "for i in range(5):\n",
    "    print(a[i]*(i+1))"
   ]
  },
  {
   "cell_type": "code",
   "execution_count": 106,
   "id": "0d24ff5e",
   "metadata": {},
   "outputs": [
    {
     "name": "stdout",
     "output_type": "stream",
     "text": [
      "6\n",
      "\n",
      "P \n",
      "P y \n",
      "P y t \n",
      "P y t h \n",
      "P y t h o \n",
      "P y t h o n \n"
     ]
    }
   ],
   "source": [
    "# p  \n",
    "# p y  \n",
    "# p y t  \n",
    "# p y t h  \n",
    "# p y t h o  \n",
    "# p y t h o n  \n",
    "\n",
    "\n",
    "a = \"Python\"\n",
    "print(len(a))\n",
    "for i in range(len(a)+1):#(7)\n",
    "    for j in range(i):#(0)(1)(2)(3)(4)(5)(6)\n",
    "        print(a[j], end = \" \")\n",
    "    print()"
   ]
  },
  {
   "cell_type": "code",
   "execution_count": 1,
   "id": "7baddc74",
   "metadata": {},
   "outputs": [],
   "source": [
    "#     1  \n",
    "#   2 2 2  \n",
    "#  3 3 3 3 3  \n",
    "# 4 4 4 4 4 4 4  \n",
    "#5 5 5 5 5 5 5 5 5\n",
    "\n",
    "\n",
    "\n"
   ]
  },
  {
   "cell_type": "markdown",
   "id": "7b48487e",
   "metadata": {},
   "source": [
    "# Matrix Operation "
   ]
  },
  {
   "cell_type": "code",
   "execution_count": 3,
   "id": "a6386cb1",
   "metadata": {},
   "outputs": [
    {
     "name": "stdout",
     "output_type": "stream",
     "text": [
      "[[1, 2], [3, 4]]\n"
     ]
    },
    {
     "data": {
      "text/plain": [
       "list"
      ]
     },
     "execution_count": 3,
     "metadata": {},
     "output_type": "execute_result"
    }
   ],
   "source": [
    "# 2*2,3*3,2*3,3*2,1*2,2*1\n",
    "matrix1 = [[1,2],[3,4]] #2x2\n",
    "print(matrix1)\n",
    "type(matrix1)"
   ]
  },
  {
   "cell_type": "code",
   "execution_count": 8,
   "id": "18dc128d",
   "metadata": {},
   "outputs": [
    {
     "name": "stdout",
     "output_type": "stream",
     "text": [
      "[6, 8]\n",
      "[10, 12]\n"
     ]
    }
   ],
   "source": [
    "matrix1 = [[1,2],\n",
    "           [3,4]]\n",
    "\n",
    "matrix2 = [[5,6],\n",
    "           [7,8]]\n",
    "\n",
    "result = [[0,0],\n",
    "          [0,0]]\n",
    "\n",
    "for i in range(len(matrix1)):\n",
    "    for j in range(len(matrix1[0])):\n",
    "        result[i][j] =matrix1[i][j] + matrix2[i][j]\n",
    "#         print(result[i][j])\n",
    "        \n",
    "for r in result:\n",
    "    print(r)"
   ]
  },
  {
   "cell_type": "code",
   "execution_count": 4,
   "id": "0e63015d",
   "metadata": {},
   "outputs": [
    {
     "data": {
      "text/plain": [
       "2"
      ]
     },
     "execution_count": 4,
     "metadata": {},
     "output_type": "execute_result"
    }
   ],
   "source": [
    "len(matrix1)"
   ]
  },
  {
   "cell_type": "code",
   "execution_count": 9,
   "id": "db7e1f1e",
   "metadata": {},
   "outputs": [
    {
     "name": "stdout",
     "output_type": "stream",
     "text": [
      "[1, 3, 5]\n",
      "[2, 4, 6]\n",
      "[3, 5, 7]\n"
     ]
    }
   ],
   "source": [
    "a = [[1,2,3],     \n",
    "     [3,4,5],\n",
    "     [5,6,7]]   \n",
    "\n",
    "b = [[1,2,3],\n",
    "     [3,4,5],\n",
    "     [5,6,7]]\n",
    "\n",
    "res = [[0,0,0],\n",
    "       [0,0,0],\n",
    "       [0,0,0]]\n",
    "\n",
    "for i in range(len(a)):\n",
    "    for j in range(len(a[0])):\n",
    "        res[j][i] = a[i][j]\n",
    "        \n",
    "for r in res:\n",
    "    print(r)"
   ]
  },
  {
   "cell_type": "code",
   "execution_count": 12,
   "id": "85fc59ae",
   "metadata": {},
   "outputs": [
    {
     "name": "stdout",
     "output_type": "stream",
     "text": [
      "[102, 145]\n",
      "[50, 67]\n"
     ]
    }
   ],
   "source": [
    "#2x2 Matrix\n",
    "X = [[12,7],\n",
    "     [4,5]]\n",
    "# 2x2 matrix\n",
    "Y = [[5,8],\n",
    "     [6,7]]\n",
    "# result is 2x3\n",
    "result = [[0,0],   #12*5+7*6[i][j]\n",
    "          [0,0]]\n",
    "\n",
    "for i in range(len(X)):\n",
    "    for j in range(len(X[0])):\n",
    "        \n",
    "        for k in range(len(Y)):\n",
    "            result[i][j] += X[i][k] * Y[k][j]\n",
    "        \n",
    "        \n",
    "for r in result:\n",
    "    print(r)\n",
    "\n",
    "\n",
    "\n",
    "\n"
   ]
  },
  {
   "cell_type": "code",
   "execution_count": 16,
   "id": "74d51f1e",
   "metadata": {},
   "outputs": [
    {
     "name": "stdout",
     "output_type": "stream",
     "text": [
      "[[38, 32, 26], [80, 68, 56], [122, 104, 86]]\n",
      "[[38, 32, 26], [80, 68, 56], [122, 104, 86]]\n",
      "[[38, 32, 26], [80, 68, 56], [122, 104, 86]]\n"
     ]
    }
   ],
   "source": [
    "a = [[1,2,3],\n",
    "     [3,4,5],\n",
    "     [5,6,7]]\n",
    "\n",
    "\n",
    "b = [[9,8,7],\n",
    "     [7,6,5],\n",
    "     [5,4,3]]\n",
    "\n",
    "c=[[0,0,0],\n",
    "   [0,0,0],\n",
    "   [0,0,0]]\n",
    "\n",
    "for i in range(len(a)):\n",
    "    for j in range(len(a[0])):\n",
    "        for k in range(len(b)):\n",
    "            c[i][j] += a[i][k]*b[k][j]\n",
    "            \n",
    "for r in c:\n",
    "    print(c)"
   ]
  },
  {
   "cell_type": "code",
   "execution_count": null,
   "id": "4cd1b5b3",
   "metadata": {},
   "outputs": [],
   "source": []
  }
 ],
 "metadata": {
  "kernelspec": {
   "display_name": "Python 3 (ipykernel)",
   "language": "python",
   "name": "python3"
  },
  "language_info": {
   "codemirror_mode": {
    "name": "ipython",
    "version": 3
   },
   "file_extension": ".py",
   "mimetype": "text/x-python",
   "name": "python",
   "nbconvert_exporter": "python",
   "pygments_lexer": "ipython3",
   "version": "3.11.5"
  }
 },
 "nbformat": 4,
 "nbformat_minor": 5
}
