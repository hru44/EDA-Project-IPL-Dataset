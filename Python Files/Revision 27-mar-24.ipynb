{
 "cells": [
  {
   "cell_type": "code",
   "execution_count": 6,
   "id": "d97b4438",
   "metadata": {},
   "outputs": [
    {
     "data": {
      "text/plain": [
       "True"
      ]
     },
     "execution_count": 6,
     "metadata": {},
     "output_type": "execute_result"
    }
   ],
   "source": [
    "#Relational Operator / Comparison\n",
    "#numbers\n",
    "56>10"
   ]
  },
  {
   "cell_type": "code",
   "execution_count": 7,
   "id": "a6d41bf6",
   "metadata": {},
   "outputs": [
    {
     "data": {
      "text/plain": [
       "False"
      ]
     },
     "execution_count": 7,
     "metadata": {},
     "output_type": "execute_result"
    }
   ],
   "source": [
    "10>56"
   ]
  },
  {
   "cell_type": "code",
   "execution_count": 8,
   "id": "967a38ca",
   "metadata": {},
   "outputs": [
    {
     "data": {
      "text/plain": [
       "False"
      ]
     },
     "execution_count": 8,
     "metadata": {},
     "output_type": "execute_result"
    }
   ],
   "source": [
    "56<10"
   ]
  },
  {
   "cell_type": "code",
   "execution_count": 9,
   "id": "e20e2fbe",
   "metadata": {},
   "outputs": [
    {
     "data": {
      "text/plain": [
       "True"
      ]
     },
     "execution_count": 9,
     "metadata": {},
     "output_type": "execute_result"
    }
   ],
   "source": [
    "10<56"
   ]
  },
  {
   "cell_type": "code",
   "execution_count": 11,
   "id": "5c889185",
   "metadata": {},
   "outputs": [
    {
     "name": "stdout",
     "output_type": "stream",
     "text": [
      "False\n",
      "True\n",
      "False\n",
      "True\n",
      "False\n",
      "True\n"
     ]
    }
   ],
   "source": [
    "a = 20\n",
    "b = 10\n",
    "\n",
    "print(a<b) #less than\n",
    "print(a>b) #greater than\n",
    "print(a==b) #equals\n",
    "print(a!=b) #not equals\n",
    "print(a<=b) #less than equal to\n",
    "print(a>=b) #greater than equal to"
   ]
  },
  {
   "cell_type": "code",
   "execution_count": 14,
   "id": "0ffac35a",
   "metadata": {},
   "outputs": [
    {
     "name": "stdout",
     "output_type": "stream",
     "text": [
      "True\n",
      "False\n"
     ]
    }
   ],
   "source": [
    "#Logical Operators(and or not)(conditions)\n",
    "\n",
    "#and = if both condition are true then true otherwise false\n",
    "#or = atleast one condition are true then true otherwise false\n",
    "# not = true == false--false ==  true\n",
    "\n",
    "# and operations\n",
    "a = 20\n",
    "\n",
    "print(a>10 and a<30)\n",
    "print(a<10 and a<30)\n"
   ]
  },
  {
   "cell_type": "code",
   "execution_count": 15,
   "id": "501b53f6",
   "metadata": {},
   "outputs": [
    {
     "name": "stdout",
     "output_type": "stream",
     "text": [
      "True\n",
      "True\n"
     ]
    }
   ],
   "source": [
    "#or\n",
    "\n",
    "print(a>10 or a<30)\n",
    "print(a<10 or a<30)  #false condition is a<10 true condtion a<30\n"
   ]
  },
  {
   "cell_type": "code",
   "execution_count": 21,
   "id": "4dfc448c",
   "metadata": {},
   "outputs": [
    {
     "name": "stdout",
     "output_type": "stream",
     "text": [
      "True\n"
     ]
    }
   ],
   "source": [
    "print(not 0)  # 0 true and other number is false"
   ]
  },
  {
   "cell_type": "code",
   "execution_count": 22,
   "id": "1069fb45",
   "metadata": {},
   "outputs": [
    {
     "name": "stdout",
     "output_type": "stream",
     "text": [
      "False\n"
     ]
    }
   ],
   "source": [
    "print(not a)"
   ]
  },
  {
   "cell_type": "code",
   "execution_count": 25,
   "id": "7af89930",
   "metadata": {},
   "outputs": [
    {
     "name": "stdout",
     "output_type": "stream",
     "text": [
      "True\n",
      "False\n"
     ]
    }
   ],
   "source": [
    "#Membership Operators\n",
    "\n",
    "# in -- not in\n",
    "\n",
    "a = ['Apple','Banana','Cherry']\n",
    "\n",
    "print('Apple' in a)\n",
    "print('Apple' not in a)"
   ]
  },
  {
   "cell_type": "code",
   "execution_count": 27,
   "id": "96636da3",
   "metadata": {},
   "outputs": [
    {
     "name": "stdout",
     "output_type": "stream",
     "text": [
      "True\n",
      "False\n"
     ]
    }
   ],
   "source": [
    "print('Strawberry' not in a)\n",
    "print('Strawberry' in a)"
   ]
  },
  {
   "cell_type": "code",
   "execution_count": 29,
   "id": "9bae2621",
   "metadata": {},
   "outputs": [
    {
     "name": "stdout",
     "output_type": "stream",
     "text": [
      "False\n"
     ]
    }
   ],
   "source": [
    "a = 'Develearn'\n",
    "\n",
    "print('d' in a) # python is a case sensitive"
   ]
  },
  {
   "cell_type": "code",
   "execution_count": 30,
   "id": "1e1c69b7",
   "metadata": {},
   "outputs": [
    {
     "name": "stdout",
     "output_type": "stream",
     "text": [
      "True\n"
     ]
    }
   ],
   "source": [
    "print('D' in a)"
   ]
  },
  {
   "cell_type": "code",
   "execution_count": 31,
   "id": "c6b0878e",
   "metadata": {},
   "outputs": [
    {
     "name": "stdout",
     "output_type": "stream",
     "text": [
      "True\n"
     ]
    }
   ],
   "source": [
    "print('learn' in a)"
   ]
  },
  {
   "cell_type": "code",
   "execution_count": 32,
   "id": "0113af0a",
   "metadata": {},
   "outputs": [
    {
     "name": "stdout",
     "output_type": "stream",
     "text": [
      "True\n"
     ]
    }
   ],
   "source": [
    "print('d' not in a)"
   ]
  },
  {
   "cell_type": "code",
   "execution_count": 33,
   "id": "5c4f650c",
   "metadata": {},
   "outputs": [],
   "source": [
    "#"
   ]
  },
  {
   "cell_type": "code",
   "execution_count": 39,
   "id": "4dd34377",
   "metadata": {},
   "outputs": [
    {
     "name": "stdout",
     "output_type": "stream",
     "text": [
      "False\n",
      "False\n",
      "True\n",
      "True\n"
     ]
    }
   ],
   "source": [
    "#identity operator\n",
    "\n",
    "#is--is not\n",
    "\n",
    "x = 10\n",
    "y = 11\n",
    "z = 10\n",
    "# is , == are same\n",
    "print(x is y)\n",
    "print(x==y)\n",
    "#is not , != are same\n",
    "print(x is not y)\n",
    "print(x!=y)"
   ]
  },
  {
   "cell_type": "code",
   "execution_count": 41,
   "id": "1bb126e9",
   "metadata": {},
   "outputs": [
    {
     "name": "stdout",
     "output_type": "stream",
     "text": [
      "True\n",
      "True\n"
     ]
    }
   ],
   "source": [
    "print(x is z)\n",
    "print(x == z)"
   ]
  },
  {
   "cell_type": "code",
   "execution_count": 59,
   "id": "5ba6bffb",
   "metadata": {},
   "outputs": [
    {
     "data": {
      "text/plain": [
       "6"
      ]
     },
     "execution_count": 59,
     "metadata": {},
     "output_type": "execute_result"
    }
   ],
   "source": [
    "#Bitwise Operators(binary operators)(010110)\n",
    "\n",
    "# &(and), |(or) ,^(xor)(not)\n",
    "\n",
    "a = 7 #111\n",
    "b = 6 #110\n",
    "\n",
    "a&b"
   ]
  },
  {
   "cell_type": "code",
   "execution_count": 61,
   "id": "ff87b256",
   "metadata": {},
   "outputs": [
    {
     "data": {
      "text/plain": [
       "7"
      ]
     },
     "execution_count": 61,
     "metadata": {},
     "output_type": "execute_result"
    }
   ],
   "source": [
    "a|b"
   ]
  },
  {
   "cell_type": "code",
   "execution_count": 62,
   "id": "3a4021e2",
   "metadata": {},
   "outputs": [
    {
     "data": {
      "text/plain": [
       "1"
      ]
     },
     "execution_count": 62,
     "metadata": {},
     "output_type": "execute_result"
    }
   ],
   "source": [
    "a^b"
   ]
  },
  {
   "cell_type": "code",
   "execution_count": 65,
   "id": "d645cf81",
   "metadata": {},
   "outputs": [
    {
     "name": "stdout",
     "output_type": "stream",
     "text": [
      "['Apple', 'Mango', 'Banana', 'Cherry']\n"
     ]
    }
   ],
   "source": [
    "# #list \n",
    "\n",
    "# Mutable\n",
    "# ordered/indexing\n",
    "# all datatypes are allowed(heterogenous)\n",
    "# duplicates are allowed\n",
    "# [ ] square brackets\n",
    "#list constructor\n",
    "\n",
    "fruits = ['Apple','Mango','Banana','Cherry'] #List\n",
    "\n",
    "print(fruits)\n"
   ]
  },
  {
   "cell_type": "code",
   "execution_count": 66,
   "id": "b77cb418",
   "metadata": {},
   "outputs": [
    {
     "data": {
      "text/plain": [
       "list"
      ]
     },
     "execution_count": 66,
     "metadata": {},
     "output_type": "execute_result"
    }
   ],
   "source": [
    "type(fruits)"
   ]
  },
  {
   "cell_type": "code",
   "execution_count": 67,
   "id": "80371718",
   "metadata": {},
   "outputs": [
    {
     "data": {
      "text/plain": [
       "4"
      ]
     },
     "execution_count": 67,
     "metadata": {},
     "output_type": "execute_result"
    }
   ],
   "source": [
    "len(fruits)"
   ]
  },
  {
   "cell_type": "code",
   "execution_count": 70,
   "id": "6a92ac1a",
   "metadata": {},
   "outputs": [
    {
     "data": {
      "text/plain": [
       "['Develearn', 'Thane', 'Naupada']"
      ]
     },
     "execution_count": 70,
     "metadata": {},
     "output_type": "execute_result"
    }
   ],
   "source": [
    "#list Constructor\n",
    "a = ('Develearn', 'Thane', 'Naupada')\n",
    "\n",
    "b = list(a)\n",
    "b"
   ]
  },
  {
   "cell_type": "code",
   "execution_count": 71,
   "id": "b880828f",
   "metadata": {},
   "outputs": [],
   "source": [
    "a = str(b)"
   ]
  },
  {
   "cell_type": "code",
   "execution_count": 72,
   "id": "4921a7f6",
   "metadata": {},
   "outputs": [
    {
     "data": {
      "text/plain": [
       "\"['Develearn', 'Thane', 'Naupada']\""
      ]
     },
     "execution_count": 72,
     "metadata": {},
     "output_type": "execute_result"
    }
   ],
   "source": [
    "a"
   ]
  },
  {
   "cell_type": "code",
   "execution_count": 73,
   "id": "9d2572e0",
   "metadata": {},
   "outputs": [
    {
     "data": {
      "text/plain": [
       "str"
      ]
     },
     "execution_count": 73,
     "metadata": {},
     "output_type": "execute_result"
    }
   ],
   "source": [
    "type(a)"
   ]
  },
  {
   "cell_type": "code",
   "execution_count": null,
   "id": "798ff460",
   "metadata": {},
   "outputs": [],
   "source": []
  }
 ],
 "metadata": {
  "kernelspec": {
   "display_name": "Python 3 (ipykernel)",
   "language": "python",
   "name": "python3"
  },
  "language_info": {
   "codemirror_mode": {
    "name": "ipython",
    "version": 3
   },
   "file_extension": ".py",
   "mimetype": "text/x-python",
   "name": "python",
   "nbconvert_exporter": "python",
   "pygments_lexer": "ipython3",
   "version": "3.11.5"
  }
 },
 "nbformat": 4,
 "nbformat_minor": 5
}
