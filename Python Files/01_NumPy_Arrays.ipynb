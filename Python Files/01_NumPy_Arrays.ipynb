{
  "cells": [
    {
      "cell_type": "markdown",
      "metadata": {
        "id": "54A1bFdGghd2"
      },
      "source": [
        "___\n",
        "\n",
        "<a href='http://www.pieriandata.com'> <img src='../Pierian_Data_Logo.png' /></a>\n",
        "___"
      ]
    },
    {
      "cell_type": "markdown",
      "source": [],
      "metadata": {
        "id": "YY5tEbnSg_6m"
      }
    },
    {
      "cell_type": "markdown",
      "metadata": {
        "id": "P1038zd1gheB"
      },
      "source": [
        "# NumPy\n",
        "\n",
        "NumPy (or Numpy) is a Linear Algebra Library for Python, the reason it is so important for Data Science with Python is that almost all of the libraries in the PyData Ecosystem rely on NumPy as one of their main building blocks.\n",
        "\n",
        "Numpy is also incredibly fast, as it has bindings to C libraries. For more info on why you would want to use Arrays instead of lists, check out this great [StackOverflow post](http://stackoverflow.com/questions/993984/why-numpy-instead-of-python-lists).\n",
        "\n",
        "We will only learn the basics of NumPy, to get started we need to install it!"
      ]
    },
    {
      "cell_type": "markdown",
      "metadata": {
        "id": "LNanNLxfgheE"
      },
      "source": [
        "## Installation Instructions\n",
        "\n",
        "**It is highly recommended you install Python using the Anaconda distribution to make sure all underlying dependencies (such as Linear Algebra libraries) all sync up with the use of a conda install. If you have Anaconda, install NumPy by going to your terminal or command prompt and typing:**\n",
        "    \n",
        "    conda install numpy\n",
        "    \n",
        "**If you do not have Anaconda and can not install it, please refer to [Numpy's official documentation on various installation instructions.](http://docs.scipy.org/doc/numpy-1.10.1/user/install.html)**"
      ]
    },
    {
      "cell_type": "markdown",
      "metadata": {
        "id": "WuKp7loKgheF"
      },
      "source": [
        "## Using NumPy\n",
        "\n",
        "Once you've installed NumPy you can import it as a library:"
      ]
    },
    {
      "cell_type": "code",
      "execution_count": 3,
      "metadata": {
        "collapsed": true,
        "id": "2693ZT83gheH"
      },
      "outputs": [],
      "source": [
        "import numpy as np"
      ]
    },
    {
      "cell_type": "markdown",
      "metadata": {
        "id": "SxgkjAHJgheK"
      },
      "source": [
        "Numpy has many built-in functions and capabilities. We won't cover them all but instead we will focus on some of the most important aspects of Numpy: vectors,arrays,matrices, and number generation. Let's start by discussing arrays.\n",
        "\n",
        "# Numpy Arrays\n",
        "\n",
        "NumPy arrays are the main way we will use Numpy throughout the course. Numpy arrays essentially come in two flavors: vectors and matrices. Vectors are strictly 1-d arrays and matrices are 2-d (but you should note a matrix can still have only one row or one column).\n",
        "\n",
        "Let's begin our introduction by exploring how to create NumPy arrays.\n",
        "\n",
        "## Creating NumPy Arrays\n",
        "\n",
        "### From a Python List\n",
        "\n",
        "We can create an array by directly converting a list or list of lists:"
      ]
    },
    {
      "cell_type": "code",
      "execution_count": 1,
      "metadata": {
        "colab": {
          "base_uri": "https://localhost:8080/"
        },
        "id": "XmVpvR0UgheL",
        "outputId": "d6d894e7-8686-42a1-8119-9c58dbf47d68"
      },
      "outputs": [
        {
          "output_type": "execute_result",
          "data": {
            "text/plain": [
              "[1, 2, 3]"
            ]
          },
          "metadata": {},
          "execution_count": 1
        }
      ],
      "source": [
        "my_list = [1,2,3]\n",
        "my_list"
      ]
    },
    {
      "cell_type": "code",
      "execution_count": 4,
      "metadata": {
        "colab": {
          "base_uri": "https://localhost:8080/"
        },
        "id": "ypJvMl_5gheP",
        "outputId": "ea5c107c-c846-4902-ce06-b1666418bffa"
      },
      "outputs": [
        {
          "output_type": "execute_result",
          "data": {
            "text/plain": [
              "array([1, 2, 3])"
            ]
          },
          "metadata": {},
          "execution_count": 4
        }
      ],
      "source": [
        "np.array(my_list)"
      ]
    },
    {
      "cell_type": "code",
      "execution_count": 9,
      "metadata": {
        "colab": {
          "base_uri": "https://localhost:8080/"
        },
        "id": "-GneU9YKgheR",
        "outputId": "d8f5a333-eb06-46b2-8622-e2d74e58bff4"
      },
      "outputs": [
        {
          "output_type": "execute_result",
          "data": {
            "text/plain": [
              "[[1, 2, 3], [4, 5, 6], [7, 8, 9]]"
            ]
          },
          "metadata": {},
          "execution_count": 9
        }
      ],
      "source": [
        "my_matrix = [[1,2,3],[4,5,6],[7,8,9]]\n",
        "my_matrix"
      ]
    },
    {
      "cell_type": "code",
      "execution_count": 10,
      "metadata": {
        "colab": {
          "base_uri": "https://localhost:8080/"
        },
        "id": "Ry4fr2pWgheT",
        "outputId": "0925127b-634a-464b-bb95-c8600f0ab47b"
      },
      "outputs": [
        {
          "output_type": "execute_result",
          "data": {
            "text/plain": [
              "array([[1, 2, 3],\n",
              "       [4, 5, 6],\n",
              "       [7, 8, 9]])"
            ]
          },
          "metadata": {},
          "execution_count": 10
        }
      ],
      "source": [
        "np.array(my_matrix)"
      ]
    },
    {
      "cell_type": "markdown",
      "metadata": {
        "id": "xV3Kmxm2gheV"
      },
      "source": [
        "## Built-in Methods\n",
        "\n",
        "There are lots of built-in ways to generate Arrays"
      ]
    },
    {
      "cell_type": "markdown",
      "metadata": {
        "id": "HEfm24n2gheV"
      },
      "source": [
        "### arange\n",
        "\n",
        "Return evenly spaced values within a given interval."
      ]
    },
    {
      "cell_type": "code",
      "execution_count": 11,
      "metadata": {
        "colab": {
          "base_uri": "https://localhost:8080/"
        },
        "id": "PWTJOaV8gheW",
        "outputId": "d910e555-4d1c-4bb9-ad42-d6e541b07ba4"
      },
      "outputs": [
        {
          "output_type": "execute_result",
          "data": {
            "text/plain": [
              "array([0, 1, 2, 3, 4, 5, 6, 7, 8, 9])"
            ]
          },
          "metadata": {},
          "execution_count": 11
        }
      ],
      "source": [
        "np.arange(0,10)"
      ]
    },
    {
      "cell_type": "code",
      "execution_count": 12,
      "metadata": {
        "colab": {
          "base_uri": "https://localhost:8080/"
        },
        "id": "0aEVC0opgheX",
        "outputId": "6bf926bf-cad0-4f68-8a7c-9b0ce91df243"
      },
      "outputs": [
        {
          "output_type": "execute_result",
          "data": {
            "text/plain": [
              "array([ 0,  2,  4,  6,  8, 10])"
            ]
          },
          "metadata": {},
          "execution_count": 12
        }
      ],
      "source": [
        "np.arange(0,11,2)"
      ]
    },
    {
      "cell_type": "markdown",
      "metadata": {
        "id": "91ON1-zqgheY"
      },
      "source": [
        "### zeros and ones\n",
        "\n",
        "Generate arrays of zeros or ones"
      ]
    },
    {
      "cell_type": "code",
      "execution_count": 14,
      "metadata": {
        "colab": {
          "base_uri": "https://localhost:8080/"
        },
        "id": "AU5VZeYcgheZ",
        "outputId": "f0dacc7a-f19a-4b09-ce83-eba7ca08d4ac"
      },
      "outputs": [
        {
          "output_type": "execute_result",
          "data": {
            "text/plain": [
              "array([0., 0., 0., 0., 0.])"
            ]
          },
          "metadata": {},
          "execution_count": 14
        }
      ],
      "source": [
        "np.zeros(5)"
      ]
    },
    {
      "cell_type": "code",
      "execution_count": 16,
      "metadata": {
        "colab": {
          "base_uri": "https://localhost:8080/"
        },
        "id": "18fbCTfsghea",
        "outputId": "d6fb7d15-0df6-46a5-e8be-2c532a6a1e72"
      },
      "outputs": [
        {
          "output_type": "execute_result",
          "data": {
            "text/plain": [
              "array([[0., 0.],\n",
              "       [0., 0.],\n",
              "       [0., 0.],\n",
              "       [0., 0.],\n",
              "       [0., 0.]])"
            ]
          },
          "metadata": {},
          "execution_count": 16
        }
      ],
      "source": [
        "np.zeros((5,2))"
      ]
    },
    {
      "cell_type": "code",
      "execution_count": 17,
      "metadata": {
        "colab": {
          "base_uri": "https://localhost:8080/"
        },
        "id": "SHKHg3b-gheb",
        "outputId": "ab9e0fb3-7742-468e-b372-1ba63f1bb77c"
      },
      "outputs": [
        {
          "output_type": "execute_result",
          "data": {
            "text/plain": [
              "array([1., 1., 1.])"
            ]
          },
          "metadata": {},
          "execution_count": 17
        }
      ],
      "source": [
        "np.ones(3)\n"
      ]
    },
    {
      "cell_type": "code",
      "execution_count": 18,
      "metadata": {
        "colab": {
          "base_uri": "https://localhost:8080/"
        },
        "id": "A6hLLoeUghec",
        "outputId": "f200c023-ba3e-4777-ee22-7d682b9dcb73"
      },
      "outputs": [
        {
          "output_type": "execute_result",
          "data": {
            "text/plain": [
              "array([[1., 1., 1.],\n",
              "       [1., 1., 1.],\n",
              "       [1., 1., 1.]])"
            ]
          },
          "metadata": {},
          "execution_count": 18
        }
      ],
      "source": [
        "np.ones((3,3))"
      ]
    },
    {
      "cell_type": "markdown",
      "metadata": {
        "id": "y02hkiqDghed"
      },
      "source": [
        "### linspace\n",
        "Return evenly spaced numbers over a specified interval."
      ]
    },
    {
      "cell_type": "code",
      "execution_count": 21,
      "metadata": {
        "colab": {
          "base_uri": "https://localhost:8080/"
        },
        "id": "BFGwKgj5ghee",
        "outputId": "07c18a97-d8da-4901-a550-ad47bed3a075"
      },
      "outputs": [
        {
          "output_type": "execute_result",
          "data": {
            "text/plain": [
              "array([ 0. ,  2.5,  5. ,  7.5, 10. ])"
            ]
          },
          "metadata": {},
          "execution_count": 21
        }
      ],
      "source": [
        "np.linspace(0,10,5)"
      ]
    },
    {
      "cell_type": "code",
      "source": [
        "1.63265306- 1.83673469"
      ],
      "metadata": {
        "colab": {
          "base_uri": "https://localhost:8080/"
        },
        "id": "vt_KBph1lwu-",
        "outputId": "cc18f022-bc6e-40e9-e6b4-f768a476a140"
      },
      "execution_count": 23,
      "outputs": [
        {
          "output_type": "execute_result",
          "data": {
            "text/plain": [
              "-0.2040816299999999"
            ]
          },
          "metadata": {},
          "execution_count": 23
        }
      ]
    },
    {
      "cell_type": "code",
      "execution_count": 22,
      "metadata": {
        "colab": {
          "base_uri": "https://localhost:8080/"
        },
        "id": "CJE5c3vmghee",
        "outputId": "537623ae-da08-4466-faac-b7d30f058e7d"
      },
      "outputs": [
        {
          "output_type": "execute_result",
          "data": {
            "text/plain": [
              "array([ 0.        ,  0.20408163,  0.40816327,  0.6122449 ,  0.81632653,\n",
              "        1.02040816,  1.2244898 ,  1.42857143,  1.63265306,  1.83673469,\n",
              "        2.04081633,  2.24489796,  2.44897959,  2.65306122,  2.85714286,\n",
              "        3.06122449,  3.26530612,  3.46938776,  3.67346939,  3.87755102,\n",
              "        4.08163265,  4.28571429,  4.48979592,  4.69387755,  4.89795918,\n",
              "        5.10204082,  5.30612245,  5.51020408,  5.71428571,  5.91836735,\n",
              "        6.12244898,  6.32653061,  6.53061224,  6.73469388,  6.93877551,\n",
              "        7.14285714,  7.34693878,  7.55102041,  7.75510204,  7.95918367,\n",
              "        8.16326531,  8.36734694,  8.57142857,  8.7755102 ,  8.97959184,\n",
              "        9.18367347,  9.3877551 ,  9.59183673,  9.79591837, 10.        ])"
            ]
          },
          "metadata": {},
          "execution_count": 22
        }
      ],
      "source": [
        "np.linspace(0,10,50)"
      ]
    },
    {
      "cell_type": "code",
      "source": [
        "9.18367347- 9.3877551"
      ],
      "metadata": {
        "colab": {
          "base_uri": "https://localhost:8080/"
        },
        "id": "w_7DOwQMl27n",
        "outputId": "6f518c8f-6c27-4df7-8584-eb6c1f6415da"
      },
      "execution_count": 24,
      "outputs": [
        {
          "output_type": "execute_result",
          "data": {
            "text/plain": [
              "-0.20408162999999924"
            ]
          },
          "metadata": {},
          "execution_count": 24
        }
      ]
    },
    {
      "cell_type": "markdown",
      "metadata": {
        "id": "cKvy5_tlghef"
      },
      "source": [
        "## eye\n",
        "\n",
        "Creates an identity matrix"
      ]
    },
    {
      "cell_type": "code",
      "execution_count": 25,
      "metadata": {
        "colab": {
          "base_uri": "https://localhost:8080/"
        },
        "id": "J0Xak8WIgheg",
        "outputId": "6386fde3-2349-40dc-d6f9-b9f5373b7d22"
      },
      "outputs": [
        {
          "output_type": "execute_result",
          "data": {
            "text/plain": [
              "array([[1., 0., 0., 0.],\n",
              "       [0., 1., 0., 0.],\n",
              "       [0., 0., 1., 0.],\n",
              "       [0., 0., 0., 1.]])"
            ]
          },
          "metadata": {},
          "execution_count": 25
        }
      ],
      "source": [
        "np.eye(4)"
      ]
    },
    {
      "cell_type": "markdown",
      "metadata": {
        "id": "xfdPfU0tgheg"
      },
      "source": [
        "## Random\n",
        "\n",
        "Numpy also has lots of ways to create random number arrays:\n",
        "\n",
        "### rand\n",
        "Create an array of the given shape and populate it with\n",
        "random samples from a uniform distribution\n",
        "over ``[0, 1)``."
      ]
    },
    {
      "cell_type": "code",
      "execution_count": 26,
      "metadata": {
        "colab": {
          "base_uri": "https://localhost:8080/"
        },
        "id": "SzxjHD76gheh",
        "outputId": "1aa68787-f2a8-4e4d-d700-5795549b4fe0"
      },
      "outputs": [
        {
          "output_type": "execute_result",
          "data": {
            "text/plain": [
              "array([0.85009001, 0.96249607])"
            ]
          },
          "metadata": {},
          "execution_count": 26
        }
      ],
      "source": [
        "np.random.rand(2)"
      ]
    },
    {
      "cell_type": "code",
      "execution_count": 27,
      "metadata": {
        "colab": {
          "base_uri": "https://localhost:8080/"
        },
        "id": "ji2hK1hhghei",
        "outputId": "974e45f6-c811-4647-fab6-be00c18dac0f"
      },
      "outputs": [
        {
          "output_type": "execute_result",
          "data": {
            "text/plain": [
              "array([[0.69339231, 0.70951231, 0.07478744, 0.00813679, 0.23168949],\n",
              "       [0.34697261, 0.15855476, 0.96405164, 0.63966188, 0.45296385],\n",
              "       [0.75603251, 0.87465297, 0.15472792, 0.9308196 , 0.70125874],\n",
              "       [0.83825158, 0.89704173, 0.39942013, 0.769002  , 0.88778896],\n",
              "       [0.81165926, 0.96481234, 0.87718307, 0.45068463, 0.92251472]])"
            ]
          },
          "metadata": {},
          "execution_count": 27
        }
      ],
      "source": [
        "np.random.rand(5,5)"
      ]
    },
    {
      "cell_type": "markdown",
      "metadata": {
        "id": "ZxOiAIYughej"
      },
      "source": [
        "### randn\n",
        "\n",
        "Return a sample (or samples) from the \"standard normal\" distribution. Unlike rand which is uniform:"
      ]
    },
    {
      "cell_type": "code",
      "execution_count": 28,
      "metadata": {
        "colab": {
          "base_uri": "https://localhost:8080/"
        },
        "id": "LJoJuNZbghek",
        "outputId": "8ad4b8a3-66dd-4b81-bf95-ebfe1a2136bd"
      },
      "outputs": [
        {
          "output_type": "execute_result",
          "data": {
            "text/plain": [
              "array([-0.86721055, -1.33473347])"
            ]
          },
          "metadata": {},
          "execution_count": 28
        }
      ],
      "source": [
        "np.random.randn(2)"
      ]
    },
    {
      "cell_type": "code",
      "execution_count": 32,
      "metadata": {
        "colab": {
          "base_uri": "https://localhost:8080/"
        },
        "id": "HwqyeTCEghel",
        "outputId": "a9e65285-56f6-4eda-f017-aa2864192254"
      },
      "outputs": [
        {
          "output_type": "execute_result",
          "data": {
            "text/plain": [
              "array([[-1.68530869, -1.03016089, -1.68519296, -1.11263112,  0.63296372],\n",
              "       [-0.22060483, -2.34139627,  0.04723777, -2.34065613,  0.37333988],\n",
              "       [-0.4353591 , -0.57296163, -0.43328834,  1.36875289,  2.29873471],\n",
              "       [-0.089255  , -0.29944315, -0.51516524,  0.32173666, -0.69868828],\n",
              "       [-1.11896467, -0.26884127, -0.03799717,  0.04830391,  1.28088297]])"
            ]
          },
          "metadata": {},
          "execution_count": 32
        }
      ],
      "source": [
        "np.random.randn(5,5)"
      ]
    },
    {
      "cell_type": "markdown",
      "metadata": {
        "id": "HPqpklOGghem"
      },
      "source": [
        "### randint\n",
        "Return random integers from `low` (inclusive) to `high` (exclusive)."
      ]
    },
    {
      "cell_type": "code",
      "execution_count": 37,
      "metadata": {
        "colab": {
          "base_uri": "https://localhost:8080/"
        },
        "id": "MnZBnf0Oghem",
        "outputId": "ad176363-d33f-4fed-8e7e-05612ea62ece"
      },
      "outputs": [
        {
          "output_type": "execute_result",
          "data": {
            "text/plain": [
              "3"
            ]
          },
          "metadata": {},
          "execution_count": 37
        }
      ],
      "source": [
        "np.random.randint(1,6)"
      ]
    },
    {
      "cell_type": "code",
      "execution_count": 39,
      "metadata": {
        "colab": {
          "base_uri": "https://localhost:8080/"
        },
        "id": "gP8GnXwcghen",
        "outputId": "bd72e746-9095-4114-c9dd-72c962621163"
      },
      "outputs": [
        {
          "output_type": "execute_result",
          "data": {
            "text/plain": [
              "array([ 4, 43, 18, 40, 81, 19, 74, 82, 59, 73])"
            ]
          },
          "metadata": {},
          "execution_count": 39
        }
      ],
      "source": [
        "np.random.randint(1,100,10)"
      ]
    },
    {
      "cell_type": "markdown",
      "metadata": {
        "id": "Ch6_hH8qghen"
      },
      "source": [
        "## Array Attributes and Methods\n",
        "\n",
        "Let's discuss some useful attributes and methods or an array:"
      ]
    },
    {
      "cell_type": "code",
      "execution_count": 40,
      "metadata": {
        "collapsed": true,
        "id": "pI50VAH9gheo"
      },
      "outputs": [],
      "source": [
        "arr = np.arange(25)\n",
        "ranarr = np.random.randint(0,50,10)"
      ]
    },
    {
      "cell_type": "code",
      "execution_count": 41,
      "metadata": {
        "colab": {
          "base_uri": "https://localhost:8080/"
        },
        "id": "yV3grVUBgheo",
        "outputId": "ce5fe044-66ed-4211-bb8d-9272fe3093ea"
      },
      "outputs": [
        {
          "output_type": "execute_result",
          "data": {
            "text/plain": [
              "array([ 0,  1,  2,  3,  4,  5,  6,  7,  8,  9, 10, 11, 12, 13, 14, 15, 16,\n",
              "       17, 18, 19, 20, 21, 22, 23, 24])"
            ]
          },
          "metadata": {},
          "execution_count": 41
        }
      ],
      "source": [
        "arr"
      ]
    },
    {
      "cell_type": "code",
      "execution_count": 42,
      "metadata": {
        "colab": {
          "base_uri": "https://localhost:8080/"
        },
        "id": "FZ0wE6G_ghep",
        "outputId": "982da472-ea3a-4775-8b12-438ad773240d"
      },
      "outputs": [
        {
          "output_type": "execute_result",
          "data": {
            "text/plain": [
              "array([ 6, 37, 20, 25, 29, 31,  6, 32, 34, 29])"
            ]
          },
          "metadata": {},
          "execution_count": 42
        }
      ],
      "source": [
        "ranarr"
      ]
    },
    {
      "cell_type": "markdown",
      "metadata": {
        "id": "1xc_g36ygheq"
      },
      "source": [
        "## Reshape\n",
        "Returns an array containing the same data with a new shape."
      ]
    },
    {
      "cell_type": "code",
      "execution_count": 43,
      "metadata": {
        "colab": {
          "base_uri": "https://localhost:8080/"
        },
        "id": "kOZV_oHQgheq",
        "outputId": "8ed9ae98-1922-4c5a-b660-cd903027e227"
      },
      "outputs": [
        {
          "output_type": "execute_result",
          "data": {
            "text/plain": [
              "array([[ 0,  1,  2,  3,  4],\n",
              "       [ 5,  6,  7,  8,  9],\n",
              "       [10, 11, 12, 13, 14],\n",
              "       [15, 16, 17, 18, 19],\n",
              "       [20, 21, 22, 23, 24]])"
            ]
          },
          "metadata": {},
          "execution_count": 43
        }
      ],
      "source": [
        "arr.reshape(5,5)"
      ]
    },
    {
      "cell_type": "code",
      "source": [
        "arr.reshape(1,25)"
      ],
      "metadata": {
        "colab": {
          "base_uri": "https://localhost:8080/"
        },
        "id": "gKZUUmzopGza",
        "outputId": "668c1b41-7bae-4797-d5fc-a93980aee0d4"
      },
      "execution_count": 44,
      "outputs": [
        {
          "output_type": "execute_result",
          "data": {
            "text/plain": [
              "array([[ 0,  1,  2,  3,  4,  5,  6,  7,  8,  9, 10, 11, 12, 13, 14, 15,\n",
              "        16, 17, 18, 19, 20, 21, 22, 23, 24]])"
            ]
          },
          "metadata": {},
          "execution_count": 44
        }
      ]
    },
    {
      "cell_type": "code",
      "source": [
        "arr.reshape(25,1)"
      ],
      "metadata": {
        "colab": {
          "base_uri": "https://localhost:8080/"
        },
        "id": "L2HgvqNhpL_k",
        "outputId": "6e79247c-f8b0-47e9-93d9-ab4a11970bc9"
      },
      "execution_count": 45,
      "outputs": [
        {
          "output_type": "execute_result",
          "data": {
            "text/plain": [
              "array([[ 0],\n",
              "       [ 1],\n",
              "       [ 2],\n",
              "       [ 3],\n",
              "       [ 4],\n",
              "       [ 5],\n",
              "       [ 6],\n",
              "       [ 7],\n",
              "       [ 8],\n",
              "       [ 9],\n",
              "       [10],\n",
              "       [11],\n",
              "       [12],\n",
              "       [13],\n",
              "       [14],\n",
              "       [15],\n",
              "       [16],\n",
              "       [17],\n",
              "       [18],\n",
              "       [19],\n",
              "       [20],\n",
              "       [21],\n",
              "       [22],\n",
              "       [23],\n",
              "       [24]])"
            ]
          },
          "metadata": {},
          "execution_count": 45
        }
      ]
    },
    {
      "cell_type": "markdown",
      "metadata": {
        "id": "-BTHjkATghe-"
      },
      "source": [
        "### max,min,argmax,argmin\n",
        "\n",
        "These are useful methods for finding max or min values. Or to find their index locations using argmin or argmax"
      ]
    },
    {
      "cell_type": "code",
      "execution_count": 46,
      "metadata": {
        "colab": {
          "base_uri": "https://localhost:8080/"
        },
        "id": "_GkGjguKghe_",
        "outputId": "1832f641-8468-4f41-a46b-4dc06758665d"
      },
      "outputs": [
        {
          "output_type": "execute_result",
          "data": {
            "text/plain": [
              "array([ 6, 37, 20, 25, 29, 31,  6, 32, 34, 29])"
            ]
          },
          "metadata": {},
          "execution_count": 46
        }
      ],
      "source": [
        "ranarr"
      ]
    },
    {
      "cell_type": "code",
      "execution_count": 47,
      "metadata": {
        "colab": {
          "base_uri": "https://localhost:8080/"
        },
        "id": "BRwvKbfpghe_",
        "outputId": "865043cf-5888-4862-e088-11f3576a1f0f"
      },
      "outputs": [
        {
          "output_type": "execute_result",
          "data": {
            "text/plain": [
              "37"
            ]
          },
          "metadata": {},
          "execution_count": 47
        }
      ],
      "source": [
        "ranarr.max()"
      ]
    },
    {
      "cell_type": "code",
      "execution_count": 48,
      "metadata": {
        "colab": {
          "base_uri": "https://localhost:8080/"
        },
        "id": "_kRHLRDQghfA",
        "outputId": "ea3b40cc-b3da-4340-e7eb-82e2da8ea6f4"
      },
      "outputs": [
        {
          "output_type": "execute_result",
          "data": {
            "text/plain": [
              "1"
            ]
          },
          "metadata": {},
          "execution_count": 48
        }
      ],
      "source": [
        "ranarr.argmax()"
      ]
    },
    {
      "cell_type": "code",
      "execution_count": 49,
      "metadata": {
        "colab": {
          "base_uri": "https://localhost:8080/"
        },
        "id": "4lwnk4MHghfB",
        "outputId": "13d40356-6995-472c-c118-003d1e30ffd0"
      },
      "outputs": [
        {
          "output_type": "execute_result",
          "data": {
            "text/plain": [
              "6"
            ]
          },
          "metadata": {},
          "execution_count": 49
        }
      ],
      "source": [
        "ranarr.min()"
      ]
    },
    {
      "cell_type": "code",
      "execution_count": 50,
      "metadata": {
        "colab": {
          "base_uri": "https://localhost:8080/"
        },
        "id": "zvdQ-IzLghfC",
        "outputId": "2c5b0a2f-5646-473c-e2e4-182a3d51e550"
      },
      "outputs": [
        {
          "output_type": "execute_result",
          "data": {
            "text/plain": [
              "0"
            ]
          },
          "metadata": {},
          "execution_count": 50
        }
      ],
      "source": [
        "ranarr.argmin()"
      ]
    },
    {
      "cell_type": "markdown",
      "metadata": {
        "id": "P8UVjXwxghfD"
      },
      "source": [
        "## Shape\n",
        "\n",
        "Shape is an attribute that arrays have (not a method):"
      ]
    },
    {
      "cell_type": "code",
      "execution_count": 51,
      "metadata": {
        "colab": {
          "base_uri": "https://localhost:8080/"
        },
        "id": "nkWHgFvZghfE",
        "outputId": "ab5445f6-4457-4448-a193-b72e4c9e7328"
      },
      "outputs": [
        {
          "output_type": "execute_result",
          "data": {
            "text/plain": [
              "(25,)"
            ]
          },
          "metadata": {},
          "execution_count": 51
        }
      ],
      "source": [
        "# Vector\n",
        "arr.shape"
      ]
    },
    {
      "cell_type": "code",
      "execution_count": 52,
      "metadata": {
        "colab": {
          "base_uri": "https://localhost:8080/"
        },
        "id": "zlsJEjyhghfF",
        "outputId": "0ced31bf-b5c3-40ea-ed75-430fbd3f744f"
      },
      "outputs": [
        {
          "output_type": "execute_result",
          "data": {
            "text/plain": [
              "array([[ 0,  1,  2,  3,  4,  5,  6,  7,  8,  9, 10, 11, 12, 13, 14, 15,\n",
              "        16, 17, 18, 19, 20, 21, 22, 23, 24]])"
            ]
          },
          "metadata": {},
          "execution_count": 52
        }
      ],
      "source": [
        "# Notice the two sets of brackets\n",
        "arr.reshape(1,25)"
      ]
    },
    {
      "cell_type": "code",
      "execution_count": 53,
      "metadata": {
        "colab": {
          "base_uri": "https://localhost:8080/"
        },
        "id": "XAirtDVkghfH",
        "outputId": "00e3f966-9601-46c5-8fb3-54f2fe369aa5"
      },
      "outputs": [
        {
          "output_type": "execute_result",
          "data": {
            "text/plain": [
              "(1, 25)"
            ]
          },
          "metadata": {},
          "execution_count": 53
        }
      ],
      "source": [
        "arr.reshape(1,25).shape"
      ]
    },
    {
      "cell_type": "code",
      "execution_count": 56,
      "metadata": {
        "colab": {
          "base_uri": "https://localhost:8080/"
        },
        "id": "Pg_R-Qs0ghfH",
        "outputId": "232d9bd6-933a-40fc-bccd-f064d3c17c30"
      },
      "outputs": [
        {
          "output_type": "execute_result",
          "data": {
            "text/plain": [
              "(5, 5)"
            ]
          },
          "metadata": {},
          "execution_count": 56
        }
      ],
      "source": [
        "arr.reshape(5,5).shape"
      ]
    },
    {
      "cell_type": "code",
      "source": [
        "arr.shape"
      ],
      "metadata": {
        "colab": {
          "base_uri": "https://localhost:8080/"
        },
        "id": "Qewb_4iFqMF9",
        "outputId": "4f3208c1-e151-4ea8-ee5d-0011189f2d81"
      },
      "execution_count": 55,
      "outputs": [
        {
          "output_type": "execute_result",
          "data": {
            "text/plain": [
              "(25,)"
            ]
          },
          "metadata": {},
          "execution_count": 55
        }
      ]
    },
    {
      "cell_type": "code",
      "execution_count": null,
      "metadata": {
        "id": "j98BEhM0ghfI",
        "outputId": "261bc13e-f0e7-4642-b1f5-cd4c7a25bc27"
      },
      "outputs": [
        {
          "data": {
            "text/plain": [
              "(25, 1)"
            ]
          },
          "execution_count": 76,
          "metadata": {},
          "output_type": "execute_result"
        }
      ],
      "source": [
        "arr.reshape(25,1).shape"
      ]
    },
    {
      "cell_type": "markdown",
      "metadata": {
        "id": "YQhXl-5dghfJ"
      },
      "source": [
        "### dtype\n",
        "\n",
        "You can also grab the data type of the object in the array:"
      ]
    },
    {
      "cell_type": "code",
      "execution_count": 57,
      "metadata": {
        "colab": {
          "base_uri": "https://localhost:8080/"
        },
        "id": "gIjdSp4VghfJ",
        "outputId": "f87b5541-d6c8-4c43-cee7-02aaf0696f03"
      },
      "outputs": [
        {
          "output_type": "execute_result",
          "data": {
            "text/plain": [
              "dtype('int64')"
            ]
          },
          "metadata": {},
          "execution_count": 57
        }
      ],
      "source": [
        "arr.dtype"
      ]
    },
    {
      "cell_type": "markdown",
      "metadata": {
        "id": "n-oDAUAvghfK"
      },
      "source": [
        "# Great Job!"
      ]
    }
  ],
  "metadata": {
    "kernelspec": {
      "display_name": "Python 3",
      "language": "python",
      "name": "python3"
    },
    "language_info": {
      "codemirror_mode": {
        "name": "ipython",
        "version": 3
      },
      "file_extension": ".py",
      "mimetype": "text/x-python",
      "name": "python",
      "nbconvert_exporter": "python",
      "pygments_lexer": "ipython3",
      "version": "3.6.2"
    },
    "colab": {
      "provenance": []
    }
  },
  "nbformat": 4,
  "nbformat_minor": 0
}