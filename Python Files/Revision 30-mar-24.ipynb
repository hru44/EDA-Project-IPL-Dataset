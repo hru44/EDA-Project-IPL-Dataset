{
 "cells": [
  {
   "cell_type": "code",
   "execution_count": 6,
   "id": "0508af8b",
   "metadata": {},
   "outputs": [
    {
     "data": {
      "text/plain": [
       "True"
      ]
     },
     "execution_count": 6,
     "metadata": {},
     "output_type": "execute_result"
    }
   ],
   "source": [
    "#Relational Operator / Comparison\n",
    "#numbers\n",
    "56>10"
   ]
  },
  {
   "cell_type": "code",
   "execution_count": 7,
   "id": "53c210a1",
   "metadata": {},
   "outputs": [
    {
     "data": {
      "text/plain": [
       "False"
      ]
     },
     "execution_count": 7,
     "metadata": {},
     "output_type": "execute_result"
    }
   ],
   "source": [
    "10>56"
   ]
  },
  {
   "cell_type": "code",
   "execution_count": 8,
   "id": "f7809aa1",
   "metadata": {},
   "outputs": [
    {
     "data": {
      "text/plain": [
       "False"
      ]
     },
     "execution_count": 8,
     "metadata": {},
     "output_type": "execute_result"
    }
   ],
   "source": [
    "56<10"
   ]
  },
  {
   "cell_type": "code",
   "execution_count": 9,
   "id": "bab54831",
   "metadata": {},
   "outputs": [
    {
     "data": {
      "text/plain": [
       "True"
      ]
     },
     "execution_count": 9,
     "metadata": {},
     "output_type": "execute_result"
    }
   ],
   "source": [
    "10<56"
   ]
  },
  {
   "cell_type": "code",
   "execution_count": 11,
   "id": "5c1e5994",
   "metadata": {},
   "outputs": [
    {
     "name": "stdout",
     "output_type": "stream",
     "text": [
      "False\n",
      "True\n",
      "False\n",
      "True\n",
      "False\n",
      "True\n"
     ]
    }
   ],
   "source": [
    "a = 20\n",
    "b = 10\n",
    "\n",
    "print(a<b) #less than\n",
    "print(a>b) #greater than\n",
    "print(a==b) #equals\n",
    "print(a!=b) #not equals\n",
    "print(a<=b) #less than equal to\n",
    "print(a>=b) #greater than equal to"
   ]
  },
  {
   "cell_type": "code",
   "execution_count": 14,
   "id": "632274a3",
   "metadata": {},
   "outputs": [
    {
     "name": "stdout",
     "output_type": "stream",
     "text": [
      "True\n",
      "False\n"
     ]
    }
   ],
   "source": [
    "#Logical Operators(and or not)(conditions)\n",
    "\n",
    "#and = if both condition are true then true otherwise false\n",
    "#or = atleast one condition are true then true otherwise false\n",
    "# not = true == false--false ==  true\n",
    "\n",
    "# and operations\n",
    "a = 20\n",
    "\n",
    "print(a>10 and a<30)\n",
    "print(a<10 and a<30)\n"
   ]
  },
  {
   "cell_type": "code",
   "execution_count": 15,
   "id": "6d7037d4",
   "metadata": {},
   "outputs": [
    {
     "name": "stdout",
     "output_type": "stream",
     "text": [
      "True\n",
      "True\n"
     ]
    }
   ],
   "source": [
    "#or\n",
    "\n",
    "print(a>10 or a<30)\n",
    "print(a<10 or a<30)  #false condition is a<10 true condtion a<30\n"
   ]
  },
  {
   "cell_type": "code",
   "execution_count": 21,
   "id": "44038a17",
   "metadata": {},
   "outputs": [
    {
     "name": "stdout",
     "output_type": "stream",
     "text": [
      "True\n"
     ]
    }
   ],
   "source": [
    "print(not 0)  # 0 true and other number is false"
   ]
  },
  {
   "cell_type": "code",
   "execution_count": 22,
   "id": "815ca784",
   "metadata": {},
   "outputs": [
    {
     "name": "stdout",
     "output_type": "stream",
     "text": [
      "False\n"
     ]
    }
   ],
   "source": [
    "print(not a)"
   ]
  },
  {
   "cell_type": "code",
   "execution_count": 25,
   "id": "6cba547b",
   "metadata": {},
   "outputs": [
    {
     "name": "stdout",
     "output_type": "stream",
     "text": [
      "True\n",
      "False\n"
     ]
    }
   ],
   "source": [
    "#Membership Operators\n",
    "\n",
    "# in -- not in\n",
    "\n",
    "a = ['Apple','Banana','Cherry']\n",
    "\n",
    "print('Apple' in a)\n",
    "print('Apple' not in a)"
   ]
  },
  {
   "cell_type": "code",
   "execution_count": 27,
   "id": "c1332fdb",
   "metadata": {},
   "outputs": [
    {
     "name": "stdout",
     "output_type": "stream",
     "text": [
      "True\n",
      "False\n"
     ]
    }
   ],
   "source": [
    "print('Strawberry' not in a)\n",
    "print('Strawberry' in a)"
   ]
  },
  {
   "cell_type": "code",
   "execution_count": 29,
   "id": "8bb7cfb7",
   "metadata": {},
   "outputs": [
    {
     "name": "stdout",
     "output_type": "stream",
     "text": [
      "False\n"
     ]
    }
   ],
   "source": [
    "a = 'Develearn'\n",
    "\n",
    "print('d' in a) # python is a case sensitive"
   ]
  },
  {
   "cell_type": "code",
   "execution_count": 30,
   "id": "76f09146",
   "metadata": {},
   "outputs": [
    {
     "name": "stdout",
     "output_type": "stream",
     "text": [
      "True\n"
     ]
    }
   ],
   "source": [
    "print('D' in a)"
   ]
  },
  {
   "cell_type": "code",
   "execution_count": 31,
   "id": "2ecb6bc4",
   "metadata": {},
   "outputs": [
    {
     "name": "stdout",
     "output_type": "stream",
     "text": [
      "True\n"
     ]
    }
   ],
   "source": [
    "print('learn' in a)"
   ]
  },
  {
   "cell_type": "code",
   "execution_count": 32,
   "id": "9b46634f",
   "metadata": {},
   "outputs": [
    {
     "name": "stdout",
     "output_type": "stream",
     "text": [
      "True\n"
     ]
    }
   ],
   "source": [
    "print('d' not in a)"
   ]
  },
  {
   "cell_type": "code",
   "execution_count": 33,
   "id": "bb1b4378",
   "metadata": {},
   "outputs": [],
   "source": [
    "#"
   ]
  },
  {
   "cell_type": "code",
   "execution_count": 39,
   "id": "3869140b",
   "metadata": {},
   "outputs": [
    {
     "name": "stdout",
     "output_type": "stream",
     "text": [
      "False\n",
      "False\n",
      "True\n",
      "True\n"
     ]
    }
   ],
   "source": [
    "#identity operator\n",
    "\n",
    "#is--is not\n",
    "\n",
    "x = 10\n",
    "y = 11\n",
    "z = 10\n",
    "# is , == are same\n",
    "print(x is y)\n",
    "print(x==y)\n",
    "#is not , != are same\n",
    "print(x is not y)\n",
    "print(x!=y)"
   ]
  },
  {
   "cell_type": "code",
   "execution_count": 41,
   "id": "e5e65299",
   "metadata": {},
   "outputs": [
    {
     "name": "stdout",
     "output_type": "stream",
     "text": [
      "True\n",
      "True\n"
     ]
    }
   ],
   "source": [
    "print(x is z)\n",
    "print(x == z)"
   ]
  },
  {
   "cell_type": "code",
   "execution_count": 59,
   "id": "de27e261",
   "metadata": {},
   "outputs": [
    {
     "data": {
      "text/plain": [
       "6"
      ]
     },
     "execution_count": 59,
     "metadata": {},
     "output_type": "execute_result"
    }
   ],
   "source": [
    "#Bitwise Operators(binary operators)(010110)\n",
    "\n",
    "# &(and), |(or) ,^(xor)(not)\n",
    "\n",
    "a = 7 #111\n",
    "b = 6 #110\n",
    "\n",
    "a&b"
   ]
  },
  {
   "cell_type": "code",
   "execution_count": 61,
   "id": "95de6158",
   "metadata": {},
   "outputs": [
    {
     "data": {
      "text/plain": [
       "7"
      ]
     },
     "execution_count": 61,
     "metadata": {},
     "output_type": "execute_result"
    }
   ],
   "source": [
    "a|b"
   ]
  },
  {
   "cell_type": "code",
   "execution_count": 62,
   "id": "187f05cb",
   "metadata": {},
   "outputs": [
    {
     "data": {
      "text/plain": [
       "1"
      ]
     },
     "execution_count": 62,
     "metadata": {},
     "output_type": "execute_result"
    }
   ],
   "source": [
    "a^b"
   ]
  },
  {
   "cell_type": "code",
   "execution_count": 65,
   "id": "eed41308",
   "metadata": {},
   "outputs": [
    {
     "name": "stdout",
     "output_type": "stream",
     "text": [
      "['Apple', 'Mango', 'Banana', 'Cherry']\n"
     ]
    }
   ],
   "source": [
    "# #list \n",
    "#properties of list\n",
    "# Mutable\n",
    "# ordered/indexing\n",
    "# all datatypes are allowed(heterogenous)\n",
    "# duplicates are allowed\n",
    "# [ ] square brackets\n",
    "#list constructor\n",
    "\n",
    "fruits = ['Apple','Mango','Banana','Cherry'] #List\n",
    "\n",
    "print(fruits)\n"
   ]
  },
  {
   "cell_type": "code",
   "execution_count": 66,
   "id": "8a1c3456",
   "metadata": {},
   "outputs": [
    {
     "data": {
      "text/plain": [
       "list"
      ]
     },
     "execution_count": 66,
     "metadata": {},
     "output_type": "execute_result"
    }
   ],
   "source": [
    "type(fruits)"
   ]
  },
  {
   "cell_type": "code",
   "execution_count": 67,
   "id": "b7ada1b8",
   "metadata": {},
   "outputs": [
    {
     "data": {
      "text/plain": [
       "4"
      ]
     },
     "execution_count": 67,
     "metadata": {},
     "output_type": "execute_result"
    }
   ],
   "source": [
    "len(fruits)"
   ]
  },
  {
   "cell_type": "code",
   "execution_count": 70,
   "id": "7418fc34",
   "metadata": {},
   "outputs": [
    {
     "data": {
      "text/plain": [
       "['Develearn', 'Thane', 'Naupada']"
      ]
     },
     "execution_count": 70,
     "metadata": {},
     "output_type": "execute_result"
    }
   ],
   "source": [
    "#list Constructor\n",
    "a = ('Develearn', 'Thane', 'Naupada')\n",
    "\n",
    "b = list(a)\n",
    "b"
   ]
  },
  {
   "cell_type": "code",
   "execution_count": 71,
   "id": "46b264ef",
   "metadata": {},
   "outputs": [],
   "source": [
    "a = str(b)"
   ]
  },
  {
   "cell_type": "code",
   "execution_count": 72,
   "id": "2f607b0d",
   "metadata": {},
   "outputs": [
    {
     "data": {
      "text/plain": [
       "\"['Develearn', 'Thane', 'Naupada']\""
      ]
     },
     "execution_count": 72,
     "metadata": {},
     "output_type": "execute_result"
    }
   ],
   "source": [
    "a"
   ]
  },
  {
   "cell_type": "code",
   "execution_count": 73,
   "id": "639990c7",
   "metadata": {},
   "outputs": [
    {
     "data": {
      "text/plain": [
       "str"
      ]
     },
     "execution_count": 73,
     "metadata": {},
     "output_type": "execute_result"
    }
   ],
   "source": [
    "type(a)"
   ]
  },
  {
   "cell_type": "code",
   "execution_count": 74,
   "id": "f9e2ccb4",
   "metadata": {},
   "outputs": [],
   "source": [
    "fruits = ['Apple','Mango','Banana','Cherry']"
   ]
  },
  {
   "cell_type": "code",
   "execution_count": 75,
   "id": "6942eb81",
   "metadata": {},
   "outputs": [
    {
     "data": {
      "text/plain": [
       "['Apple', 'Mango', 'Banana', 'Cherry']"
      ]
     },
     "execution_count": 75,
     "metadata": {},
     "output_type": "execute_result"
    }
   ],
   "source": [
    "fruits"
   ]
  },
  {
   "cell_type": "code",
   "execution_count": 76,
   "id": "7b50320f",
   "metadata": {},
   "outputs": [
    {
     "data": {
      "text/plain": [
       "'Banana'"
      ]
     },
     "execution_count": 76,
     "metadata": {},
     "output_type": "execute_result"
    }
   ],
   "source": [
    "#access every items\n",
    "#silicing\n",
    "fruits[2]"
   ]
  },
  {
   "cell_type": "code",
   "execution_count": 77,
   "id": "052a77e9",
   "metadata": {},
   "outputs": [
    {
     "ename": "IndexError",
     "evalue": "list index out of range",
     "output_type": "error",
     "traceback": [
      "\u001b[1;31m---------------------------------------------------------------------------\u001b[0m",
      "\u001b[1;31mIndexError\u001b[0m                                Traceback (most recent call last)",
      "Cell \u001b[1;32mIn[77], line 1\u001b[0m\n\u001b[1;32m----> 1\u001b[0m fruits[\u001b[38;5;241m5\u001b[39m]\n",
      "\u001b[1;31mIndexError\u001b[0m: list index out of range"
     ]
    }
   ],
   "source": [
    "fruits[5]"
   ]
  },
  {
   "cell_type": "code",
   "execution_count": 79,
   "id": "c9b746ac",
   "metadata": {},
   "outputs": [
    {
     "data": {
      "text/plain": [
       "'Cherry'"
      ]
     },
     "execution_count": 79,
     "metadata": {},
     "output_type": "execute_result"
    }
   ],
   "source": [
    "fruits[3]"
   ]
  },
  {
   "cell_type": "code",
   "execution_count": 80,
   "id": "8a0250ee",
   "metadata": {},
   "outputs": [
    {
     "data": {
      "text/plain": [
       "['Apple', 'Mango']"
      ]
     },
     "execution_count": 80,
     "metadata": {},
     "output_type": "execute_result"
    }
   ],
   "source": [
    "fruits[0:2]"
   ]
  },
  {
   "cell_type": "code",
   "execution_count": 81,
   "id": "6b0c529c",
   "metadata": {},
   "outputs": [
    {
     "name": "stdout",
     "output_type": "stream",
     "text": [
      "['Apple', 'Mango', 'Banana', 'Cherry']\n"
     ]
    }
   ],
   "source": [
    "print(fruits)"
   ]
  },
  {
   "cell_type": "code",
   "execution_count": 82,
   "id": "a5dd1329",
   "metadata": {},
   "outputs": [
    {
     "data": {
      "text/plain": [
       "['Apple', 'Mango', 'Banana', 'Cherry']"
      ]
     },
     "execution_count": 82,
     "metadata": {},
     "output_type": "execute_result"
    }
   ],
   "source": [
    "fruits[:]"
   ]
  },
  {
   "cell_type": "code",
   "execution_count": 83,
   "id": "a1f6cbbf",
   "metadata": {},
   "outputs": [
    {
     "data": {
      "text/plain": [
       "['Apple', 'Banana']"
      ]
     },
     "execution_count": 83,
     "metadata": {},
     "output_type": "execute_result"
    }
   ],
   "source": [
    "fruits[0:4:2]"
   ]
  },
  {
   "cell_type": "code",
   "execution_count": 84,
   "id": "5fc97ca5",
   "metadata": {},
   "outputs": [
    {
     "data": {
      "text/plain": [
       "'Cherry'"
      ]
     },
     "execution_count": 84,
     "metadata": {},
     "output_type": "execute_result"
    }
   ],
   "source": [
    "fruits[-1]"
   ]
  },
  {
   "cell_type": "code",
   "execution_count": 85,
   "id": "6e5eded8",
   "metadata": {},
   "outputs": [
    {
     "data": {
      "text/plain": [
       "['Cherry', 'Banana', 'Mango', 'Apple']"
      ]
     },
     "execution_count": 85,
     "metadata": {},
     "output_type": "execute_result"
    }
   ],
   "source": [
    "fruits[::-1]"
   ]
  },
  {
   "cell_type": "code",
   "execution_count": 87,
   "id": "177d6334",
   "metadata": {},
   "outputs": [
    {
     "data": {
      "text/plain": [
       "['Apple', 'Mango', 'Banana']"
      ]
     },
     "execution_count": 87,
     "metadata": {},
     "output_type": "execute_result"
    }
   ],
   "source": [
    "fruits[0:-1]"
   ]
  },
  {
   "cell_type": "code",
   "execution_count": 88,
   "id": "65243eec",
   "metadata": {},
   "outputs": [],
   "source": [
    "fruits = ['Apple','Mango','Banana','Cherry','Grapes','Guava','kiwi','Strawberry']"
   ]
  },
  {
   "cell_type": "code",
   "execution_count": 89,
   "id": "a344ab64",
   "metadata": {},
   "outputs": [
    {
     "data": {
      "text/plain": [
       "['Apple', 'Mango', 'Banana', 'Cherry', 'Grapes', 'Guava', 'kiwi', 'Strawberry']"
      ]
     },
     "execution_count": 89,
     "metadata": {},
     "output_type": "execute_result"
    }
   ],
   "source": [
    "fruits"
   ]
  },
  {
   "cell_type": "code",
   "execution_count": 90,
   "id": "ddb5b48e",
   "metadata": {},
   "outputs": [
    {
     "data": {
      "text/plain": [
       "['Apple', 'Cherry', 'kiwi']"
      ]
     },
     "execution_count": 90,
     "metadata": {},
     "output_type": "execute_result"
    }
   ],
   "source": [
    "fruits[0:7:3]"
   ]
  },
  {
   "cell_type": "code",
   "execution_count": 91,
   "id": "190faf41",
   "metadata": {},
   "outputs": [
    {
     "data": {
      "text/plain": [
       "'Strawberry'"
      ]
     },
     "execution_count": 91,
     "metadata": {},
     "output_type": "execute_result"
    }
   ],
   "source": [
    "#methods\n",
    "\n",
    "#append : only one element\n",
    "#extend : Multiple elements\n",
    "#insert : (index , Add Element)\n",
    "\n",
    "#remove : remove the ele\n",
    "#delete : whole list delete with variable // we can delete by indexing\n",
    "#clear : empty list\n",
    "#pop : removing with indexing number/ without indexing remkve the last ele..\n",
    "\n",
    "fruits.pop()"
   ]
  },
  {
   "cell_type": "code",
   "execution_count": 92,
   "id": "8347f8a9",
   "metadata": {},
   "outputs": [
    {
     "data": {
      "text/plain": [
       "['Apple', 'Mango', 'Banana', 'Cherry', 'Grapes', 'Guava', 'kiwi']"
      ]
     },
     "execution_count": 92,
     "metadata": {},
     "output_type": "execute_result"
    }
   ],
   "source": [
    "fruits"
   ]
  },
  {
   "cell_type": "code",
   "execution_count": 97,
   "id": "38cd37c6",
   "metadata": {},
   "outputs": [],
   "source": [
    "fruits.append('Strawberry')"
   ]
  },
  {
   "cell_type": "code",
   "execution_count": 98,
   "id": "7f5aca96",
   "metadata": {},
   "outputs": [
    {
     "data": {
      "text/plain": [
       "['Apple',\n",
       " 'Mango',\n",
       " 'Banana',\n",
       " 'Cherry',\n",
       " 'Grapes',\n",
       " 'Guava',\n",
       " 'kiwi',\n",
       " ['Strawberry'],\n",
       " 'Strawberry']"
      ]
     },
     "execution_count": 98,
     "metadata": {},
     "output_type": "execute_result"
    }
   ],
   "source": [
    "fruits"
   ]
  },
  {
   "cell_type": "code",
   "execution_count": 99,
   "id": "a007dd0a",
   "metadata": {},
   "outputs": [],
   "source": [
    "fruits.extend(['Apple','Mango'])"
   ]
  },
  {
   "cell_type": "code",
   "execution_count": 100,
   "id": "5b2ab7b8",
   "metadata": {},
   "outputs": [
    {
     "data": {
      "text/plain": [
       "['Apple',\n",
       " 'Mango',\n",
       " 'Banana',\n",
       " 'Cherry',\n",
       " 'Grapes',\n",
       " 'Guava',\n",
       " 'kiwi',\n",
       " ['Strawberry'],\n",
       " 'Strawberry',\n",
       " 'Apple',\n",
       " 'Mango']"
      ]
     },
     "execution_count": 100,
     "metadata": {},
     "output_type": "execute_result"
    }
   ],
   "source": [
    "fruits"
   ]
  },
  {
   "cell_type": "code",
   "execution_count": 101,
   "id": "05df04eb",
   "metadata": {},
   "outputs": [],
   "source": [
    "fruits.insert(3,'Cherry')"
   ]
  },
  {
   "cell_type": "code",
   "execution_count": 102,
   "id": "86651c87",
   "metadata": {},
   "outputs": [
    {
     "data": {
      "text/plain": [
       "['Apple',\n",
       " 'Mango',\n",
       " 'Banana',\n",
       " 'Cherry',\n",
       " 'Cherry',\n",
       " 'Grapes',\n",
       " 'Guava',\n",
       " 'kiwi',\n",
       " ['Strawberry'],\n",
       " 'Strawberry',\n",
       " 'Apple',\n",
       " 'Mango']"
      ]
     },
     "execution_count": 102,
     "metadata": {},
     "output_type": "execute_result"
    }
   ],
   "source": [
    "fruits"
   ]
  },
  {
   "cell_type": "code",
   "execution_count": 103,
   "id": "fb50e020",
   "metadata": {},
   "outputs": [],
   "source": [
    "fruits.remove(['Strawberry'])"
   ]
  },
  {
   "cell_type": "code",
   "execution_count": 104,
   "id": "ce00ea3d",
   "metadata": {},
   "outputs": [
    {
     "data": {
      "text/plain": [
       "['Apple',\n",
       " 'Mango',\n",
       " 'Banana',\n",
       " 'Cherry',\n",
       " 'Cherry',\n",
       " 'Grapes',\n",
       " 'Guava',\n",
       " 'kiwi',\n",
       " 'Strawberry',\n",
       " 'Apple',\n",
       " 'Mango']"
      ]
     },
     "execution_count": 104,
     "metadata": {},
     "output_type": "execute_result"
    }
   ],
   "source": [
    "fruits"
   ]
  },
  {
   "cell_type": "code",
   "execution_count": 105,
   "id": "df69c407",
   "metadata": {},
   "outputs": [],
   "source": [
    "fruits.clear()"
   ]
  },
  {
   "cell_type": "code",
   "execution_count": 106,
   "id": "e97c351c",
   "metadata": {},
   "outputs": [
    {
     "data": {
      "text/plain": [
       "[]"
      ]
     },
     "execution_count": 106,
     "metadata": {},
     "output_type": "execute_result"
    }
   ],
   "source": [
    "fruits"
   ]
  },
  {
   "cell_type": "code",
   "execution_count": 107,
   "id": "ede19fc4",
   "metadata": {},
   "outputs": [],
   "source": [
    "fruits = ['Apple','Mango','Banana','Cherry','Grapes','Guava','kiwi','Strawberry']"
   ]
  },
  {
   "cell_type": "code",
   "execution_count": 108,
   "id": "fe962608",
   "metadata": {},
   "outputs": [],
   "source": [
    "del fruits[3]"
   ]
  },
  {
   "cell_type": "code",
   "execution_count": 109,
   "id": "15004af5",
   "metadata": {},
   "outputs": [
    {
     "data": {
      "text/plain": [
       "['Apple', 'Mango', 'Banana', 'Grapes', 'Guava', 'kiwi', 'Strawberry']"
      ]
     },
     "execution_count": 109,
     "metadata": {},
     "output_type": "execute_result"
    }
   ],
   "source": [
    "fruits"
   ]
  },
  {
   "cell_type": "code",
   "execution_count": 110,
   "id": "f4dc4036",
   "metadata": {},
   "outputs": [],
   "source": [
    "del fruits"
   ]
  },
  {
   "cell_type": "code",
   "execution_count": 111,
   "id": "4b5e81b0",
   "metadata": {},
   "outputs": [
    {
     "ename": "NameError",
     "evalue": "name 'fruits' is not defined",
     "output_type": "error",
     "traceback": [
      "\u001b[1;31m---------------------------------------------------------------------------\u001b[0m",
      "\u001b[1;31mNameError\u001b[0m                                 Traceback (most recent call last)",
      "Cell \u001b[1;32mIn[111], line 1\u001b[0m\n\u001b[1;32m----> 1\u001b[0m fruits\n",
      "\u001b[1;31mNameError\u001b[0m: name 'fruits' is not defined"
     ]
    }
   ],
   "source": [
    "fruits"
   ]
  },
  {
   "cell_type": "code",
   "execution_count": 112,
   "id": "b6960433",
   "metadata": {},
   "outputs": [
    {
     "data": {
      "text/plain": [
       "['Prasad',\n",
       " 'Kinjal',\n",
       " 'rutuja',\n",
       " 'hruta',\n",
       " ['Akshay', 'rahul'],\n",
       " 'Thane',\n",
       " 'develearn']"
      ]
     },
     "execution_count": 112,
     "metadata": {},
     "output_type": "execute_result"
    }
   ],
   "source": [
    "name = ['Prasad','Kinjal','rutuja','hruta',['Akshay','rahul'],'Thane','develearn']\n",
    "name"
   ]
  },
  {
   "cell_type": "code",
   "execution_count": 113,
   "id": "16af7dcc",
   "metadata": {},
   "outputs": [
    {
     "data": {
      "text/plain": [
       "'hruta'"
      ]
     },
     "execution_count": 113,
     "metadata": {},
     "output_type": "execute_result"
    }
   ],
   "source": [
    "name[3]"
   ]
  },
  {
   "cell_type": "code",
   "execution_count": 114,
   "id": "68987ca9",
   "metadata": {},
   "outputs": [
    {
     "data": {
      "text/plain": [
       "'Thane'"
      ]
     },
     "execution_count": 114,
     "metadata": {},
     "output_type": "execute_result"
    }
   ],
   "source": [
    "name[5]"
   ]
  },
  {
   "cell_type": "code",
   "execution_count": 115,
   "id": "bcaaff1b",
   "metadata": {},
   "outputs": [
    {
     "data": {
      "text/plain": [
       "['Akshay', 'rahul']"
      ]
     },
     "execution_count": 115,
     "metadata": {},
     "output_type": "execute_result"
    }
   ],
   "source": [
    "name[4]"
   ]
  },
  {
   "cell_type": "code",
   "execution_count": 116,
   "id": "9641ce0e",
   "metadata": {},
   "outputs": [
    {
     "data": {
      "text/plain": [
       "'Akshay'"
      ]
     },
     "execution_count": 116,
     "metadata": {},
     "output_type": "execute_result"
    }
   ],
   "source": [
    "name[4][0]"
   ]
  },
  {
   "cell_type": "code",
   "execution_count": 117,
   "id": "ccf894b3",
   "metadata": {},
   "outputs": [
    {
     "data": {
      "text/plain": [
       "'rahul'"
      ]
     },
     "execution_count": 117,
     "metadata": {},
     "output_type": "execute_result"
    }
   ],
   "source": [
    "name[4][1]"
   ]
  },
  {
   "cell_type": "code",
   "execution_count": 118,
   "id": "02195e78",
   "metadata": {},
   "outputs": [
    {
     "data": {
      "text/plain": [
       "'Aksh'"
      ]
     },
     "execution_count": 118,
     "metadata": {},
     "output_type": "execute_result"
    }
   ],
   "source": [
    "name[4][0][0:4]"
   ]
  },
  {
   "cell_type": "code",
   "execution_count": 119,
   "id": "8d99d3b9",
   "metadata": {},
   "outputs": [
    {
     "data": {
      "text/plain": [
       "'rahu'"
      ]
     },
     "execution_count": 119,
     "metadata": {},
     "output_type": "execute_result"
    }
   ],
   "source": [
    "name[4][1][0:4]"
   ]
  },
  {
   "cell_type": "code",
   "execution_count": 120,
   "id": "506ba556",
   "metadata": {},
   "outputs": [
    {
     "data": {
      "text/plain": [
       "'rut'"
      ]
     },
     "execution_count": 120,
     "metadata": {},
     "output_type": "execute_result"
    }
   ],
   "source": [
    "name[2][0:3]"
   ]
  },
  {
   "cell_type": "code",
   "execution_count": 121,
   "id": "d4844e62",
   "metadata": {},
   "outputs": [
    {
     "data": {
      "text/plain": [
       "['Prasad',\n",
       " 'Kinjal',\n",
       " 'rutuja',\n",
       " 'hruta',\n",
       " ['Akshay', 'rahul'],\n",
       " 'Thane',\n",
       " 'develearn']"
      ]
     },
     "execution_count": 121,
     "metadata": {},
     "output_type": "execute_result"
    }
   ],
   "source": [
    "name"
   ]
  },
  {
   "cell_type": "code",
   "execution_count": 122,
   "id": "88db34cb",
   "metadata": {},
   "outputs": [
    {
     "data": {
      "text/plain": [
       "('Prasad',\n",
       " 'Kinjal',\n",
       " 'rutuja',\n",
       " 'hruta',\n",
       " 'Akshay',\n",
       " 'rahul',\n",
       " 'Thane',\n",
       " 'develearn')"
      ]
     },
     "execution_count": 122,
     "metadata": {},
     "output_type": "execute_result"
    }
   ],
   "source": [
    "#Tuple \n",
    "#properties of tuple\n",
    "#unchangeable/Mutable\n",
    "#() round brackets\n",
    "#Ordered/Indexing\n",
    "#tuple are Constructor(tuple())\n",
    "#allow duplicates\n",
    "#all data types are allowed(heterogenous)\n",
    "\n",
    "name = ('Prasad','Kinjal','rutuja','hruta','Akshay','rahul','Thane','develearn')\n",
    "name"
   ]
  },
  {
   "cell_type": "code",
   "execution_count": 123,
   "id": "481e30eb",
   "metadata": {},
   "outputs": [
    {
     "data": {
      "text/plain": [
       "tuple"
      ]
     },
     "execution_count": 123,
     "metadata": {},
     "output_type": "execute_result"
    }
   ],
   "source": [
    "type(name)"
   ]
  },
  {
   "cell_type": "code",
   "execution_count": 124,
   "id": "6006d4d3",
   "metadata": {},
   "outputs": [
    {
     "data": {
      "text/plain": [
       "8"
      ]
     },
     "execution_count": 124,
     "metadata": {},
     "output_type": "execute_result"
    }
   ],
   "source": [
    "len(name)"
   ]
  },
  {
   "cell_type": "code",
   "execution_count": 125,
   "id": "8604f48b",
   "metadata": {},
   "outputs": [
    {
     "data": {
      "text/plain": [
       "'Akshay'"
      ]
     },
     "execution_count": 125,
     "metadata": {},
     "output_type": "execute_result"
    }
   ],
   "source": [
    "#access of item\n",
    "\n",
    "name[4]"
   ]
  },
  {
   "cell_type": "code",
   "execution_count": 126,
   "id": "da93409b",
   "metadata": {},
   "outputs": [
    {
     "data": {
      "text/plain": [
       "'hruta'"
      ]
     },
     "execution_count": 126,
     "metadata": {},
     "output_type": "execute_result"
    }
   ],
   "source": [
    "name[3]"
   ]
  },
  {
   "cell_type": "code",
   "execution_count": 128,
   "id": "52dd7a07",
   "metadata": {},
   "outputs": [],
   "source": [
    "name1 = name[0:4]"
   ]
  },
  {
   "cell_type": "code",
   "execution_count": 129,
   "id": "54ddaefe",
   "metadata": {},
   "outputs": [
    {
     "data": {
      "text/plain": [
       "('Prasad', 'Kinjal', 'rutuja', 'hruta')"
      ]
     },
     "execution_count": 129,
     "metadata": {},
     "output_type": "execute_result"
    }
   ],
   "source": [
    "name1"
   ]
  },
  {
   "cell_type": "code",
   "execution_count": 130,
   "id": "ca05fd00",
   "metadata": {},
   "outputs": [
    {
     "data": {
      "text/plain": [
       "('Prasad',\n",
       " 'Kinjal',\n",
       " 'rutuja',\n",
       " 'hruta',\n",
       " 'Akshay',\n",
       " 'rahul',\n",
       " 'Thane',\n",
       " 'develearn')"
      ]
     },
     "execution_count": 130,
     "metadata": {},
     "output_type": "execute_result"
    }
   ],
   "source": [
    "name"
   ]
  },
  {
   "cell_type": "code",
   "execution_count": 131,
   "id": "67f57f14",
   "metadata": {},
   "outputs": [
    {
     "data": {
      "text/plain": [
       "list"
      ]
     },
     "execution_count": 131,
     "metadata": {},
     "output_type": "execute_result"
    }
   ],
   "source": [
    "a = [1,2,3,4,5]\n",
    "type(a)"
   ]
  },
  {
   "cell_type": "code",
   "execution_count": 132,
   "id": "b6a495d9",
   "metadata": {},
   "outputs": [],
   "source": [
    "#tuple Constructor\n",
    "b = tuple(a)"
   ]
  },
  {
   "cell_type": "code",
   "execution_count": 133,
   "id": "6fcd4164",
   "metadata": {},
   "outputs": [
    {
     "data": {
      "text/plain": [
       "(1, 2, 3, 4, 5)"
      ]
     },
     "execution_count": 133,
     "metadata": {},
     "output_type": "execute_result"
    }
   ],
   "source": [
    "b"
   ]
  },
  {
   "cell_type": "code",
   "execution_count": 134,
   "id": "df3dfa5b",
   "metadata": {},
   "outputs": [
    {
     "data": {
      "text/plain": [
       "tuple"
      ]
     },
     "execution_count": 134,
     "metadata": {},
     "output_type": "execute_result"
    }
   ],
   "source": [
    "type(b)"
   ]
  },
  {
   "cell_type": "code",
   "execution_count": 135,
   "id": "85db5c83",
   "metadata": {},
   "outputs": [
    {
     "data": {
      "text/plain": [
       "[1, 2, 3, 4, 5]"
      ]
     },
     "execution_count": 135,
     "metadata": {},
     "output_type": "execute_result"
    }
   ],
   "source": [
    "a"
   ]
  },
  {
   "cell_type": "code",
   "execution_count": 136,
   "id": "54b29ebb",
   "metadata": {},
   "outputs": [
    {
     "data": {
      "text/plain": [
       "(1, 2, 3, 4, 5)"
      ]
     },
     "execution_count": 136,
     "metadata": {},
     "output_type": "execute_result"
    }
   ],
   "source": [
    "b"
   ]
  },
  {
   "cell_type": "code",
   "execution_count": 137,
   "id": "6466f75c",
   "metadata": {},
   "outputs": [
    {
     "data": {
      "text/plain": [
       "('Prasad',\n",
       " 'Kinjal',\n",
       " 'rutuja',\n",
       " 'hruta',\n",
       " 'Akshay',\n",
       " 'rahul',\n",
       " 'Thane',\n",
       " 'develearn')"
      ]
     },
     "execution_count": 137,
     "metadata": {},
     "output_type": "execute_result"
    }
   ],
   "source": [
    "name"
   ]
  },
  {
   "cell_type": "code",
   "execution_count": 139,
   "id": "3f985133",
   "metadata": {},
   "outputs": [],
   "source": [
    "x = list(name)"
   ]
  },
  {
   "cell_type": "code",
   "execution_count": 140,
   "id": "b8e102ce",
   "metadata": {},
   "outputs": [
    {
     "data": {
      "text/plain": [
       "['Prasad',\n",
       " 'Kinjal',\n",
       " 'rutuja',\n",
       " 'hruta',\n",
       " 'Akshay',\n",
       " 'rahul',\n",
       " 'Thane',\n",
       " 'develearn']"
      ]
     },
     "execution_count": 140,
     "metadata": {},
     "output_type": "execute_result"
    }
   ],
   "source": [
    "x"
   ]
  },
  {
   "cell_type": "code",
   "execution_count": 141,
   "id": "797d51c8",
   "metadata": {},
   "outputs": [],
   "source": [
    "x.append('Harbour')"
   ]
  },
  {
   "cell_type": "code",
   "execution_count": 142,
   "id": "2e7f4f78",
   "metadata": {},
   "outputs": [
    {
     "data": {
      "text/plain": [
       "['Prasad',\n",
       " 'Kinjal',\n",
       " 'rutuja',\n",
       " 'hruta',\n",
       " 'Akshay',\n",
       " 'rahul',\n",
       " 'Thane',\n",
       " 'develearn',\n",
       " 'Harbour']"
      ]
     },
     "execution_count": 142,
     "metadata": {},
     "output_type": "execute_result"
    }
   ],
   "source": [
    "x"
   ]
  },
  {
   "cell_type": "code",
   "execution_count": 143,
   "id": "2a830137",
   "metadata": {},
   "outputs": [],
   "source": [
    "name = tuple(x)"
   ]
  },
  {
   "cell_type": "code",
   "execution_count": 144,
   "id": "d6b5adfd",
   "metadata": {},
   "outputs": [
    {
     "data": {
      "text/plain": [
       "('Prasad',\n",
       " 'Kinjal',\n",
       " 'rutuja',\n",
       " 'hruta',\n",
       " 'Akshay',\n",
       " 'rahul',\n",
       " 'Thane',\n",
       " 'develearn',\n",
       " 'Harbour')"
      ]
     },
     "execution_count": 144,
     "metadata": {},
     "output_type": "execute_result"
    }
   ],
   "source": [
    "name"
   ]
  },
  {
   "cell_type": "code",
   "execution_count": 145,
   "id": "f2fa768c",
   "metadata": {},
   "outputs": [],
   "source": [
    "#what is difference between tuple and list.\n",
    "\n",
    "\n",
    "#unpack tuple single\n",
    "f = ('Apple','banana','Cherry')\n",
    "(red,yellow,white) = f"
   ]
  },
  {
   "cell_type": "code",
   "execution_count": 146,
   "id": "b4384496",
   "metadata": {},
   "outputs": [
    {
     "name": "stdout",
     "output_type": "stream",
     "text": [
      "Apple\n",
      "banana\n",
      "Cherry\n"
     ]
    }
   ],
   "source": [
    "print(red)\n",
    "print(yellow)\n",
    "print(white)"
   ]
  },
  {
   "cell_type": "code",
   "execution_count": 148,
   "id": "cc5a158e",
   "metadata": {},
   "outputs": [
    {
     "ename": "ValueError",
     "evalue": "too many values to unpack (expected 3)",
     "output_type": "error",
     "traceback": [
      "\u001b[1;31m---------------------------------------------------------------------------\u001b[0m",
      "\u001b[1;31mValueError\u001b[0m                                Traceback (most recent call last)",
      "Cell \u001b[1;32mIn[148], line 2\u001b[0m\n\u001b[0;32m      1\u001b[0m f \u001b[38;5;241m=\u001b[39m (\u001b[38;5;124m'\u001b[39m\u001b[38;5;124mApple\u001b[39m\u001b[38;5;124m'\u001b[39m,\u001b[38;5;124m'\u001b[39m\u001b[38;5;124mbanana\u001b[39m\u001b[38;5;124m'\u001b[39m,\u001b[38;5;124m'\u001b[39m\u001b[38;5;124mCherry\u001b[39m\u001b[38;5;124m'\u001b[39m,\u001b[38;5;124m'\u001b[39m\u001b[38;5;124mkiwi\u001b[39m\u001b[38;5;124m'\u001b[39m,\u001b[38;5;124m'\u001b[39m\u001b[38;5;124mgrapes\u001b[39m\u001b[38;5;124m'\u001b[39m)\n\u001b[1;32m----> 2\u001b[0m (red,yellow,white) \u001b[38;5;241m=\u001b[39m f\n",
      "\u001b[1;31mValueError\u001b[0m: too many values to unpack (expected 3)"
     ]
    }
   ],
   "source": [
    "f = ('Apple','banana','Cherry','kiwi','grapes')\n",
    "(red,yellow,white) = f"
   ]
  },
  {
   "cell_type": "code",
   "execution_count": 153,
   "id": "12204fdb",
   "metadata": {},
   "outputs": [],
   "source": [
    "#using *(astrick)\n",
    "f = ('Apple','banana','Cherry','kiwi','grapes')\n",
    "(red,*yellow,white) = f"
   ]
  },
  {
   "cell_type": "code",
   "execution_count": 154,
   "id": "592f28a1",
   "metadata": {},
   "outputs": [
    {
     "data": {
      "text/plain": [
       "['banana', 'Cherry', 'kiwi']"
      ]
     },
     "execution_count": 154,
     "metadata": {},
     "output_type": "execute_result"
    }
   ],
   "source": [
    "yellow"
   ]
  },
  {
   "cell_type": "code",
   "execution_count": 155,
   "id": "9210fc27",
   "metadata": {},
   "outputs": [
    {
     "data": {
      "text/plain": [
       "str"
      ]
     },
     "execution_count": 155,
     "metadata": {},
     "output_type": "execute_result"
    }
   ],
   "source": [
    "#without comma \n",
    "a = ('Develearn')\n",
    "type(a)"
   ]
  },
  {
   "cell_type": "code",
   "execution_count": 156,
   "id": "408b5b0b",
   "metadata": {},
   "outputs": [
    {
     "data": {
      "text/plain": [
       "tuple"
      ]
     },
     "execution_count": 156,
     "metadata": {},
     "output_type": "execute_result"
    }
   ],
   "source": [
    "#with comma type is tuple\n",
    "a = ('Develearn',)\n",
    "type(a)"
   ]
  },
  {
   "cell_type": "code",
   "execution_count": 160,
   "id": "3d228762",
   "metadata": {},
   "outputs": [],
   "source": [
    "f = ('Apple','banana','Cherry','kiwi','grapes','Apple')"
   ]
  },
  {
   "cell_type": "code",
   "execution_count": 161,
   "id": "c4411e12",
   "metadata": {},
   "outputs": [
    {
     "data": {
      "text/plain": [
       "2"
      ]
     },
     "execution_count": 161,
     "metadata": {},
     "output_type": "execute_result"
    }
   ],
   "source": [
    "f.count('Apple')"
   ]
  },
  {
   "cell_type": "code",
   "execution_count": 162,
   "id": "3b50ae2f",
   "metadata": {},
   "outputs": [],
   "source": [
    "tuple1 = (1, 2, 3, 4, 5)\n",
    "tuple2 = (3, 4, 5, 6, 7)"
   ]
  },
  {
   "cell_type": "code",
   "execution_count": 163,
   "id": "8ee85210",
   "metadata": {},
   "outputs": [],
   "source": [
    "#concate\n",
    "\n",
    "tuple3 = tuple1 + tuple2"
   ]
  },
  {
   "cell_type": "code",
   "execution_count": 164,
   "id": "e29600df",
   "metadata": {},
   "outputs": [
    {
     "data": {
      "text/plain": [
       "(1, 2, 3, 4, 5, 3, 4, 5, 6, 7)"
      ]
     },
     "execution_count": 164,
     "metadata": {},
     "output_type": "execute_result"
    }
   ],
   "source": [
    "tuple3"
   ]
  },
  {
   "cell_type": "code",
   "execution_count": 168,
   "id": "afdb99ca",
   "metadata": {},
   "outputs": [],
   "source": [
    "tuple3 = sum((tuple1,tuple2) , ())"
   ]
  },
  {
   "cell_type": "code",
   "execution_count": 169,
   "id": "c4b36472",
   "metadata": {},
   "outputs": [
    {
     "data": {
      "text/plain": [
       "(1, 2, 3, 4, 5, 3, 4, 5, 6, 7)"
      ]
     },
     "execution_count": 169,
     "metadata": {},
     "output_type": "execute_result"
    }
   ],
   "source": [
    " tuple3"
   ]
  },
  {
   "cell_type": "code",
   "execution_count": 182,
   "id": "1d951558",
   "metadata": {},
   "outputs": [],
   "source": [
    "f = ('Apple','banana','Cherry','kiwi','grapes','apple',)"
   ]
  },
  {
   "cell_type": "code",
   "execution_count": 183,
   "id": "4eb2ed43",
   "metadata": {},
   "outputs": [
    {
     "name": "stdout",
     "output_type": "stream",
     "text": [
      "kiwi\n"
     ]
    }
   ],
   "source": [
    "print(max(f)) #alphabetic order k is a max that why opt is kiwi"
   ]
  },
  {
   "cell_type": "code",
   "execution_count": 185,
   "id": "2a180cbf",
   "metadata": {},
   "outputs": [
    {
     "name": "stdout",
     "output_type": "stream",
     "text": [
      "Apple\n"
     ]
    }
   ],
   "source": [
    "print(min(f)) #alphabetic order a is a min that why opt is apple"
   ]
  },
  {
   "cell_type": "code",
   "execution_count": 186,
   "id": "e4764c1e",
   "metadata": {},
   "outputs": [],
   "source": [
    "f = ('Apple','banana','Cherry','kiwi','grapes','apple', 30, 40)"
   ]
  },
  {
   "cell_type": "code",
   "execution_count": 187,
   "id": "0c277ab3",
   "metadata": {},
   "outputs": [
    {
     "ename": "TypeError",
     "evalue": "'>' not supported between instances of 'int' and 'str'",
     "output_type": "error",
     "traceback": [
      "\u001b[1;31m---------------------------------------------------------------------------\u001b[0m",
      "\u001b[1;31mTypeError\u001b[0m                                 Traceback (most recent call last)",
      "Cell \u001b[1;32mIn[187], line 1\u001b[0m\n\u001b[1;32m----> 1\u001b[0m \u001b[38;5;28mmax\u001b[39m(f)\n",
      "\u001b[1;31mTypeError\u001b[0m: '>' not supported between instances of 'int' and 'str'"
     ]
    }
   ],
   "source": [
    "max(f)"
   ]
  },
  {
   "cell_type": "code",
   "execution_count": 189,
   "id": "6be7c7ae",
   "metadata": {},
   "outputs": [
    {
     "data": {
      "text/plain": [
       "'30'"
      ]
     },
     "execution_count": 189,
     "metadata": {},
     "output_type": "execute_result"
    }
   ],
   "source": [
    "f = ('Apple','banana','Cherry','kiwi','grapes','apple', '30', '40')\n",
    "max(f)\n",
    "min(f)"
   ]
  },
  {
   "cell_type": "code",
   "execution_count": 199,
   "id": "76fd763a",
   "metadata": {},
   "outputs": [
    {
     "data": {
      "text/plain": [
       "{0, 1, 12, 'Deve', 'Learn'}"
      ]
     },
     "execution_count": 199,
     "metadata": {},
     "output_type": "execute_result"
    }
   ],
   "source": [
    "#Set\n",
    "\n",
    "# {}\n",
    "# not allowed duplicates\n",
    "# all types are allowed(heterogenous)\n",
    "# immutable / we can add or remove the element \n",
    "# set is constructor\n",
    "# unordered / no indexing\n",
    "\n",
    "\n",
    "set1 = {12,1,True,'Deve','Learn',0}\n",
    "set1 #1 is also True."
   ]
  },
  {
   "cell_type": "code",
   "execution_count": 200,
   "id": "6aafb8a2",
   "metadata": {},
   "outputs": [
    {
     "data": {
      "text/plain": [
       "{0, 1, 2, 3, 5, 7, 8}"
      ]
     },
     "execution_count": 200,
     "metadata": {},
     "output_type": "execute_result"
    }
   ],
   "source": [
    "sampleset = {3,5,2,8,1,0,7}\n",
    "sampleset"
   ]
  },
  {
   "cell_type": "code",
   "execution_count": 205,
   "id": "13f0d6a3",
   "metadata": {},
   "outputs": [
    {
     "name": "stdout",
     "output_type": "stream",
     "text": [
      "{1, 2, 3, 4}\n"
     ]
    },
    {
     "data": {
      "text/plain": [
       "set"
      ]
     },
     "execution_count": 205,
     "metadata": {},
     "output_type": "execute_result"
    }
   ],
   "source": [
    "#set constructor (set())\n",
    "Set2 = set((1,2,3,4))\n",
    "print(Set2)\n",
    "type(Set2)"
   ]
  },
  {
   "cell_type": "code",
   "execution_count": 202,
   "id": "9cab4fbe",
   "metadata": {},
   "outputs": [
    {
     "data": {
      "text/plain": [
       "set"
      ]
     },
     "execution_count": 202,
     "metadata": {},
     "output_type": "execute_result"
    }
   ],
   "source": [
    "type(set1)"
   ]
  },
  {
   "cell_type": "code",
   "execution_count": 203,
   "id": "1dfd060c",
   "metadata": {},
   "outputs": [
    {
     "data": {
      "text/plain": [
       "5"
      ]
     },
     "execution_count": 203,
     "metadata": {},
     "output_type": "execute_result"
    }
   ],
   "source": [
    "len(set1)"
   ]
  },
  {
   "cell_type": "code",
   "execution_count": 206,
   "id": "fec6aabd",
   "metadata": {},
   "outputs": [],
   "source": [
    "#add elements\n",
    "\n",
    "set1 = {12,1,True,'Deve','Learn',0}"
   ]
  },
  {
   "cell_type": "code",
   "execution_count": 207,
   "id": "7cf52ee8",
   "metadata": {},
   "outputs": [],
   "source": [
    "set1.add('Orange')"
   ]
  },
  {
   "cell_type": "code",
   "execution_count": 208,
   "id": "10b399ca",
   "metadata": {},
   "outputs": [
    {
     "data": {
      "text/plain": [
       "{0, 1, 12, 'Deve', 'Learn', 'Orange'}"
      ]
     },
     "execution_count": 208,
     "metadata": {},
     "output_type": "execute_result"
    }
   ],
   "source": [
    "set1"
   ]
  },
  {
   "cell_type": "code",
   "execution_count": 209,
   "id": "a226e22e",
   "metadata": {},
   "outputs": [],
   "source": [
    "set1.update('Apple')"
   ]
  },
  {
   "cell_type": "code",
   "execution_count": 210,
   "id": "1b21a007",
   "metadata": {},
   "outputs": [
    {
     "data": {
      "text/plain": [
       "{0, 1, 12, 'A', 'Deve', 'Learn', 'Orange', 'e', 'l', 'p'}"
      ]
     },
     "execution_count": 210,
     "metadata": {},
     "output_type": "execute_result"
    }
   ],
   "source": [
    "set1"
   ]
  },
  {
   "cell_type": "code",
   "execution_count": 211,
   "id": "12ff4c8c",
   "metadata": {},
   "outputs": [],
   "source": [
    "set1.update(['Apple'])"
   ]
  },
  {
   "cell_type": "code",
   "execution_count": 212,
   "id": "71e7c570",
   "metadata": {},
   "outputs": [
    {
     "data": {
      "text/plain": [
       "{0, 1, 12, 'A', 'Apple', 'Deve', 'Learn', 'Orange', 'e', 'l', 'p'}"
      ]
     },
     "execution_count": 212,
     "metadata": {},
     "output_type": "execute_result"
    }
   ],
   "source": [
    "set1"
   ]
  },
  {
   "cell_type": "code",
   "execution_count": 214,
   "id": "b20d8ffb",
   "metadata": {},
   "outputs": [],
   "source": [
    "#set1 = {0, 1, 12, 'A', 'Apple', 'Deve', 'Learn', 'Orange', 'e', 'l', 'p'}\n",
    "# Set2 = {1, 2, 3, 4}\n",
    "set1.update(Set2)"
   ]
  },
  {
   "cell_type": "code",
   "execution_count": 215,
   "id": "fbff7e25",
   "metadata": {},
   "outputs": [
    {
     "data": {
      "text/plain": [
       "{0, 1, 12, 2, 3, 4, 'A', 'Apple', 'Deve', 'Learn', 'Orange', 'e', 'l', 'p'}"
      ]
     },
     "execution_count": 215,
     "metadata": {},
     "output_type": "execute_result"
    }
   ],
   "source": [
    "set1"
   ]
  },
  {
   "cell_type": "code",
   "execution_count": 216,
   "id": "ecd1c036",
   "metadata": {},
   "outputs": [
    {
     "data": {
      "text/plain": [
       "{0, 1, 12, 2, 3, 4, 'A', 'Apple', 'Deve', 'Learn', 'Orange', 'e', 'l', 'p'}"
      ]
     },
     "execution_count": 216,
     "metadata": {},
     "output_type": "execute_result"
    }
   ],
   "source": [
    "#Remove the elements\n",
    "\n",
    "set1"
   ]
  },
  {
   "cell_type": "code",
   "execution_count": 217,
   "id": "a62fae40",
   "metadata": {},
   "outputs": [],
   "source": [
    "#remove particular element\n",
    "set1.remove('e') #if the element is present then remove method used otherwise error will raise"
   ]
  },
  {
   "cell_type": "code",
   "execution_count": 218,
   "id": "28f03962",
   "metadata": {},
   "outputs": [
    {
     "data": {
      "text/plain": [
       "{0, 1, 12, 2, 3, 4, 'A', 'Apple', 'Deve', 'Learn', 'Orange', 'l', 'p'}"
      ]
     },
     "execution_count": 218,
     "metadata": {},
     "output_type": "execute_result"
    }
   ],
   "source": [
    "set1"
   ]
  },
  {
   "cell_type": "code",
   "execution_count": 219,
   "id": "03c17e08",
   "metadata": {},
   "outputs": [],
   "source": [
    "set1.discard('l') # same as remove method if the value is not present..it will run.."
   ]
  },
  {
   "cell_type": "code",
   "execution_count": 220,
   "id": "3f597ecb",
   "metadata": {},
   "outputs": [
    {
     "data": {
      "text/plain": [
       "{0, 1, 12, 2, 3, 4, 'A', 'Apple', 'Deve', 'Learn', 'Orange', 'p'}"
      ]
     },
     "execution_count": 220,
     "metadata": {},
     "output_type": "execute_result"
    }
   ],
   "source": [
    "set1"
   ]
  },
  {
   "cell_type": "code",
   "execution_count": 221,
   "id": "354e743b",
   "metadata": {},
   "outputs": [],
   "source": [
    "del set1 #with variable delete the set"
   ]
  },
  {
   "cell_type": "code",
   "execution_count": 222,
   "id": "d3c6c085",
   "metadata": {},
   "outputs": [
    {
     "ename": "NameError",
     "evalue": "name 'set1' is not defined",
     "output_type": "error",
     "traceback": [
      "\u001b[1;31m---------------------------------------------------------------------------\u001b[0m",
      "\u001b[1;31mNameError\u001b[0m                                 Traceback (most recent call last)",
      "Cell \u001b[1;32mIn[222], line 1\u001b[0m\n\u001b[1;32m----> 1\u001b[0m set1\n",
      "\u001b[1;31mNameError\u001b[0m: name 'set1' is not defined"
     ]
    }
   ],
   "source": [
    "set1"
   ]
  },
  {
   "cell_type": "code",
   "execution_count": 223,
   "id": "60635b5c",
   "metadata": {},
   "outputs": [],
   "source": [
    "set1 = {1, 2, 3, 4}"
   ]
  },
  {
   "cell_type": "code",
   "execution_count": 224,
   "id": "f0df0c8b",
   "metadata": {},
   "outputs": [],
   "source": [
    "set1.clear() #elemnt will remove...empty set "
   ]
  },
  {
   "cell_type": "code",
   "execution_count": 225,
   "id": "4464d909",
   "metadata": {},
   "outputs": [
    {
     "data": {
      "text/plain": [
       "set()"
      ]
     },
     "execution_count": 225,
     "metadata": {},
     "output_type": "execute_result"
    }
   ],
   "source": [
    "set1"
   ]
  },
  {
   "cell_type": "code",
   "execution_count": 226,
   "id": "c3d6b503",
   "metadata": {},
   "outputs": [],
   "source": [
    "set1 = {12,1,True,'Deve','Learn',0}"
   ]
  },
  {
   "cell_type": "code",
   "execution_count": 227,
   "id": "026cb910",
   "metadata": {},
   "outputs": [
    {
     "data": {
      "text/plain": [
       "0"
      ]
     },
     "execution_count": 227,
     "metadata": {},
     "output_type": "execute_result"
    }
   ],
   "source": [
    "set1.pop() #remove the elements randomly"
   ]
  },
  {
   "cell_type": "code",
   "execution_count": 228,
   "id": "8d588651",
   "metadata": {},
   "outputs": [
    {
     "data": {
      "text/plain": [
       "{1, 12, 'Deve', 'Learn'}"
      ]
     },
     "execution_count": 228,
     "metadata": {},
     "output_type": "execute_result"
    }
   ],
   "source": [
    "set1"
   ]
  },
  {
   "cell_type": "code",
   "execution_count": 231,
   "id": "3e8bf4a3",
   "metadata": {},
   "outputs": [],
   "source": [
    "#set Operations\n",
    "\n",
    "# union\n",
    "# intersection\n",
    "# difference\n",
    "# difference_update\n",
    "# intersection_update\n",
    "# symmetric_difference\n",
    "# symmetric_difference_update\n",
    "# issubset\n",
    "# issuperset\n",
    "# isdisjoin\n",
    "\n",
    "\n",
    "color_set = {'violet', 'indigo', 'blue', 'green', 'yellow'}\n",
    "remaining_colors = {'indigo', 'orange', 'red'}\n",
    "rainbow = color_set.union(remaining_colors)"
   ]
  },
  {
   "cell_type": "code",
   "execution_count": 233,
   "id": "10930802",
   "metadata": {},
   "outputs": [
    {
     "data": {
      "text/plain": [
       "{'blue', 'green', 'indigo', 'orange', 'red', 'violet', 'yellow'}"
      ]
     },
     "execution_count": 233,
     "metadata": {},
     "output_type": "execute_result"
    }
   ],
   "source": [
    "rainbow #join the both set only unique values"
   ]
  },
  {
   "cell_type": "code",
   "execution_count": 236,
   "id": "8097dd2c",
   "metadata": {},
   "outputs": [
    {
     "data": {
      "text/plain": [
       "{'blue', 'green', 'indigo', 'orange', 'red', 'violet', 'yellow'}"
      ]
     },
     "execution_count": 236,
     "metadata": {},
     "output_type": "execute_result"
    }
   ],
   "source": [
    "# union of two set using OR operator\n",
    "rainbow = color_set | remaining_colors\n",
    "rainbow"
   ]
  },
  {
   "cell_type": "code",
   "execution_count": 238,
   "id": "800dddf3",
   "metadata": {},
   "outputs": [],
   "source": [
    "#intersection of two set using AND operator\n",
    "\n",
    "color_set = {'violet', 'indigo', 'blue', 'green', 'yellow'}\n",
    "remaining_colors = {'indigo', 'orange', 'red'}\n",
    "\n",
    "rainbow = color_set & remaining_colors"
   ]
  },
  {
   "cell_type": "code",
   "execution_count": 239,
   "id": "123e1f9c",
   "metadata": {},
   "outputs": [
    {
     "data": {
      "text/plain": [
       "{'indigo'}"
      ]
     },
     "execution_count": 239,
     "metadata": {},
     "output_type": "execute_result"
    }
   ],
   "source": [
    "rainbow"
   ]
  },
  {
   "cell_type": "code",
   "execution_count": 240,
   "id": "19aaf147",
   "metadata": {},
   "outputs": [],
   "source": [
    "rainbow = color_set.intersection(remaining_colors)"
   ]
  },
  {
   "cell_type": "code",
   "execution_count": 241,
   "id": "34a05612",
   "metadata": {},
   "outputs": [
    {
     "data": {
      "text/plain": [
       "{'indigo'}"
      ]
     },
     "execution_count": 241,
     "metadata": {},
     "output_type": "execute_result"
    }
   ],
   "source": [
    "rainbow"
   ]
  },
  {
   "cell_type": "code",
   "execution_count": 242,
   "id": "32853752",
   "metadata": {},
   "outputs": [
    {
     "data": {
      "text/plain": [
       "{'blue', 'green', 'orange', 'red', 'violet', 'yellow'}"
      ]
     },
     "execution_count": 242,
     "metadata": {},
     "output_type": "execute_result"
    }
   ],
   "source": [
    "#symmetric_difference of two set using ^ Operator\n",
    "color_set = {'violet', 'indigo', 'blue', 'green', 'yellow'}\n",
    "remaining_colors = {'indigo', 'orange', 'red'}\n",
    "\n",
    "\n",
    "unique_c = color_set ^ remaining_colors\n",
    "unique_c"
   ]
  },
  {
   "cell_type": "code",
   "execution_count": 243,
   "id": "aee7affe",
   "metadata": {},
   "outputs": [
    {
     "data": {
      "text/plain": [
       "{'blue', 'green', 'orange', 'red', 'violet', 'yellow'}"
      ]
     },
     "execution_count": 243,
     "metadata": {},
     "output_type": "execute_result"
    }
   ],
   "source": [
    "\n",
    "unique_c = color_set.symmetric_difference(remaining_colors)\n",
    "unique_c"
   ]
  },
  {
   "cell_type": "code",
   "execution_count": 247,
   "id": "e2e30ca5",
   "metadata": {},
   "outputs": [
    {
     "data": {
      "text/plain": [
       "{'orange', 'red'}"
      ]
     },
     "execution_count": 247,
     "metadata": {},
     "output_type": "execute_result"
    }
   ],
   "source": [
    "#difference\n",
    "\n",
    "color_set = {'violet', 'indigo', 'blue', 'green', 'yellow'}\n",
    "remaining_colors = {'indigo', 'orange', 'red'}\n",
    "\n",
    "unique_c = color_set.difference(remaining_colors)\n",
    "unique_c\n",
    "\n",
    "u2 = remaining_colors.difference(color_set)\n",
    "u2"
   ]
  },
  {
   "cell_type": "code",
   "execution_count": 248,
   "id": "50775375",
   "metadata": {},
   "outputs": [],
   "source": [
    "#intersection_update\n",
    "\n",
    "color_set = {'violet', 'indigo', 'blue', 'green', 'yellow'}\n",
    "remaining_colors = {'indigo', 'orange', 'red'}\n",
    "\n",
    "remaining_colors.intersection_update(color_set)"
   ]
  },
  {
   "cell_type": "code",
   "execution_count": 249,
   "id": "f3afe98e",
   "metadata": {},
   "outputs": [
    {
     "data": {
      "text/plain": [
       "{'indigo'}"
      ]
     },
     "execution_count": 249,
     "metadata": {},
     "output_type": "execute_result"
    }
   ],
   "source": [
    "remaining_colors"
   ]
  },
  {
   "cell_type": "code",
   "execution_count": 251,
   "id": "57a40e7d",
   "metadata": {},
   "outputs": [],
   "source": [
    "color_set = {'violet', 'indigo', 'blue', 'green', 'yellow'}\n",
    "remaining_colors = {'indigo', 'orange', 'red'}\n",
    "\n",
    "remaining_colors.symmetric_difference_update(color_set)"
   ]
  },
  {
   "cell_type": "code",
   "execution_count": 252,
   "id": "5497c288",
   "metadata": {},
   "outputs": [
    {
     "data": {
      "text/plain": [
       "{'blue', 'green', 'orange', 'red', 'violet', 'yellow'}"
      ]
     },
     "execution_count": 252,
     "metadata": {},
     "output_type": "execute_result"
    }
   ],
   "source": [
    "remaining_colors"
   ]
  },
  {
   "cell_type": "code",
   "execution_count": 253,
   "id": "3dcdb248",
   "metadata": {},
   "outputs": [],
   "source": [
    "color_set = {'violet', 'indigo', 'blue', 'green', 'yellow'}\n",
    "remaining_colors = {'indigo', 'orange', 'red'}\n",
    "\n",
    "remaining_colors.difference_update(color_set)"
   ]
  },
  {
   "cell_type": "code",
   "execution_count": 254,
   "id": "895e6b13",
   "metadata": {},
   "outputs": [
    {
     "data": {
      "text/plain": [
       "{'orange', 'red'}"
      ]
     },
     "execution_count": 254,
     "metadata": {},
     "output_type": "execute_result"
    }
   ],
   "source": [
    "remaining_colors"
   ]
  },
  {
   "cell_type": "code",
   "execution_count": 2,
   "id": "230883de",
   "metadata": {},
   "outputs": [],
   "source": [
    "color_set1 = {'violet', 'indigo', 'blue', 'green', 'yellow', 'orange', 'red'}\n",
    "color_set2 = {'indigo', 'orange', 'red'}"
   ]
  },
  {
   "cell_type": "code",
   "execution_count": 3,
   "id": "9391f392",
   "metadata": {},
   "outputs": [
    {
     "name": "stdout",
     "output_type": "stream",
     "text": [
      "True\n",
      "False\n"
     ]
    }
   ],
   "source": [
    "print(color_set2.issubset(color_set1))\n",
    "print(color_set1.issubset(color_set2))"
   ]
  },
  {
   "cell_type": "code",
   "execution_count": 4,
   "id": "5b4c8289",
   "metadata": {},
   "outputs": [
    {
     "name": "stdout",
     "output_type": "stream",
     "text": [
      "False\n",
      "True\n"
     ]
    }
   ],
   "source": [
    "print(color_set2.issuperset(color_set1))\n",
    "\n",
    "print(color_set1.issuperset(color_set2))"
   ]
  },
  {
   "cell_type": "code",
   "execution_count": 7,
   "id": "d964847a",
   "metadata": {},
   "outputs": [],
   "source": [
    "color_set1 = {'violet', 'blue', 'yellow', 'red'}\n",
    "color_set2 = {'orange', 'red'}\n",
    "color_set3 = {'green', 'orange'}"
   ]
  },
  {
   "cell_type": "code",
   "execution_count": 8,
   "id": "60115689",
   "metadata": {},
   "outputs": [
    {
     "name": "stdout",
     "output_type": "stream",
     "text": [
      "False\n"
     ]
    }
   ],
   "source": [
    "#isdisjoint\n",
    "print(color_set2.isdisjoint(color_set1))"
   ]
  },
  {
   "cell_type": "code",
   "execution_count": 9,
   "id": "28412d14",
   "metadata": {},
   "outputs": [
    {
     "name": "stdout",
     "output_type": "stream",
     "text": [
      "True\n"
     ]
    }
   ],
   "source": [
    "print(color_set3.isdisjoint(color_set1))"
   ]
  },
  {
   "cell_type": "code",
   "execution_count": 2,
   "id": "5600a448",
   "metadata": {},
   "outputs": [
    {
     "name": "stdout",
     "output_type": "stream",
     "text": [
      "True\n"
     ]
    }
   ],
   "source": [
    "a = {1,2,3,4,5}\n",
    "print(all(a))"
   ]
  },
  {
   "cell_type": "code",
   "execution_count": 5,
   "id": "5ef764e0",
   "metadata": {},
   "outputs": [
    {
     "name": "stdout",
     "output_type": "stream",
     "text": [
      "True\n"
     ]
    }
   ],
   "source": [
    "a = {1,2,3,4,5}\n",
    "print(any(a))"
   ]
  },
  {
   "cell_type": "code",
   "execution_count": 6,
   "id": "8be1e152",
   "metadata": {},
   "outputs": [
    {
     "name": "stdout",
     "output_type": "stream",
     "text": [
      "False\n"
     ]
    }
   ],
   "source": [
    "a = {0,1,2,3,4,5}\n",
    "print(all(a))"
   ]
  },
  {
   "cell_type": "code",
   "execution_count": 9,
   "id": "96c4c031",
   "metadata": {},
   "outputs": [],
   "source": [
    "a={0,0,0,0,0,}"
   ]
  },
  {
   "cell_type": "code",
   "execution_count": 10,
   "id": "e3dd10ca",
   "metadata": {},
   "outputs": [
    {
     "name": "stdout",
     "output_type": "stream",
     "text": [
      "False\n"
     ]
    }
   ],
   "source": [
    "print(any(a))"
   ]
  },
  {
   "cell_type": "code",
   "execution_count": 12,
   "id": "99cc5bab",
   "metadata": {},
   "outputs": [],
   "source": [
    "dict1 = {'arnav':1}\n",
    "dict2 = {'rushi':2}\n",
    "dict3 = {'Deve': 3}\n"
   ]
  },
  {
   "cell_type": "code",
   "execution_count": 13,
   "id": "1fd49b67",
   "metadata": {},
   "outputs": [],
   "source": [
    "stu_dict = {**dict1,**dict2,**dict3}"
   ]
  },
  {
   "cell_type": "code",
   "execution_count": 14,
   "id": "3d7e55d3",
   "metadata": {},
   "outputs": [
    {
     "data": {
      "text/plain": [
       "{'arnav': 1, 'rushi': 2, 'Deve': 3}"
      ]
     },
     "execution_count": 14,
     "metadata": {},
     "output_type": "execute_result"
    }
   ],
   "source": [
    "stu_dict"
   ]
  },
  {
   "cell_type": "code",
   "execution_count": 15,
   "id": "33e2f96e",
   "metadata": {},
   "outputs": [],
   "source": [
    "dict1.update(dict2)"
   ]
  },
  {
   "cell_type": "code",
   "execution_count": 16,
   "id": "efbd992e",
   "metadata": {},
   "outputs": [
    {
     "data": {
      "text/plain": [
       "{'arnav': 1, 'rushi': 2}"
      ]
     },
     "execution_count": 16,
     "metadata": {},
     "output_type": "execute_result"
    }
   ],
   "source": [
    "dict1"
   ]
  },
  {
   "cell_type": "code",
   "execution_count": 17,
   "id": "b11bf57e",
   "metadata": {},
   "outputs": [],
   "source": [
    "dict1.update(stu_dict)"
   ]
  },
  {
   "cell_type": "code",
   "execution_count": 18,
   "id": "c37fead1",
   "metadata": {},
   "outputs": [
    {
     "data": {
      "text/plain": [
       "{'arnav': 1, 'rushi': 2, 'Deve': 3}"
      ]
     },
     "execution_count": 18,
     "metadata": {},
     "output_type": "execute_result"
    }
   ],
   "source": [
    "dict1"
   ]
  },
  {
   "cell_type": "code",
   "execution_count": 19,
   "id": "2e1f0817",
   "metadata": {},
   "outputs": [],
   "source": [
    "dict1['pankaj']=4"
   ]
  },
  {
   "cell_type": "code",
   "execution_count": 20,
   "id": "16a81a4d",
   "metadata": {},
   "outputs": [
    {
     "data": {
      "text/plain": [
       "{'arnav': 1, 'rushi': 2, 'Deve': 3, 'pankaj': 4}"
      ]
     },
     "execution_count": 20,
     "metadata": {},
     "output_type": "execute_result"
    }
   ],
   "source": [
    "dict1"
   ]
  },
  {
   "cell_type": "code",
   "execution_count": 23,
   "id": "88bad522",
   "metadata": {},
   "outputs": [
    {
     "data": {
      "text/plain": [
       "4"
      ]
     },
     "execution_count": 23,
     "metadata": {},
     "output_type": "execute_result"
    }
   ],
   "source": [
    "dict1.pop('pankaj')"
   ]
  },
  {
   "cell_type": "code",
   "execution_count": 24,
   "id": "99407f07",
   "metadata": {},
   "outputs": [
    {
     "data": {
      "text/plain": [
       "{'arnav': 1, 'rushi': 2, 'Deve': 3}"
      ]
     },
     "execution_count": 24,
     "metadata": {},
     "output_type": "execute_result"
    }
   ],
   "source": [
    "dict1"
   ]
  },
  {
   "cell_type": "code",
   "execution_count": 25,
   "id": "cecd5a03",
   "metadata": {},
   "outputs": [
    {
     "ename": "TypeError",
     "evalue": "pop expected at least 1 argument, got 0",
     "output_type": "error",
     "traceback": [
      "\u001b[1;31m---------------------------------------------------------------------------\u001b[0m",
      "\u001b[1;31mTypeError\u001b[0m                                 Traceback (most recent call last)",
      "Cell \u001b[1;32mIn[25], line 1\u001b[0m\n\u001b[1;32m----> 1\u001b[0m dict1\u001b[38;5;241m.\u001b[39mpop()\n",
      "\u001b[1;31mTypeError\u001b[0m: pop expected at least 1 argument, got 0"
     ]
    }
   ],
   "source": [
    "dict1.pop()"
   ]
  },
  {
   "cell_type": "code",
   "execution_count": 26,
   "id": "f7f93921",
   "metadata": {},
   "outputs": [
    {
     "ename": "AttributeError",
     "evalue": "'dict' object has no attribute 'remove'",
     "output_type": "error",
     "traceback": [
      "\u001b[1;31m---------------------------------------------------------------------------\u001b[0m",
      "\u001b[1;31mAttributeError\u001b[0m                            Traceback (most recent call last)",
      "Cell \u001b[1;32mIn[26], line 1\u001b[0m\n\u001b[1;32m----> 1\u001b[0m dict1\u001b[38;5;241m.\u001b[39mremove(\u001b[38;5;124m'\u001b[39m\u001b[38;5;124marnav\u001b[39m\u001b[38;5;124m'\u001b[39m)\n",
      "\u001b[1;31mAttributeError\u001b[0m: 'dict' object has no attribute 'remove'"
     ]
    }
   ],
   "source": [
    "dict1.remove('arnav')"
   ]
  },
  {
   "cell_type": "code",
   "execution_count": 27,
   "id": "90c40287",
   "metadata": {},
   "outputs": [
    {
     "ename": "NameError",
     "evalue": "name 'dict2' is not defined",
     "output_type": "error",
     "traceback": [
      "\u001b[1;31m---------------------------------------------------------------------------\u001b[0m",
      "\u001b[1;31mNameError\u001b[0m                                 Traceback (most recent call last)",
      "Cell \u001b[1;32mIn[27], line 2\u001b[0m\n\u001b[0;32m      1\u001b[0m \u001b[38;5;28;01mdel\u001b[39;00m dict2\n\u001b[1;32m----> 2\u001b[0m dict2\n",
      "\u001b[1;31mNameError\u001b[0m: name 'dict2' is not defined"
     ]
    }
   ],
   "source": [
    "del dict2\n",
    "dict2"
   ]
  },
  {
   "cell_type": "code",
   "execution_count": 28,
   "id": "38ba437b",
   "metadata": {},
   "outputs": [],
   "source": [
    "dict3.clear()"
   ]
  },
  {
   "cell_type": "code",
   "execution_count": 29,
   "id": "8739e0fc",
   "metadata": {},
   "outputs": [
    {
     "data": {
      "text/plain": [
       "{}"
      ]
     },
     "execution_count": 29,
     "metadata": {},
     "output_type": "execute_result"
    }
   ],
   "source": [
    "dict3"
   ]
  },
  {
   "cell_type": "code",
   "execution_count": 30,
   "id": "b0509869",
   "metadata": {},
   "outputs": [
    {
     "data": {
      "text/plain": [
       "dict"
      ]
     },
     "execution_count": 30,
     "metadata": {},
     "output_type": "execute_result"
    }
   ],
   "source": [
    "a = {}\n",
    "type(a)"
   ]
  },
  {
   "cell_type": "code",
   "execution_count": 31,
   "id": "006ab07c",
   "metadata": {},
   "outputs": [
    {
     "data": {
      "text/plain": [
       "set"
      ]
     },
     "execution_count": 31,
     "metadata": {},
     "output_type": "execute_result"
    }
   ],
   "source": [
    "a = set({})\n",
    "type(a)"
   ]
  },
  {
   "cell_type": "code",
   "execution_count": 33,
   "id": "b135c968",
   "metadata": {},
   "outputs": [
    {
     "data": {
      "text/plain": [
       "('Deve', 3)"
      ]
     },
     "execution_count": 33,
     "metadata": {},
     "output_type": "execute_result"
    }
   ],
   "source": [
    "dict1.popitem()"
   ]
  },
  {
   "cell_type": "code",
   "execution_count": 34,
   "id": "253f5f74",
   "metadata": {},
   "outputs": [
    {
     "data": {
      "text/plain": [
       "{'arnav': 1, 'rushi': 2}"
      ]
     },
     "execution_count": 34,
     "metadata": {},
     "output_type": "execute_result"
    }
   ],
   "source": [
    "dict1"
   ]
  },
  {
   "cell_type": "code",
   "execution_count": null,
   "id": "618f411e",
   "metadata": {},
   "outputs": [],
   "source": []
  }
 ],
 "metadata": {
  "kernelspec": {
   "display_name": "Python 3 (ipykernel)",
   "language": "python",
   "name": "python3"
  },
  "language_info": {
   "codemirror_mode": {
    "name": "ipython",
    "version": 3
   },
   "file_extension": ".py",
   "mimetype": "text/x-python",
   "name": "python",
   "nbconvert_exporter": "python",
   "pygments_lexer": "ipython3",
   "version": "3.11.5"
  }
 },
 "nbformat": 4,
 "nbformat_minor": 5
}
