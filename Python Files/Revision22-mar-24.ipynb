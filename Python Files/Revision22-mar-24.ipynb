{
 "cells": [
  {
   "cell_type": "code",
   "execution_count": 17,
   "id": "bc4ae565",
   "metadata": {},
   "outputs": [
    {
     "name": "stdout",
     "output_type": "stream",
     "text": [
      "<class 'int'>\n"
     ]
    }
   ],
   "source": [
    "a = 30\n",
    "print(type(a))\n"
   ]
  },
  {
   "cell_type": "code",
   "execution_count": 18,
   "id": "47fdfdac",
   "metadata": {},
   "outputs": [
    {
     "data": {
      "text/plain": [
       "str"
      ]
     },
     "execution_count": 18,
     "metadata": {},
     "output_type": "execute_result"
    }
   ],
   "source": [
    "b = 'Develearn'\n",
    "type(b)"
   ]
  },
  {
   "cell_type": "code",
   "execution_count": 19,
   "id": "9d489307",
   "metadata": {},
   "outputs": [
    {
     "data": {
      "text/plain": [
       "float"
      ]
     },
     "execution_count": 19,
     "metadata": {},
     "output_type": "execute_result"
    }
   ],
   "source": [
    "c = 70.5\n",
    "type(c)"
   ]
  },
  {
   "cell_type": "code",
   "execution_count": 20,
   "id": "0d5efef6",
   "metadata": {},
   "outputs": [
    {
     "data": {
      "text/plain": [
       "complex"
      ]
     },
     "execution_count": 20,
     "metadata": {},
     "output_type": "execute_result"
    }
   ],
   "source": [
    "d = 4+5j\n",
    "type(d)"
   ]
  },
  {
   "cell_type": "code",
   "execution_count": 21,
   "id": "5c4b5b89",
   "metadata": {},
   "outputs": [
    {
     "data": {
      "text/plain": [
       "list"
      ]
     },
     "execution_count": 21,
     "metadata": {},
     "output_type": "execute_result"
    }
   ],
   "source": [
    "fruits = ['Apple']\n",
    "type(fruits)"
   ]
  },
  {
   "cell_type": "code",
   "execution_count": 23,
   "id": "eb84825a",
   "metadata": {},
   "outputs": [
    {
     "data": {
      "text/plain": [
       "tuple"
      ]
     },
     "execution_count": 23,
     "metadata": {},
     "output_type": "execute_result"
    }
   ],
   "source": [
    "# fruits1 = ('banana')\n",
    "# type(fruits1)\n",
    "fruits1 = ('banana',)\n",
    "type(fruits1)"
   ]
  },
  {
   "cell_type": "code",
   "execution_count": 24,
   "id": "d187a073",
   "metadata": {},
   "outputs": [
    {
     "data": {
      "text/plain": [
       "set"
      ]
     },
     "execution_count": 24,
     "metadata": {},
     "output_type": "execute_result"
    }
   ],
   "source": [
    "set_1 = {0,'deve'}\n",
    "type(set_1)"
   ]
  },
  {
   "cell_type": "code",
   "execution_count": 25,
   "id": "28424f62",
   "metadata": {},
   "outputs": [
    {
     "data": {
      "text/plain": [
       "dict"
      ]
     },
     "execution_count": 25,
     "metadata": {},
     "output_type": "execute_result"
    }
   ],
   "source": [
    "dictionary = {'name':'Develearn'}\n",
    "type(dictionary)"
   ]
  },
  {
   "cell_type": "code",
   "execution_count": 26,
   "id": "10759128",
   "metadata": {},
   "outputs": [
    {
     "data": {
      "text/plain": [
       "range"
      ]
     },
     "execution_count": 26,
     "metadata": {},
     "output_type": "execute_result"
    }
   ],
   "source": [
    "n = range(10,20,5)\n",
    "type(n)"
   ]
  },
  {
   "cell_type": "code",
   "execution_count": 27,
   "id": "f6722572",
   "metadata": {},
   "outputs": [
    {
     "data": {
      "text/plain": [
       "range"
      ]
     },
     "execution_count": 27,
     "metadata": {},
     "output_type": "execute_result"
    }
   ],
   "source": [
    "n1 = range(10)\n",
    "type(n1)"
   ]
  },
  {
   "cell_type": "code",
   "execution_count": 28,
   "id": "c77fb948",
   "metadata": {},
   "outputs": [
    {
     "data": {
      "text/plain": [
       "False"
      ]
     },
     "execution_count": 28,
     "metadata": {},
     "output_type": "execute_result"
    }
   ],
   "source": [
    "#1.\n",
    "1==2"
   ]
  },
  {
   "cell_type": "code",
   "execution_count": 29,
   "id": "f8242423",
   "metadata": {},
   "outputs": [
    {
     "data": {
      "text/plain": [
       "bool"
      ]
     },
     "execution_count": 29,
     "metadata": {},
     "output_type": "execute_result"
    }
   ],
   "source": [
    "type(1==2)"
   ]
  },
  {
   "cell_type": "code",
   "execution_count": 33,
   "id": "19e737be",
   "metadata": {},
   "outputs": [],
   "source": [
    "#2.\n",
    "a = 5\n",
    "b = 6\n",
    "#a>b\n",
    "#type(a>b)\n",
    "#c = a>b\n",
    "#type(c)"
   ]
  },
  {
   "cell_type": "code",
   "execution_count": 34,
   "id": "1a1c9139",
   "metadata": {},
   "outputs": [
    {
     "name": "stdout",
     "output_type": "stream",
     "text": [
      "Hello World!\n"
     ]
    }
   ],
   "source": [
    "string = 'Hello World!'\n",
    "print(string)"
   ]
  },
  {
   "cell_type": "code",
   "execution_count": 35,
   "id": "48045389",
   "metadata": {},
   "outputs": [
    {
     "data": {
      "text/plain": [
       "'Hello World!'"
      ]
     },
     "execution_count": 35,
     "metadata": {},
     "output_type": "execute_result"
    }
   ],
   "source": [
    "string"
   ]
  },
  {
   "cell_type": "code",
   "execution_count": 38,
   "id": "db022ed3",
   "metadata": {},
   "outputs": [
    {
     "name": "stdout",
     "output_type": "stream",
     "text": [
      "Hello World!\n"
     ]
    }
   ],
   "source": [
    "#multi line comment\n",
    "'''Rutuja Surve\n",
    " Devlearn Institute'''\n",
    "print(string)"
   ]
  },
  {
   "cell_type": "code",
   "execution_count": 46,
   "id": "0f53b3b9",
   "metadata": {},
   "outputs": [],
   "source": [
    "name =\"develearn institute \\n Thane Branch Naupada \\t 400563\""
   ]
  },
  {
   "cell_type": "code",
   "execution_count": 48,
   "id": "3fd0f58f",
   "metadata": {},
   "outputs": [
    {
     "name": "stdout",
     "output_type": "stream",
     "text": [
      "develearn institute \n",
      " Thane Branch Naupada \t 400563\n"
     ]
    }
   ],
   "source": [
    "print(name)"
   ]
  },
  {
   "cell_type": "code",
   "execution_count": 50,
   "id": "895bad7e",
   "metadata": {},
   "outputs": [
    {
     "ename": "SyntaxError",
     "evalue": "invalid decimal literal (3118713136.py, line 1)",
     "output_type": "error",
     "traceback": [
      "\u001b[1;36m  Cell \u001b[1;32mIn[50], line 1\u001b[1;36m\u001b[0m\n\u001b[1;33m    1na = 30 #we cannot use variable as a number\u001b[0m\n\u001b[1;37m    ^\u001b[0m\n\u001b[1;31mSyntaxError\u001b[0m\u001b[1;31m:\u001b[0m invalid decimal literal\n"
     ]
    }
   ],
   "source": [
    "1na = 30 #we cannot use variable as a number"
   ]
  },
  {
   "cell_type": "code",
   "execution_count": 53,
   "id": "ea1508f3",
   "metadata": {},
   "outputs": [
    {
     "data": {
      "text/plain": [
       "30"
      ]
     },
     "execution_count": 53,
     "metadata": {},
     "output_type": "execute_result"
    }
   ],
   "source": [
    "n1a = 30 # we can use number in between variables\n",
    "n1a"
   ]
  },
  {
   "cell_type": "code",
   "execution_count": 58,
   "id": "1824c400",
   "metadata": {},
   "outputs": [
    {
     "data": {
      "text/plain": [
       "'Deve'"
      ]
     },
     "execution_count": 58,
     "metadata": {},
     "output_type": "execute_result"
    }
   ],
   "source": [
    "_n = \"Deve\" # we use underscore as a space\n",
    "_n"
   ]
  },
  {
   "cell_type": "code",
   "execution_count": 59,
   "id": "91714fe4",
   "metadata": {},
   "outputs": [
    {
     "ename": "SyntaxError",
     "evalue": "invalid syntax. Maybe you meant '==' or ':=' instead of '='? (2968356504.py, line 1)",
     "output_type": "error",
     "traceback": [
      "\u001b[1;36m  Cell \u001b[1;32mIn[59], line 1\u001b[1;36m\u001b[0m\n\u001b[1;33m    @n = \"d\"\u001b[0m\n\u001b[1;37m     ^\u001b[0m\n\u001b[1;31mSyntaxError\u001b[0m\u001b[1;31m:\u001b[0m invalid syntax. Maybe you meant '==' or ':=' instead of '='?\n"
     ]
    }
   ],
   "source": [
    "@n = \"d\" # we cannot used special Character\n",
    "@n"
   ]
  },
  {
   "cell_type": "code",
   "execution_count": 61,
   "id": "c0a0e087",
   "metadata": {},
   "outputs": [
    {
     "data": {
      "text/plain": [
       "20"
      ]
     },
     "execution_count": 61,
     "metadata": {},
     "output_type": "execute_result"
    }
   ],
   "source": [
    "na_me_1 = 20 # use variable \n",
    "na_me_1"
   ]
  },
  {
   "cell_type": "code",
   "execution_count": 65,
   "id": "c896597b",
   "metadata": {},
   "outputs": [
    {
     "name": "stdout",
     "output_type": "stream",
     "text": [
      "DEVE\n"
     ]
    }
   ],
   "source": [
    "#python case sensitive\n",
    "\n",
    "NAME1 ='DEVE'\n",
    "#print(name1) # error bcz of python case sensitive\n",
    "print(NAME1) # no error print value"
   ]
  },
  {
   "cell_type": "code",
   "execution_count": 66,
   "id": "fcaa5653",
   "metadata": {},
   "outputs": [],
   "source": [
    "a = 30 # do not mention data type -- dynamic type\n",
    "b = int(30) #mention data type -- static type"
   ]
  },
  {
   "cell_type": "code",
   "execution_count": 68,
   "id": "a45df866",
   "metadata": {},
   "outputs": [
    {
     "name": "stdout",
     "output_type": "stream",
     "text": [
      "Hello\n",
      "<class 'str'>\n"
     ]
    }
   ],
   "source": [
    "msg = 'Hello' #dynamic type\n",
    "print(msg)\n",
    "print(type(msg))"
   ]
  },
  {
   "cell_type": "code",
   "execution_count": 72,
   "id": "df41bb7e",
   "metadata": {},
   "outputs": [
    {
     "name": "stdout",
     "output_type": "stream",
     "text": [
      "enter number : 25\n"
     ]
    }
   ],
   "source": [
    "#input\n",
    "inpt = input(\"enter number : \") #text box for enter number in output"
   ]
  },
  {
   "cell_type": "code",
   "execution_count": 73,
   "id": "45252360",
   "metadata": {},
   "outputs": [
    {
     "name": "stdout",
     "output_type": "stream",
     "text": [
      "enter number : 30\n",
      "30\n"
     ]
    }
   ],
   "source": [
    "#output\n",
    "inpt = input(\"enter number : \")\n",
    "print(inpt) #output show the value user enter"
   ]
  },
  {
   "cell_type": "code",
   "execution_count": 74,
   "id": "adc90206",
   "metadata": {},
   "outputs": [
    {
     "name": "stdout",
     "output_type": "stream",
     "text": [
      "enter name : rutuja\n",
      "My name is  rutuja\n"
     ]
    }
   ],
   "source": [
    "name = input(\"enter name : \")\n",
    "print(\"My name is \",name)"
   ]
  },
  {
   "cell_type": "code",
   "execution_count": 79,
   "id": "856dbdfc",
   "metadata": {},
   "outputs": [
    {
     "name": "stdout",
     "output_type": "stream",
     "text": [
      "enter number : rutuja\n",
      "number :rutuja\n"
     ]
    }
   ],
   "source": [
    "number =str(input(\"enter number : \"))\n",
    "print(\"number :\"+number)"
   ]
  },
  {
   "cell_type": "code",
   "execution_count": 80,
   "id": "bb04dddf",
   "metadata": {},
   "outputs": [
    {
     "name": "stdout",
     "output_type": "stream",
     "text": [
      "6\n",
      "-2\n",
      "8\n",
      "0.5\n",
      "0\n",
      "16\n",
      "2\n"
     ]
    }
   ],
   "source": [
    "#arithmetic operator (+,-,*,/,//,**,%)\n",
    "a = 2\n",
    "b = 4\n",
    "print(a+b) #Addition\n",
    "print(a-b) #Subtraction\n",
    "print(a*b) #multiplication\n",
    "print(a/b) #Division (output in float number)\n",
    "print(a//b) #Floor Division (output in whole number)\n",
    "print(a**b) #power(exponantial)\n",
    "print(a%b) #reminder(modulus)"
   ]
  },
  {
   "cell_type": "code",
   "execution_count": null,
   "id": "1c6a2747",
   "metadata": {},
   "outputs": [],
   "source": []
  }
 ],
 "metadata": {
  "kernelspec": {
   "display_name": "Python 3 (ipykernel)",
   "language": "python",
   "name": "python3"
  },
  "language_info": {
   "codemirror_mode": {
    "name": "ipython",
    "version": 3
   },
   "file_extension": ".py",
   "mimetype": "text/x-python",
   "name": "python",
   "nbconvert_exporter": "python",
   "pygments_lexer": "ipython3",
   "version": "3.11.5"
  }
 },
 "nbformat": 4,
 "nbformat_minor": 5
}
