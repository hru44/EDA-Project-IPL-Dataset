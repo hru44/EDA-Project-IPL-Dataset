{
 "cells": [
  {
   "cell_type": "code",
   "execution_count": 2,
   "metadata": {
    "id": "18SwXcNcMzub"
   },
   "outputs": [],
   "source": [
    "# Importing required libraries\n",
    "import pandas as pd\n",
    "import numpy as np\n",
    "import seaborn as sn\n",
    "import matplotlib as mpl\n",
    "import matplotlib.pyplot as plt\n",
    "#import warnings\n",
    "#warnings.filterwarnings('ignore')"
   ]
  },
  {
   "cell_type": "code",
   "execution_count": 4,
   "metadata": {
    "colab": {
     "base_uri": "https://localhost:8080/",
     "height": 300
    },
    "id": "HBUDTHkgMzud",
    "outputId": "c0bd2db1-fd8e-4e1f-f9b4-53e6751016e5"
   },
   "outputs": [
    {
     "data": {
      "text/html": [
       "<div>\n",
       "<style scoped>\n",
       "    .dataframe tbody tr th:only-of-type {\n",
       "        vertical-align: middle;\n",
       "    }\n",
       "\n",
       "    .dataframe tbody tr th {\n",
       "        vertical-align: top;\n",
       "    }\n",
       "\n",
       "    .dataframe thead th {\n",
       "        text-align: right;\n",
       "    }\n",
       "</style>\n",
       "<table border=\"1\" class=\"dataframe\">\n",
       "  <thead>\n",
       "    <tr style=\"text-align: right;\">\n",
       "      <th></th>\n",
       "      <th>cid</th>\n",
       "      <th>dayhours</th>\n",
       "      <th>price</th>\n",
       "      <th>room_bed</th>\n",
       "      <th>room_bath</th>\n",
       "      <th>living_measure</th>\n",
       "      <th>lot_measure</th>\n",
       "      <th>ceil</th>\n",
       "      <th>coast</th>\n",
       "      <th>sight</th>\n",
       "      <th>...</th>\n",
       "      <th>basement</th>\n",
       "      <th>yr_built</th>\n",
       "      <th>yr_renovated</th>\n",
       "      <th>zipcode</th>\n",
       "      <th>lat</th>\n",
       "      <th>long</th>\n",
       "      <th>living_measure15</th>\n",
       "      <th>lot_measure15</th>\n",
       "      <th>furnished</th>\n",
       "      <th>total_area</th>\n",
       "    </tr>\n",
       "  </thead>\n",
       "  <tbody>\n",
       "    <tr>\n",
       "      <th>0</th>\n",
       "      <td>3034200666</td>\n",
       "      <td>20141107T000000</td>\n",
       "      <td>808100</td>\n",
       "      <td>4</td>\n",
       "      <td>3.25</td>\n",
       "      <td>3020</td>\n",
       "      <td>13457</td>\n",
       "      <td>1.0</td>\n",
       "      <td>0</td>\n",
       "      <td>0</td>\n",
       "      <td>...</td>\n",
       "      <td>0</td>\n",
       "      <td>1956</td>\n",
       "      <td>0</td>\n",
       "      <td>98133</td>\n",
       "      <td>47.7174</td>\n",
       "      <td>-122.336</td>\n",
       "      <td>2120</td>\n",
       "      <td>7553</td>\n",
       "      <td>1</td>\n",
       "      <td>16477</td>\n",
       "    </tr>\n",
       "    <tr>\n",
       "      <th>1</th>\n",
       "      <td>8731981640</td>\n",
       "      <td>20141204T000000</td>\n",
       "      <td>277500</td>\n",
       "      <td>4</td>\n",
       "      <td>2.50</td>\n",
       "      <td>2550</td>\n",
       "      <td>7500</td>\n",
       "      <td>1.0</td>\n",
       "      <td>0</td>\n",
       "      <td>0</td>\n",
       "      <td>...</td>\n",
       "      <td>800</td>\n",
       "      <td>1976</td>\n",
       "      <td>0</td>\n",
       "      <td>98023</td>\n",
       "      <td>47.3165</td>\n",
       "      <td>-122.386</td>\n",
       "      <td>2260</td>\n",
       "      <td>8800</td>\n",
       "      <td>0</td>\n",
       "      <td>10050</td>\n",
       "    </tr>\n",
       "    <tr>\n",
       "      <th>2</th>\n",
       "      <td>5104530220</td>\n",
       "      <td>20150420T000000</td>\n",
       "      <td>404000</td>\n",
       "      <td>3</td>\n",
       "      <td>2.50</td>\n",
       "      <td>2370</td>\n",
       "      <td>4324</td>\n",
       "      <td>2.0</td>\n",
       "      <td>0</td>\n",
       "      <td>0</td>\n",
       "      <td>...</td>\n",
       "      <td>0</td>\n",
       "      <td>2006</td>\n",
       "      <td>0</td>\n",
       "      <td>98038</td>\n",
       "      <td>47.3515</td>\n",
       "      <td>-121.999</td>\n",
       "      <td>2370</td>\n",
       "      <td>4348</td>\n",
       "      <td>0</td>\n",
       "      <td>6694</td>\n",
       "    </tr>\n",
       "    <tr>\n",
       "      <th>3</th>\n",
       "      <td>6145600285</td>\n",
       "      <td>20140529T000000</td>\n",
       "      <td>300000</td>\n",
       "      <td>2</td>\n",
       "      <td>1.00</td>\n",
       "      <td>820</td>\n",
       "      <td>3844</td>\n",
       "      <td>1.0</td>\n",
       "      <td>0</td>\n",
       "      <td>0</td>\n",
       "      <td>...</td>\n",
       "      <td>0</td>\n",
       "      <td>1916</td>\n",
       "      <td>0</td>\n",
       "      <td>98133</td>\n",
       "      <td>47.7049</td>\n",
       "      <td>-122.349</td>\n",
       "      <td>1520</td>\n",
       "      <td>3844</td>\n",
       "      <td>0</td>\n",
       "      <td>4664</td>\n",
       "    </tr>\n",
       "    <tr>\n",
       "      <th>4</th>\n",
       "      <td>8924100111</td>\n",
       "      <td>20150424T000000</td>\n",
       "      <td>699000</td>\n",
       "      <td>2</td>\n",
       "      <td>1.50</td>\n",
       "      <td>1400</td>\n",
       "      <td>4050</td>\n",
       "      <td>1.0</td>\n",
       "      <td>0</td>\n",
       "      <td>0</td>\n",
       "      <td>...</td>\n",
       "      <td>0</td>\n",
       "      <td>1954</td>\n",
       "      <td>0</td>\n",
       "      <td>98115</td>\n",
       "      <td>47.6768</td>\n",
       "      <td>-122.269</td>\n",
       "      <td>1900</td>\n",
       "      <td>5940</td>\n",
       "      <td>0</td>\n",
       "      <td>5450</td>\n",
       "    </tr>\n",
       "    <tr>\n",
       "      <th>5</th>\n",
       "      <td>5525400430</td>\n",
       "      <td>20140715T000000</td>\n",
       "      <td>585000</td>\n",
       "      <td>3</td>\n",
       "      <td>2.50</td>\n",
       "      <td>2050</td>\n",
       "      <td>11690</td>\n",
       "      <td>2.0</td>\n",
       "      <td>0</td>\n",
       "      <td>0</td>\n",
       "      <td>...</td>\n",
       "      <td>0</td>\n",
       "      <td>1989</td>\n",
       "      <td>0</td>\n",
       "      <td>98059</td>\n",
       "      <td>47.5279</td>\n",
       "      <td>-122.161</td>\n",
       "      <td>2410</td>\n",
       "      <td>10172</td>\n",
       "      <td>1</td>\n",
       "      <td>13740</td>\n",
       "    </tr>\n",
       "    <tr>\n",
       "      <th>6</th>\n",
       "      <td>2419600075</td>\n",
       "      <td>20141201T000000</td>\n",
       "      <td>465000</td>\n",
       "      <td>3</td>\n",
       "      <td>1.75</td>\n",
       "      <td>1480</td>\n",
       "      <td>6360</td>\n",
       "      <td>1.0</td>\n",
       "      <td>0</td>\n",
       "      <td>0</td>\n",
       "      <td>...</td>\n",
       "      <td>0</td>\n",
       "      <td>1954</td>\n",
       "      <td>0</td>\n",
       "      <td>98133</td>\n",
       "      <td>47.7311</td>\n",
       "      <td>-122.353</td>\n",
       "      <td>1480</td>\n",
       "      <td>6360</td>\n",
       "      <td>0</td>\n",
       "      <td>7840</td>\n",
       "    </tr>\n",
       "    <tr>\n",
       "      <th>7</th>\n",
       "      <td>114101161</td>\n",
       "      <td>20140829T000000</td>\n",
       "      <td>480000</td>\n",
       "      <td>3</td>\n",
       "      <td>1.50</td>\n",
       "      <td>2100</td>\n",
       "      <td>67269</td>\n",
       "      <td>1.0</td>\n",
       "      <td>0</td>\n",
       "      <td>0</td>\n",
       "      <td>...</td>\n",
       "      <td>880</td>\n",
       "      <td>1949</td>\n",
       "      <td>0</td>\n",
       "      <td>98028</td>\n",
       "      <td>47.7592</td>\n",
       "      <td>-122.230</td>\n",
       "      <td>1610</td>\n",
       "      <td>15999</td>\n",
       "      <td>0</td>\n",
       "      <td>69369</td>\n",
       "    </tr>\n",
       "    <tr>\n",
       "      <th>8</th>\n",
       "      <td>7011201550</td>\n",
       "      <td>20140707T000000</td>\n",
       "      <td>780000</td>\n",
       "      <td>4</td>\n",
       "      <td>2.00</td>\n",
       "      <td>2600</td>\n",
       "      <td>4800</td>\n",
       "      <td>1.0</td>\n",
       "      <td>0</td>\n",
       "      <td>2</td>\n",
       "      <td>...</td>\n",
       "      <td>1200</td>\n",
       "      <td>1953</td>\n",
       "      <td>0</td>\n",
       "      <td>98119</td>\n",
       "      <td>47.6370</td>\n",
       "      <td>-122.371</td>\n",
       "      <td>2050</td>\n",
       "      <td>3505</td>\n",
       "      <td>0</td>\n",
       "      <td>7400</td>\n",
       "    </tr>\n",
       "    <tr>\n",
       "      <th>9</th>\n",
       "      <td>7203000640</td>\n",
       "      <td>20140918T000000</td>\n",
       "      <td>215000</td>\n",
       "      <td>4</td>\n",
       "      <td>1.00</td>\n",
       "      <td>1130</td>\n",
       "      <td>7400</td>\n",
       "      <td>1.0</td>\n",
       "      <td>0</td>\n",
       "      <td>0</td>\n",
       "      <td>...</td>\n",
       "      <td>0</td>\n",
       "      <td>1969</td>\n",
       "      <td>0</td>\n",
       "      <td>98003</td>\n",
       "      <td>47.3437</td>\n",
       "      <td>-122.316</td>\n",
       "      <td>1540</td>\n",
       "      <td>7379</td>\n",
       "      <td>0</td>\n",
       "      <td>8530</td>\n",
       "    </tr>\n",
       "    <tr>\n",
       "      <th>10</th>\n",
       "      <td>7518503685</td>\n",
       "      <td>20141009T000000</td>\n",
       "      <td>402000</td>\n",
       "      <td>2</td>\n",
       "      <td>1.00</td>\n",
       "      <td>710</td>\n",
       "      <td>5100</td>\n",
       "      <td>1.0</td>\n",
       "      <td>0</td>\n",
       "      <td>0</td>\n",
       "      <td>...</td>\n",
       "      <td>0</td>\n",
       "      <td>1905</td>\n",
       "      <td>0</td>\n",
       "      <td>98117</td>\n",
       "      <td>47.6765</td>\n",
       "      <td>-122.381</td>\n",
       "      <td>1530</td>\n",
       "      <td>5100</td>\n",
       "      <td>0</td>\n",
       "      <td>5810</td>\n",
       "    </tr>\n",
       "    <tr>\n",
       "      <th>11</th>\n",
       "      <td>7300400150</td>\n",
       "      <td>20141027T000000</td>\n",
       "      <td>299000</td>\n",
       "      <td>4</td>\n",
       "      <td>2.50</td>\n",
       "      <td>2350</td>\n",
       "      <td>6958</td>\n",
       "      <td>2.0</td>\n",
       "      <td>0</td>\n",
       "      <td>0</td>\n",
       "      <td>...</td>\n",
       "      <td>0</td>\n",
       "      <td>1998</td>\n",
       "      <td>0</td>\n",
       "      <td>98092</td>\n",
       "      <td>47.3321</td>\n",
       "      <td>-122.172</td>\n",
       "      <td>2480</td>\n",
       "      <td>6395</td>\n",
       "      <td>1</td>\n",
       "      <td>9308</td>\n",
       "    </tr>\n",
       "    <tr>\n",
       "      <th>12</th>\n",
       "      <td>2215800050</td>\n",
       "      <td>20150415T000000</td>\n",
       "      <td>785000</td>\n",
       "      <td>4</td>\n",
       "      <td>2.50</td>\n",
       "      <td>3440</td>\n",
       "      <td>56192</td>\n",
       "      <td>2.0</td>\n",
       "      <td>0</td>\n",
       "      <td>0</td>\n",
       "      <td>...</td>\n",
       "      <td>0</td>\n",
       "      <td>1994</td>\n",
       "      <td>0</td>\n",
       "      <td>98053</td>\n",
       "      <td>47.6969</td>\n",
       "      <td>-122.046</td>\n",
       "      <td>3150</td>\n",
       "      <td>44431</td>\n",
       "      <td>1</td>\n",
       "      <td>59632</td>\n",
       "    </tr>\n",
       "    <tr>\n",
       "      <th>13</th>\n",
       "      <td>7443000480</td>\n",
       "      <td>20150507T000000</td>\n",
       "      <td>865000</td>\n",
       "      <td>4</td>\n",
       "      <td>2.00</td>\n",
       "      <td>2750</td>\n",
       "      <td>5527</td>\n",
       "      <td>2.0</td>\n",
       "      <td>0</td>\n",
       "      <td>0</td>\n",
       "      <td>...</td>\n",
       "      <td>620</td>\n",
       "      <td>1901</td>\n",
       "      <td>1987</td>\n",
       "      <td>98119</td>\n",
       "      <td>47.6513</td>\n",
       "      <td>-122.368</td>\n",
       "      <td>1290</td>\n",
       "      <td>1764</td>\n",
       "      <td>0</td>\n",
       "      <td>8277</td>\n",
       "    </tr>\n",
       "    <tr>\n",
       "      <th>14</th>\n",
       "      <td>5072100095</td>\n",
       "      <td>20141117T000000</td>\n",
       "      <td>554000</td>\n",
       "      <td>5</td>\n",
       "      <td>2.50</td>\n",
       "      <td>3440</td>\n",
       "      <td>12900</td>\n",
       "      <td>1.0</td>\n",
       "      <td>0</td>\n",
       "      <td>2</td>\n",
       "      <td>...</td>\n",
       "      <td>1720</td>\n",
       "      <td>1958</td>\n",
       "      <td>0</td>\n",
       "      <td>98166</td>\n",
       "      <td>47.4426</td>\n",
       "      <td>-122.342</td>\n",
       "      <td>2100</td>\n",
       "      <td>10751</td>\n",
       "      <td>0</td>\n",
       "      <td>16340</td>\n",
       "    </tr>\n",
       "    <tr>\n",
       "      <th>15</th>\n",
       "      <td>1387301730</td>\n",
       "      <td>20150202T000000</td>\n",
       "      <td>361000</td>\n",
       "      <td>3</td>\n",
       "      <td>1.50</td>\n",
       "      <td>1200</td>\n",
       "      <td>7236</td>\n",
       "      <td>1.0</td>\n",
       "      <td>0</td>\n",
       "      <td>0</td>\n",
       "      <td>...</td>\n",
       "      <td>0</td>\n",
       "      <td>1975</td>\n",
       "      <td>0</td>\n",
       "      <td>98011</td>\n",
       "      <td>47.7390</td>\n",
       "      <td>-122.194</td>\n",
       "      <td>1680</td>\n",
       "      <td>7800</td>\n",
       "      <td>0</td>\n",
       "      <td>8436</td>\n",
       "    </tr>\n",
       "    <tr>\n",
       "      <th>16</th>\n",
       "      <td>1310430130</td>\n",
       "      <td>20141009T000000</td>\n",
       "      <td>459000</td>\n",
       "      <td>4</td>\n",
       "      <td>2.75</td>\n",
       "      <td>2790</td>\n",
       "      <td>6600</td>\n",
       "      <td>2.0</td>\n",
       "      <td>0</td>\n",
       "      <td>0</td>\n",
       "      <td>...</td>\n",
       "      <td>0</td>\n",
       "      <td>2000</td>\n",
       "      <td>0</td>\n",
       "      <td>98058</td>\n",
       "      <td>47.4362</td>\n",
       "      <td>-122.109</td>\n",
       "      <td>2900</td>\n",
       "      <td>6752</td>\n",
       "      <td>1</td>\n",
       "      <td>9390</td>\n",
       "    </tr>\n",
       "    <tr>\n",
       "      <th>17</th>\n",
       "      <td>3352400351</td>\n",
       "      <td>20141121T000000</td>\n",
       "      <td>200000</td>\n",
       "      <td>3</td>\n",
       "      <td>1.00</td>\n",
       "      <td>1480</td>\n",
       "      <td>5600</td>\n",
       "      <td>1.0</td>\n",
       "      <td>0</td>\n",
       "      <td>0</td>\n",
       "      <td>...</td>\n",
       "      <td>540</td>\n",
       "      <td>1947</td>\n",
       "      <td>0</td>\n",
       "      <td>98178</td>\n",
       "      <td>47.5045</td>\n",
       "      <td>-122.270</td>\n",
       "      <td>1350</td>\n",
       "      <td>11100</td>\n",
       "      <td>0</td>\n",
       "      <td>7080</td>\n",
       "    </tr>\n",
       "    <tr>\n",
       "      <th>18</th>\n",
       "      <td>3678900110</td>\n",
       "      <td>20140610T000000</td>\n",
       "      <td>403000</td>\n",
       "      <td>2</td>\n",
       "      <td>1.00</td>\n",
       "      <td>1100</td>\n",
       "      <td>3598</td>\n",
       "      <td>1.0</td>\n",
       "      <td>0</td>\n",
       "      <td>0</td>\n",
       "      <td>...</td>\n",
       "      <td>0</td>\n",
       "      <td>1926</td>\n",
       "      <td>0</td>\n",
       "      <td>98144</td>\n",
       "      <td>47.5738</td>\n",
       "      <td>-122.313</td>\n",
       "      <td>1240</td>\n",
       "      <td>3598</td>\n",
       "      <td>0</td>\n",
       "      <td>4698</td>\n",
       "    </tr>\n",
       "    <tr>\n",
       "      <th>19</th>\n",
       "      <td>2474400250</td>\n",
       "      <td>20140630T000000</td>\n",
       "      <td>327500</td>\n",
       "      <td>3</td>\n",
       "      <td>2.25</td>\n",
       "      <td>2310</td>\n",
       "      <td>7200</td>\n",
       "      <td>2.0</td>\n",
       "      <td>0</td>\n",
       "      <td>0</td>\n",
       "      <td>...</td>\n",
       "      <td>0</td>\n",
       "      <td>1990</td>\n",
       "      <td>0</td>\n",
       "      <td>98031</td>\n",
       "      <td>47.4051</td>\n",
       "      <td>-122.193</td>\n",
       "      <td>1960</td>\n",
       "      <td>7201</td>\n",
       "      <td>0</td>\n",
       "      <td>9510</td>\n",
       "    </tr>\n",
       "  </tbody>\n",
       "</table>\n",
       "<p>20 rows × 23 columns</p>\n",
       "</div>"
      ],
      "text/plain": [
       "           cid         dayhours   price  room_bed  room_bath  living_measure  \\\n",
       "0   3034200666  20141107T000000  808100         4       3.25            3020   \n",
       "1   8731981640  20141204T000000  277500         4       2.50            2550   \n",
       "2   5104530220  20150420T000000  404000         3       2.50            2370   \n",
       "3   6145600285  20140529T000000  300000         2       1.00             820   \n",
       "4   8924100111  20150424T000000  699000         2       1.50            1400   \n",
       "5   5525400430  20140715T000000  585000         3       2.50            2050   \n",
       "6   2419600075  20141201T000000  465000         3       1.75            1480   \n",
       "7    114101161  20140829T000000  480000         3       1.50            2100   \n",
       "8   7011201550  20140707T000000  780000         4       2.00            2600   \n",
       "9   7203000640  20140918T000000  215000         4       1.00            1130   \n",
       "10  7518503685  20141009T000000  402000         2       1.00             710   \n",
       "11  7300400150  20141027T000000  299000         4       2.50            2350   \n",
       "12  2215800050  20150415T000000  785000         4       2.50            3440   \n",
       "13  7443000480  20150507T000000  865000         4       2.00            2750   \n",
       "14  5072100095  20141117T000000  554000         5       2.50            3440   \n",
       "15  1387301730  20150202T000000  361000         3       1.50            1200   \n",
       "16  1310430130  20141009T000000  459000         4       2.75            2790   \n",
       "17  3352400351  20141121T000000  200000         3       1.00            1480   \n",
       "18  3678900110  20140610T000000  403000         2       1.00            1100   \n",
       "19  2474400250  20140630T000000  327500         3       2.25            2310   \n",
       "\n",
       "    lot_measure  ceil  coast  sight  ...  basement  yr_built  yr_renovated  \\\n",
       "0         13457   1.0      0      0  ...         0      1956             0   \n",
       "1          7500   1.0      0      0  ...       800      1976             0   \n",
       "2          4324   2.0      0      0  ...         0      2006             0   \n",
       "3          3844   1.0      0      0  ...         0      1916             0   \n",
       "4          4050   1.0      0      0  ...         0      1954             0   \n",
       "5         11690   2.0      0      0  ...         0      1989             0   \n",
       "6          6360   1.0      0      0  ...         0      1954             0   \n",
       "7         67269   1.0      0      0  ...       880      1949             0   \n",
       "8          4800   1.0      0      2  ...      1200      1953             0   \n",
       "9          7400   1.0      0      0  ...         0      1969             0   \n",
       "10         5100   1.0      0      0  ...         0      1905             0   \n",
       "11         6958   2.0      0      0  ...         0      1998             0   \n",
       "12        56192   2.0      0      0  ...         0      1994             0   \n",
       "13         5527   2.0      0      0  ...       620      1901          1987   \n",
       "14        12900   1.0      0      2  ...      1720      1958             0   \n",
       "15         7236   1.0      0      0  ...         0      1975             0   \n",
       "16         6600   2.0      0      0  ...         0      2000             0   \n",
       "17         5600   1.0      0      0  ...       540      1947             0   \n",
       "18         3598   1.0      0      0  ...         0      1926             0   \n",
       "19         7200   2.0      0      0  ...         0      1990             0   \n",
       "\n",
       "    zipcode      lat     long  living_measure15  lot_measure15  furnished  \\\n",
       "0     98133  47.7174 -122.336              2120           7553          1   \n",
       "1     98023  47.3165 -122.386              2260           8800          0   \n",
       "2     98038  47.3515 -121.999              2370           4348          0   \n",
       "3     98133  47.7049 -122.349              1520           3844          0   \n",
       "4     98115  47.6768 -122.269              1900           5940          0   \n",
       "5     98059  47.5279 -122.161              2410          10172          1   \n",
       "6     98133  47.7311 -122.353              1480           6360          0   \n",
       "7     98028  47.7592 -122.230              1610          15999          0   \n",
       "8     98119  47.6370 -122.371              2050           3505          0   \n",
       "9     98003  47.3437 -122.316              1540           7379          0   \n",
       "10    98117  47.6765 -122.381              1530           5100          0   \n",
       "11    98092  47.3321 -122.172              2480           6395          1   \n",
       "12    98053  47.6969 -122.046              3150          44431          1   \n",
       "13    98119  47.6513 -122.368              1290           1764          0   \n",
       "14    98166  47.4426 -122.342              2100          10751          0   \n",
       "15    98011  47.7390 -122.194              1680           7800          0   \n",
       "16    98058  47.4362 -122.109              2900           6752          1   \n",
       "17    98178  47.5045 -122.270              1350          11100          0   \n",
       "18    98144  47.5738 -122.313              1240           3598          0   \n",
       "19    98031  47.4051 -122.193              1960           7201          0   \n",
       "\n",
       "    total_area  \n",
       "0        16477  \n",
       "1        10050  \n",
       "2         6694  \n",
       "3         4664  \n",
       "4         5450  \n",
       "5        13740  \n",
       "6         7840  \n",
       "7        69369  \n",
       "8         7400  \n",
       "9         8530  \n",
       "10        5810  \n",
       "11        9308  \n",
       "12       59632  \n",
       "13        8277  \n",
       "14       16340  \n",
       "15        8436  \n",
       "16        9390  \n",
       "17        7080  \n",
       "18        4698  \n",
       "19        9510  \n",
       "\n",
       "[20 rows x 23 columns]"
      ]
     },
     "execution_count": 4,
     "metadata": {},
     "output_type": "execute_result"
    }
   ],
   "source": [
    "dfCity=pd.read_csv(\"D:\\\\Sanvee's Documents\\\\innercity.csv\")\n",
    "dfCity.head(20)"
   ]
  },
  {
   "cell_type": "code",
   "execution_count": 5,
   "metadata": {},
   "outputs": [
    {
     "data": {
      "text/html": [
       "<div>\n",
       "<style scoped>\n",
       "    .dataframe tbody tr th:only-of-type {\n",
       "        vertical-align: middle;\n",
       "    }\n",
       "\n",
       "    .dataframe tbody tr th {\n",
       "        vertical-align: top;\n",
       "    }\n",
       "\n",
       "    .dataframe thead th {\n",
       "        text-align: right;\n",
       "    }\n",
       "</style>\n",
       "<table border=\"1\" class=\"dataframe\">\n",
       "  <thead>\n",
       "    <tr style=\"text-align: right;\">\n",
       "      <th></th>\n",
       "      <th>cid</th>\n",
       "      <th>dayhours</th>\n",
       "      <th>price</th>\n",
       "      <th>room_bed</th>\n",
       "      <th>room_bath</th>\n",
       "      <th>living_measure</th>\n",
       "      <th>lot_measure</th>\n",
       "      <th>ceil</th>\n",
       "      <th>coast</th>\n",
       "      <th>sight</th>\n",
       "      <th>...</th>\n",
       "      <th>basement</th>\n",
       "      <th>yr_built</th>\n",
       "      <th>yr_renovated</th>\n",
       "      <th>zipcode</th>\n",
       "      <th>lat</th>\n",
       "      <th>long</th>\n",
       "      <th>living_measure15</th>\n",
       "      <th>lot_measure15</th>\n",
       "      <th>furnished</th>\n",
       "      <th>total_area</th>\n",
       "    </tr>\n",
       "  </thead>\n",
       "  <tbody>\n",
       "    <tr>\n",
       "      <th>21608</th>\n",
       "      <td>5137800030</td>\n",
       "      <td>20140701T000000</td>\n",
       "      <td>300000</td>\n",
       "      <td>4</td>\n",
       "      <td>2.50</td>\n",
       "      <td>2303</td>\n",
       "      <td>3826</td>\n",
       "      <td>2.0</td>\n",
       "      <td>0</td>\n",
       "      <td>0</td>\n",
       "      <td>...</td>\n",
       "      <td>0</td>\n",
       "      <td>2006</td>\n",
       "      <td>0</td>\n",
       "      <td>98092</td>\n",
       "      <td>47.3258</td>\n",
       "      <td>-122.165</td>\n",
       "      <td>2516</td>\n",
       "      <td>4500</td>\n",
       "      <td>0</td>\n",
       "      <td>6129</td>\n",
       "    </tr>\n",
       "    <tr>\n",
       "      <th>21609</th>\n",
       "      <td>8562890910</td>\n",
       "      <td>20140619T000000</td>\n",
       "      <td>320000</td>\n",
       "      <td>4</td>\n",
       "      <td>2.50</td>\n",
       "      <td>3490</td>\n",
       "      <td>5000</td>\n",
       "      <td>2.0</td>\n",
       "      <td>0</td>\n",
       "      <td>0</td>\n",
       "      <td>...</td>\n",
       "      <td>0</td>\n",
       "      <td>2003</td>\n",
       "      <td>0</td>\n",
       "      <td>98042</td>\n",
       "      <td>47.3772</td>\n",
       "      <td>-122.127</td>\n",
       "      <td>2910</td>\n",
       "      <td>5025</td>\n",
       "      <td>0</td>\n",
       "      <td>8490</td>\n",
       "    </tr>\n",
       "    <tr>\n",
       "      <th>21610</th>\n",
       "      <td>1442880160</td>\n",
       "      <td>20140627T000000</td>\n",
       "      <td>483453</td>\n",
       "      <td>4</td>\n",
       "      <td>2.75</td>\n",
       "      <td>2790</td>\n",
       "      <td>5527</td>\n",
       "      <td>2.0</td>\n",
       "      <td>0</td>\n",
       "      <td>0</td>\n",
       "      <td>...</td>\n",
       "      <td>0</td>\n",
       "      <td>2014</td>\n",
       "      <td>0</td>\n",
       "      <td>98045</td>\n",
       "      <td>47.4827</td>\n",
       "      <td>-121.773</td>\n",
       "      <td>2620</td>\n",
       "      <td>5509</td>\n",
       "      <td>0</td>\n",
       "      <td>8317</td>\n",
       "    </tr>\n",
       "    <tr>\n",
       "      <th>21611</th>\n",
       "      <td>622100130</td>\n",
       "      <td>20140917T000000</td>\n",
       "      <td>365000</td>\n",
       "      <td>2</td>\n",
       "      <td>2.00</td>\n",
       "      <td>1440</td>\n",
       "      <td>15000</td>\n",
       "      <td>1.0</td>\n",
       "      <td>0</td>\n",
       "      <td>0</td>\n",
       "      <td>...</td>\n",
       "      <td>0</td>\n",
       "      <td>1985</td>\n",
       "      <td>0</td>\n",
       "      <td>98072</td>\n",
       "      <td>47.7648</td>\n",
       "      <td>-122.159</td>\n",
       "      <td>1780</td>\n",
       "      <td>15000</td>\n",
       "      <td>0</td>\n",
       "      <td>16440</td>\n",
       "    </tr>\n",
       "    <tr>\n",
       "      <th>21612</th>\n",
       "      <td>6413600276</td>\n",
       "      <td>20150324T000000</td>\n",
       "      <td>354950</td>\n",
       "      <td>3</td>\n",
       "      <td>1.00</td>\n",
       "      <td>970</td>\n",
       "      <td>5922</td>\n",
       "      <td>1.5</td>\n",
       "      <td>0</td>\n",
       "      <td>0</td>\n",
       "      <td>...</td>\n",
       "      <td>0</td>\n",
       "      <td>1949</td>\n",
       "      <td>0</td>\n",
       "      <td>98125</td>\n",
       "      <td>47.7190</td>\n",
       "      <td>-122.321</td>\n",
       "      <td>1730</td>\n",
       "      <td>6128</td>\n",
       "      <td>0</td>\n",
       "      <td>6892</td>\n",
       "    </tr>\n",
       "  </tbody>\n",
       "</table>\n",
       "<p>5 rows × 23 columns</p>\n",
       "</div>"
      ],
      "text/plain": [
       "              cid         dayhours   price  room_bed  room_bath  \\\n",
       "21608  5137800030  20140701T000000  300000         4       2.50   \n",
       "21609  8562890910  20140619T000000  320000         4       2.50   \n",
       "21610  1442880160  20140627T000000  483453         4       2.75   \n",
       "21611   622100130  20140917T000000  365000         2       2.00   \n",
       "21612  6413600276  20150324T000000  354950         3       1.00   \n",
       "\n",
       "       living_measure  lot_measure  ceil  coast  sight  ...  basement  \\\n",
       "21608            2303         3826   2.0      0      0  ...         0   \n",
       "21609            3490         5000   2.0      0      0  ...         0   \n",
       "21610            2790         5527   2.0      0      0  ...         0   \n",
       "21611            1440        15000   1.0      0      0  ...         0   \n",
       "21612             970         5922   1.5      0      0  ...         0   \n",
       "\n",
       "       yr_built  yr_renovated  zipcode      lat     long  living_measure15  \\\n",
       "21608      2006             0    98092  47.3258 -122.165              2516   \n",
       "21609      2003             0    98042  47.3772 -122.127              2910   \n",
       "21610      2014             0    98045  47.4827 -121.773              2620   \n",
       "21611      1985             0    98072  47.7648 -122.159              1780   \n",
       "21612      1949             0    98125  47.7190 -122.321              1730   \n",
       "\n",
       "       lot_measure15  furnished  total_area  \n",
       "21608           4500          0        6129  \n",
       "21609           5025          0        8490  \n",
       "21610           5509          0        8317  \n",
       "21611          15000          0       16440  \n",
       "21612           6128          0        6892  \n",
       "\n",
       "[5 rows x 23 columns]"
      ]
     },
     "execution_count": 5,
     "metadata": {},
     "output_type": "execute_result"
    }
   ],
   "source": [
    "dfCity.tail()"
   ]
  },
  {
   "cell_type": "code",
   "execution_count": null,
   "metadata": {},
   "outputs": [],
   "source": []
  },
  {
   "cell_type": "code",
   "execution_count": null,
   "metadata": {},
   "outputs": [],
   "source": []
  },
  {
   "cell_type": "code",
   "execution_count": 6,
   "metadata": {
    "colab": {
     "base_uri": "https://localhost:8080/"
    },
    "id": "7W0vEftMMzue",
    "outputId": "08f098bb-dfd7-45d8-f6e1-0b2534e25560"
   },
   "outputs": [
    {
     "data": {
      "text/plain": [
       "(21613, 23)"
      ]
     },
     "execution_count": 6,
     "metadata": {},
     "output_type": "execute_result"
    }
   ],
   "source": [
    "dfCity.shape # high level understanding"
   ]
  },
  {
   "cell_type": "code",
   "execution_count": null,
   "metadata": {
    "id": "2qii3htPMzuf",
    "outputId": "40cb3867-d431-4b2f-e473-77c5f1e6cdfc"
   },
   "outputs": [
    {
     "name": "stdout",
     "output_type": "stream",
     "text": [
      "<class 'pandas.core.frame.DataFrame'>\n",
      "RangeIndex: 21613 entries, 0 to 21612\n",
      "Data columns (total 23 columns):\n",
      " #   Column            Non-Null Count  Dtype  \n",
      "---  ------            --------------  -----  \n",
      " 0   cid               21613 non-null  int64  \n",
      " 1   dayhours          21613 non-null  object \n",
      " 2   price             21613 non-null  int64  \n",
      " 3   room_bed          21613 non-null  int64  \n",
      " 4   room_bath         21613 non-null  float64\n",
      " 5   living_measure    21613 non-null  int64  \n",
      " 6   lot_measure       21613 non-null  int64  \n",
      " 7   ceil              21613 non-null  float64\n",
      " 8   coast             21613 non-null  int64  \n",
      " 9   sight             21613 non-null  int64  \n",
      " 10  condition         21613 non-null  int64  \n",
      " 11  quality           21613 non-null  int64  \n",
      " 12  ceil_measure      21613 non-null  int64  \n",
      " 13  basement          21613 non-null  int64  \n",
      " 14  yr_built          21613 non-null  int64  \n",
      " 15  yr_renovated      21613 non-null  int64  \n",
      " 16  zipcode           21613 non-null  int64  \n",
      " 17  lat               21613 non-null  float64\n",
      " 18  long              21613 non-null  float64\n",
      " 19  living_measure15  21613 non-null  int64  \n",
      " 20  lot_measure15     21613 non-null  int64  \n",
      " 21  furnished         21613 non-null  int64  \n",
      " 22  total_area        21613 non-null  int64  \n",
      "dtypes: float64(4), int64(18), object(1)\n",
      "memory usage: 3.8+ MB\n"
     ]
    }
   ],
   "source": [
    "dfCity.info()"
   ]
  },
  {
   "cell_type": "code",
   "execution_count": 8,
   "metadata": {},
   "outputs": [
    {
     "data": {
      "text/plain": [
       "cid                 0\n",
       "dayhours            0\n",
       "price               0\n",
       "room_bed            0\n",
       "room_bath           0\n",
       "living_measure      0\n",
       "lot_measure         0\n",
       "ceil                0\n",
       "coast               0\n",
       "sight               0\n",
       "condition           0\n",
       "quality             0\n",
       "ceil_measure        0\n",
       "basement            0\n",
       "yr_built            0\n",
       "yr_renovated        0\n",
       "zipcode             0\n",
       "lat                 0\n",
       "long                0\n",
       "living_measure15    0\n",
       "lot_measure15       0\n",
       "furnished           0\n",
       "total_area          0\n",
       "dtype: int64"
      ]
     },
     "execution_count": 8,
     "metadata": {},
     "output_type": "execute_result"
    }
   ],
   "source": [
    "dfCity.isnull().sum()"
   ]
  },
  {
   "cell_type": "code",
   "execution_count": 9,
   "metadata": {},
   "outputs": [
    {
     "data": {
      "text/html": [
       "<div>\n",
       "<style scoped>\n",
       "    .dataframe tbody tr th:only-of-type {\n",
       "        vertical-align: middle;\n",
       "    }\n",
       "\n",
       "    .dataframe tbody tr th {\n",
       "        vertical-align: top;\n",
       "    }\n",
       "\n",
       "    .dataframe thead th {\n",
       "        text-align: right;\n",
       "    }\n",
       "</style>\n",
       "<table border=\"1\" class=\"dataframe\">\n",
       "  <thead>\n",
       "    <tr style=\"text-align: right;\">\n",
       "      <th></th>\n",
       "      <th>cid</th>\n",
       "      <th>price</th>\n",
       "      <th>room_bed</th>\n",
       "      <th>room_bath</th>\n",
       "      <th>living_measure</th>\n",
       "      <th>lot_measure</th>\n",
       "      <th>ceil</th>\n",
       "      <th>coast</th>\n",
       "      <th>sight</th>\n",
       "      <th>condition</th>\n",
       "      <th>...</th>\n",
       "      <th>basement</th>\n",
       "      <th>yr_built</th>\n",
       "      <th>yr_renovated</th>\n",
       "      <th>zipcode</th>\n",
       "      <th>lat</th>\n",
       "      <th>long</th>\n",
       "      <th>living_measure15</th>\n",
       "      <th>lot_measure15</th>\n",
       "      <th>furnished</th>\n",
       "      <th>total_area</th>\n",
       "    </tr>\n",
       "  </thead>\n",
       "  <tbody>\n",
       "    <tr>\n",
       "      <th>count</th>\n",
       "      <td>2.161300e+04</td>\n",
       "      <td>2.161300e+04</td>\n",
       "      <td>21613.000000</td>\n",
       "      <td>21613.000000</td>\n",
       "      <td>21613.000000</td>\n",
       "      <td>2.161300e+04</td>\n",
       "      <td>21613.000000</td>\n",
       "      <td>21613.000000</td>\n",
       "      <td>21613.000000</td>\n",
       "      <td>21613.000000</td>\n",
       "      <td>...</td>\n",
       "      <td>21613.000000</td>\n",
       "      <td>21613.000000</td>\n",
       "      <td>21613.000000</td>\n",
       "      <td>21613.000000</td>\n",
       "      <td>21613.000000</td>\n",
       "      <td>21613.000000</td>\n",
       "      <td>21613.000000</td>\n",
       "      <td>21613.000000</td>\n",
       "      <td>21613.000000</td>\n",
       "      <td>2.161300e+04</td>\n",
       "    </tr>\n",
       "    <tr>\n",
       "      <th>mean</th>\n",
       "      <td>4.580302e+09</td>\n",
       "      <td>5.401822e+05</td>\n",
       "      <td>3.370842</td>\n",
       "      <td>2.114757</td>\n",
       "      <td>2079.899736</td>\n",
       "      <td>1.510697e+04</td>\n",
       "      <td>1.494309</td>\n",
       "      <td>0.007542</td>\n",
       "      <td>0.234303</td>\n",
       "      <td>3.409430</td>\n",
       "      <td>...</td>\n",
       "      <td>291.509045</td>\n",
       "      <td>1971.005136</td>\n",
       "      <td>84.402258</td>\n",
       "      <td>98077.939805</td>\n",
       "      <td>47.560053</td>\n",
       "      <td>-122.213896</td>\n",
       "      <td>1986.552492</td>\n",
       "      <td>12768.455652</td>\n",
       "      <td>0.196687</td>\n",
       "      <td>1.718687e+04</td>\n",
       "    </tr>\n",
       "    <tr>\n",
       "      <th>std</th>\n",
       "      <td>2.876566e+09</td>\n",
       "      <td>3.673622e+05</td>\n",
       "      <td>0.930062</td>\n",
       "      <td>0.770163</td>\n",
       "      <td>918.440897</td>\n",
       "      <td>4.142051e+04</td>\n",
       "      <td>0.539989</td>\n",
       "      <td>0.086517</td>\n",
       "      <td>0.766318</td>\n",
       "      <td>0.650743</td>\n",
       "      <td>...</td>\n",
       "      <td>442.575043</td>\n",
       "      <td>29.373411</td>\n",
       "      <td>401.679240</td>\n",
       "      <td>53.505026</td>\n",
       "      <td>0.138564</td>\n",
       "      <td>0.140828</td>\n",
       "      <td>685.391304</td>\n",
       "      <td>27304.179631</td>\n",
       "      <td>0.397503</td>\n",
       "      <td>4.158908e+04</td>\n",
       "    </tr>\n",
       "    <tr>\n",
       "      <th>min</th>\n",
       "      <td>1.000102e+06</td>\n",
       "      <td>7.500000e+04</td>\n",
       "      <td>0.000000</td>\n",
       "      <td>0.000000</td>\n",
       "      <td>290.000000</td>\n",
       "      <td>5.200000e+02</td>\n",
       "      <td>1.000000</td>\n",
       "      <td>0.000000</td>\n",
       "      <td>0.000000</td>\n",
       "      <td>1.000000</td>\n",
       "      <td>...</td>\n",
       "      <td>0.000000</td>\n",
       "      <td>1900.000000</td>\n",
       "      <td>0.000000</td>\n",
       "      <td>98001.000000</td>\n",
       "      <td>47.155900</td>\n",
       "      <td>-122.519000</td>\n",
       "      <td>399.000000</td>\n",
       "      <td>651.000000</td>\n",
       "      <td>0.000000</td>\n",
       "      <td>1.423000e+03</td>\n",
       "    </tr>\n",
       "    <tr>\n",
       "      <th>25%</th>\n",
       "      <td>2.123049e+09</td>\n",
       "      <td>3.219500e+05</td>\n",
       "      <td>3.000000</td>\n",
       "      <td>1.750000</td>\n",
       "      <td>1427.000000</td>\n",
       "      <td>5.040000e+03</td>\n",
       "      <td>1.000000</td>\n",
       "      <td>0.000000</td>\n",
       "      <td>0.000000</td>\n",
       "      <td>3.000000</td>\n",
       "      <td>...</td>\n",
       "      <td>0.000000</td>\n",
       "      <td>1951.000000</td>\n",
       "      <td>0.000000</td>\n",
       "      <td>98033.000000</td>\n",
       "      <td>47.471000</td>\n",
       "      <td>-122.328000</td>\n",
       "      <td>1490.000000</td>\n",
       "      <td>5100.000000</td>\n",
       "      <td>0.000000</td>\n",
       "      <td>7.035000e+03</td>\n",
       "    </tr>\n",
       "    <tr>\n",
       "      <th>50%</th>\n",
       "      <td>3.904930e+09</td>\n",
       "      <td>4.500000e+05</td>\n",
       "      <td>3.000000</td>\n",
       "      <td>2.250000</td>\n",
       "      <td>1910.000000</td>\n",
       "      <td>7.618000e+03</td>\n",
       "      <td>1.500000</td>\n",
       "      <td>0.000000</td>\n",
       "      <td>0.000000</td>\n",
       "      <td>3.000000</td>\n",
       "      <td>...</td>\n",
       "      <td>0.000000</td>\n",
       "      <td>1975.000000</td>\n",
       "      <td>0.000000</td>\n",
       "      <td>98065.000000</td>\n",
       "      <td>47.571800</td>\n",
       "      <td>-122.230000</td>\n",
       "      <td>1840.000000</td>\n",
       "      <td>7620.000000</td>\n",
       "      <td>0.000000</td>\n",
       "      <td>9.575000e+03</td>\n",
       "    </tr>\n",
       "    <tr>\n",
       "      <th>75%</th>\n",
       "      <td>7.308900e+09</td>\n",
       "      <td>6.450000e+05</td>\n",
       "      <td>4.000000</td>\n",
       "      <td>2.500000</td>\n",
       "      <td>2550.000000</td>\n",
       "      <td>1.068800e+04</td>\n",
       "      <td>2.000000</td>\n",
       "      <td>0.000000</td>\n",
       "      <td>0.000000</td>\n",
       "      <td>4.000000</td>\n",
       "      <td>...</td>\n",
       "      <td>560.000000</td>\n",
       "      <td>1997.000000</td>\n",
       "      <td>0.000000</td>\n",
       "      <td>98118.000000</td>\n",
       "      <td>47.678000</td>\n",
       "      <td>-122.125000</td>\n",
       "      <td>2360.000000</td>\n",
       "      <td>10083.000000</td>\n",
       "      <td>0.000000</td>\n",
       "      <td>1.300000e+04</td>\n",
       "    </tr>\n",
       "    <tr>\n",
       "      <th>max</th>\n",
       "      <td>9.900000e+09</td>\n",
       "      <td>7.700000e+06</td>\n",
       "      <td>33.000000</td>\n",
       "      <td>8.000000</td>\n",
       "      <td>13540.000000</td>\n",
       "      <td>1.651359e+06</td>\n",
       "      <td>3.500000</td>\n",
       "      <td>1.000000</td>\n",
       "      <td>4.000000</td>\n",
       "      <td>5.000000</td>\n",
       "      <td>...</td>\n",
       "      <td>4820.000000</td>\n",
       "      <td>2015.000000</td>\n",
       "      <td>2015.000000</td>\n",
       "      <td>98199.000000</td>\n",
       "      <td>47.777600</td>\n",
       "      <td>-121.315000</td>\n",
       "      <td>6210.000000</td>\n",
       "      <td>871200.000000</td>\n",
       "      <td>1.000000</td>\n",
       "      <td>1.652659e+06</td>\n",
       "    </tr>\n",
       "  </tbody>\n",
       "</table>\n",
       "<p>8 rows × 22 columns</p>\n",
       "</div>"
      ],
      "text/plain": [
       "                cid         price      room_bed     room_bath  living_measure  \\\n",
       "count  2.161300e+04  2.161300e+04  21613.000000  21613.000000    21613.000000   \n",
       "mean   4.580302e+09  5.401822e+05      3.370842      2.114757     2079.899736   \n",
       "std    2.876566e+09  3.673622e+05      0.930062      0.770163      918.440897   \n",
       "min    1.000102e+06  7.500000e+04      0.000000      0.000000      290.000000   \n",
       "25%    2.123049e+09  3.219500e+05      3.000000      1.750000     1427.000000   \n",
       "50%    3.904930e+09  4.500000e+05      3.000000      2.250000     1910.000000   \n",
       "75%    7.308900e+09  6.450000e+05      4.000000      2.500000     2550.000000   \n",
       "max    9.900000e+09  7.700000e+06     33.000000      8.000000    13540.000000   \n",
       "\n",
       "        lot_measure          ceil         coast         sight     condition  \\\n",
       "count  2.161300e+04  21613.000000  21613.000000  21613.000000  21613.000000   \n",
       "mean   1.510697e+04      1.494309      0.007542      0.234303      3.409430   \n",
       "std    4.142051e+04      0.539989      0.086517      0.766318      0.650743   \n",
       "min    5.200000e+02      1.000000      0.000000      0.000000      1.000000   \n",
       "25%    5.040000e+03      1.000000      0.000000      0.000000      3.000000   \n",
       "50%    7.618000e+03      1.500000      0.000000      0.000000      3.000000   \n",
       "75%    1.068800e+04      2.000000      0.000000      0.000000      4.000000   \n",
       "max    1.651359e+06      3.500000      1.000000      4.000000      5.000000   \n",
       "\n",
       "       ...      basement      yr_built  yr_renovated       zipcode  \\\n",
       "count  ...  21613.000000  21613.000000  21613.000000  21613.000000   \n",
       "mean   ...    291.509045   1971.005136     84.402258  98077.939805   \n",
       "std    ...    442.575043     29.373411    401.679240     53.505026   \n",
       "min    ...      0.000000   1900.000000      0.000000  98001.000000   \n",
       "25%    ...      0.000000   1951.000000      0.000000  98033.000000   \n",
       "50%    ...      0.000000   1975.000000      0.000000  98065.000000   \n",
       "75%    ...    560.000000   1997.000000      0.000000  98118.000000   \n",
       "max    ...   4820.000000   2015.000000   2015.000000  98199.000000   \n",
       "\n",
       "                lat          long  living_measure15  lot_measure15  \\\n",
       "count  21613.000000  21613.000000      21613.000000   21613.000000   \n",
       "mean      47.560053   -122.213896       1986.552492   12768.455652   \n",
       "std        0.138564      0.140828        685.391304   27304.179631   \n",
       "min       47.155900   -122.519000        399.000000     651.000000   \n",
       "25%       47.471000   -122.328000       1490.000000    5100.000000   \n",
       "50%       47.571800   -122.230000       1840.000000    7620.000000   \n",
       "75%       47.678000   -122.125000       2360.000000   10083.000000   \n",
       "max       47.777600   -121.315000       6210.000000  871200.000000   \n",
       "\n",
       "          furnished    total_area  \n",
       "count  21613.000000  2.161300e+04  \n",
       "mean       0.196687  1.718687e+04  \n",
       "std        0.397503  4.158908e+04  \n",
       "min        0.000000  1.423000e+03  \n",
       "25%        0.000000  7.035000e+03  \n",
       "50%        0.000000  9.575000e+03  \n",
       "75%        0.000000  1.300000e+04  \n",
       "max        1.000000  1.652659e+06  \n",
       "\n",
       "[8 rows x 22 columns]"
      ]
     },
     "execution_count": 9,
     "metadata": {},
     "output_type": "execute_result"
    }
   ],
   "source": [
    "dfCity.describe()"
   ]
  },
  {
   "cell_type": "code",
   "execution_count": 10,
   "metadata": {
    "colab": {
     "base_uri": "https://localhost:8080/"
    },
    "id": "VZtXaZdDMzuf",
    "outputId": "f1e8211e-4360-4570-c155-bf04a91798b6"
   },
   "outputs": [
    {
     "name": "stdout",
     "output_type": "stream",
     "text": [
      "Bed Rooms\n",
      "[4, 3, 2, 5, 6, 1, 8, 33, 7, 0, 9, 10, 11]\n",
      "Bath Rooms\n",
      "3.25 2.5 1.0 1.5 1.75 2.0 2.75 2.25 3.0 4.0 4.5 3.5 5.25 4.75 4.25 5.0 7.75 3.75 0.75 5.5 6.75 1.25 6.25 0.0 5.75 6.0 0.5 6.5 7.5 8.0\n",
      "Coast\n",
      "0 1\n",
      "sight\n",
      "0 2 4 3 1\n",
      "condition\n",
      "5 3 4 2 1\n",
      "quality\n",
      "9 8 6 7 10 11 5 13 12 4 3 1\n",
      "basemnet\n",
      "0 800 880 1200 620 1720 540 500 720 390 1800 810 830 700 470 300 960 1450 1570 1600 770 270 160 710 1590 750 890 350 570 920 430 1100 550 940 690 840 590 190 760 900 260 100 630 2120 580 740 400 380 530 1000 435 520 290 1060 490 1070 150 480 120 460 1150 980 140 600 440 660 1030 1050 560 1540 1220 1430 1750 650 200 780 1180 1080 1350 1290 670 850 340 1460 60 280 330 1260 240 250 360 1950 310 1420 790 1440 210 1250 180 1010 640 1210 730 680 1140 1510 990 170 320 80 1390 2010 910 870 1380 130 860 1120 930 1090 1410 1400 1520 4820 420 1110 1170 820 1330 1340 2850 1020 2220 1790 1280 220 1270 1230 2030 90 230 450 1490 1300 1370 2550 1310 1500 1760 370 950 145 1040 1610 510 1160 1320 1130 1830 2060 1190 970 1580 610 1780 2490 1480 70 602 410 1700 1940 1960 143 1240 1900 1481 1620 1360 1548 110 1840 2310 1710 2070 1852 1690 556 1650 2810 50 1530 40 414 704 2040 1850 1284 1660 1816 1740 1550 2020 1670 2620 1560 2130 10 1810 1860 1890 2390 2090 515 1640 1470 1820 2720 1870 1680 1910 475 2160 2600 1930 225 3260 172 1525 946 784 2330 1630 2050 2200 935 65 906 2000 2240 2590 2080 2170 2180 915 2580 2150 1135 295 2500 1798 2110 1248 1990 265 1024 2730 3500 792 2250 1008 415 588 1281 276 2610 506 2100 768 1730 1245 1920 248 374 1913 283 417 875 3480 235 518 652 2196 516 894 862 1880 2300 1770 2360 243 508 20 266 2190 207 2570 4130 3000 666 1275 861 274 2400 176 2350\n",
      "furnished\n",
      "1 0\n"
     ]
    }
   ],
   "source": [
    "# find out the unique value to make categorical variable\n",
    "print('Bed Rooms')\n",
    "print(list(dfCity.room_bed.unique()))\n",
    "print('Bath Rooms')\n",
    "print(*list(dfCity.room_bath.unique()))\n",
    "print('Coast')\n",
    "print(*list(dfCity.coast.unique()))\n",
    "print('sight')\n",
    "print(*list(dfCity.sight.unique()))\n",
    "print('condition')\n",
    "print(*list(dfCity.condition.unique()))\n",
    "print('quality')\n",
    "print(*list(dfCity.quality.unique()))\n",
    "print('basemnet')\n",
    "print(*list(dfCity.basement.unique()))\n",
    "print('furnished')\n",
    "print(*list(dfCity.furnished.unique()))"
   ]
  },
  {
   "cell_type": "code",
   "execution_count": 11,
   "metadata": {
    "colab": {
     "base_uri": "https://localhost:8080/"
    },
    "id": "-j_EFnGqPU2f",
    "outputId": "e07b3383-a762-4a3d-fa80-18381be6b19a"
   },
   "outputs": [
    {
     "data": {
      "text/plain": [
       "3     9824\n",
       "4     6882\n",
       "2     2760\n",
       "5     1601\n",
       "6      272\n",
       "1      199\n",
       "7       38\n",
       "8       13\n",
       "0       13\n",
       "9        6\n",
       "10       3\n",
       "33       1\n",
       "11       1\n",
       "Name: room_bed, dtype: int64"
      ]
     },
     "execution_count": 11,
     "metadata": {},
     "output_type": "execute_result"
    }
   ],
   "source": [
    "dfCity['room_bed'].value_counts()"
   ]
  },
  {
   "cell_type": "code",
   "execution_count": 12,
   "metadata": {},
   "outputs": [
    {
     "data": {
      "text/plain": [
       "[0        False\n",
       " 1        False\n",
       " 2        False\n",
       " 3        False\n",
       " 4        False\n",
       "          ...  \n",
       " 21608    False\n",
       " 21609    False\n",
       " 21610    False\n",
       " 21611    False\n",
       " 21612    False\n",
       " Name: room_bed, Length: 21613, dtype: bool]"
      ]
     },
     "execution_count": 12,
     "metadata": {},
     "output_type": "execute_result"
    }
   ],
   "source": [
    "[dfCity.room_bed==33]"
   ]
  },
  {
   "cell_type": "code",
   "execution_count": 13,
   "metadata": {
    "colab": {
     "base_uri": "https://localhost:8080/",
     "height": 174
    },
    "id": "qn8odeIYMzuf",
    "outputId": "d1ce3cb7-a920-446d-b839-c9ece1ea35a6"
   },
   "outputs": [
    {
     "data": {
      "text/html": [
       "<div>\n",
       "<style scoped>\n",
       "    .dataframe tbody tr th:only-of-type {\n",
       "        vertical-align: middle;\n",
       "    }\n",
       "\n",
       "    .dataframe tbody tr th {\n",
       "        vertical-align: top;\n",
       "    }\n",
       "\n",
       "    .dataframe thead th {\n",
       "        text-align: right;\n",
       "    }\n",
       "</style>\n",
       "<table border=\"1\" class=\"dataframe\">\n",
       "  <thead>\n",
       "    <tr style=\"text-align: right;\">\n",
       "      <th></th>\n",
       "      <th>cid</th>\n",
       "      <th>dayhours</th>\n",
       "      <th>price</th>\n",
       "      <th>room_bed</th>\n",
       "      <th>room_bath</th>\n",
       "      <th>living_measure</th>\n",
       "      <th>lot_measure</th>\n",
       "      <th>ceil</th>\n",
       "      <th>coast</th>\n",
       "      <th>sight</th>\n",
       "      <th>...</th>\n",
       "      <th>basement</th>\n",
       "      <th>yr_built</th>\n",
       "      <th>yr_renovated</th>\n",
       "      <th>zipcode</th>\n",
       "      <th>lat</th>\n",
       "      <th>long</th>\n",
       "      <th>living_measure15</th>\n",
       "      <th>lot_measure15</th>\n",
       "      <th>furnished</th>\n",
       "      <th>total_area</th>\n",
       "    </tr>\n",
       "  </thead>\n",
       "  <tbody>\n",
       "    <tr>\n",
       "      <th>750</th>\n",
       "      <td>2402100895</td>\n",
       "      <td>20140625T000000</td>\n",
       "      <td>640000</td>\n",
       "      <td>33</td>\n",
       "      <td>1.75</td>\n",
       "      <td>1620</td>\n",
       "      <td>6000</td>\n",
       "      <td>1.0</td>\n",
       "      <td>0</td>\n",
       "      <td>0</td>\n",
       "      <td>...</td>\n",
       "      <td>580</td>\n",
       "      <td>1947</td>\n",
       "      <td>0</td>\n",
       "      <td>98103</td>\n",
       "      <td>47.6878</td>\n",
       "      <td>-122.331</td>\n",
       "      <td>1330</td>\n",
       "      <td>4700</td>\n",
       "      <td>0</td>\n",
       "      <td>7620</td>\n",
       "    </tr>\n",
       "  </tbody>\n",
       "</table>\n",
       "<p>1 rows × 23 columns</p>\n",
       "</div>"
      ],
      "text/plain": [
       "            cid         dayhours   price  room_bed  room_bath  living_measure  \\\n",
       "750  2402100895  20140625T000000  640000        33       1.75            1620   \n",
       "\n",
       "     lot_measure  ceil  coast  sight  ...  basement  yr_built  yr_renovated  \\\n",
       "750         6000   1.0      0      0  ...       580      1947             0   \n",
       "\n",
       "     zipcode      lat     long  living_measure15  lot_measure15  furnished  \\\n",
       "750    98103  47.6878 -122.331              1330           4700          0   \n",
       "\n",
       "     total_area  \n",
       "750        7620  \n",
       "\n",
       "[1 rows x 23 columns]"
      ]
     },
     "execution_count": 13,
     "metadata": {},
     "output_type": "execute_result"
    }
   ],
   "source": [
    "dfCity[dfCity.room_bed==33] # to analysis the outlier whether the row will be removed or only 33 value will be replaced"
   ]
  },
  {
   "cell_type": "code",
   "execution_count": 14,
   "metadata": {
    "colab": {
     "base_uri": "https://localhost:8080/",
     "height": 300
    },
    "id": "OYMJfEs_Mzug",
    "outputId": "f2a07f62-0699-4d29-a93e-b9c7ad7b314b"
   },
   "outputs": [
    {
     "data": {
      "text/html": [
       "<div>\n",
       "<style scoped>\n",
       "    .dataframe tbody tr th:only-of-type {\n",
       "        vertical-align: middle;\n",
       "    }\n",
       "\n",
       "    .dataframe tbody tr th {\n",
       "        vertical-align: top;\n",
       "    }\n",
       "\n",
       "    .dataframe thead th {\n",
       "        text-align: right;\n",
       "    }\n",
       "</style>\n",
       "<table border=\"1\" class=\"dataframe\">\n",
       "  <thead>\n",
       "    <tr style=\"text-align: right;\">\n",
       "      <th></th>\n",
       "      <th>cid</th>\n",
       "      <th>dayhours</th>\n",
       "      <th>price</th>\n",
       "      <th>room_bed</th>\n",
       "      <th>room_bath</th>\n",
       "      <th>living_measure</th>\n",
       "      <th>lot_measure</th>\n",
       "      <th>ceil</th>\n",
       "      <th>coast</th>\n",
       "      <th>sight</th>\n",
       "      <th>...</th>\n",
       "      <th>yr_built</th>\n",
       "      <th>yr_renovated</th>\n",
       "      <th>zipcode</th>\n",
       "      <th>lat</th>\n",
       "      <th>long</th>\n",
       "      <th>living_measure15</th>\n",
       "      <th>lot_measure15</th>\n",
       "      <th>furnished</th>\n",
       "      <th>total_area</th>\n",
       "      <th>yr_sold</th>\n",
       "    </tr>\n",
       "  </thead>\n",
       "  <tbody>\n",
       "    <tr>\n",
       "      <th>0</th>\n",
       "      <td>3034200666</td>\n",
       "      <td>20141107T000000</td>\n",
       "      <td>808100</td>\n",
       "      <td>4</td>\n",
       "      <td>3.25</td>\n",
       "      <td>3020</td>\n",
       "      <td>13457</td>\n",
       "      <td>1.0</td>\n",
       "      <td>0</td>\n",
       "      <td>0</td>\n",
       "      <td>...</td>\n",
       "      <td>1956</td>\n",
       "      <td>0</td>\n",
       "      <td>98133</td>\n",
       "      <td>47.7174</td>\n",
       "      <td>-122.336</td>\n",
       "      <td>2120</td>\n",
       "      <td>7553</td>\n",
       "      <td>1</td>\n",
       "      <td>16477</td>\n",
       "      <td>2014</td>\n",
       "    </tr>\n",
       "    <tr>\n",
       "      <th>1</th>\n",
       "      <td>8731981640</td>\n",
       "      <td>20141204T000000</td>\n",
       "      <td>277500</td>\n",
       "      <td>4</td>\n",
       "      <td>2.50</td>\n",
       "      <td>2550</td>\n",
       "      <td>7500</td>\n",
       "      <td>1.0</td>\n",
       "      <td>0</td>\n",
       "      <td>0</td>\n",
       "      <td>...</td>\n",
       "      <td>1976</td>\n",
       "      <td>0</td>\n",
       "      <td>98023</td>\n",
       "      <td>47.3165</td>\n",
       "      <td>-122.386</td>\n",
       "      <td>2260</td>\n",
       "      <td>8800</td>\n",
       "      <td>0</td>\n",
       "      <td>10050</td>\n",
       "      <td>2014</td>\n",
       "    </tr>\n",
       "    <tr>\n",
       "      <th>2</th>\n",
       "      <td>5104530220</td>\n",
       "      <td>20150420T000000</td>\n",
       "      <td>404000</td>\n",
       "      <td>3</td>\n",
       "      <td>2.50</td>\n",
       "      <td>2370</td>\n",
       "      <td>4324</td>\n",
       "      <td>2.0</td>\n",
       "      <td>0</td>\n",
       "      <td>0</td>\n",
       "      <td>...</td>\n",
       "      <td>2006</td>\n",
       "      <td>0</td>\n",
       "      <td>98038</td>\n",
       "      <td>47.3515</td>\n",
       "      <td>-121.999</td>\n",
       "      <td>2370</td>\n",
       "      <td>4348</td>\n",
       "      <td>0</td>\n",
       "      <td>6694</td>\n",
       "      <td>2015</td>\n",
       "    </tr>\n",
       "    <tr>\n",
       "      <th>3</th>\n",
       "      <td>6145600285</td>\n",
       "      <td>20140529T000000</td>\n",
       "      <td>300000</td>\n",
       "      <td>2</td>\n",
       "      <td>1.00</td>\n",
       "      <td>820</td>\n",
       "      <td>3844</td>\n",
       "      <td>1.0</td>\n",
       "      <td>0</td>\n",
       "      <td>0</td>\n",
       "      <td>...</td>\n",
       "      <td>1916</td>\n",
       "      <td>0</td>\n",
       "      <td>98133</td>\n",
       "      <td>47.7049</td>\n",
       "      <td>-122.349</td>\n",
       "      <td>1520</td>\n",
       "      <td>3844</td>\n",
       "      <td>0</td>\n",
       "      <td>4664</td>\n",
       "      <td>2014</td>\n",
       "    </tr>\n",
       "    <tr>\n",
       "      <th>4</th>\n",
       "      <td>8924100111</td>\n",
       "      <td>20150424T000000</td>\n",
       "      <td>699000</td>\n",
       "      <td>2</td>\n",
       "      <td>1.50</td>\n",
       "      <td>1400</td>\n",
       "      <td>4050</td>\n",
       "      <td>1.0</td>\n",
       "      <td>0</td>\n",
       "      <td>0</td>\n",
       "      <td>...</td>\n",
       "      <td>1954</td>\n",
       "      <td>0</td>\n",
       "      <td>98115</td>\n",
       "      <td>47.6768</td>\n",
       "      <td>-122.269</td>\n",
       "      <td>1900</td>\n",
       "      <td>5940</td>\n",
       "      <td>0</td>\n",
       "      <td>5450</td>\n",
       "      <td>2015</td>\n",
       "    </tr>\n",
       "  </tbody>\n",
       "</table>\n",
       "<p>5 rows × 24 columns</p>\n",
       "</div>"
      ],
      "text/plain": [
       "          cid         dayhours   price  room_bed  room_bath  living_measure  \\\n",
       "0  3034200666  20141107T000000  808100         4       3.25            3020   \n",
       "1  8731981640  20141204T000000  277500         4       2.50            2550   \n",
       "2  5104530220  20150420T000000  404000         3       2.50            2370   \n",
       "3  6145600285  20140529T000000  300000         2       1.00             820   \n",
       "4  8924100111  20150424T000000  699000         2       1.50            1400   \n",
       "\n",
       "   lot_measure  ceil  coast  sight  ...  yr_built  yr_renovated  zipcode  \\\n",
       "0        13457   1.0      0      0  ...      1956             0    98133   \n",
       "1         7500   1.0      0      0  ...      1976             0    98023   \n",
       "2         4324   2.0      0      0  ...      2006             0    98038   \n",
       "3         3844   1.0      0      0  ...      1916             0    98133   \n",
       "4         4050   1.0      0      0  ...      1954             0    98115   \n",
       "\n",
       "       lat     long  living_measure15  lot_measure15  furnished  total_area  \\\n",
       "0  47.7174 -122.336              2120           7553          1       16477   \n",
       "1  47.3165 -122.386              2260           8800          0       10050   \n",
       "2  47.3515 -121.999              2370           4348          0        6694   \n",
       "3  47.7049 -122.349              1520           3844          0        4664   \n",
       "4  47.6768 -122.269              1900           5940          0        5450   \n",
       "\n",
       "   yr_sold  \n",
       "0     2014  \n",
       "1     2014  \n",
       "2     2015  \n",
       "3     2014  \n",
       "4     2015  \n",
       "\n",
       "[5 rows x 24 columns]"
      ]
     },
     "execution_count": 14,
     "metadata": {},
     "output_type": "execute_result"
    }
   ],
   "source": [
    "# to take the years_sold from dayhours colums\n",
    "dfCity['yr_sold']=dfCity['dayhours'].apply(lambda x:x[:4]).astype(int)\n",
    "dfCity.head()"
   ]
  },
  {
   "cell_type": "code",
   "execution_count": 15,
   "metadata": {
    "colab": {
     "base_uri": "https://localhost:8080/",
     "height": 300
    },
    "id": "4Zlf8610Mzug",
    "outputId": "35babbee-d92f-4a3f-cb83-8829ed07b56f"
   },
   "outputs": [
    {
     "data": {
      "text/html": [
       "<div>\n",
       "<style scoped>\n",
       "    .dataframe tbody tr th:only-of-type {\n",
       "        vertical-align: middle;\n",
       "    }\n",
       "\n",
       "    .dataframe tbody tr th {\n",
       "        vertical-align: top;\n",
       "    }\n",
       "\n",
       "    .dataframe thead th {\n",
       "        text-align: right;\n",
       "    }\n",
       "</style>\n",
       "<table border=\"1\" class=\"dataframe\">\n",
       "  <thead>\n",
       "    <tr style=\"text-align: right;\">\n",
       "      <th></th>\n",
       "      <th>cid</th>\n",
       "      <th>dayhours</th>\n",
       "      <th>price</th>\n",
       "      <th>room_bed</th>\n",
       "      <th>room_bath</th>\n",
       "      <th>living_measure</th>\n",
       "      <th>lot_measure</th>\n",
       "      <th>ceil</th>\n",
       "      <th>coast</th>\n",
       "      <th>sight</th>\n",
       "      <th>...</th>\n",
       "      <th>yr_renovated</th>\n",
       "      <th>zipcode</th>\n",
       "      <th>lat</th>\n",
       "      <th>long</th>\n",
       "      <th>living_measure15</th>\n",
       "      <th>lot_measure15</th>\n",
       "      <th>furnished</th>\n",
       "      <th>total_area</th>\n",
       "      <th>yr_sold</th>\n",
       "      <th>age_sold</th>\n",
       "    </tr>\n",
       "  </thead>\n",
       "  <tbody>\n",
       "    <tr>\n",
       "      <th>0</th>\n",
       "      <td>3034200666</td>\n",
       "      <td>20141107T000000</td>\n",
       "      <td>808100</td>\n",
       "      <td>4</td>\n",
       "      <td>3.25</td>\n",
       "      <td>3020</td>\n",
       "      <td>13457</td>\n",
       "      <td>1.0</td>\n",
       "      <td>0</td>\n",
       "      <td>0</td>\n",
       "      <td>...</td>\n",
       "      <td>0</td>\n",
       "      <td>98133</td>\n",
       "      <td>47.7174</td>\n",
       "      <td>-122.336</td>\n",
       "      <td>2120</td>\n",
       "      <td>7553</td>\n",
       "      <td>1</td>\n",
       "      <td>16477</td>\n",
       "      <td>2014</td>\n",
       "      <td>58</td>\n",
       "    </tr>\n",
       "    <tr>\n",
       "      <th>1</th>\n",
       "      <td>8731981640</td>\n",
       "      <td>20141204T000000</td>\n",
       "      <td>277500</td>\n",
       "      <td>4</td>\n",
       "      <td>2.50</td>\n",
       "      <td>2550</td>\n",
       "      <td>7500</td>\n",
       "      <td>1.0</td>\n",
       "      <td>0</td>\n",
       "      <td>0</td>\n",
       "      <td>...</td>\n",
       "      <td>0</td>\n",
       "      <td>98023</td>\n",
       "      <td>47.3165</td>\n",
       "      <td>-122.386</td>\n",
       "      <td>2260</td>\n",
       "      <td>8800</td>\n",
       "      <td>0</td>\n",
       "      <td>10050</td>\n",
       "      <td>2014</td>\n",
       "      <td>38</td>\n",
       "    </tr>\n",
       "    <tr>\n",
       "      <th>2</th>\n",
       "      <td>5104530220</td>\n",
       "      <td>20150420T000000</td>\n",
       "      <td>404000</td>\n",
       "      <td>3</td>\n",
       "      <td>2.50</td>\n",
       "      <td>2370</td>\n",
       "      <td>4324</td>\n",
       "      <td>2.0</td>\n",
       "      <td>0</td>\n",
       "      <td>0</td>\n",
       "      <td>...</td>\n",
       "      <td>0</td>\n",
       "      <td>98038</td>\n",
       "      <td>47.3515</td>\n",
       "      <td>-121.999</td>\n",
       "      <td>2370</td>\n",
       "      <td>4348</td>\n",
       "      <td>0</td>\n",
       "      <td>6694</td>\n",
       "      <td>2015</td>\n",
       "      <td>9</td>\n",
       "    </tr>\n",
       "    <tr>\n",
       "      <th>3</th>\n",
       "      <td>6145600285</td>\n",
       "      <td>20140529T000000</td>\n",
       "      <td>300000</td>\n",
       "      <td>2</td>\n",
       "      <td>1.00</td>\n",
       "      <td>820</td>\n",
       "      <td>3844</td>\n",
       "      <td>1.0</td>\n",
       "      <td>0</td>\n",
       "      <td>0</td>\n",
       "      <td>...</td>\n",
       "      <td>0</td>\n",
       "      <td>98133</td>\n",
       "      <td>47.7049</td>\n",
       "      <td>-122.349</td>\n",
       "      <td>1520</td>\n",
       "      <td>3844</td>\n",
       "      <td>0</td>\n",
       "      <td>4664</td>\n",
       "      <td>2014</td>\n",
       "      <td>98</td>\n",
       "    </tr>\n",
       "    <tr>\n",
       "      <th>4</th>\n",
       "      <td>8924100111</td>\n",
       "      <td>20150424T000000</td>\n",
       "      <td>699000</td>\n",
       "      <td>2</td>\n",
       "      <td>1.50</td>\n",
       "      <td>1400</td>\n",
       "      <td>4050</td>\n",
       "      <td>1.0</td>\n",
       "      <td>0</td>\n",
       "      <td>0</td>\n",
       "      <td>...</td>\n",
       "      <td>0</td>\n",
       "      <td>98115</td>\n",
       "      <td>47.6768</td>\n",
       "      <td>-122.269</td>\n",
       "      <td>1900</td>\n",
       "      <td>5940</td>\n",
       "      <td>0</td>\n",
       "      <td>5450</td>\n",
       "      <td>2015</td>\n",
       "      <td>61</td>\n",
       "    </tr>\n",
       "  </tbody>\n",
       "</table>\n",
       "<p>5 rows × 25 columns</p>\n",
       "</div>"
      ],
      "text/plain": [
       "          cid         dayhours   price  room_bed  room_bath  living_measure  \\\n",
       "0  3034200666  20141107T000000  808100         4       3.25            3020   \n",
       "1  8731981640  20141204T000000  277500         4       2.50            2550   \n",
       "2  5104530220  20150420T000000  404000         3       2.50            2370   \n",
       "3  6145600285  20140529T000000  300000         2       1.00             820   \n",
       "4  8924100111  20150424T000000  699000         2       1.50            1400   \n",
       "\n",
       "   lot_measure  ceil  coast  sight  ...  yr_renovated  zipcode      lat  \\\n",
       "0        13457   1.0      0      0  ...             0    98133  47.7174   \n",
       "1         7500   1.0      0      0  ...             0    98023  47.3165   \n",
       "2         4324   2.0      0      0  ...             0    98038  47.3515   \n",
       "3         3844   1.0      0      0  ...             0    98133  47.7049   \n",
       "4         4050   1.0      0      0  ...             0    98115  47.6768   \n",
       "\n",
       "      long  living_measure15  lot_measure15  furnished  total_area  yr_sold  \\\n",
       "0 -122.336              2120           7553          1       16477     2014   \n",
       "1 -122.386              2260           8800          0       10050     2014   \n",
       "2 -121.999              2370           4348          0        6694     2015   \n",
       "3 -122.349              1520           3844          0        4664     2014   \n",
       "4 -122.269              1900           5940          0        5450     2015   \n",
       "\n",
       "   age_sold  \n",
       "0        58  \n",
       "1        38  \n",
       "2         9  \n",
       "3        98  \n",
       "4        61  \n",
       "\n",
       "[5 rows x 25 columns]"
      ]
     },
     "execution_count": 15,
     "metadata": {},
     "output_type": "execute_result"
    }
   ],
   "source": [
    "# create feature (new column)\n",
    "dfCity['age_sold']=dfCity.yr_sold-dfCity.yr_built\n",
    "dfCity.head()"
   ]
  },
  {
   "cell_type": "code",
   "execution_count": 16,
   "metadata": {
    "colab": {
     "base_uri": "https://localhost:8080/"
    },
    "id": "71r4ecCWQ2gB",
    "outputId": "d7246f46-3f35-437c-c761-7c077cc42d09"
   },
   "outputs": [
    {
     "name": "stdout",
     "output_type": "stream",
     "text": [
      "<class 'pandas.core.frame.DataFrame'>\n",
      "RangeIndex: 21613 entries, 0 to 21612\n",
      "Data columns (total 25 columns):\n",
      " #   Column            Non-Null Count  Dtype  \n",
      "---  ------            --------------  -----  \n",
      " 0   cid               21613 non-null  int64  \n",
      " 1   dayhours          21613 non-null  object \n",
      " 2   price             21613 non-null  int64  \n",
      " 3   room_bed          21613 non-null  int64  \n",
      " 4   room_bath         21613 non-null  float64\n",
      " 5   living_measure    21613 non-null  int64  \n",
      " 6   lot_measure       21613 non-null  int64  \n",
      " 7   ceil              21613 non-null  float64\n",
      " 8   coast             21613 non-null  int64  \n",
      " 9   sight             21613 non-null  int64  \n",
      " 10  condition         21613 non-null  int64  \n",
      " 11  quality           21613 non-null  int64  \n",
      " 12  ceil_measure      21613 non-null  int64  \n",
      " 13  basement          21613 non-null  int64  \n",
      " 14  yr_built          21613 non-null  int64  \n",
      " 15  yr_renovated      21613 non-null  int64  \n",
      " 16  zipcode           21613 non-null  int64  \n",
      " 17  lat               21613 non-null  float64\n",
      " 18  long              21613 non-null  float64\n",
      " 19  living_measure15  21613 non-null  int64  \n",
      " 20  lot_measure15     21613 non-null  int64  \n",
      " 21  furnished         21613 non-null  int64  \n",
      " 22  total_area        21613 non-null  int64  \n",
      " 23  yr_sold           21613 non-null  int32  \n",
      " 24  age_sold          21613 non-null  int64  \n",
      "dtypes: float64(4), int32(1), int64(19), object(1)\n",
      "memory usage: 4.0+ MB\n"
     ]
    }
   ],
   "source": [
    "dfCity.info()"
   ]
  },
  {
   "cell_type": "code",
   "execution_count": 17,
   "metadata": {},
   "outputs": [
    {
     "data": {
      "text/plain": [
       "0        False\n",
       "1        False\n",
       "2        False\n",
       "3        False\n",
       "4        False\n",
       "         ...  \n",
       "21608    False\n",
       "21609    False\n",
       "21610    False\n",
       "21611    False\n",
       "21612    False\n",
       "Length: 21613, dtype: bool"
      ]
     },
     "execution_count": 17,
     "metadata": {},
     "output_type": "execute_result"
    }
   ],
   "source": [
    "dfCity.duplicated()"
   ]
  },
  {
   "cell_type": "code",
   "execution_count": 19,
   "metadata": {
    "colab": {
     "base_uri": "https://localhost:8080/"
    },
    "id": "UM_MTKnAMzuh",
    "outputId": "866afef0-78d7-4bb2-8557-943c41d46210"
   },
   "outputs": [
    {
     "name": "stdout",
     "output_type": "stream",
     "text": [
      "number of duplicate rows:  (0, 25)\n"
     ]
    }
   ],
   "source": [
    "# Total number of rows and columns\n",
    "#dfCity.shape\n",
    "#(21613, 23)\n",
    "# Rows containing duplicate data\n",
    "duplicate_rows_df = dfCity[dfCity.duplicated()]\n",
    "duplicate_rows_df\n",
    "print('number of duplicate rows: ', duplicate_rows_df.shape)\n"
   ]
  },
  {
   "cell_type": "code",
   "execution_count": null,
   "metadata": {
    "id": "arJMUVjSQoLR"
   },
   "outputs": [],
   "source": []
  },
  {
   "cell_type": "code",
   "execution_count": 20,
   "metadata": {
    "colab": {
     "base_uri": "https://localhost:8080/"
    },
    "id": "AjEqyupPMzuh",
    "outputId": "0a984c3e-4013-489c-adf0-ef7836c653b3"
   },
   "outputs": [],
   "source": [
    "##we have certain features that are displayed as integer, but we know that we need to fix them into categories\n",
    "dfCity.coast=pd.Categorical(dfCity.coast)\n",
    "dfCity.condition=pd.Categorical(dfCity.condition)\n",
    "dfCity.quality=pd.Categorical(dfCity.quality)\n",
    "dfCity.furnished=pd.Categorical(dfCity.furnished)\n",
    "dfCity.sight=pd.Categorical(dfCity.sight)\n"
   ]
  },
  {
   "cell_type": "code",
   "execution_count": 21,
   "metadata": {
    "colab": {
     "base_uri": "https://localhost:8080/"
    },
    "id": "aBpuyQ2JMzui",
    "outputId": "6a053243-a8df-4f9f-bd94-0e8fb7679777"
   },
   "outputs": [
    {
     "name": "stdout",
     "output_type": "stream",
     "text": [
      "<class 'pandas.core.frame.DataFrame'>\n",
      "RangeIndex: 21613 entries, 0 to 21612\n",
      "Data columns (total 25 columns):\n",
      " #   Column            Non-Null Count  Dtype   \n",
      "---  ------            --------------  -----   \n",
      " 0   cid               21613 non-null  int64   \n",
      " 1   dayhours          21613 non-null  object  \n",
      " 2   price             21613 non-null  int64   \n",
      " 3   room_bed          21613 non-null  int64   \n",
      " 4   room_bath         21613 non-null  float64 \n",
      " 5   living_measure    21613 non-null  int64   \n",
      " 6   lot_measure       21613 non-null  int64   \n",
      " 7   ceil              21613 non-null  float64 \n",
      " 8   coast             21613 non-null  category\n",
      " 9   sight             21613 non-null  category\n",
      " 10  condition         21613 non-null  category\n",
      " 11  quality           21613 non-null  category\n",
      " 12  ceil_measure      21613 non-null  int64   \n",
      " 13  basement          21613 non-null  int64   \n",
      " 14  yr_built          21613 non-null  int64   \n",
      " 15  yr_renovated      21613 non-null  int64   \n",
      " 16  zipcode           21613 non-null  int64   \n",
      " 17  lat               21613 non-null  float64 \n",
      " 18  long              21613 non-null  float64 \n",
      " 19  living_measure15  21613 non-null  int64   \n",
      " 20  lot_measure15     21613 non-null  int64   \n",
      " 21  furnished         21613 non-null  category\n",
      " 22  total_area        21613 non-null  int64   \n",
      " 23  yr_sold           21613 non-null  int32   \n",
      " 24  age_sold          21613 non-null  int64   \n",
      "dtypes: category(5), float64(4), int32(1), int64(14), object(1)\n",
      "memory usage: 3.3+ MB\n"
     ]
    }
   ],
   "source": [
    "dfCity.info()"
   ]
  },
  {
   "cell_type": "code",
   "execution_count": 22,
   "metadata": {
    "colab": {
     "base_uri": "https://localhost:8080/",
     "height": 689
    },
    "id": "nMu8yeqLMzui",
    "outputId": "7b5786ae-5978-4227-830b-587bf179ea6c"
   },
   "outputs": [
    {
     "data": {
      "text/html": [
       "<div>\n",
       "<style scoped>\n",
       "    .dataframe tbody tr th:only-of-type {\n",
       "        vertical-align: middle;\n",
       "    }\n",
       "\n",
       "    .dataframe tbody tr th {\n",
       "        vertical-align: top;\n",
       "    }\n",
       "\n",
       "    .dataframe thead th {\n",
       "        text-align: right;\n",
       "    }\n",
       "</style>\n",
       "<table border=\"1\" class=\"dataframe\">\n",
       "  <thead>\n",
       "    <tr style=\"text-align: right;\">\n",
       "      <th></th>\n",
       "      <th>count</th>\n",
       "      <th>mean</th>\n",
       "      <th>std</th>\n",
       "      <th>min</th>\n",
       "      <th>25%</th>\n",
       "      <th>50%</th>\n",
       "      <th>75%</th>\n",
       "      <th>max</th>\n",
       "    </tr>\n",
       "  </thead>\n",
       "  <tbody>\n",
       "    <tr>\n",
       "      <th>cid</th>\n",
       "      <td>21613.0</td>\n",
       "      <td>4.580302e+09</td>\n",
       "      <td>2.876566e+09</td>\n",
       "      <td>1.000102e+06</td>\n",
       "      <td>2.123049e+09</td>\n",
       "      <td>3.904930e+09</td>\n",
       "      <td>7.308900e+09</td>\n",
       "      <td>9.900000e+09</td>\n",
       "    </tr>\n",
       "    <tr>\n",
       "      <th>price</th>\n",
       "      <td>21613.0</td>\n",
       "      <td>5.401822e+05</td>\n",
       "      <td>3.673622e+05</td>\n",
       "      <td>7.500000e+04</td>\n",
       "      <td>3.219500e+05</td>\n",
       "      <td>4.500000e+05</td>\n",
       "      <td>6.450000e+05</td>\n",
       "      <td>7.700000e+06</td>\n",
       "    </tr>\n",
       "    <tr>\n",
       "      <th>room_bed</th>\n",
       "      <td>21613.0</td>\n",
       "      <td>3.370842e+00</td>\n",
       "      <td>9.300618e-01</td>\n",
       "      <td>0.000000e+00</td>\n",
       "      <td>3.000000e+00</td>\n",
       "      <td>3.000000e+00</td>\n",
       "      <td>4.000000e+00</td>\n",
       "      <td>3.300000e+01</td>\n",
       "    </tr>\n",
       "    <tr>\n",
       "      <th>room_bath</th>\n",
       "      <td>21613.0</td>\n",
       "      <td>2.114757e+00</td>\n",
       "      <td>7.701632e-01</td>\n",
       "      <td>0.000000e+00</td>\n",
       "      <td>1.750000e+00</td>\n",
       "      <td>2.250000e+00</td>\n",
       "      <td>2.500000e+00</td>\n",
       "      <td>8.000000e+00</td>\n",
       "    </tr>\n",
       "    <tr>\n",
       "      <th>living_measure</th>\n",
       "      <td>21613.0</td>\n",
       "      <td>2.079900e+03</td>\n",
       "      <td>9.184409e+02</td>\n",
       "      <td>2.900000e+02</td>\n",
       "      <td>1.427000e+03</td>\n",
       "      <td>1.910000e+03</td>\n",
       "      <td>2.550000e+03</td>\n",
       "      <td>1.354000e+04</td>\n",
       "    </tr>\n",
       "    <tr>\n",
       "      <th>lot_measure</th>\n",
       "      <td>21613.0</td>\n",
       "      <td>1.510697e+04</td>\n",
       "      <td>4.142051e+04</td>\n",
       "      <td>5.200000e+02</td>\n",
       "      <td>5.040000e+03</td>\n",
       "      <td>7.618000e+03</td>\n",
       "      <td>1.068800e+04</td>\n",
       "      <td>1.651359e+06</td>\n",
       "    </tr>\n",
       "    <tr>\n",
       "      <th>ceil</th>\n",
       "      <td>21613.0</td>\n",
       "      <td>1.494309e+00</td>\n",
       "      <td>5.399889e-01</td>\n",
       "      <td>1.000000e+00</td>\n",
       "      <td>1.000000e+00</td>\n",
       "      <td>1.500000e+00</td>\n",
       "      <td>2.000000e+00</td>\n",
       "      <td>3.500000e+00</td>\n",
       "    </tr>\n",
       "    <tr>\n",
       "      <th>ceil_measure</th>\n",
       "      <td>21613.0</td>\n",
       "      <td>1.788391e+03</td>\n",
       "      <td>8.280910e+02</td>\n",
       "      <td>2.900000e+02</td>\n",
       "      <td>1.190000e+03</td>\n",
       "      <td>1.560000e+03</td>\n",
       "      <td>2.210000e+03</td>\n",
       "      <td>9.410000e+03</td>\n",
       "    </tr>\n",
       "    <tr>\n",
       "      <th>basement</th>\n",
       "      <td>21613.0</td>\n",
       "      <td>2.915090e+02</td>\n",
       "      <td>4.425750e+02</td>\n",
       "      <td>0.000000e+00</td>\n",
       "      <td>0.000000e+00</td>\n",
       "      <td>0.000000e+00</td>\n",
       "      <td>5.600000e+02</td>\n",
       "      <td>4.820000e+03</td>\n",
       "    </tr>\n",
       "    <tr>\n",
       "      <th>yr_built</th>\n",
       "      <td>21613.0</td>\n",
       "      <td>1.971005e+03</td>\n",
       "      <td>2.937341e+01</td>\n",
       "      <td>1.900000e+03</td>\n",
       "      <td>1.951000e+03</td>\n",
       "      <td>1.975000e+03</td>\n",
       "      <td>1.997000e+03</td>\n",
       "      <td>2.015000e+03</td>\n",
       "    </tr>\n",
       "    <tr>\n",
       "      <th>yr_renovated</th>\n",
       "      <td>21613.0</td>\n",
       "      <td>8.440226e+01</td>\n",
       "      <td>4.016792e+02</td>\n",
       "      <td>0.000000e+00</td>\n",
       "      <td>0.000000e+00</td>\n",
       "      <td>0.000000e+00</td>\n",
       "      <td>0.000000e+00</td>\n",
       "      <td>2.015000e+03</td>\n",
       "    </tr>\n",
       "    <tr>\n",
       "      <th>zipcode</th>\n",
       "      <td>21613.0</td>\n",
       "      <td>9.807794e+04</td>\n",
       "      <td>5.350503e+01</td>\n",
       "      <td>9.800100e+04</td>\n",
       "      <td>9.803300e+04</td>\n",
       "      <td>9.806500e+04</td>\n",
       "      <td>9.811800e+04</td>\n",
       "      <td>9.819900e+04</td>\n",
       "    </tr>\n",
       "    <tr>\n",
       "      <th>lat</th>\n",
       "      <td>21613.0</td>\n",
       "      <td>4.756005e+01</td>\n",
       "      <td>1.385637e-01</td>\n",
       "      <td>4.715590e+01</td>\n",
       "      <td>4.747100e+01</td>\n",
       "      <td>4.757180e+01</td>\n",
       "      <td>4.767800e+01</td>\n",
       "      <td>4.777760e+01</td>\n",
       "    </tr>\n",
       "    <tr>\n",
       "      <th>long</th>\n",
       "      <td>21613.0</td>\n",
       "      <td>-1.222139e+02</td>\n",
       "      <td>1.408283e-01</td>\n",
       "      <td>-1.225190e+02</td>\n",
       "      <td>-1.223280e+02</td>\n",
       "      <td>-1.222300e+02</td>\n",
       "      <td>-1.221250e+02</td>\n",
       "      <td>-1.213150e+02</td>\n",
       "    </tr>\n",
       "    <tr>\n",
       "      <th>living_measure15</th>\n",
       "      <td>21613.0</td>\n",
       "      <td>1.986552e+03</td>\n",
       "      <td>6.853913e+02</td>\n",
       "      <td>3.990000e+02</td>\n",
       "      <td>1.490000e+03</td>\n",
       "      <td>1.840000e+03</td>\n",
       "      <td>2.360000e+03</td>\n",
       "      <td>6.210000e+03</td>\n",
       "    </tr>\n",
       "    <tr>\n",
       "      <th>lot_measure15</th>\n",
       "      <td>21613.0</td>\n",
       "      <td>1.276846e+04</td>\n",
       "      <td>2.730418e+04</td>\n",
       "      <td>6.510000e+02</td>\n",
       "      <td>5.100000e+03</td>\n",
       "      <td>7.620000e+03</td>\n",
       "      <td>1.008300e+04</td>\n",
       "      <td>8.712000e+05</td>\n",
       "    </tr>\n",
       "    <tr>\n",
       "      <th>total_area</th>\n",
       "      <td>21613.0</td>\n",
       "      <td>1.718687e+04</td>\n",
       "      <td>4.158908e+04</td>\n",
       "      <td>1.423000e+03</td>\n",
       "      <td>7.035000e+03</td>\n",
       "      <td>9.575000e+03</td>\n",
       "      <td>1.300000e+04</td>\n",
       "      <td>1.652659e+06</td>\n",
       "    </tr>\n",
       "    <tr>\n",
       "      <th>yr_sold</th>\n",
       "      <td>21613.0</td>\n",
       "      <td>2.014323e+03</td>\n",
       "      <td>4.676160e-01</td>\n",
       "      <td>2.014000e+03</td>\n",
       "      <td>2.014000e+03</td>\n",
       "      <td>2.014000e+03</td>\n",
       "      <td>2.015000e+03</td>\n",
       "      <td>2.015000e+03</td>\n",
       "    </tr>\n",
       "    <tr>\n",
       "      <th>age_sold</th>\n",
       "      <td>21613.0</td>\n",
       "      <td>4.331782e+01</td>\n",
       "      <td>2.937549e+01</td>\n",
       "      <td>-1.000000e+00</td>\n",
       "      <td>1.800000e+01</td>\n",
       "      <td>4.000000e+01</td>\n",
       "      <td>6.300000e+01</td>\n",
       "      <td>1.150000e+02</td>\n",
       "    </tr>\n",
       "  </tbody>\n",
       "</table>\n",
       "</div>"
      ],
      "text/plain": [
       "                    count          mean           std           min  \\\n",
       "cid               21613.0  4.580302e+09  2.876566e+09  1.000102e+06   \n",
       "price             21613.0  5.401822e+05  3.673622e+05  7.500000e+04   \n",
       "room_bed          21613.0  3.370842e+00  9.300618e-01  0.000000e+00   \n",
       "room_bath         21613.0  2.114757e+00  7.701632e-01  0.000000e+00   \n",
       "living_measure    21613.0  2.079900e+03  9.184409e+02  2.900000e+02   \n",
       "lot_measure       21613.0  1.510697e+04  4.142051e+04  5.200000e+02   \n",
       "ceil              21613.0  1.494309e+00  5.399889e-01  1.000000e+00   \n",
       "ceil_measure      21613.0  1.788391e+03  8.280910e+02  2.900000e+02   \n",
       "basement          21613.0  2.915090e+02  4.425750e+02  0.000000e+00   \n",
       "yr_built          21613.0  1.971005e+03  2.937341e+01  1.900000e+03   \n",
       "yr_renovated      21613.0  8.440226e+01  4.016792e+02  0.000000e+00   \n",
       "zipcode           21613.0  9.807794e+04  5.350503e+01  9.800100e+04   \n",
       "lat               21613.0  4.756005e+01  1.385637e-01  4.715590e+01   \n",
       "long              21613.0 -1.222139e+02  1.408283e-01 -1.225190e+02   \n",
       "living_measure15  21613.0  1.986552e+03  6.853913e+02  3.990000e+02   \n",
       "lot_measure15     21613.0  1.276846e+04  2.730418e+04  6.510000e+02   \n",
       "total_area        21613.0  1.718687e+04  4.158908e+04  1.423000e+03   \n",
       "yr_sold           21613.0  2.014323e+03  4.676160e-01  2.014000e+03   \n",
       "age_sold          21613.0  4.331782e+01  2.937549e+01 -1.000000e+00   \n",
       "\n",
       "                           25%           50%           75%           max  \n",
       "cid               2.123049e+09  3.904930e+09  7.308900e+09  9.900000e+09  \n",
       "price             3.219500e+05  4.500000e+05  6.450000e+05  7.700000e+06  \n",
       "room_bed          3.000000e+00  3.000000e+00  4.000000e+00  3.300000e+01  \n",
       "room_bath         1.750000e+00  2.250000e+00  2.500000e+00  8.000000e+00  \n",
       "living_measure    1.427000e+03  1.910000e+03  2.550000e+03  1.354000e+04  \n",
       "lot_measure       5.040000e+03  7.618000e+03  1.068800e+04  1.651359e+06  \n",
       "ceil              1.000000e+00  1.500000e+00  2.000000e+00  3.500000e+00  \n",
       "ceil_measure      1.190000e+03  1.560000e+03  2.210000e+03  9.410000e+03  \n",
       "basement          0.000000e+00  0.000000e+00  5.600000e+02  4.820000e+03  \n",
       "yr_built          1.951000e+03  1.975000e+03  1.997000e+03  2.015000e+03  \n",
       "yr_renovated      0.000000e+00  0.000000e+00  0.000000e+00  2.015000e+03  \n",
       "zipcode           9.803300e+04  9.806500e+04  9.811800e+04  9.819900e+04  \n",
       "lat               4.747100e+01  4.757180e+01  4.767800e+01  4.777760e+01  \n",
       "long             -1.223280e+02 -1.222300e+02 -1.221250e+02 -1.213150e+02  \n",
       "living_measure15  1.490000e+03  1.840000e+03  2.360000e+03  6.210000e+03  \n",
       "lot_measure15     5.100000e+03  7.620000e+03  1.008300e+04  8.712000e+05  \n",
       "total_area        7.035000e+03  9.575000e+03  1.300000e+04  1.652659e+06  \n",
       "yr_sold           2.014000e+03  2.014000e+03  2.015000e+03  2.015000e+03  \n",
       "age_sold          1.800000e+01  4.000000e+01  6.300000e+01  1.150000e+02  "
      ]
     },
     "execution_count": 22,
     "metadata": {},
     "output_type": "execute_result"
    }
   ],
   "source": [
    "dfCity.describe().T #only display numeric cloumn also\n",
    "#dfCity.describe(include='all').T #include non-numeric cloumn also"
   ]
  },
  {
   "cell_type": "code",
   "execution_count": 17,
   "metadata": {
    "colab": {
     "base_uri": "https://localhost:8080/"
    },
    "id": "Bb-27r4lMzui",
    "outputId": "5cd10323-7114-45dd-db29-496a0c844e64"
   },
   "outputs": [
    {
     "name": "stdout",
     "output_type": "stream",
     "text": [
      "Min Value 0\n",
      "Max Value  33\n",
      "Q1  3.0\n",
      "Q3  4.0\n",
      "IQR  1.0\n",
      "lower_limit 1.5\n",
      "upper_limit 5.5\n"
     ]
    }
   ],
   "source": [
    "#we know Q3 AND Q1 AND IQR=Q3-Q1, any data point which is less than Q1-1.5IQR or Q3+1.5IQR are consider as outlier\n",
    "# Analysis on Room_Bed feature\n",
    "Q1=dfCity.room_bed.quantile(.25)\n",
    "Q3=dfCity.room_bed.quantile(.75)\n",
    "IQR=Q3-Q1\n",
    "lower_limit=Q1-(1.5*IQR)\n",
    "upper_limit=Q3+(1.5*IQR)\n",
    "print(\"Min Value\",dfCity.room_bed.min())\n",
    "print(\"Max Value \",dfCity.room_bed.max())\n",
    "print(\"Q1 \",Q1)\n",
    "print(\"Q3 \",Q3)\n",
    "print(\"IQR \",IQR)\n",
    "print('lower_limit',lower_limit)\n",
    "print('upper_limit',upper_limit)\n"
   ]
  },
  {
   "cell_type": "code",
   "execution_count": 22,
   "metadata": {
    "colab": {
     "base_uri": "https://localhost:8080/",
     "height": 282
    },
    "id": "mJjZcqDjMzuj",
    "outputId": "bd400c92-86e4-496c-99c7-e9f69597244f"
   },
   "outputs": [
    {
     "data": {
      "text/plain": [
       "<matplotlib.axes._subplots.AxesSubplot at 0x7f9f2360c1c0>"
      ]
     },
     "execution_count": 22,
     "metadata": {},
     "output_type": "execute_result"
    },
    {
     "data": {
      "image/png": "[encoded data removed]",
      "text/plain": [
       "<Figure size 432x288 with 1 Axes>"
      ]
     },
     "metadata": {
      "needs_background": "light"
     },
     "output_type": "display_data"
    }
   ],
   "source": [
    "dfCity.room_bed.hist(bins=33)"
   ]
  },
  {
   "cell_type": "code",
   "execution_count": 23,
   "metadata": {
    "colab": {
     "base_uri": "https://localhost:8080/",
     "height": 369
    },
    "id": "BPQHiVQxMzuj",
    "outputId": "10386f56-743c-44bf-c2c3-b5acbd0aff46"
   },
   "outputs": [
    {
     "data": {
      "image/png": "[encoded data removed]",
      "text/plain": [
       "<Figure size 504x360 with 4 Axes>"
      ]
     },
     "metadata": {
      "needs_background": "light"
     },
     "output_type": "display_data"
    }
   ],
   "source": [
    "fig, axes = plt.subplots(nrows=2, ncols=2,figsize=(7,5))\n",
    "axes[0,0].set_title('Box-room bed')\n",
    "axes[0,1].set_title('DistributionPlot-room bed')\n",
    "axes[1,0].set_title('Box-Living measure')\n",
    "axes[1,1].set_title('DistributionPlot--Living measure')\n",
    "\n",
    "sn.boxplot(dfCity.room_bed,ax=axes[0,0])\n",
    "sn.distplot(dfCity.room_bed,ax=axes[0,1]) \n",
    "sn.boxplot(dfCity.living_measure,ax=axes[1,0])\n",
    "sn.distplot(dfCity.living_measure,ax=axes[1,1]) \n",
    "\n",
    "fig.tight_layout();  # this reduces the space in between the subplots"
   ]
  },
  {
   "cell_type": "code",
   "execution_count": 24,
   "metadata": {
    "colab": {
     "base_uri": "https://localhost:8080/",
     "height": 282
    },
    "id": "LV_F4SCXMzuj",
    "outputId": "8019d56d-69c6-44c7-e813-e44846aa8e0d"
   },
   "outputs": [
    {
     "data": {
      "text/plain": [
       "<matplotlib.axes._subplots.AxesSubplot at 0x7f9f23790970>"
      ]
     },
     "execution_count": 24,
     "metadata": {},
     "output_type": "execute_result"
    },
    {
     "data": {
      "image/png": "[encoded data removed]",
      "text/plain": [
       "<Figure size 432x288 with 1 Axes>"
      ]
     },
     "metadata": {
      "needs_background": "light"
     },
     "output_type": "display_data"
    }
   ],
   "source": [
    "dfCity.room_bed.hist()"
   ]
  },
  {
   "cell_type": "markdown",
   "metadata": {
    "id": "pLkigkCOMzuj"
   },
   "source": [
    "## Caegorical Variable Analysis"
   ]
  },
  {
   "cell_type": "code",
   "execution_count": null,
   "metadata": {
    "id": "qbj2jHk9Mzuk",
    "outputId": "41ee081c-7c22-4649-b489-6d758c229075"
   },
   "outputs": [
    {
     "data": {
      "text/plain": [
       "0    21450\n",
       "1      163\n",
       "Name: coast, dtype: int64"
      ]
     },
     "execution_count": 155,
     "metadata": {},
     "output_type": "execute_result"
    }
   ],
   "source": [
    "dfCity.coast.value_counts()"
   ]
  },
  {
   "cell_type": "code",
   "execution_count": null,
   "metadata": {
    "id": "bxnDbbECMzuk",
    "outputId": "a82dedde-2422-4f24-d830-e3cd769826fe"
   },
   "outputs": [
    {
     "data": {
      "text/plain": [
       "0    0.992458\n",
       "1    0.007542\n",
       "Name: coast, dtype: float64"
      ]
     },
     "execution_count": 156,
     "metadata": {},
     "output_type": "execute_result"
    }
   ],
   "source": [
    "# in percentage\n",
    "dfCity.coast.value_counts(normalize=True)\n",
    "# that means 99.25% of houses have a coast and 0.75% have coast"
   ]
  },
  {
   "cell_type": "code",
   "execution_count": null,
   "metadata": {
    "id": "411zUKbIMzul",
    "outputId": "2f01a6a8-c8d4-41f7-e2f1-4a44d51c3b0f"
   },
   "outputs": [
    {
     "data": {
      "text/plain": [
       "<seaborn.axisgrid.FacetGrid at 0x25ada7a1280>"
      ]
     },
     "execution_count": 114,
     "metadata": {},
     "output_type": "execute_result"
    },
    {
     "data": {
      "image/png": "[encoded data removed]",
      "text/plain": [
       "<Figure size 360x360 with 1 Axes>"
      ]
     },
     "metadata": {
      "needs_background": "light"
     },
     "output_type": "display_data"
    }
   ],
   "source": [
    "sn.factorplot('coast',data=dfCity,kind='count')"
   ]
  },
  {
   "cell_type": "code",
   "execution_count": null,
   "metadata": {
    "id": "MA8iR9l0Mzul",
    "outputId": "42520a36-688b-461d-8f70-72652a204d02"
   },
   "outputs": [
    {
     "data": {
      "text/plain": [
       "<seaborn.axisgrid.FacetGrid at 0x25ada7a6940>"
      ]
     },
     "execution_count": 115,
     "metadata": {},
     "output_type": "execute_result"
    },
    {
     "data": {
      "image/png": "[encoded data removed]",
      "text/plain": [
       "<Figure size 360x360 with 1 Axes>"
      ]
     },
     "metadata": {
      "needs_background": "light"
     },
     "output_type": "display_data"
    }
   ],
   "source": [
    "sn.factorplot('condition',data=dfCity,kind='count')"
   ]
  },
  {
   "cell_type": "code",
   "execution_count": null,
   "metadata": {
    "id": "vvEqLQ1rMzul",
    "outputId": "2e4513b8-ed07-41cc-8f48-ece9494763e8"
   },
   "outputs": [
    {
     "data": {
      "text/plain": [
       "3    14031\n",
       "4     5679\n",
       "5     1701\n",
       "2      172\n",
       "1       30\n",
       "Name: condition, dtype: int64"
      ]
     },
     "execution_count": 157,
     "metadata": {},
     "output_type": "execute_result"
    }
   ],
   "source": [
    "dfCity.condition.value_counts()\n",
    "# since condition 1&2 the count is less then we can merge these 2 into 1 column same 4 & 5 is also combined \n",
    "#that way we can reduced the level of condition"
   ]
  },
  {
   "cell_type": "code",
   "execution_count": null,
   "metadata": {
    "id": "QxWFdB-EMzul",
    "outputId": "829687a1-078f-4ae3-e287-a33ff44358b2"
   },
   "outputs": [
    {
     "data": {
      "text/plain": [
       "7     8981\n",
       "8     6068\n",
       "9     2615\n",
       "6     2038\n",
       "10    1134\n",
       "11     399\n",
       "5      242\n",
       "12      90\n",
       "4       29\n",
       "13      13\n",
       "3        3\n",
       "1        1\n",
       "Name: quality, dtype: int64"
      ]
     },
     "execution_count": 158,
     "metadata": {},
     "output_type": "execute_result"
    }
   ],
   "source": [
    "dfCity.quality.value_counts()"
   ]
  },
  {
   "cell_type": "code",
   "execution_count": null,
   "metadata": {
    "id": "AK42g2RVMzul",
    "outputId": "63264b59-bfbe-4708-b2b1-4873748a5548"
   },
   "outputs": [
    {
     "data": {
      "text/plain": [
       "<seaborn.axisgrid.FacetGrid at 0x25adf7049d0>"
      ]
     },
     "execution_count": 159,
     "metadata": {},
     "output_type": "execute_result"
    },
    {
     "data": {
      "image/png": "[encoded data removed]",
      "text/plain": [
       "<Figure size 360x360 with 1 Axes>"
      ]
     },
     "metadata": {
      "needs_background": "light"
     },
     "output_type": "display_data"
    }
   ],
   "source": [
    "sn.factorplot('quality',data=dfCity,kind='count')\n",
    "# so here 0-5 merged into a level, and 10-13 also merged into another level"
   ]
  },
  {
   "cell_type": "code",
   "execution_count": null,
   "metadata": {
    "id": "eO9rhAm0Mzul",
    "outputId": "7fb99841-d0fa-4bf0-ed42-4057f6d94ecd"
   },
   "outputs": [
    {
     "data": {
      "text/plain": [
       "<seaborn.axisgrid.FacetGrid at 0x25adf6d3ee0>"
      ]
     },
     "execution_count": 160,
     "metadata": {},
     "output_type": "execute_result"
    },
    {
     "data": {
      "image/png": "[encoded data removed]",
      "text/plain": [
       "<Figure size 1440x360 with 1 Axes>"
      ]
     },
     "metadata": {
      "needs_background": "light"
     },
     "output_type": "display_data"
    }
   ],
   "source": [
    "pl = sn.factorplot('yr_built',data=dfCity, aspect=4,kind='count')\n",
    "pl.set_xticklabels(step=2)"
   ]
  },
  {
   "cell_type": "code",
   "execution_count": null,
   "metadata": {
    "id": "u_O5HDy-Mzum",
    "outputId": "d8608b50-4ecb-418f-9d6e-0edc1af2725d"
   },
   "outputs": [
    {
     "data": {
      "text/plain": [
       "<seaborn.axisgrid.FacetGrid at 0x25ad8131940>"
      ]
     },
     "execution_count": 141,
     "metadata": {},
     "output_type": "execute_result"
    },
    {
     "data": {
      "image/png": "[encoded data removed]",
      "text/plain": [
       "<Figure size 360x360 with 1 Axes>"
      ]
     },
     "metadata": {
      "needs_background": "light"
     },
     "output_type": "display_data"
    }
   ],
   "source": [
    "sn.factorplot('yr_sold',data=dfCity,kind='count')"
   ]
  },
  {
   "cell_type": "code",
   "execution_count": null,
   "metadata": {
    "id": "XOnm-53cMzum",
    "outputId": "5f62cc71-f25d-4245-cf85-ffd05ab8737f"
   },
   "outputs": [
    {
     "data": {
      "text/plain": [
       "<AxesSubplot:xlabel='room_bed', ylabel='price'>"
      ]
     },
     "execution_count": 142,
     "metadata": {},
     "output_type": "execute_result"
    },
    {
     "data": {
      "image/png": "[encoded data removed]",
      "text/plain": [
       "<Figure size 432x288 with 1 Axes>"
      ]
     },
     "metadata": {
      "needs_background": "light"
     },
     "output_type": "display_data"
    }
   ],
   "source": [
    "# plots between independent variables and price that is target\n",
    "sn.regplot(x=dfCity.room_bed, y=dfCity.price, color='g')"
   ]
  },
  {
   "cell_type": "code",
   "execution_count": null,
   "metadata": {
    "id": "wVWb16T8Mzum",
    "outputId": "99058aac-339b-4b02-fafb-b27616f0d882"
   },
   "outputs": [
    {
     "data": {
      "text/plain": [
       "<AxesSubplot:xlabel='room_bath', ylabel='price'>"
      ]
     },
     "execution_count": 143,
     "metadata": {},
     "output_type": "execute_result"
    },
    {
     "data": {
      "image/png": "[encoded data removed]",
      "text/plain": [
       "<Figure size 432x288 with 1 Axes>"
      ]
     },
     "metadata": {
      "needs_background": "light"
     },
     "output_type": "display_data"
    }
   ],
   "source": [
    "sn.regplot(x=dfCity.room_bath, y=dfCity.price, color='g')"
   ]
  },
  {
   "cell_type": "code",
   "execution_count": null,
   "metadata": {
    "id": "f-NYuwrHMzum",
    "outputId": "f86aacb9-69f4-4885-86f6-70206f090806"
   },
   "outputs": [
    {
     "name": "stdout",
     "output_type": "stream",
     "text": [
      "SpearmanrResult(correlation=0.6441923326759279, pvalue=0.0)\n"
     ]
    },
    {
     "data": {
      "image/png": "[encoded data removed]",
      "text/plain": [
       "<Figure size 432x288 with 1 Axes>"
      ]
     },
     "metadata": {
      "needs_background": "light"
     },
     "output_type": "display_data"
    }
   ],
   "source": [
    "from scipy.stats import spearmanr\n",
    "sn.regplot(x=dfCity.living_measure, y=dfCity.price, color='g')\n",
    "print(spearmanr(dfCity.living_measure,dfCity.price))  # find the co-relation between living measure and price\n",
    "# p-value means "
   ]
  },
  {
   "cell_type": "code",
   "execution_count": null,
   "metadata": {
    "id": "b-l1jGh1Mzum",
    "outputId": "c7ca4bda-b203-4a04-ad03-af74a02037b0"
   },
   "outputs": [
    {
     "data": {
      "text/plain": [
       "<AxesSubplot:xlabel='quality', ylabel='price'>"
      ]
     },
     "execution_count": 145,
     "metadata": {},
     "output_type": "execute_result"
    },
    {
     "data": {
      "image/png": "[encoded data removed]",
      "text/plain": [
       "<Figure size 432x288 with 1 Axes>"
      ]
     },
     "metadata": {
      "needs_background": "light"
     },
     "output_type": "display_data"
    }
   ],
   "source": [
    "#bivariate analysis for independent variable being a category and dependent variable being a number\n",
    "sn.barplot(x=dfCity.quality,y=dfCity.price)\n",
    "# mean value for each quality"
   ]
  },
  {
   "cell_type": "code",
   "execution_count": null,
   "metadata": {
    "id": "WZliGnvNMzum",
    "outputId": "885c7bda-86ef-4118-e544-517e5108ee5f"
   },
   "outputs": [
    {
     "data": {
      "text/plain": [
       "<AxesSubplot:xlabel='condition', ylabel='price'>"
      ]
     },
     "execution_count": 146,
     "metadata": {},
     "output_type": "execute_result"
    },
    {
     "data": {
      "image/png": "[encoded data removed]",
      "text/plain": [
       "<Figure size 432x288 with 1 Axes>"
      ]
     },
     "metadata": {
      "needs_background": "light"
     },
     "output_type": "display_data"
    }
   ],
   "source": [
    "sn.barplot(x=dfCity.condition,y=dfCity.price)\n",
    "# mean value for each condition value"
   ]
  },
  {
   "cell_type": "code",
   "execution_count": null,
   "metadata": {
    "id": "gqe73WxNMzun",
    "outputId": "5db345be-015e-493c-c86a-896b1a6ad96a"
   },
   "outputs": [
    {
     "name": "stdout",
     "output_type": "stream",
     "text": [
      "Number of unique value 117\n",
      "Max  value 115\n",
      "Min  value -1\n"
     ]
    }
   ],
   "source": [
    "print(\"Number of unique value\",dfCity.age_sold.nunique())\n",
    "print(\"Max  value\",dfCity.age_sold.max())\n",
    "print(\"Min  value\",dfCity.age_sold.min())"
   ]
  },
  {
   "cell_type": "code",
   "execution_count": null,
   "metadata": {
    "id": "l4XrLnVUMzun",
    "outputId": "e78a0b74-e0d4-4125-d821-796d830ae00b"
   },
   "outputs": [
    {
     "data": {
      "text/plain": [
       "<AxesSubplot:xlabel='age_bin', ylabel='price'>"
      ]
     },
     "execution_count": 148,
     "metadata": {},
     "output_type": "execute_result"
    },
    {
     "data": {
      "image/png": "[encoded data removed]",
      "text/plain": [
       "<Figure size 432x288 with 1 Axes>"
      ]
     },
     "metadata": {
      "needs_background": "light"
     },
     "output_type": "display_data"
    }
   ],
   "source": [
    "dfCity['age_bin']=pd.cut(dfCity.age_sold,bins=[0,10,20,25,30,50,75,100,150])\n",
    "sn.barplot(x=dfCity.age_bin,y=dfCity.price)"
   ]
  },
  {
   "cell_type": "code",
   "execution_count": null,
   "metadata": {
    "id": "f5PrdpaKMzun"
   },
   "outputs": [],
   "source": []
  },
  {
   "cell_type": "code",
   "execution_count": null,
   "metadata": {
    "id": "K0e7h4hHMzun"
   },
   "outputs": [],
   "source": []
  }
 ],
 "metadata": {
  "colab": {
   "provenance": []
  },
  "kernelspec": {
   "display_name": "Python 3 (ipykernel)",
   "language": "python",
   "name": "python3"
  },
  "language_info": {
   "codemirror_mode": {
    "name": "ipython",
    "version": 3
   },
   "file_extension": ".py",
   "mimetype": "text/x-python",
   "name": "python",
   "nbconvert_exporter": "python",
   "pygments_lexer": "ipython3",
   "version": "3.9.7"
  }
 },
 "nbformat": 4,
 "nbformat_minor": 1
}
