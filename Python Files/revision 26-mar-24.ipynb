{
 "cells": [
  {
   "cell_type": "code",
   "execution_count": 1,
   "id": "a3f147d1",
   "metadata": {},
   "outputs": [
    {
     "name": "stdout",
     "output_type": "stream",
     "text": [
      "hello world\n"
     ]
    }
   ],
   "source": [
    "print(\"hello world\") #' '--\" \"-- ''' '''"
   ]
  },
  {
   "cell_type": "code",
   "execution_count": 2,
   "id": "4a017171",
   "metadata": {},
   "outputs": [
    {
     "name": "stdout",
     "output_type": "stream",
     "text": [
      "hello\n"
     ]
    }
   ],
   "source": [
    "a= 'hello'\n",
    "print(a)"
   ]
  },
  {
   "cell_type": "code",
   "execution_count": 3,
   "id": "9bcb66ca",
   "metadata": {},
   "outputs": [
    {
     "name": "stdout",
     "output_type": "stream",
     "text": [
      "<class 'int'>\n"
     ]
    }
   ],
   "source": [
    "#variables and datatypes..\n",
    "\n",
    "#int float string boolean complex range \n",
    "#adv data types list tuple dictionary set \n",
    "a = 12 #whole number(int)\n",
    "print(type(a))"
   ]
  },
  {
   "cell_type": "code",
   "execution_count": 4,
   "id": "d15507f4",
   "metadata": {},
   "outputs": [
    {
     "name": "stdout",
     "output_type": "stream",
     "text": [
      "<class 'float'>\n"
     ]
    }
   ],
   "source": [
    "a =23.0\n",
    "print(type(a))"
   ]
  },
  {
   "cell_type": "code",
   "execution_count": 6,
   "id": "e860401d",
   "metadata": {},
   "outputs": [
    {
     "data": {
      "text/plain": [
       "bool"
      ]
     },
     "execution_count": 6,
     "metadata": {},
     "output_type": "execute_result"
    }
   ],
   "source": [
    "a = True\n",
    "type(a)"
   ]
  },
  {
   "cell_type": "code",
   "execution_count": 8,
   "id": "f8f2452f",
   "metadata": {},
   "outputs": [
    {
     "data": {
      "text/plain": [
       "complex"
      ]
     },
     "execution_count": 8,
     "metadata": {},
     "output_type": "execute_result"
    }
   ],
   "source": [
    "a = 4+5j\n",
    "type(a)"
   ]
  },
  {
   "cell_type": "code",
   "execution_count": 9,
   "id": "eeeab13b",
   "metadata": {},
   "outputs": [],
   "source": [
    "# #variables\n",
    "# avoid special characters\n",
    "# do not use keywords\n",
    "# use _ (underscore)\n",
    "# 1st alphabet no num\n",
    "\n",
    "name = \"deve\" # name  variable\n",
    "na_me = \"institute\" # na_me variable"
   ]
  },
  {
   "cell_type": "code",
   "execution_count": 13,
   "id": "f2cfd550",
   "metadata": {},
   "outputs": [
    {
     "data": {
      "text/plain": [
       "30"
      ]
     },
     "execution_count": 13,
     "metadata": {},
     "output_type": "execute_result"
    }
   ],
   "source": [
    "_a = 30\n",
    "_a"
   ]
  },
  {
   "cell_type": "code",
   "execution_count": 14,
   "id": "d8ab8bcc",
   "metadata": {},
   "outputs": [],
   "source": [
    "na1_me = 30"
   ]
  },
  {
   "cell_type": "code",
   "execution_count": 15,
   "id": "f3bd2634",
   "metadata": {},
   "outputs": [],
   "source": [
    "_ = 30"
   ]
  },
  {
   "cell_type": "code",
   "execution_count": 16,
   "id": "edfbcb2c",
   "metadata": {},
   "outputs": [
    {
     "name": "stdout",
     "output_type": "stream",
     "text": [
      "30\n"
     ]
    }
   ],
   "source": [
    "print(_)"
   ]
  },
  {
   "cell_type": "code",
   "execution_count": 17,
   "id": "71669981",
   "metadata": {},
   "outputs": [],
   "source": [
    "#string\n",
    "\n",
    "name = \"hello world\"\n",
    "\n",
    "number = str(30)"
   ]
  },
  {
   "cell_type": "code",
   "execution_count": 19,
   "id": "7a8c7d3b",
   "metadata": {},
   "outputs": [
    {
     "data": {
      "text/plain": [
       "str"
      ]
     },
     "execution_count": 19,
     "metadata": {},
     "output_type": "execute_result"
    }
   ],
   "source": [
    "type(number)"
   ]
  },
  {
   "cell_type": "code",
   "execution_count": 21,
   "id": "a4455b06",
   "metadata": {},
   "outputs": [
    {
     "data": {
      "text/plain": [
       "'hello 30'"
      ]
     },
     "execution_count": 21,
     "metadata": {},
     "output_type": "execute_result"
    }
   ],
   "source": [
    "# concate string\n",
    "\n",
    "name = \"hello\"\n",
    "number = str(30)\n",
    "\n",
    "name+\" \"+number"
   ]
  },
  {
   "cell_type": "code",
   "execution_count": 25,
   "id": "84299f76",
   "metadata": {},
   "outputs": [
    {
     "name": "stdout",
     "output_type": "stream",
     "text": [
      "\n",
      "Here is a list of the Python keywords.  Enter any keyword to get more help.\n",
      "\n",
      "False               class               from                or\n",
      "None                continue            global              pass\n",
      "True                def                 if                  raise\n",
      "and                 del                 import              return\n",
      "as                  elif                in                  try\n",
      "assert              else                is                  while\n",
      "async               except              lambda              with\n",
      "await               finally             nonlocal            yield\n",
      "break               for                 not                 \n",
      "\n"
     ]
    }
   ],
   "source": [
    "# keywords\n",
    "#we do not use keywords as a variable..\n",
    "help('keywords')"
   ]
  },
  {
   "cell_type": "code",
   "execution_count": 28,
   "id": "456b035d",
   "metadata": {},
   "outputs": [
    {
     "name": "stdout",
     "output_type": "stream",
     "text": [
      "Hello\n"
     ]
    }
   ],
   "source": [
    "#comments\n",
    "#single line comment (#)\n",
    "#multi line comment (''' ''')(\"\"\" \"\"\")\n",
    "\n",
    "#this is single line comment\n",
    "\n",
    "\n",
    "'''this is a multi\n",
    "line comment'''\n",
    "print('Hello')"
   ]
  },
  {
   "cell_type": "code",
   "execution_count": 29,
   "id": "f290061a",
   "metadata": {},
   "outputs": [],
   "source": [
    "#hello"
   ]
  },
  {
   "cell_type": "code",
   "execution_count": 30,
   "id": "173e70c8",
   "metadata": {},
   "outputs": [
    {
     "name": "stdout",
     "output_type": "stream",
     "text": [
      "hello world\n"
     ]
    }
   ],
   "source": [
    "a = 'hello world'\n",
    "print(a)"
   ]
  },
  {
   "cell_type": "code",
   "execution_count": 32,
   "id": "81b35356",
   "metadata": {},
   "outputs": [
    {
     "data": {
      "text/plain": [
       "11"
      ]
     },
     "execution_count": 32,
     "metadata": {},
     "output_type": "execute_result"
    }
   ],
   "source": [
    "len(a) #length of a"
   ]
  },
  {
   "cell_type": "code",
   "execution_count": 33,
   "id": "b6bb9c03",
   "metadata": {},
   "outputs": [
    {
     "name": "stdout",
     "output_type": "stream",
     "text": [
      "1011\n"
     ]
    }
   ],
   "source": [
    "b = '1011'\n",
    "print(b)"
   ]
  },
  {
   "cell_type": "code",
   "execution_count": 34,
   "id": "4b3a31b4",
   "metadata": {},
   "outputs": [
    {
     "data": {
      "text/plain": [
       "str"
      ]
     },
     "execution_count": 34,
     "metadata": {},
     "output_type": "execute_result"
    }
   ],
   "source": [
    "type(a)"
   ]
  },
  {
   "cell_type": "code",
   "execution_count": 36,
   "id": "95d98deb",
   "metadata": {},
   "outputs": [
    {
     "data": {
      "text/plain": [
       "str"
      ]
     },
     "execution_count": 36,
     "metadata": {},
     "output_type": "execute_result"
    }
   ],
   "source": [
    "type(b)"
   ]
  },
  {
   "cell_type": "code",
   "execution_count": 37,
   "id": "d12ff6ca",
   "metadata": {},
   "outputs": [
    {
     "data": {
      "text/plain": [
       "'o'"
      ]
     },
     "execution_count": 37,
     "metadata": {},
     "output_type": "execute_result"
    }
   ],
   "source": [
    "#silicing\n",
    "\n",
    "a[4]"
   ]
  },
  {
   "cell_type": "code",
   "execution_count": 38,
   "id": "1f372817",
   "metadata": {},
   "outputs": [
    {
     "data": {
      "text/plain": [
       "' '"
      ]
     },
     "execution_count": 38,
     "metadata": {},
     "output_type": "execute_result"
    }
   ],
   "source": [
    "a[5]"
   ]
  },
  {
   "cell_type": "code",
   "execution_count": 39,
   "id": "e16dbc87",
   "metadata": {},
   "outputs": [
    {
     "ename": "IndexError",
     "evalue": "string index out of range",
     "output_type": "error",
     "traceback": [
      "\u001b[1;31m---------------------------------------------------------------------------\u001b[0m",
      "\u001b[1;31mIndexError\u001b[0m                                Traceback (most recent call last)",
      "Cell \u001b[1;32mIn[39], line 1\u001b[0m\n\u001b[1;32m----> 1\u001b[0m a[\u001b[38;5;241m12\u001b[39m]\n",
      "\u001b[1;31mIndexError\u001b[0m: string index out of range"
     ]
    }
   ],
   "source": [
    "a[12]"
   ]
  },
  {
   "cell_type": "code",
   "execution_count": 40,
   "id": "d2404982",
   "metadata": {},
   "outputs": [
    {
     "data": {
      "text/plain": [
       "'hel'"
      ]
     },
     "execution_count": 40,
     "metadata": {},
     "output_type": "execute_result"
    }
   ],
   "source": [
    "a[0:3]"
   ]
  },
  {
   "cell_type": "code",
   "execution_count": 41,
   "id": "c04539b9",
   "metadata": {},
   "outputs": [
    {
     "data": {
      "text/plain": [
       "'hello'"
      ]
     },
     "execution_count": 41,
     "metadata": {},
     "output_type": "execute_result"
    }
   ],
   "source": [
    "a[0:5]"
   ]
  },
  {
   "cell_type": "code",
   "execution_count": 42,
   "id": "e257f06c",
   "metadata": {},
   "outputs": [
    {
     "data": {
      "text/plain": [
       "'hello world'"
      ]
     },
     "execution_count": 42,
     "metadata": {},
     "output_type": "execute_result"
    }
   ],
   "source": [
    "a[:] # print whole string"
   ]
  },
  {
   "cell_type": "code",
   "execution_count": 43,
   "id": "7008158c",
   "metadata": {},
   "outputs": [
    {
     "data": {
      "text/plain": [
       "'hello w'"
      ]
     },
     "execution_count": 43,
     "metadata": {},
     "output_type": "execute_result"
    }
   ],
   "source": [
    "a[:7] # start from 0"
   ]
  },
  {
   "cell_type": "code",
   "execution_count": 44,
   "id": "7ebaf19b",
   "metadata": {},
   "outputs": [
    {
     "data": {
      "text/plain": [
       "'lo world'"
      ]
     },
     "execution_count": 44,
     "metadata": {},
     "output_type": "execute_result"
    }
   ],
   "source": [
    "a[3:]#end of the string"
   ]
  },
  {
   "cell_type": "code",
   "execution_count": 46,
   "id": "0bed451f",
   "metadata": {},
   "outputs": [
    {
     "data": {
      "text/plain": [
       "'hlo'"
      ]
     },
     "execution_count": 46,
     "metadata": {},
     "output_type": "execute_result"
    }
   ],
   "source": [
    "a[0:6:2] #0 start-- 6 end -- 2 step  bydefault 1"
   ]
  },
  {
   "cell_type": "code",
   "execution_count": 47,
   "id": "6c37e617",
   "metadata": {},
   "outputs": [
    {
     "data": {
      "text/plain": [
       "'hlowrd'"
      ]
     },
     "execution_count": 47,
     "metadata": {},
     "output_type": "execute_result"
    }
   ],
   "source": [
    "a[::2]"
   ]
  },
  {
   "cell_type": "code",
   "execution_count": 49,
   "id": "99f725f1",
   "metadata": {},
   "outputs": [
    {
     "data": {
      "text/plain": [
       "'ello worl'"
      ]
     },
     "execution_count": 49,
     "metadata": {},
     "output_type": "execute_result"
    }
   ],
   "source": [
    "a[1:-1]  "
   ]
  },
  {
   "cell_type": "code",
   "execution_count": 52,
   "id": "dbf82a40",
   "metadata": {},
   "outputs": [
    {
     "data": {
      "text/plain": [
       "'dlrow olleh'"
      ]
     },
     "execution_count": 52,
     "metadata": {},
     "output_type": "execute_result"
    }
   ],
   "source": [
    "a[::-1] #reverse print of hello world"
   ]
  },
  {
   "cell_type": "code",
   "execution_count": 58,
   "id": "011bc5b0",
   "metadata": {},
   "outputs": [
    {
     "data": {
      "text/plain": [
       "'HELLO WORLD.'"
      ]
     },
     "execution_count": 58,
     "metadata": {},
     "output_type": "execute_result"
    }
   ],
   "source": [
    "a = \"HeLlO WoRlD.\"\n",
    "\n",
    "a.upper() #capital leter"
   ]
  },
  {
   "cell_type": "code",
   "execution_count": 59,
   "id": "41f7e2a4",
   "metadata": {},
   "outputs": [
    {
     "data": {
      "text/plain": [
       "'hello world.'"
      ]
     },
     "execution_count": 59,
     "metadata": {},
     "output_type": "execute_result"
    }
   ],
   "source": [
    "a.lower() #small letter"
   ]
  },
  {
   "cell_type": "code",
   "execution_count": 60,
   "id": "4f05779f",
   "metadata": {},
   "outputs": [
    {
     "data": {
      "text/plain": [
       "'hello world.'"
      ]
     },
     "execution_count": 60,
     "metadata": {},
     "output_type": "execute_result"
    }
   ],
   "source": [
    "a.casefold() #same as lower"
   ]
  },
  {
   "cell_type": "code",
   "execution_count": 67,
   "id": "eef0361f",
   "metadata": {},
   "outputs": [
    {
     "data": {
      "text/plain": [
       "'----HeLlO WoRlD.----'"
      ]
     },
     "execution_count": 67,
     "metadata": {},
     "output_type": "execute_result"
    }
   ],
   "source": [
    "a.center(20,\"-\") #center"
   ]
  },
  {
   "cell_type": "code",
   "execution_count": 68,
   "id": "385766df",
   "metadata": {},
   "outputs": [
    {
     "data": {
      "text/plain": [
       "'hElLo wOrLd.'"
      ]
     },
     "execution_count": 68,
     "metadata": {},
     "output_type": "execute_result"
    }
   ],
   "source": [
    "a.swapcase() #upper(lower) and lower(upper)"
   ]
  },
  {
   "cell_type": "code",
   "execution_count": 70,
   "id": "76de7e96",
   "metadata": {},
   "outputs": [
    {
     "data": {
      "text/plain": [
       "'hello World'"
      ]
     },
     "execution_count": 70,
     "metadata": {},
     "output_type": "execute_result"
    }
   ],
   "source": [
    "a = \" hello World \"\n",
    "a.strip()  #remove beg and end unwanted space"
   ]
  },
  {
   "cell_type": "code",
   "execution_count": 75,
   "id": "8ae246b1",
   "metadata": {},
   "outputs": [
    {
     "data": {
      "text/plain": [
       "'Develearn Institute'"
      ]
     },
     "execution_count": 75,
     "metadata": {},
     "output_type": "execute_result"
    }
   ],
   "source": [
    "a =\"develearn institute\"\n",
    "a.title() #1st letter capital each word"
   ]
  },
  {
   "cell_type": "code",
   "execution_count": 76,
   "id": "33a53254",
   "metadata": {},
   "outputs": [
    {
     "data": {
      "text/plain": [
       "'Develearn institute'"
      ]
     },
     "execution_count": 76,
     "metadata": {},
     "output_type": "execute_result"
    }
   ],
   "source": [
    "a.capitalize() #1st letter capital only"
   ]
  },
  {
   "cell_type": "code",
   "execution_count": 78,
   "id": "84bffe20",
   "metadata": {},
   "outputs": [
    {
     "data": {
      "text/plain": [
       "['develearn', 'institute']"
      ]
     },
     "execution_count": 78,
     "metadata": {},
     "output_type": "execute_result"
    }
   ],
   "source": [
    "a.split() #output in list split both word"
   ]
  },
  {
   "cell_type": "code",
   "execution_count": 80,
   "id": "7ffc3d83",
   "metadata": {},
   "outputs": [
    {
     "data": {
      "text/plain": [
       "'develearn Class'"
      ]
     },
     "execution_count": 80,
     "metadata": {},
     "output_type": "execute_result"
    }
   ],
   "source": [
    "a.replace('institute','Class')"
   ]
  },
  {
   "cell_type": "code",
   "execution_count": 82,
   "id": "6d2f9a16",
   "metadata": {},
   "outputs": [
    {
     "data": {
      "text/plain": [
       "\"hello 'world.'\""
      ]
     },
     "execution_count": 82,
     "metadata": {},
     "output_type": "execute_result"
    }
   ],
   "source": [
    "a = \"hello 'world.'\"\n",
    "a"
   ]
  },
  {
   "cell_type": "code",
   "execution_count": 83,
   "id": "23b68c41",
   "metadata": {},
   "outputs": [
    {
     "data": {
      "text/plain": [
       "'hello \"world\"'"
      ]
     },
     "execution_count": 83,
     "metadata": {},
     "output_type": "execute_result"
    }
   ],
   "source": [
    "a = 'hello \"world\"'\n",
    "a"
   ]
  },
  {
   "cell_type": "code",
   "execution_count": 87,
   "id": "7bd54c65",
   "metadata": {},
   "outputs": [],
   "source": [
    "#operators\n",
    "#arithmatic\n",
    "#assignment\n",
    "#relational/comparison\n",
    "#identity\n",
    "#membership\n",
    "#bitwise\n",
    "#logical\n"
   ]
  },
  {
   "cell_type": "code",
   "execution_count": 90,
   "id": "06bbd089",
   "metadata": {},
   "outputs": [
    {
     "name": "stdout",
     "output_type": "stream",
     "text": [
      "12\n",
      "-2\n",
      "35\n",
      "0.7142857142857143\n",
      "0\n",
      "78125\n",
      "5\n"
     ]
    }
   ],
   "source": [
    "#basic calculations\n",
    "a = 5\n",
    "b = 7\n",
    "\n",
    "print(a+b)\n",
    "print(a-b)\n",
    "print(a*b)\n",
    "print(a/b)\n",
    "print(a//b)\n",
    "print(a**b) #power--exponential\n",
    "print(a%b) #reminder"
   ]
  },
  {
   "cell_type": "code",
   "execution_count": 91,
   "id": "63d78550",
   "metadata": {},
   "outputs": [],
   "source": [
    "#assignment operator\n",
    "\n",
    "a = 4 \n",
    "b=a"
   ]
  },
  {
   "cell_type": "code",
   "execution_count": 92,
   "id": "7d4b7e93",
   "metadata": {},
   "outputs": [
    {
     "data": {
      "text/plain": [
       "4"
      ]
     },
     "execution_count": 92,
     "metadata": {},
     "output_type": "execute_result"
    }
   ],
   "source": [
    "a"
   ]
  },
  {
   "cell_type": "code",
   "execution_count": 94,
   "id": "1898465b",
   "metadata": {},
   "outputs": [
    {
     "data": {
      "text/plain": [
       "4"
      ]
     },
     "execution_count": 94,
     "metadata": {},
     "output_type": "execute_result"
    }
   ],
   "source": [
    "b"
   ]
  },
  {
   "cell_type": "code",
   "execution_count": 99,
   "id": "bc65e357",
   "metadata": {},
   "outputs": [],
   "source": [
    "a = 5\n",
    "b = 4"
   ]
  },
  {
   "cell_type": "code",
   "execution_count": null,
   "id": "aef4fca7",
   "metadata": {},
   "outputs": [],
   "source": []
  },
  {
   "cell_type": "code",
   "execution_count": null,
   "id": "197d43ac",
   "metadata": {},
   "outputs": [],
   "source": []
  }
 ],
 "metadata": {
  "kernelspec": {
   "display_name": "Python 3 (ipykernel)",
   "language": "python",
   "name": "python3"
  },
  "language_info": {
   "codemirror_mode": {
    "name": "ipython",
    "version": 3
   },
   "file_extension": ".py",
   "mimetype": "text/x-python",
   "name": "python",
   "nbconvert_exporter": "python",
   "pygments_lexer": "ipython3",
   "version": "3.11.5"
  }
 },
 "nbformat": 4,
 "nbformat_minor": 5
}
