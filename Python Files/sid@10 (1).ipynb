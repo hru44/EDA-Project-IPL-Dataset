{
 "cells": [
  {
   "cell_type": "code",
   "execution_count": 3,
   "id": "5cf9e99f",
   "metadata": {},
   "outputs": [
    {
     "name": "stdout",
     "output_type": "stream",
     "text": [
      "siddhesh\n"
     ]
    }
   ],
   "source": [
    "#1)take input from user and print its inputvalue using input function\n",
    "a = input()"
   ]
  },
  {
   "cell_type": "code",
   "execution_count": 1,
   "id": "edc899b3",
   "metadata": {},
   "outputs": [
    {
     "data": {
      "text/plain": [
       "'h'"
      ]
     },
     "execution_count": 1,
     "metadata": {},
     "output_type": "execute_result"
    }
   ],
   "source": [
    "#create a string and print the last element\n",
    "a = \"Siddhesh\"\n",
    "a[-1]"
   ]
  },
  {
   "cell_type": "code",
   "execution_count": 2,
   "id": "40c2534f",
   "metadata": {},
   "outputs": [
    {
     "data": {
      "text/plain": [
       "'s'"
      ]
     },
     "execution_count": 2,
     "metadata": {},
     "output_type": "execute_result"
    }
   ],
   "source": [
    "#create a string and print second last element\n",
    "a = \"Siddhesh\"\n",
    "a[-2]"
   ]
  },
  {
   "cell_type": "code",
   "execution_count": 4,
   "id": "c07d8911",
   "metadata": {},
   "outputs": [
    {
     "name": "stdout",
     "output_type": "stream",
     "text": [
      "hellohellohellohellohello\n"
     ]
    }
   ],
   "source": [
    "#create a string as eg:\"hellohellohellohello\" and print it \n",
    "a = \"hello\"*5\n",
    "print(a)"
   ]
  },
  {
   "cell_type": "code",
   "execution_count": 5,
   "id": "0b28c51b",
   "metadata": {},
   "outputs": [
    {
     "data": {
      "text/plain": [
       "'Helloworld'"
      ]
     },
     "execution_count": 5,
     "metadata": {},
     "output_type": "execute_result"
    }
   ],
   "source": [
    "#create  two string like \"hello\" and \"world\" and print \"helloworld\"\n",
    "a = \"Hello\"\n",
    "b = \"world\"\n",
    "a+b"
   ]
  },
  {
   "cell_type": "code",
   "execution_count": 6,
   "id": "f71468f7",
   "metadata": {},
   "outputs": [
    {
     "name": "stdout",
     "output_type": "stream",
     "text": [
      "20\n",
      "10\n"
     ]
    }
   ],
   "source": [
    "#create two variable and swap its value eg a=10,b=20 afer swapping there output is a=20,b=10\n",
    "a = 10\n",
    "b = 20\n",
    "a,b = b,a\n",
    "print(a)\n",
    "print(b)"
   ]
  },
  {
   "cell_type": "code",
   "execution_count": 7,
   "id": "32ad7f0a",
   "metadata": {},
   "outputs": [
    {
     "data": {
      "text/plain": [
       "2"
      ]
     },
     "execution_count": 7,
     "metadata": {},
     "output_type": "execute_result"
    }
   ],
   "source": [
    "#create a tuple like(1,2,3,4,3,2) and count number of  occurrences  of 3\n",
    "a = (1,2,3,4,3,2)\n",
    "a.count(3)"
   ]
  },
  {
   "cell_type": "code",
   "execution_count": 8,
   "id": "e1d033b8",
   "metadata": {},
   "outputs": [
    {
     "data": {
      "text/plain": [
       "2"
      ]
     },
     "execution_count": 8,
     "metadata": {},
     "output_type": "execute_result"
    }
   ],
   "source": [
    "#create a tuple like(1,2,3,4,3,2) and print the index number of 3\n",
    "a = (1,2,3,4,3,2)\n",
    "a.index(3)"
   ]
  },
  {
   "cell_type": "code",
   "execution_count": 9,
   "id": "faf8ebce",
   "metadata": {},
   "outputs": [
    {
     "data": {
      "text/plain": [
       "(2, 3, 4)"
      ]
     },
     "execution_count": 9,
     "metadata": {},
     "output_type": "execute_result"
    }
   ],
   "source": [
    "#create a tuple like(1,2,3,4,3,2) and print (2,3,4) only\n",
    "a = (1,2,3,4,3,2)\n",
    "a[1:4]"
   ]
  },
  {
   "cell_type": "code",
   "execution_count": 4,
   "id": "576e9f4a",
   "metadata": {},
   "outputs": [
    {
     "ename": "NameError",
     "evalue": "name 'remove' is not defined",
     "output_type": "error",
     "traceback": [
      "\u001b[1;31m---------------------------------------------------------------------------\u001b[0m",
      "\u001b[1;31mNameError\u001b[0m                                 Traceback (most recent call last)",
      "Cell \u001b[1;32mIn[4], line 4\u001b[0m\n\u001b[0;32m      2\u001b[0m a \u001b[38;5;241m=\u001b[39m (\u001b[38;5;241m1\u001b[39m,\u001b[38;5;241m2\u001b[39m,\u001b[38;5;241m3\u001b[39m,\u001b[38;5;241m4\u001b[39m,\u001b[38;5;241m3\u001b[39m,\u001b[38;5;241m2\u001b[39m)\n\u001b[0;32m      3\u001b[0m a1\u001b[38;5;241m=\u001b[39m\u001b[38;5;28mlist\u001b[39m(a)\n\u001b[1;32m----> 4\u001b[0m remove(\u001b[38;5;241m3\u001b[39m)\n\u001b[0;32m      5\u001b[0m a1\n",
      "\u001b[1;31mNameError\u001b[0m: name 'remove' is not defined"
     ]
    }
   ],
   "source": [
    "#create tuple like(1,2,3,4,3,2) and remove 3 in this tuple\n",
    "a = (1,2,3,4,3,2)\n",
    "b \n",
    " "
   ]
  },
  {
   "cell_type": "code",
   "execution_count": 10,
   "id": "024f71b5",
   "metadata": {},
   "outputs": [
    {
     "data": {
      "text/plain": [
       "[1, 2, 4, 3]"
      ]
     },
     "execution_count": 10,
     "metadata": {},
     "output_type": "execute_result"
    }
   ],
   "source": [
    "#create a list like[1,2,3,4] and change the elements like[1,2,4,3] without using list methods\n",
    "a = [1,2,3,4]\n",
    "a[2:]=[4,3]\n",
    "a"
   ]
  },
  {
   "cell_type": "code",
   "execution_count": 11,
   "id": "ddfd2578",
   "metadata": {},
   "outputs": [
    {
     "data": {
      "text/plain": [
       "[]"
      ]
     },
     "execution_count": 11,
     "metadata": {},
     "output_type": "execute_result"
    }
   ],
   "source": [
    "#create a list like[1,2,3,4] and delete all the elements in list and print empty list without using any method \n",
    "a = [1,2,3,4]\n",
    "a.clear()\n",
    "a"
   ]
  },
  {
   "cell_type": "code",
   "execution_count": 13,
   "id": "019ffa24",
   "metadata": {},
   "outputs": [
    {
     "data": {
      "text/plain": [
       "tuple"
      ]
     },
     "execution_count": 13,
     "metadata": {},
     "output_type": "execute_result"
    }
   ],
   "source": [
    "#create single value tuple\n",
    "a =(1,)\n",
    "type(a)"
   ]
  },
  {
   "cell_type": "code",
   "execution_count": 16,
   "id": "a3a1f2fc",
   "metadata": {},
   "outputs": [
    {
     "data": {
      "text/plain": [
       "set"
      ]
     },
     "execution_count": 16,
     "metadata": {},
     "output_type": "execute_result"
    }
   ],
   "source": [
    "#create empty set\n",
    "a = set()\n",
    "type(a)"
   ]
  },
  {
   "cell_type": "code",
   "execution_count": 19,
   "id": "0263c2c1",
   "metadata": {},
   "outputs": [
    {
     "name": "stdout",
     "output_type": "stream",
     "text": [
      "10\n"
     ]
    }
   ],
   "source": [
    "#create a dictionery like \"a\":10,\"b\":{20} and print the value of \"a\" without using methods\n",
    "a = {\"a\":10,\"b\":20}\n",
    "print(a[\"a\"])"
   ]
  },
  {
   "cell_type": "code",
   "execution_count": 21,
   "id": "cb1ee00f",
   "metadata": {},
   "outputs": [
    {
     "data": {
      "text/plain": [
       "{'a': 10, 'b': 30}"
      ]
     },
     "execution_count": 21,
     "metadata": {},
     "output_type": "execute_result"
    }
   ],
   "source": [
    "#create a dictionery like {\"a\":10,\"b\":20} and change the value of \"b\" is 30 and print it without using methods\n",
    "a = {\"a\":10,\"b\":20}\n",
    "a[\"b\"]=30\n",
    "a"
   ]
  },
  {
   "cell_type": "code",
   "execution_count": 22,
   "id": "b13b3d34",
   "metadata": {},
   "outputs": [
    {
     "data": {
      "text/plain": [
       "{'a': 10, 'b': 20, 'c': 30}"
      ]
     },
     "execution_count": 22,
     "metadata": {},
     "output_type": "execute_result"
    }
   ],
   "source": [
    "#create a dictionery like {\"a\":10,\"b\":20} and insert the key value pair which the key is \"c\" and the value is 30 and print it\n",
    "a = {\"a\":10,\"b\":20}\n",
    "a[\"c\"]=30\n",
    "a"
   ]
  },
  {
   "cell_type": "code",
   "execution_count": 23,
   "id": "c74d7fe8",
   "metadata": {},
   "outputs": [
    {
     "data": {
      "text/plain": [
       "{1, 2, 3, 4, 5, 6}"
      ]
     },
     "execution_count": 23,
     "metadata": {},
     "output_type": "execute_result"
    }
   ],
   "source": [
    "#create two sets like {1,2,3,4} and {3,4,5,6} and find the union without using union method\n",
    "a = {1,2,3,4}\n",
    "b = {3,4,5,6}\n",
    "a|b"
   ]
  },
  {
   "cell_type": "code",
   "execution_count": 24,
   "id": "abc047a7",
   "metadata": {},
   "outputs": [
    {
     "data": {
      "text/plain": [
       "{3, 4}"
      ]
     },
     "execution_count": 24,
     "metadata": {},
     "output_type": "execute_result"
    }
   ],
   "source": [
    "#create two sets like {1,2,3,4} and {3,4,5,6} and find the intersection without using intersection method\n",
    "a = {1,2,3,4}\n",
    "b = {3,4,5,6}\n",
    "a&b"
   ]
  },
  {
   "cell_type": "code",
   "execution_count": 1,
   "id": "afc3fc53",
   "metadata": {},
   "outputs": [
    {
     "data": {
      "text/plain": [
       "{5, 6}"
      ]
     },
     "execution_count": 1,
     "metadata": {},
     "output_type": "execute_result"
    }
   ],
   "source": [
    "#create two sets like {1,2,3,4} and {3,4,5,6} and find there difference without using difference method\n",
    "a = {1,2,3,4}\n",
    "b = {3,4,5,6}\n",
    "b-a"
   ]
  },
  {
   "cell_type": "code",
   "execution_count": 27,
   "id": "951eff92",
   "metadata": {},
   "outputs": [
    {
     "data": {
      "text/plain": [
       "{1, 2, 4}"
      ]
     },
     "execution_count": 27,
     "metadata": {},
     "output_type": "execute_result"
    }
   ],
   "source": [
    "#create a set like {1,2,3,4} and remove 3\n",
    "a = {1,2,3,4}\n",
    "a.remove(3)\n",
    "a"
   ]
  },
  {
   "cell_type": "code",
   "execution_count": 29,
   "id": "2c646b95",
   "metadata": {},
   "outputs": [
    {
     "data": {
      "text/plain": [
       "{1, 2, 4}"
      ]
     },
     "execution_count": 29,
     "metadata": {},
     "output_type": "execute_result"
    }
   ],
   "source": [
    "#create a set like {1,2,3,4} and remove 3 using discard method and undrstand what's the difference between remove and pop\n",
    "a = {1,2,3,4}\n",
    "a.discard(3)\n",
    "a"
   ]
  },
  {
   "cell_type": "code",
   "execution_count": 30,
   "id": "e771abb6",
   "metadata": {},
   "outputs": [
    {
     "data": {
      "text/plain": [
       "2"
      ]
     },
     "execution_count": 30,
     "metadata": {},
     "output_type": "execute_result"
    }
   ],
   "source": [
    "#create a string like \"hello world\" and count \"o\"\n",
    "a = \"hello world\"\n",
    "a.count(\"o\")"
   ]
  },
  {
   "cell_type": "code",
   "execution_count": 2,
   "id": "286500ad",
   "metadata": {},
   "outputs": [
    {
     "ename": "NameError",
     "evalue": "name 'z' is not defined",
     "output_type": "error",
     "traceback": [
      "\u001b[1;31m---------------------------------------------------------------------------\u001b[0m",
      "\u001b[1;31mNameError\u001b[0m                                 Traceback (most recent call last)",
      "Cell \u001b[1;32mIn[2], line 3\u001b[0m\n\u001b[0;32m      1\u001b[0m \u001b[38;5;66;03m#create a string like \"hello world\" and find \"z\" or index \"z\" and understand difference between index and count\u001b[39;00m\n\u001b[0;32m      2\u001b[0m a \u001b[38;5;241m=\u001b[39m \u001b[38;5;124m\"\u001b[39m\u001b[38;5;124mhello world\u001b[39m\u001b[38;5;124m\"\u001b[39m\n\u001b[1;32m----> 3\u001b[0m a\u001b[38;5;241m.\u001b[39mfind(z)\n",
      "\u001b[1;31mNameError\u001b[0m: name 'z' is not defined"
     ]
    }
   ],
   "source": [
    "#create a string like \"hello world\" and find \"z\" or index \"z\" and understand difference between index and count\n",
    "a = \"hello world\"\n",
    "a.find(z)"
   ]
  },
  {
   "cell_type": "code",
   "execution_count": 32,
   "id": "054fd6f6",
   "metadata": {},
   "outputs": [
    {
     "ename": "NameError",
     "evalue": "name 'z' is not defined",
     "output_type": "error",
     "traceback": [
      "\u001b[1;31m---------------------------------------------------------------------------\u001b[0m",
      "\u001b[1;31mNameError\u001b[0m                                 Traceback (most recent call last)",
      "Cell \u001b[1;32mIn[32], line 3\u001b[0m\n\u001b[0;32m      1\u001b[0m \u001b[38;5;66;03m#\u001b[39;00m\n\u001b[0;32m      2\u001b[0m a \u001b[38;5;241m=\u001b[39m \u001b[38;5;124m\"\u001b[39m\u001b[38;5;124mhello world\u001b[39m\u001b[38;5;124m\"\u001b[39m\n\u001b[1;32m----> 3\u001b[0m a\u001b[38;5;241m.\u001b[39mindex(z)\n\u001b[0;32m      4\u001b[0m a\n",
      "\u001b[1;31mNameError\u001b[0m: name 'z' is not defined"
     ]
    }
   ],
   "source": [
    "#\n",
    "a = \"hello world\"\n",
    "a.index(z)\n",
    "a"
   ]
  },
  {
   "cell_type": "code",
   "execution_count": 34,
   "id": "5cab8c1d",
   "metadata": {},
   "outputs": [
    {
     "name": "stdout",
     "output_type": "stream",
     "text": [
      "python\n"
     ]
    }
   ],
   "source": [
    "#create a list like [\"p\",\"y\",\"t\",\"h\",\"o\",\"n\"] and print \"python\"\n",
    "a = [\"p\",\"y\",\"t\",\"h\",\"o\",\"n\"]\n",
    "a2 = \"\".join(a)\n",
    "print(a2)"
   ]
  },
  {
   "cell_type": "code",
   "execution_count": 5,
   "id": "9911beb1",
   "metadata": {},
   "outputs": [
    {
     "data": {
      "text/plain": [
       "['p', 'y', 't', 'h', 'o', 'n']"
      ]
     },
     "execution_count": 5,
     "metadata": {},
     "output_type": "execute_result"
    }
   ],
   "source": [
    "#create string \"python\" and print [\"p\",\"y\",\"t\",\"h\",\"o\",\"n\"]\n",
    "a = \"python\"\n",
    "a1 = list(a)\n",
    "a1"
   ]
  },
  {
   "cell_type": "code",
   "execution_count": 6,
   "id": "20a716b2",
   "metadata": {},
   "outputs": [
    {
     "data": {
      "text/plain": [
       "'python'"
      ]
     },
     "execution_count": 6,
     "metadata": {},
     "output_type": "execute_result"
    }
   ],
   "source": [
    "#create a string like\"     python\" and print \"python\"\n",
    "a = \"     python\"\n",
    "a.strip()"
   ]
  },
  {
   "cell_type": "code",
   "execution_count": 1,
   "id": "afb4a12f",
   "metadata": {},
   "outputs": [
    {
     "data": {
      "text/plain": [
       "[1, 2, 3, 4, 5]"
      ]
     },
     "execution_count": 1,
     "metadata": {},
     "output_type": "execute_result"
    }
   ],
   "source": [
    "#create a list [1,2,3,4] and print it like [1,2,3,4,5]\n",
    "a = [1,2,3,4]\n",
    "a.append(5)\n",
    "a"
   ]
  },
  {
   "cell_type": "code",
   "execution_count": 3,
   "id": "1956fe98",
   "metadata": {},
   "outputs": [
    {
     "data": {
      "text/plain": [
       "[1, 2, 3, 4, 1, 2, 3, 4]"
      ]
     },
     "execution_count": 3,
     "metadata": {},
     "output_type": "execute_result"
    }
   ],
   "source": [
    "#create a list [1,2,3,4] and print [1,2,3,4,1,2,3,4] using extend function\n",
    "a = [1,2,3,4]\n",
    "a.extend([1,2,3,4])\n",
    "a"
   ]
  },
  {
   "cell_type": "code",
   "execution_count": 1,
   "id": "1a0361ca",
   "metadata": {},
   "outputs": [
    {
     "data": {
      "text/plain": [
       "2"
      ]
     },
     "execution_count": 1,
     "metadata": {},
     "output_type": "execute_result"
    }
   ],
   "source": [
    "#create a list [1,2,3,4] and remove 2 using pop function\n",
    "a = [1,2,3,4]\n",
    "a.pop(1)"
   ]
  },
  {
   "cell_type": "code",
   "execution_count": 2,
   "id": "02623150",
   "metadata": {},
   "outputs": [
    {
     "data": {
      "text/plain": [
       "[1, 5, 2, 3, 4]"
      ]
     },
     "execution_count": 2,
     "metadata": {},
     "output_type": "execute_result"
    }
   ],
   "source": [
    "#create a list [1,2,3,4] and print [1,5,3,4] using insert function\n",
    "a = [1,2,3,4]\n",
    "a.insert(1,5)\n",
    "a"
   ]
  },
  {
   "cell_type": "code",
   "execution_count": 3,
   "id": "47221f05",
   "metadata": {},
   "outputs": [
    {
     "data": {
      "text/plain": [
       "[1, 5, 2, 3, 4]"
      ]
     },
     "execution_count": 3,
     "metadata": {},
     "output_type": "execute_result"
    }
   ],
   "source": [
    "#create a list [1,2,3,4] and print [1,5,3,4] using negative indexing in insert function\n",
    "a = [1,2,3,4]\n",
    "a.insert(-3,5)\n",
    "a"
   ]
  },
  {
   "cell_type": "code",
   "execution_count": 6,
   "id": "2e6fd964",
   "metadata": {},
   "outputs": [
    {
     "data": {
      "text/plain": [
       "[4, 3, 2, 1]"
      ]
     },
     "execution_count": 6,
     "metadata": {},
     "output_type": "execute_result"
    }
   ],
   "source": [
    "#create a list [1,2,3,4] and print [4,3,2,1]\n",
    "a = [1,2,3,4]\n",
    "a[::-1]\n"
   ]
  },
  {
   "cell_type": "code",
   "execution_count": 8,
   "id": "1552e832",
   "metadata": {},
   "outputs": [
    {
     "data": {
      "text/plain": [
       "[1, 2, 3, 4]"
      ]
     },
     "execution_count": 8,
     "metadata": {},
     "output_type": "execute_result"
    }
   ],
   "source": [
    "#create a list [1,4,3,2] and print [1,2,3,4] using function\n",
    "a = [1,4,3,2]\n",
    "a.sort()\n",
    "a"
   ]
  },
  {
   "cell_type": "code",
   "execution_count": 10,
   "id": "67907776",
   "metadata": {},
   "outputs": [
    {
     "data": {
      "text/plain": [
       "{}"
      ]
     },
     "execution_count": 10,
     "metadata": {},
     "output_type": "execute_result"
    }
   ],
   "source": [
    "#create a dict {\"a\":10,\"b\":12,\"c\":14} and clear it{}\n",
    "a = {\"a\":10,\"b\":12,\"c\":14}\n",
    "a.clear()\n",
    "a"
   ]
  },
  {
   "cell_type": "code",
   "execution_count": 11,
   "id": "a5245542",
   "metadata": {},
   "outputs": [
    {
     "data": {
      "text/plain": [
       "set"
      ]
     },
     "execution_count": 11,
     "metadata": {},
     "output_type": "execute_result"
    }
   ],
   "source": [
    "#create a empty set{}\n",
    "a = set()\n",
    "type(a)"
   ]
  },
  {
   "cell_type": "code",
   "execution_count": 12,
   "id": "89718c35",
   "metadata": {},
   "outputs": [
    {
     "data": {
      "text/plain": [
       "dict"
      ]
     },
     "execution_count": 12,
     "metadata": {},
     "output_type": "execute_result"
    }
   ],
   "source": [
    "#create empty dict{}\n",
    "a = {}\n",
    "type(a)"
   ]
  },
  {
   "cell_type": "code",
   "execution_count": 13,
   "id": "d062d95d",
   "metadata": {},
   "outputs": [
    {
     "name": "stdout",
     "output_type": "stream",
     "text": [
      "{'b': 20, 'c': 30}\n"
     ]
    }
   ],
   "source": [
    "#create a dict{\"a\":10,\"b\":20,\"c\":30} and print {\"b\":20,\"c\":30}\n",
    "my_dict = {\"a\":10,\"b\":20,\"c\":30}\n",
    "subset_dict = {\"b\": my_dict[\"b\"], \"c\": my_dict[\"c\"]}\n",
    "print(subset_dict)"
   ]
  },
  {
   "cell_type": "code",
   "execution_count": 15,
   "id": "a14c56c7",
   "metadata": {},
   "outputs": [
    {
     "data": {
      "text/plain": [
       "{1, 3, 4}"
      ]
     },
     "execution_count": 15,
     "metadata": {},
     "output_type": "execute_result"
    }
   ],
   "source": [
    "#create a set {1,2,3,4} and remove 2\n",
    "a = {1,2,3,4}\n",
    "a.remove(2)\n",
    "a"
   ]
  },
  {
   "cell_type": "code",
   "execution_count": 1,
   "id": "36b70a91",
   "metadata": {},
   "outputs": [
    {
     "name": "stdout",
     "output_type": "stream",
     "text": [
      "my name is siddhesh and my age is 30\n"
     ]
    }
   ],
   "source": [
    "name = \"siddhesh\"\n",
    "age = 30\n",
    "string = f\"my name is {name} and my age is {age}\"\n",
    "print(string)"
   ]
  },
  {
   "cell_type": "code",
   "execution_count": 3,
   "id": "e44e4c02",
   "metadata": {},
   "outputs": [
    {
     "name": "stdout",
     "output_type": "stream",
     "text": [
      "[20000, 20000, 50000, 30000, 20000, 10000, 20000, 10000]\n"
     ]
    }
   ],
   "source": [
    "salary=[10000,20000,10000,20000,30000,50000,20000,20000]\n",
    "salary.reverse()\n",
    "print(salary)"
   ]
  },
  {
   "cell_type": "code",
   "execution_count": 4,
   "id": "23282cf8",
   "metadata": {},
   "outputs": [
    {
     "name": "stdout",
     "output_type": "stream",
     "text": [
      "[10000, 10000, 20000, 20000, 20000, 20000, 30000, 50000]\n"
     ]
    }
   ],
   "source": [
    "salary=[10000,20000,10000,20000,30000,50000,20000,20000]\n",
    "salary.sort()\n",
    "print(salary)"
   ]
  },
  {
   "cell_type": "code",
   "execution_count": 5,
   "id": "295940ae",
   "metadata": {},
   "outputs": [
    {
     "name": "stdout",
     "output_type": "stream",
     "text": [
      "[50000, 30000, 20000, 20000, 20000, 20000, 10000, 10000]\n"
     ]
    }
   ],
   "source": [
    "salary=[10000,20000,10000,20000,30000,50000,20000,20000]\n",
    "salary.sort(reverse=True)\n",
    "print(salary)"
   ]
  },
  {
   "cell_type": "code",
   "execution_count": 8,
   "id": "6461971b",
   "metadata": {},
   "outputs": [
    {
     "name": "stdout",
     "output_type": "stream",
     "text": [
      "siddheshdusar1002\n"
     ]
    }
   ],
   "source": [
    "gmail = \"siddheshdusar1002@gmail.com\"\n",
    "spmail = gmail.split(\"@\")\n",
    "username = spmail[0]\n",
    "print(username)"
   ]
  },
  {
   "cell_type": "code",
   "execution_count": 1,
   "id": "75c477c2",
   "metadata": {},
   "outputs": [
    {
     "name": "stdout",
     "output_type": "stream",
     "text": [
      "Enter the Number2024\n",
      " 2024 is a leap year\n"
     ]
    }
   ],
   "source": [
    "year = int(input(\"Enter the Number\"))\n",
    "if(year%4==0 and year%100!=0 or year%400==0):\n",
    "    print(f\" {year} is a leap year\")\n",
    "else:\n",
    "    print(f\"{year} is not a leap year\")"
   ]
  },
  {
   "cell_type": "code",
   "execution_count": 2,
   "id": "df4df731",
   "metadata": {},
   "outputs": [
    {
     "name": "stdout",
     "output_type": "stream",
     "text": [
      "total unties 500 and charges are 3500\n"
     ]
    }
   ],
   "source": [
    "unt = 500\n",
    "if(unt<=100):\n",
    "    print(\"no charges applicable\")\n",
    "elif(unt>100 and unt<=200):\n",
    "    price = (unt - 100)*5\n",
    "    print(f'total unties {unt} and charges are {price}')\n",
    "elif(unt>200):\n",
    "          sp = unt - 200\n",
    "          price = 500+(sp*10)\n",
    "          print(f'total unties {unt} and charges are {price}')"
   ]
  },
  {
   "cell_type": "code",
   "execution_count": 13,
   "id": "8a1bc4fc",
   "metadata": {},
   "outputs": [
    {
     "name": "stdout",
     "output_type": "stream",
     "text": [
      "200\n"
     ]
    }
   ],
   "source": [
    "n1 = \"10\"\n",
    "n2 = \"20\"\n",
    "op = \"*\"\n",
    "eq = n1+op+n2\n",
    "print(eval(eq))"
   ]
  },
  {
   "cell_type": "code",
   "execution_count": null,
   "id": "68e3aa53",
   "metadata": {},
   "outputs": [],
   "source": [
    "# while loops "
   ]
  },
  {
   "cell_type": "code",
   "execution_count": 1,
   "id": "d1708411",
   "metadata": {},
   "outputs": [
    {
     "name": "stdout",
     "output_type": "stream",
     "text": [
      "0\n",
      "1\n",
      "2\n",
      "3\n",
      "4\n"
     ]
    }
   ],
   "source": [
    "# print no 0 to 4.\n",
    "start = 0\n",
    "while start < 5:\n",
    "    print(start)\n",
    "    start+=1"
   ]
  },
  {
   "cell_type": "code",
   "execution_count": 3,
   "id": "b5fbd110",
   "metadata": {},
   "outputs": [
    {
     "name": "stdout",
     "output_type": "stream",
     "text": [
      "Sid@10\n",
      "Sid@10\n",
      "Sid@10\n",
      "Sid@10\n"
     ]
    }
   ],
   "source": [
    "i = 1\n",
    "while i < 5:\n",
    "    print(\"Sid@10\")\n",
    "    i = i + 1"
   ]
  },
  {
   "cell_type": "code",
   "execution_count": 1,
   "id": "fc221c90",
   "metadata": {},
   "outputs": [
    {
     "name": "stdout",
     "output_type": "stream",
     "text": [
      "1\n",
      "2\n",
      "3\n",
      "4\n",
      "5\n"
     ]
    }
   ],
   "source": [
    "i = 0\n",
    "while i < 5:\n",
    "    i = i + 1\n",
    "    print(i)"
   ]
  },
  {
   "cell_type": "code",
   "execution_count": 10,
   "id": "3144f492",
   "metadata": {},
   "outputs": [
    {
     "name": "stdout",
     "output_type": "stream",
     "text": [
      "5\n",
      "4\n",
      "3\n",
      "2\n",
      "1\n",
      "0\n"
     ]
    }
   ],
   "source": [
    "i = 5\n",
    "while i >=0:\n",
    "    print(i)\n",
    "    i = i - 1"
   ]
  },
  {
   "cell_type": "code",
   "execution_count": 15,
   "id": "8bd3ff55",
   "metadata": {},
   "outputs": [
    {
     "name": "stdout",
     "output_type": "stream",
     "text": [
      "4\n",
      "3\n",
      "2\n",
      "1\n",
      "0\n",
      "-1\n"
     ]
    }
   ],
   "source": [
    "i = 5\n",
    "while i >=0:\n",
    "    i = i - 1\n",
    "    print(i)"
   ]
  },
  {
   "cell_type": "code",
   "execution_count": null,
   "id": "1d431b0d",
   "metadata": {},
   "outputs": [],
   "source": []
  },
  {
   "cell_type": "code",
   "execution_count": null,
   "id": "6fd0ec74",
   "metadata": {},
   "outputs": [],
   "source": []
  },
  {
   "cell_type": "code",
   "execution_count": 6,
   "id": "8efda699",
   "metadata": {},
   "outputs": [
    {
     "name": "stdout",
     "output_type": "stream",
     "text": [
      "1\n",
      "3\n",
      "5\n",
      "7\n",
      "9\n",
      "11\n",
      "13\n",
      "15\n",
      "17\n",
      "19\n"
     ]
    }
   ],
   "source": [
    " oii8i = 1\n",
    "while i<20:\n",
    "    print(i)\n",
    "    i+=2"
   ]
  },
  {
   "cell_type": "code",
   "execution_count": 32,
   "id": "08298f19",
   "metadata": {},
   "outputs": [
    {
     "name": "stdout",
     "output_type": "stream",
     "text": [
      "2\n",
      "4\n",
      "6\n",
      "8\n",
      "10\n",
      "12\n",
      "14\n",
      "16\n",
      "18\n"
     ]
    }
   ],
   "source": [
    "i=2\n",
    "while i<20:\n",
    "    print(i)\n",
    "    i+=2"
   ]
  },
  {
   "cell_type": "code",
   "execution_count": 10,
   "id": "c686e77c",
   "metadata": {},
   "outputs": [
    {
     "name": "stdout",
     "output_type": "stream",
     "text": [
      "P\n",
      "Y\n",
      "T\n",
      "H\n",
      "O\n",
      "N\n"
     ]
    }
   ],
   "source": [
    "a = \"PYTHON\"\n",
    "index = 0\n",
    "while (index<=5):\n",
    "    print(a[index])\n",
    "    index = index + 1"
   ]
  },
  {
   "cell_type": "code",
   "execution_count": 21,
   "id": "0bec0900",
   "metadata": {},
   "outputs": [
    {
     "name": "stdout",
     "output_type": "stream",
     "text": [
      "d\n",
      "e\n",
      "v\n",
      "e\n"
     ]
    }
   ],
   "source": [
    "a = 'develearn'\n",
    "i = 0\n",
    "while i < len(a):\n",
    "    if a[i]==\"l\":\n",
    "        i = i + 1\n",
    "        break\n",
    "    print(a[i])\n",
    "    i = i + 1"
   ]
  },
  {
   "cell_type": "code",
   "execution_count": 22,
   "id": "ff6a975b",
   "metadata": {},
   "outputs": [
    {
     "name": "stdout",
     "output_type": "stream",
     "text": [
      "d\n",
      "e\n",
      "v\n",
      "e\n",
      "e\n",
      "a\n",
      "r\n",
      "n\n"
     ]
    }
   ],
   "source": [
    "a = 'develearn'\n",
    "i = 0\n",
    "while i < len(a):\n",
    "    if a[i]==\"l\":\n",
    "        i = i + 1\n",
    "        continue\n",
    "    print(a[i])\n",
    "    i = i + 1"
   ]
  },
  {
   "cell_type": "code",
   "execution_count": 23,
   "id": "3931ba88",
   "metadata": {},
   "outputs": [
    {
     "name": "stdout",
     "output_type": "stream",
     "text": [
      "d\n",
      "e\n",
      "v\n",
      "e\n",
      "e\n",
      "a\n",
      "r\n",
      "n\n"
     ]
    }
   ],
   "source": [
    "a = 'develearn'\n",
    "i = 0\n",
    "while i < len(a):\n",
    "    if a[i]==\"l\":\n",
    "        i = i + 1\n",
    "    pass\n",
    "    print(a[i])\n",
    "    i = i + 1"
   ]
  },
  {
   "cell_type": "code",
   "execution_count": 2,
   "id": "50d54246",
   "metadata": {},
   "outputs": [
    {
     "name": "stdout",
     "output_type": "stream",
     "text": [
      "enter the number 5\n",
      "its odd number\n"
     ]
    }
   ],
   "source": [
    "n=int(input(\"enter the number \"))\n",
    "while (n>0):\n",
    "    if(n%2==0):\n",
    "        print(\"its a even number\")\n",
    "        n=n+1\n",
    "        break\n",
    "    else:\n",
    "        print(\"its odd number\")\n",
    "        break"
   ]
  },
  {
   "cell_type": "code",
   "execution_count": 16,
   "id": "7ab22420",
   "metadata": {},
   "outputs": [
    {
     "name": "stdout",
     "output_type": "stream",
     "text": [
      "1\n",
      "2\n",
      "3\n",
      "4\n",
      "5\n",
      "6\n",
      "7\n",
      "8\n",
      "9\n",
      "0\n"
     ]
    }
   ],
   "source": [
    "a = [1,2,3,4,5,6,7,8,9,0]\n",
    "index = 0\n",
    "while (index <=9):\n",
    "    print(a[index])\n",
    "    index = index + 1"
   ]
  },
  {
   "cell_type": "code",
   "execution_count": 22,
   "id": "494a7bee",
   "metadata": {},
   "outputs": [
    {
     "name": "stdout",
     "output_type": "stream",
     "text": [
      "enter the number 2\n",
      "2 is even number \n",
      "3 is odd number\n",
      "4 is even number \n",
      "5 is odd number\n",
      "6 is even number \n",
      "7 is odd number\n",
      "8 is even number \n",
      "9 is odd number\n",
      "10 is even number \n",
      "11 is odd number\n",
      "12 is even number \n",
      "13 is odd number\n",
      "14 is even number \n",
      "15 is odd number\n",
      "16 is even number \n",
      "17 is odd number\n",
      "18 is even number \n",
      "19 is odd number\n",
      "20 is even number \n"
     ]
    }
   ],
   "source": [
    "i=int(input(\"enter the number \"))\n",
    "while(i<=20):\n",
    "    if(i%2==0):\n",
    "        print(f'{i} is even number ')\n",
    "    else:\n",
    "        print(f'{i} is odd number')\n",
    "    i=i+1"
   ]
  },
  {
   "cell_type": "code",
   "execution_count": 25,
   "id": "07838803",
   "metadata": {},
   "outputs": [
    {
     "name": "stdout",
     "output_type": "stream",
     "text": [
      "1\n",
      "3\n",
      "5\n",
      "7\n",
      "9\n",
      "11\n",
      "13\n",
      "15\n",
      "17\n",
      "19\n",
      "10\n"
     ]
    }
   ],
   "source": [
    "a = 1\n",
    "c = 0\n",
    "while (a<=20):\n",
    "    if(a%2!=0):\n",
    "        print(a)\n",
    "        c = c +1 \n",
    "    a = a+ 1\n",
    "print(c)\n"
   ]
  },
  {
   "cell_type": "code",
   "execution_count": 23,
   "id": "c0c1822a",
   "metadata": {},
   "outputs": [
    {
     "name": "stdout",
     "output_type": "stream",
     "text": [
      "55\n"
     ]
    }
   ],
   "source": [
    "n = 1\n",
    "s = 0\n",
    "while (n<=10):\n",
    "        s = s + n\n",
    "        n = n + 1\n",
    "print(s)"
   ]
  },
  {
   "cell_type": "code",
   "execution_count": 25,
   "id": "abb4c066",
   "metadata": {},
   "outputs": [
    {
     "name": "stdout",
     "output_type": "stream",
     "text": [
      "1\n",
      "3\n",
      "12\n",
      "14\n",
      "15\n",
      "45\n"
     ]
    }
   ],
   "source": [
    "a = [1,3,12,14,15]\n",
    "i = 0\n",
    "s = 0\n",
    "while (i<len(a)):\n",
    "    print(a[i])\n",
    "    s = s + a[i]\n",
    "    i = i +1\n",
    "print(s)"
   ]
  },
  {
   "cell_type": "code",
   "execution_count": 26,
   "id": "770d4f7e",
   "metadata": {},
   "outputs": [
    {
     "name": "stdout",
     "output_type": "stream",
     "text": [
      "25\n"
     ]
    }
   ],
   "source": [
    "numbers = [1,2,3,4,5,1,4,5]\n",
    "sum = sum(numbers)\n",
    "print(sum)"
   ]
  },
  {
   "cell_type": "code",
   "execution_count": 1,
   "id": "1d444b96",
   "metadata": {},
   "outputs": [
    {
     "name": "stdout",
     "output_type": "stream",
     "text": [
      "1\n",
      "45\n",
      "23\n",
      "23\n",
      "23\n",
      "25\n",
      "65\n",
      "205\n"
     ]
    }
   ],
   "source": [
    "a = [12,1,14,45,23,23,23,24,25,34,65,90]\n",
    "i = 0\n",
    "s = 0\n",
    "while(i < len(a)):\n",
    "    if(a[i]%2!=0):\n",
    "        print(a[i])\n",
    "        s= s + a[i]\n",
    "    i = i + 1\n",
    "print(s)"
   ]
  },
  {
   "cell_type": "code",
   "execution_count": 2,
   "id": "761280b0",
   "metadata": {},
   "outputs": [
    {
     "data": {
      "text/plain": [
       "'0b101010'"
      ]
     },
     "execution_count": 2,
     "metadata": {},
     "output_type": "execute_result"
    }
   ],
   "source": [
    "# create some variables and transform it in another datatype and print it new datatype. = 21\n",
    "\n",
    "bin(42)"
   ]
  },
  {
   "cell_type": "code",
   "execution_count": null,
   "id": "b35e7dd4",
   "metadata": {},
   "outputs": [],
   "source": [
    "# for Loops "
   ]
  },
  {
   "cell_type": "code",
   "execution_count": 5,
   "id": "07a3e09f",
   "metadata": {},
   "outputs": [
    {
     "name": "stdout",
     "output_type": "stream",
     "text": [
      "S\n",
      "i\n",
      "d\n",
      "d\n",
      "h\n",
      "s\n",
      "h\n"
     ]
    }
   ],
   "source": [
    "a = \"Siddhesh\"\n",
    "for i in a:\n",
    "    if i==\"e\":\n",
    "        continue\n",
    "    print(i)"
   ]
  },
  {
   "cell_type": "code",
   "execution_count": 6,
   "id": "deb6f3d9",
   "metadata": {},
   "outputs": [
    {
     "name": "stdout",
     "output_type": "stream",
     "text": [
      "S\n",
      "i\n",
      "d\n",
      "d\n",
      "h\n"
     ]
    }
   ],
   "source": [
    "a = \"Siddhesh\"\n",
    "for i in a:\n",
    "    if i==\"e\":\n",
    "        break\n",
    "    print(i)"
   ]
  },
  {
   "cell_type": "code",
   "execution_count": 7,
   "id": "58d5885e",
   "metadata": {},
   "outputs": [
    {
     "name": "stdout",
     "output_type": "stream",
     "text": [
      "S\n",
      "i\n",
      "d\n",
      "d\n",
      "h\n",
      "e\n",
      "s\n",
      "h\n"
     ]
    }
   ],
   "source": [
    "a = \"Siddhesh\"\n",
    "for i in a:\n",
    "    if i==\"e\":\n",
    "        pass\n",
    "    print(i)"
   ]
  },
  {
   "cell_type": "code",
   "execution_count": 9,
   "id": "d6e2db35",
   "metadata": {},
   "outputs": [
    {
     "name": "stdout",
     "output_type": "stream",
     "text": [
      "siddhesh science\n",
      "tejas commerece\n",
      "namarata commerece\n"
     ]
    }
   ],
   "source": [
    "Name = [\"siddhesh\",\"tejas\",\"namarata\"]\n",
    "Stream = [\"science\",\"commerece\",\"commerece\"]\n",
    "for i,j in zip (Name,Stream):\n",
    "    print(i,j)"
   ]
  },
  {
   "cell_type": "code",
   "execution_count": 10,
   "id": "eab01584",
   "metadata": {},
   "outputs": [
    {
     "name": "stdout",
     "output_type": "stream",
     "text": [
      "* * * * * \n",
      "* * * * * \n",
      "* * * * * \n",
      "* * * * * \n",
      "* * * * * \n"
     ]
    }
   ],
   "source": [
    "n = 5\n",
    "for i in range(n):\n",
    "    for j in range(5):\n",
    "        print(\"*\",end = \" \")\n",
    "    print()"
   ]
  },
  {
   "cell_type": "code",
   "execution_count": 11,
   "id": "bc360be9",
   "metadata": {},
   "outputs": [
    {
     "name": "stdout",
     "output_type": "stream",
     "text": [
      "* * * * \n",
      "* * * \n",
      "* * \n",
      "* \n",
      "\n"
     ]
    }
   ],
   "source": [
    "n = 5\n",
    "for i in range(n):\n",
    "    for j in range(i,4):\n",
    "        print(\"*\",end=\" \")\n",
    "    print()"
   ]
  },
  {
   "cell_type": "code",
   "execution_count": 13,
   "id": "681a0d53",
   "metadata": {},
   "outputs": [
    {
     "name": "stdout",
     "output_type": "stream",
     "text": [
      "* * * * * \n",
      "  * * * * \n",
      "    * * * \n",
      "      * * \n",
      "        * \n"
     ]
    }
   ],
   "source": [
    "n = 5\n",
    "for i in range(n):\n",
    "    for j in range(i):\n",
    "        print(\" \",end = \" \")\n",
    "    for i in range(i,n):\n",
    "        print(\"*\",end = \" \")\n",
    "    print()"
   ]
  },
  {
   "cell_type": "code",
   "execution_count": 18,
   "id": "23f844bd",
   "metadata": {},
   "outputs": [
    {
     "name": "stdout",
     "output_type": "stream",
     "text": [
      "         \n",
      "        2 \n",
      "       3 3 \n",
      "      4 4 4 \n",
      "     5 5 5 5 \n",
      "    6 6 6 6 6 \n",
      "   7 7 7 7 7 7 \n",
      "  8 8 8 8 8 8 8 \n",
      " 9 9 9 9 9 9 9 9 \n"
     ]
    }
   ],
   "source": [
    "n = 9\n",
    "for i in range(n):\n",
    "    for j in range(i,n):\n",
    "        print(\" \",end = \"\")\n",
    "    for j in range(i):\n",
    "        print(1+i,end=\" \")\n",
    "    print()"
   ]
  },
  {
   "cell_type": "code",
   "execution_count": 3,
   "id": "3a2d9559",
   "metadata": {},
   "outputs": [
    {
     "name": "stdout",
     "output_type": "stream",
     "text": [
      "[-6, -6, -6]\n",
      "[0, 0, 0]\n",
      "[6, 6, 6]\n"
     ]
    }
   ],
   "source": [
    "x = [[1,2,3],[4,5,6],[7,8,9]]\n",
    "y = [[7,8,9],[4,5,6],[1,2,3]]\n",
    "m = [[0,0,0],[0,0,0],[0,0,0]]\n",
    "for i in range (len(x)):\n",
    "    for j in range(len(x[0])):\n",
    "        m[i][j]=x[i][j]-y[i][j]\n",
    "for k in m:\n",
    "    print(k)"
   ]
  },
  {
   "cell_type": "code",
   "execution_count": null,
   "id": "ec96a199",
   "metadata": {},
   "outputs": [],
   "source": []
  },
  {
   "cell_type": "code",
   "execution_count": null,
   "id": "c46d08dd",
   "metadata": {},
   "outputs": [],
   "source": []
  },
  {
   "cell_type": "code",
   "execution_count": null,
   "id": "10d890d7",
   "metadata": {},
   "outputs": [],
   "source": []
  },
  {
   "cell_type": "code",
   "execution_count": 20,
   "id": "119b26fd",
   "metadata": {},
   "outputs": [
    {
     "name": "stdout",
     "output_type": "stream",
     "text": [
      "data\n",
      "data\n",
      "data\n",
      "data\n",
      "data\n",
      "data\n"
     ]
    }
   ],
   "source": [
    "a = \"data\"\n",
    "for i in range(6):\n",
    "    print(a)"
   ]
  },
  {
   "cell_type": "code",
   "execution_count": 3,
   "id": "1efd70c7",
   "metadata": {},
   "outputs": [
    {
     "name": "stdout",
     "output_type": "stream",
     "text": [
      "25\n",
      "64\n",
      "121\n",
      "196\n"
     ]
    }
   ],
   "source": [
    "# predict question\n",
    "x=5\n",
    "while(x<15):\n",
    "    print(x**2)\n",
    "    x+=3"
   ]
  },
  {
   "cell_type": "code",
   "execution_count": 4,
   "id": "aa5c030c",
   "metadata": {},
   "outputs": [
    {
     "name": "stdout",
     "output_type": "stream",
     "text": [
      "12\n",
      "13\n"
     ]
    }
   ],
   "source": [
    "a=7\n",
    "b=5\n",
    "while(a<9):\n",
    "    print(a+b)\n",
    "    a+=1"
   ]
  },
  {
   "cell_type": "code",
   "execution_count": 5,
   "id": "481f01e7",
   "metadata": {},
   "outputs": [
    {
     "name": "stdout",
     "output_type": "stream",
     "text": [
      "h\n",
      "h\n",
      "h\n",
      "h\n"
     ]
    }
   ],
   "source": [
    "b=5\n",
    "while(b<9):\n",
    "    print(\"h\")\n",
    "    b+=1"
   ]
  },
  {
   "cell_type": "code",
   "execution_count": 6,
   "id": "b41104fd",
   "metadata": {},
   "outputs": [
    {
     "name": "stdout",
     "output_type": "stream",
     "text": [
      "hello\n",
      "hello\n",
      "hello\n"
     ]
    }
   ],
   "source": [
    "b=15\n",
    "while(b>9):\n",
    "    print(\"hello\")\n",
    "    b=b-2"
   ]
  },
  {
   "cell_type": "code",
   "execution_count": 2,
   "id": "2be6b9d6",
   "metadata": {},
   "outputs": [
    {
     "name": "stdout",
     "output_type": "stream",
     "text": [
      "-6\n",
      "-3\n",
      "0\n",
      "3\n",
      "6\n",
      "9\n",
      "12\n",
      "15\n",
      "18\n",
      "21\n"
     ]
    }
   ],
   "source": [
    "c=-9\n",
    "while(c<20):\n",
    "    c+=3\n",
    "    print(c)"
   ]
  },
  {
   "cell_type": "code",
   "execution_count": 8,
   "id": "02dc8386",
   "metadata": {},
   "outputs": [
    {
     "name": "stdout",
     "output_type": "stream",
     "text": [
      "5\n",
      "4\n",
      "3\n",
      "2\n",
      "1\n"
     ]
    }
   ],
   "source": [
    "a=5\n",
    "while(a>0):\n",
    "    print(a)\n",
    "    a=a-1"
   ]
  },
  {
   "cell_type": "code",
   "execution_count": 9,
   "id": "087e5d6c",
   "metadata": {},
   "outputs": [
    {
     "name": "stdout",
     "output_type": "stream",
     "text": [
      "40\n",
      "60\n",
      "80\n"
     ]
    }
   ],
   "source": [
    "x=4\n",
    "while(x<=8):\n",
    "    print(x*10)\n",
    "    x+=2"
   ]
  },
  {
   "cell_type": "code",
   "execution_count": 10,
   "id": "4d10edcf",
   "metadata": {},
   "outputs": [
    {
     "name": "stdout",
     "output_type": "stream",
     "text": [
      "40\n",
      "60\n",
      "80\n"
     ]
    }
   ],
   "source": [
    "x=4\n",
    "for i in range(4,9,2):\n",
    "    print(i*10)"
   ]
  },
  {
   "cell_type": "code",
   "execution_count": 11,
   "id": "ec8e3ca4",
   "metadata": {},
   "outputs": [
    {
     "name": "stdout",
     "output_type": "stream",
     "text": [
      "bye\n"
     ]
    }
   ],
   "source": [
    "x=3\n",
    "if x>2 or x<5 and x==6:\n",
    "    print(\"bye\")\n",
    "else:\n",
    "    print(\"thank you\")"
   ]
  },
  {
   "cell_type": "code",
   "execution_count": 12,
   "id": "690b4f18",
   "metadata": {},
   "outputs": [
    {
     "name": "stdout",
     "output_type": "stream",
     "text": [
      "bye\n"
     ]
    }
   ],
   "source": [
    "x=3\n",
    "if x>2 or x<5 and x==6:\n",
    "    print(\"bye\")\n",
    "else:\n",
    "    print(\"thank you\")"
   ]
  },
  {
   "cell_type": "code",
   "execution_count": 13,
   "id": "e72a20c2",
   "metadata": {},
   "outputs": [
    {
     "name": "stdout",
     "output_type": "stream",
     "text": [
      "6\n",
      "2\n"
     ]
    }
   ],
   "source": [
    "x=10\n",
    "y=1\n",
    "while x>y:"
   ]
  },
  {
   "cell_type": "code",
   "execution_count": 34,
   "id": "07b9e8cf",
   "metadata": {},
   "outputs": [
    {
     "name": "stdout",
     "output_type": "stream",
     "text": [
      "4\n",
      "0\n"
     ]
    }
   ],
   "source": [
    "i=45\n",
    "while i !=0:\n",
    "    i=i//10\n",
    "    print(i)"
   ]
  },
  {
   "cell_type": "code",
   "execution_count": null,
   "id": "f56b199b",
   "metadata": {},
   "outputs": [],
   "source": []
  },
  {
   "cell_type": "code",
   "execution_count": null,
   "id": "85bdb066",
   "metadata": {},
   "outputs": [],
   "source": [
    "#functions. type(1)= Built in function  , type(2)= User defined function.\n",
    "\n"
   ]
  },
  {
   "cell_type": "code",
   "execution_count": 1,
   "id": "2736dc4e",
   "metadata": {},
   "outputs": [
    {
     "name": "stdout",
     "output_type": "stream",
     "text": [
      "Hello World\n"
     ]
    }
   ],
   "source": [
    "#function\n",
    "#without arguments\n",
    "def message():\n",
    "    print(\"Hello World\")\n",
    "message()"
   ]
  },
  {
   "cell_type": "code",
   "execution_count": 4,
   "id": "32ecd404",
   "metadata": {},
   "outputs": [
    {
     "name": "stdout",
     "output_type": "stream",
     "text": [
      "Hello Siddhesh city name Chembur\n",
      "Hello Vighnesh city name chembur\n"
     ]
    }
   ],
   "source": [
    "#with arguments.\n",
    "\n",
    "def name(name,city):\n",
    "    print(\"Hello\",name,\"city name\",city)\n",
    "name(\"Siddhesh\",\"Chembur\")\n",
    "name(\"Vighnesh\",\"chembur\")"
   ]
  },
  {
   "cell_type": "code",
   "execution_count": 5,
   "id": "3e1b315d",
   "metadata": {},
   "outputs": [
    {
     "data": {
      "text/plain": [
       "9"
      ]
     },
     "execution_count": 5,
     "metadata": {},
     "output_type": "execute_result"
    }
   ],
   "source": [
    "#addition.\n",
    "\n",
    "def add(a,b):\n",
    "    return a+b\n",
    "add(5,4)\n"
   ]
  },
  {
   "cell_type": "code",
   "execution_count": 6,
   "id": "3e8004eb",
   "metadata": {},
   "outputs": [
    {
     "data": {
      "text/plain": [
       "27"
      ]
     },
     "execution_count": 6,
     "metadata": {},
     "output_type": "execute_result"
    }
   ],
   "source": [
    "add(12,15)"
   ]
  },
  {
   "cell_type": "code",
   "execution_count": 7,
   "id": "e31f8536",
   "metadata": {},
   "outputs": [
    {
     "name": "stdout",
     "output_type": "stream",
     "text": [
      "Hello Harsh city name Kurla\n"
     ]
    }
   ],
   "source": [
    "name(\"Harsh\",\"Kurla\")"
   ]
  },
  {
   "cell_type": "code",
   "execution_count": 8,
   "id": "e950aa19",
   "metadata": {},
   "outputs": [
    {
     "name": "stdout",
     "output_type": "stream",
     "text": [
      "Hello Siddhi city name virar\n"
     ]
    }
   ],
   "source": [
    "name(\"Siddhi\",\"virar\")"
   ]
  },
  {
   "cell_type": "code",
   "execution_count": 9,
   "id": "71c7b1b4",
   "metadata": {},
   "outputs": [
    {
     "name": "stdout",
     "output_type": "stream",
     "text": [
      "Hello World\n"
     ]
    }
   ],
   "source": [
    "message()"
   ]
  },
  {
   "cell_type": "code",
   "execution_count": 11,
   "id": "2727a67d",
   "metadata": {},
   "outputs": [
    {
     "name": "stdout",
     "output_type": "stream",
     "text": [
      "The youngest child is b\n"
     ]
    }
   ],
   "source": [
    "def my_function(*Kids):\n",
    "    print(\"The youngest child is \" + Kids[1])\n",
    "my_function(\"a\",\"b\",\"c\")"
   ]
  },
  {
   "cell_type": "code",
   "execution_count": 12,
   "id": "1ea2a912",
   "metadata": {},
   "outputs": [
    {
     "name": "stdout",
     "output_type": "stream",
     "text": [
      "The youngest child is c\n"
     ]
    }
   ],
   "source": [
    "#You can also send arguments with key = value syntax.\n",
    "def my_function(child3,child2,child1):\n",
    "    print(\"The youngest child is \" +child3)\n",
    "my_function(child1 = \"a\",child2 = \"b\",child3 = \"c\")"
   ]
  },
  {
   "cell_type": "code",
   "execution_count": 19,
   "id": "50c96353",
   "metadata": {},
   "outputs": [
    {
     "name": "stdout",
     "output_type": "stream",
     "text": [
      "15.0\n"
     ]
    },
    {
     "data": {
      "text/plain": [
       "15.0"
      ]
     },
     "execution_count": 19,
     "metadata": {},
     "output_type": "execute_result"
    }
   ],
   "source": [
    "#Average.\n",
    "\n",
    "def average(a,b):\n",
    "    print((a+b)/2)\n",
    "    return  (a+b)/2\n",
    "average(15,15)"
   ]
  },
  {
   "cell_type": "code",
   "execution_count": 2,
   "id": "7bc968bd",
   "metadata": {},
   "outputs": [
    {
     "name": "stdout",
     "output_type": "stream",
     "text": [
      "enter the value1:2\n",
      "enter the value2:3\n",
      "Num 2 is greater\n"
     ]
    }
   ],
   "source": [
    "Num1 = int(input('enter the value1:'))\n",
    "Num2 = int(input('enter the value2:'))\n",
    "if Num1==Num2:\n",
    "    print('both value are equal')\n",
    "elif Num1>Num2:\n",
    "    print('Num 1 is greater')\n",
    "else:\n",
    "    print('Num 2 is greater')"
   ]
  },
  {
   "cell_type": "code",
   "execution_count": 7,
   "id": "c4ad1964",
   "metadata": {},
   "outputs": [
    {
     "name": "stdout",
     "output_type": "stream",
     "text": [
      "enter 6 digit pnr number:45\n",
      "invalid pnr\n"
     ]
    }
   ],
   "source": [
    "pnr = int(input('enter 6 digit pnr number:'))\n",
    "dob = 280698\n",
    "if pnr==123456:\n",
    "    dob=int(input('enter dob DDMMYY'))\n",
    "    if dob==280698:\n",
    "        print('Your seat is confirmed')\n",
    "    else:\n",
    "        print('invalid entity')\n",
    "else:\n",
    "    print('invalid pnr')"
   ]
  },
  {
   "cell_type": "code",
   "execution_count": 11,
   "id": "d0f43d79",
   "metadata": {},
   "outputs": [
    {
     "name": "stdout",
     "output_type": "stream",
     "text": [
      "enter value between 30 & 35:31\n",
      "booo\n"
     ]
    }
   ],
   "source": [
    "n = int(input('enter value between 30 & 35:'))\n",
    "if n==30:\n",
    "    print('nope')\n",
    "elif n==33:\n",
    "    print('closs call')\n",
    "elif n==32:\n",
    "    print('jackpot')\n",
    "else:\n",
    "    print('booo')"
   ]
  },
  {
   "cell_type": "code",
   "execution_count": 3,
   "id": "4838a380",
   "metadata": {},
   "outputs": [],
   "source": [
    "Dept_head = {\"Hod\":\"Raman\",\"prof\":\"K.V.S\",\"Principal\":\"J.N\"} "
   ]
  },
  {
   "cell_type": "code",
   "execution_count": null,
   "id": "0524d146",
   "metadata": {},
   "outputs": [],
   "source": []
  }
 ],
 "metadata": {
  "kernelspec": {
   "display_name": "Python 3 (ipykernel)",
   "language": "python",
   "name": "python3"
  },
  "language_info": {
   "codemirror_mode": {
    "name": "ipython",
    "version": 3
   },
   "file_extension": ".py",
   "mimetype": "text/x-python",
   "name": "python",
   "nbconvert_exporter": "python",
   "pygments_lexer": "ipython3",
   "version": "3.11.5"
  }
 },
 "nbformat": 4,
 "nbformat_minor": 5
}
