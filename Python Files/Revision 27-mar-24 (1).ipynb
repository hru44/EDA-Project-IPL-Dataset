{
 "cells": [
  {
   "cell_type": "code",
   "execution_count": 6,
   "id": "999f424c",
   "metadata": {},
   "outputs": [
    {
     "data": {
      "text/plain": [
       "True"
      ]
     },
     "execution_count": 6,
     "metadata": {},
     "output_type": "execute_result"
    }
   ],
   "source": [
    "#Relational Operator / Comparison\n",
    "#numbers\n",
    "56>10"
   ]
  },
  {
   "cell_type": "code",
   "execution_count": 7,
   "id": "7a264c70",
   "metadata": {},
   "outputs": [
    {
     "data": {
      "text/plain": [
       "False"
      ]
     },
     "execution_count": 7,
     "metadata": {},
     "output_type": "execute_result"
    }
   ],
   "source": [
    "10>56"
   ]
  },
  {
   "cell_type": "code",
   "execution_count": 8,
   "id": "40adc3cb",
   "metadata": {},
   "outputs": [
    {
     "data": {
      "text/plain": [
       "False"
      ]
     },
     "execution_count": 8,
     "metadata": {},
     "output_type": "execute_result"
    }
   ],
   "source": [
    "56<10"
   ]
  },
  {
   "cell_type": "code",
   "execution_count": 9,
   "id": "67f0bdf4",
   "metadata": {},
   "outputs": [
    {
     "data": {
      "text/plain": [
       "True"
      ]
     },
     "execution_count": 9,
     "metadata": {},
     "output_type": "execute_result"
    }
   ],
   "source": [
    "10<56"
   ]
  },
  {
   "cell_type": "code",
   "execution_count": 11,
   "id": "aee532ba",
   "metadata": {},
   "outputs": [
    {
     "name": "stdout",
     "output_type": "stream",
     "text": [
      "False\n",
      "True\n",
      "False\n",
      "True\n",
      "False\n",
      "True\n"
     ]
    }
   ],
   "source": [
    "a = 20\n",
    "b = 10\n",
    "\n",
    "print(a<b) #less than\n",
    "print(a>b) #greater than\n",
    "print(a==b) #equals\n",
    "print(a!=b) #not equals\n",
    "print(a<=b) #less than equal to\n",
    "print(a>=b) #greater than equal to"
   ]
  },
  {
   "cell_type": "code",
   "execution_count": 14,
   "id": "55bd74d3",
   "metadata": {},
   "outputs": [
    {
     "name": "stdout",
     "output_type": "stream",
     "text": [
      "True\n",
      "False\n"
     ]
    }
   ],
   "source": [
    "#Logical Operators(and or not)(conditions)\n",
    "\n",
    "#and = if both condition are true then true otherwise false\n",
    "#or = atleast one condition are true then true otherwise false\n",
    "# not = true == false--false ==  true\n",
    "\n",
    "# and operations\n",
    "a = 20\n",
    "\n",
    "print(a>10 and a<30)\n",
    "print(a<10 and a<30)\n"
   ]
  },
  {
   "cell_type": "code",
   "execution_count": 15,
   "id": "097355e1",
   "metadata": {},
   "outputs": [
    {
     "name": "stdout",
     "output_type": "stream",
     "text": [
      "True\n",
      "True\n"
     ]
    }
   ],
   "source": [
    "#or\n",
    "\n",
    "print(a>10 or a<30)\n",
    "print(a<10 or a<30)  #false condition is a<10 true condtion a<30\n"
   ]
  },
  {
   "cell_type": "code",
   "execution_count": 21,
   "id": "b9ae4ca5",
   "metadata": {},
   "outputs": [
    {
     "name": "stdout",
     "output_type": "stream",
     "text": [
      "True\n"
     ]
    }
   ],
   "source": [
    "print(not 0)  # 0 true and other number is false"
   ]
  },
  {
   "cell_type": "code",
   "execution_count": 22,
   "id": "b171590e",
   "metadata": {},
   "outputs": [
    {
     "name": "stdout",
     "output_type": "stream",
     "text": [
      "False\n"
     ]
    }
   ],
   "source": [
    "print(not a)"
   ]
  },
  {
   "cell_type": "code",
   "execution_count": 25,
   "id": "b173cf09",
   "metadata": {},
   "outputs": [
    {
     "name": "stdout",
     "output_type": "stream",
     "text": [
      "True\n",
      "False\n"
     ]
    }
   ],
   "source": [
    "#Membership Operators\n",
    "\n",
    "# in -- not in\n",
    "\n",
    "a = ['Apple','Banana','Cherry']\n",
    "\n",
    "print('Apple' in a)\n",
    "print('Apple' not in a)"
   ]
  },
  {
   "cell_type": "code",
   "execution_count": 27,
   "id": "f22e4f53",
   "metadata": {},
   "outputs": [
    {
     "name": "stdout",
     "output_type": "stream",
     "text": [
      "True\n",
      "False\n"
     ]
    }
   ],
   "source": [
    "print('Strawberry' not in a)\n",
    "print('Strawberry' in a)"
   ]
  },
  {
   "cell_type": "code",
   "execution_count": 29,
   "id": "9225d606",
   "metadata": {},
   "outputs": [
    {
     "name": "stdout",
     "output_type": "stream",
     "text": [
      "False\n"
     ]
    }
   ],
   "source": [
    "a = 'Develearn'\n",
    "\n",
    "print('d' in a) # python is a case sensitive"
   ]
  },
  {
   "cell_type": "code",
   "execution_count": 30,
   "id": "75010dc4",
   "metadata": {},
   "outputs": [
    {
     "name": "stdout",
     "output_type": "stream",
     "text": [
      "True\n"
     ]
    }
   ],
   "source": [
    "print('D' in a)"
   ]
  },
  {
   "cell_type": "code",
   "execution_count": 31,
   "id": "e3f2c445",
   "metadata": {},
   "outputs": [
    {
     "name": "stdout",
     "output_type": "stream",
     "text": [
      "True\n"
     ]
    }
   ],
   "source": [
    "print('learn' in a)"
   ]
  },
  {
   "cell_type": "code",
   "execution_count": 32,
   "id": "df89e2d4",
   "metadata": {},
   "outputs": [
    {
     "name": "stdout",
     "output_type": "stream",
     "text": [
      "True\n"
     ]
    }
   ],
   "source": [
    "print('d' not in a)"
   ]
  },
  {
   "cell_type": "code",
   "execution_count": 33,
   "id": "03a9cf71",
   "metadata": {},
   "outputs": [],
   "source": [
    "#"
   ]
  },
  {
   "cell_type": "code",
   "execution_count": 39,
   "id": "ef03f548",
   "metadata": {},
   "outputs": [
    {
     "name": "stdout",
     "output_type": "stream",
     "text": [
      "False\n",
      "False\n",
      "True\n",
      "True\n"
     ]
    }
   ],
   "source": [
    "#identity operator\n",
    "\n",
    "#is--is not\n",
    "\n",
    "x = 10\n",
    "y = 11\n",
    "z = 10\n",
    "# is , == are same\n",
    "print(x is y)\n",
    "print(x==y)\n",
    "#is not , != are same\n",
    "print(x is not y)\n",
    "print(x!=y)"
   ]
  },
  {
   "cell_type": "code",
   "execution_count": 41,
   "id": "d2ff306e",
   "metadata": {},
   "outputs": [
    {
     "name": "stdout",
     "output_type": "stream",
     "text": [
      "True\n",
      "True\n"
     ]
    }
   ],
   "source": [
    "print(x is z)\n",
    "print(x == z)"
   ]
  },
  {
   "cell_type": "code",
   "execution_count": 59,
   "id": "51a5985e",
   "metadata": {},
   "outputs": [
    {
     "data": {
      "text/plain": [
       "6"
      ]
     },
     "execution_count": 59,
     "metadata": {},
     "output_type": "execute_result"
    }
   ],
   "source": [
    "#Bitwise Operators(binary operators)(010110)\n",
    "\n",
    "# &(and), |(or) ,^(xor)(not)\n",
    "\n",
    "a = 7 #111\n",
    "b = 6 #110\n",
    "\n",
    "a&b"
   ]
  },
  {
   "cell_type": "code",
   "execution_count": 61,
   "id": "0dd8c089",
   "metadata": {},
   "outputs": [
    {
     "data": {
      "text/plain": [
       "7"
      ]
     },
     "execution_count": 61,
     "metadata": {},
     "output_type": "execute_result"
    }
   ],
   "source": [
    "a|b"
   ]
  },
  {
   "cell_type": "code",
   "execution_count": 62,
   "id": "3e7ffd96",
   "metadata": {},
   "outputs": [
    {
     "data": {
      "text/plain": [
       "1"
      ]
     },
     "execution_count": 62,
     "metadata": {},
     "output_type": "execute_result"
    }
   ],
   "source": [
    "a^b"
   ]
  },
  {
   "cell_type": "code",
   "execution_count": 65,
   "id": "314259bf",
   "metadata": {},
   "outputs": [
    {
     "name": "stdout",
     "output_type": "stream",
     "text": [
      "['Apple', 'Mango', 'Banana', 'Cherry']\n"
     ]
    }
   ],
   "source": [
    "# #list \n",
    "#properties of list\n",
    "# Mutable\n",
    "# ordered/indexing\n",
    "# all datatypes are allowed(heterogenous)\n",
    "# duplicates are allowed\n",
    "# [ ] square brackets\n",
    "#list constructor\n",
    "\n",
    "fruits = ['Apple','Mango','Banana','Cherry'] #List\n",
    "\n",
    "print(fruits)\n"
   ]
  },
  {
   "cell_type": "code",
   "execution_count": 66,
   "id": "94c6dd2f",
   "metadata": {},
   "outputs": [
    {
     "data": {
      "text/plain": [
       "list"
      ]
     },
     "execution_count": 66,
     "metadata": {},
     "output_type": "execute_result"
    }
   ],
   "source": [
    "type(fruits)"
   ]
  },
  {
   "cell_type": "code",
   "execution_count": 67,
   "id": "b74dd036",
   "metadata": {},
   "outputs": [
    {
     "data": {
      "text/plain": [
       "4"
      ]
     },
     "execution_count": 67,
     "metadata": {},
     "output_type": "execute_result"
    }
   ],
   "source": [
    "len(fruits)"
   ]
  },
  {
   "cell_type": "code",
   "execution_count": 70,
   "id": "4745ea3b",
   "metadata": {},
   "outputs": [
    {
     "data": {
      "text/plain": [
       "['Develearn', 'Thane', 'Naupada']"
      ]
     },
     "execution_count": 70,
     "metadata": {},
     "output_type": "execute_result"
    }
   ],
   "source": [
    "#list Constructor\n",
    "a = ('Develearn', 'Thane', 'Naupada')\n",
    "\n",
    "b = list(a)\n",
    "b"
   ]
  },
  {
   "cell_type": "code",
   "execution_count": 71,
   "id": "689aa13b",
   "metadata": {},
   "outputs": [],
   "source": [
    "a = str(b)"
   ]
  },
  {
   "cell_type": "code",
   "execution_count": 72,
   "id": "025b2498",
   "metadata": {},
   "outputs": [
    {
     "data": {
      "text/plain": [
       "\"['Develearn', 'Thane', 'Naupada']\""
      ]
     },
     "execution_count": 72,
     "metadata": {},
     "output_type": "execute_result"
    }
   ],
   "source": [
    "a"
   ]
  },
  {
   "cell_type": "code",
   "execution_count": 73,
   "id": "d5841e87",
   "metadata": {},
   "outputs": [
    {
     "data": {
      "text/plain": [
       "str"
      ]
     },
     "execution_count": 73,
     "metadata": {},
     "output_type": "execute_result"
    }
   ],
   "source": [
    "type(a)"
   ]
  },
  {
   "cell_type": "code",
   "execution_count": 74,
   "id": "45575fec",
   "metadata": {},
   "outputs": [],
   "source": [
    "fruits = ['Apple','Mango','Banana','Cherry']"
   ]
  },
  {
   "cell_type": "code",
   "execution_count": 75,
   "id": "07040465",
   "metadata": {},
   "outputs": [
    {
     "data": {
      "text/plain": [
       "['Apple', 'Mango', 'Banana', 'Cherry']"
      ]
     },
     "execution_count": 75,
     "metadata": {},
     "output_type": "execute_result"
    }
   ],
   "source": [
    "fruits"
   ]
  },
  {
   "cell_type": "code",
   "execution_count": 76,
   "id": "4ad7f700",
   "metadata": {},
   "outputs": [
    {
     "data": {
      "text/plain": [
       "'Banana'"
      ]
     },
     "execution_count": 76,
     "metadata": {},
     "output_type": "execute_result"
    }
   ],
   "source": [
    "#access every items\n",
    "#silicing\n",
    "fruits[2]"
   ]
  },
  {
   "cell_type": "code",
   "execution_count": 77,
   "id": "ad4f7484",
   "metadata": {},
   "outputs": [
    {
     "ename": "IndexError",
     "evalue": "list index out of range",
     "output_type": "error",
     "traceback": [
      "\u001b[1;31m---------------------------------------------------------------------------\u001b[0m",
      "\u001b[1;31mIndexError\u001b[0m                                Traceback (most recent call last)",
      "Cell \u001b[1;32mIn[77], line 1\u001b[0m\n\u001b[1;32m----> 1\u001b[0m fruits[\u001b[38;5;241m5\u001b[39m]\n",
      "\u001b[1;31mIndexError\u001b[0m: list index out of range"
     ]
    }
   ],
   "source": [
    "fruits[5]"
   ]
  },
  {
   "cell_type": "code",
   "execution_count": 79,
   "id": "6b2b9407",
   "metadata": {},
   "outputs": [
    {
     "data": {
      "text/plain": [
       "'Cherry'"
      ]
     },
     "execution_count": 79,
     "metadata": {},
     "output_type": "execute_result"
    }
   ],
   "source": [
    "fruits[3]"
   ]
  },
  {
   "cell_type": "code",
   "execution_count": 80,
   "id": "bf53b198",
   "metadata": {},
   "outputs": [
    {
     "data": {
      "text/plain": [
       "['Apple', 'Mango']"
      ]
     },
     "execution_count": 80,
     "metadata": {},
     "output_type": "execute_result"
    }
   ],
   "source": [
    "fruits[0:2]"
   ]
  },
  {
   "cell_type": "code",
   "execution_count": 81,
   "id": "b2f733ed",
   "metadata": {},
   "outputs": [
    {
     "name": "stdout",
     "output_type": "stream",
     "text": [
      "['Apple', 'Mango', 'Banana', 'Cherry']\n"
     ]
    }
   ],
   "source": [
    "print(fruits)"
   ]
  },
  {
   "cell_type": "code",
   "execution_count": 82,
   "id": "f8e51848",
   "metadata": {},
   "outputs": [
    {
     "data": {
      "text/plain": [
       "['Apple', 'Mango', 'Banana', 'Cherry']"
      ]
     },
     "execution_count": 82,
     "metadata": {},
     "output_type": "execute_result"
    }
   ],
   "source": [
    "fruits[:]"
   ]
  },
  {
   "cell_type": "code",
   "execution_count": 83,
   "id": "d2b0e027",
   "metadata": {},
   "outputs": [
    {
     "data": {
      "text/plain": [
       "['Apple', 'Banana']"
      ]
     },
     "execution_count": 83,
     "metadata": {},
     "output_type": "execute_result"
    }
   ],
   "source": [
    "fruits[0:4:2]"
   ]
  },
  {
   "cell_type": "code",
   "execution_count": 84,
   "id": "e520ff2c",
   "metadata": {},
   "outputs": [
    {
     "data": {
      "text/plain": [
       "'Cherry'"
      ]
     },
     "execution_count": 84,
     "metadata": {},
     "output_type": "execute_result"
    }
   ],
   "source": [
    "fruits[-1]"
   ]
  },
  {
   "cell_type": "code",
   "execution_count": 85,
   "id": "f6853912",
   "metadata": {},
   "outputs": [
    {
     "data": {
      "text/plain": [
       "['Cherry', 'Banana', 'Mango', 'Apple']"
      ]
     },
     "execution_count": 85,
     "metadata": {},
     "output_type": "execute_result"
    }
   ],
   "source": [
    "fruits[::-1]"
   ]
  },
  {
   "cell_type": "code",
   "execution_count": 87,
   "id": "a51dc6d7",
   "metadata": {},
   "outputs": [
    {
     "data": {
      "text/plain": [
       "['Apple', 'Mango', 'Banana']"
      ]
     },
     "execution_count": 87,
     "metadata": {},
     "output_type": "execute_result"
    }
   ],
   "source": [
    "fruits[0:-1]"
   ]
  },
  {
   "cell_type": "code",
   "execution_count": 88,
   "id": "e5567404",
   "metadata": {},
   "outputs": [],
   "source": [
    "fruits = ['Apple','Mango','Banana','Cherry','Grapes','Guava','kiwi','Strawberry']"
   ]
  },
  {
   "cell_type": "code",
   "execution_count": 89,
   "id": "5c4b0631",
   "metadata": {},
   "outputs": [
    {
     "data": {
      "text/plain": [
       "['Apple', 'Mango', 'Banana', 'Cherry', 'Grapes', 'Guava', 'kiwi', 'Strawberry']"
      ]
     },
     "execution_count": 89,
     "metadata": {},
     "output_type": "execute_result"
    }
   ],
   "source": [
    "fruits"
   ]
  },
  {
   "cell_type": "code",
   "execution_count": 90,
   "id": "df5020bf",
   "metadata": {},
   "outputs": [
    {
     "data": {
      "text/plain": [
       "['Apple', 'Cherry', 'kiwi']"
      ]
     },
     "execution_count": 90,
     "metadata": {},
     "output_type": "execute_result"
    }
   ],
   "source": [
    "fruits[0:7:3]"
   ]
  },
  {
   "cell_type": "code",
   "execution_count": 91,
   "id": "be692fbf",
   "metadata": {},
   "outputs": [
    {
     "data": {
      "text/plain": [
       "'Strawberry'"
      ]
     },
     "execution_count": 91,
     "metadata": {},
     "output_type": "execute_result"
    }
   ],
   "source": [
    "#methods\n",
    "\n",
    "#append : only one element\n",
    "#extend : Multiple elements\n",
    "#insert : (index , Add Element)\n",
    "\n",
    "#remove : remove the ele\n",
    "#delete : whole list delete with variable // we can delete by indexing\n",
    "#clear : empty list\n",
    "#pop : removing with indexing number/ without indexing remkve the last ele..\n",
    "\n",
    "fruits.pop()"
   ]
  },
  {
   "cell_type": "code",
   "execution_count": 92,
   "id": "813bef10",
   "metadata": {},
   "outputs": [
    {
     "data": {
      "text/plain": [
       "['Apple', 'Mango', 'Banana', 'Cherry', 'Grapes', 'Guava', 'kiwi']"
      ]
     },
     "execution_count": 92,
     "metadata": {},
     "output_type": "execute_result"
    }
   ],
   "source": [
    "fruits"
   ]
  },
  {
   "cell_type": "code",
   "execution_count": 97,
   "id": "95f734c2",
   "metadata": {},
   "outputs": [],
   "source": [
    "fruits.append('Strawberry')"
   ]
  },
  {
   "cell_type": "code",
   "execution_count": 98,
   "id": "0804c371",
   "metadata": {},
   "outputs": [
    {
     "data": {
      "text/plain": [
       "['Apple',\n",
       " 'Mango',\n",
       " 'Banana',\n",
       " 'Cherry',\n",
       " 'Grapes',\n",
       " 'Guava',\n",
       " 'kiwi',\n",
       " ['Strawberry'],\n",
       " 'Strawberry']"
      ]
     },
     "execution_count": 98,
     "metadata": {},
     "output_type": "execute_result"
    }
   ],
   "source": [
    "fruits"
   ]
  },
  {
   "cell_type": "code",
   "execution_count": 99,
   "id": "7dccf6f1",
   "metadata": {},
   "outputs": [],
   "source": [
    "fruits.extend(['Apple','Mango'])"
   ]
  },
  {
   "cell_type": "code",
   "execution_count": 100,
   "id": "746fcf3a",
   "metadata": {},
   "outputs": [
    {
     "data": {
      "text/plain": [
       "['Apple',\n",
       " 'Mango',\n",
       " 'Banana',\n",
       " 'Cherry',\n",
       " 'Grapes',\n",
       " 'Guava',\n",
       " 'kiwi',\n",
       " ['Strawberry'],\n",
       " 'Strawberry',\n",
       " 'Apple',\n",
       " 'Mango']"
      ]
     },
     "execution_count": 100,
     "metadata": {},
     "output_type": "execute_result"
    }
   ],
   "source": [
    "fruits"
   ]
  },
  {
   "cell_type": "code",
   "execution_count": 101,
   "id": "39bf006a",
   "metadata": {},
   "outputs": [],
   "source": [
    "fruits.insert(3,'Cherry')"
   ]
  },
  {
   "cell_type": "code",
   "execution_count": 102,
   "id": "8284c755",
   "metadata": {},
   "outputs": [
    {
     "data": {
      "text/plain": [
       "['Apple',\n",
       " 'Mango',\n",
       " 'Banana',\n",
       " 'Cherry',\n",
       " 'Cherry',\n",
       " 'Grapes',\n",
       " 'Guava',\n",
       " 'kiwi',\n",
       " ['Strawberry'],\n",
       " 'Strawberry',\n",
       " 'Apple',\n",
       " 'Mango']"
      ]
     },
     "execution_count": 102,
     "metadata": {},
     "output_type": "execute_result"
    }
   ],
   "source": [
    "fruits"
   ]
  },
  {
   "cell_type": "code",
   "execution_count": 103,
   "id": "c79d8908",
   "metadata": {},
   "outputs": [],
   "source": [
    "fruits.remove(['Strawberry'])"
   ]
  },
  {
   "cell_type": "code",
   "execution_count": 104,
   "id": "f325a9dd",
   "metadata": {},
   "outputs": [
    {
     "data": {
      "text/plain": [
       "['Apple',\n",
       " 'Mango',\n",
       " 'Banana',\n",
       " 'Cherry',\n",
       " 'Cherry',\n",
       " 'Grapes',\n",
       " 'Guava',\n",
       " 'kiwi',\n",
       " 'Strawberry',\n",
       " 'Apple',\n",
       " 'Mango']"
      ]
     },
     "execution_count": 104,
     "metadata": {},
     "output_type": "execute_result"
    }
   ],
   "source": [
    "fruits"
   ]
  },
  {
   "cell_type": "code",
   "execution_count": 105,
   "id": "ab4518c8",
   "metadata": {},
   "outputs": [],
   "source": [
    "fruits.clear()"
   ]
  },
  {
   "cell_type": "code",
   "execution_count": 106,
   "id": "1d5b334a",
   "metadata": {},
   "outputs": [
    {
     "data": {
      "text/plain": [
       "[]"
      ]
     },
     "execution_count": 106,
     "metadata": {},
     "output_type": "execute_result"
    }
   ],
   "source": [
    "fruits"
   ]
  },
  {
   "cell_type": "code",
   "execution_count": 107,
   "id": "542e77b6",
   "metadata": {},
   "outputs": [],
   "source": [
    "fruits = ['Apple','Mango','Banana','Cherry','Grapes','Guava','kiwi','Strawberry']"
   ]
  },
  {
   "cell_type": "code",
   "execution_count": 108,
   "id": "d72b2d78",
   "metadata": {},
   "outputs": [],
   "source": [
    "del fruits[3]"
   ]
  },
  {
   "cell_type": "code",
   "execution_count": 109,
   "id": "d3a13d26",
   "metadata": {},
   "outputs": [
    {
     "data": {
      "text/plain": [
       "['Apple', 'Mango', 'Banana', 'Grapes', 'Guava', 'kiwi', 'Strawberry']"
      ]
     },
     "execution_count": 109,
     "metadata": {},
     "output_type": "execute_result"
    }
   ],
   "source": [
    "fruits"
   ]
  },
  {
   "cell_type": "code",
   "execution_count": 110,
   "id": "af066e78",
   "metadata": {},
   "outputs": [],
   "source": [
    "del fruits"
   ]
  },
  {
   "cell_type": "code",
   "execution_count": 111,
   "id": "830cc4fa",
   "metadata": {},
   "outputs": [
    {
     "ename": "NameError",
     "evalue": "name 'fruits' is not defined",
     "output_type": "error",
     "traceback": [
      "\u001b[1;31m---------------------------------------------------------------------------\u001b[0m",
      "\u001b[1;31mNameError\u001b[0m                                 Traceback (most recent call last)",
      "Cell \u001b[1;32mIn[111], line 1\u001b[0m\n\u001b[1;32m----> 1\u001b[0m fruits\n",
      "\u001b[1;31mNameError\u001b[0m: name 'fruits' is not defined"
     ]
    }
   ],
   "source": [
    "fruits"
   ]
  },
  {
   "cell_type": "code",
   "execution_count": 112,
   "id": "8afc0be0",
   "metadata": {},
   "outputs": [
    {
     "data": {
      "text/plain": [
       "['Prasad',\n",
       " 'Kinjal',\n",
       " 'rutuja',\n",
       " 'hruta',\n",
       " ['Akshay', 'rahul'],\n",
       " 'Thane',\n",
       " 'develearn']"
      ]
     },
     "execution_count": 112,
     "metadata": {},
     "output_type": "execute_result"
    }
   ],
   "source": [
    "name = ['Prasad','Kinjal','rutuja','hruta',['Akshay','rahul'],'Thane','develearn']\n",
    "name"
   ]
  },
  {
   "cell_type": "code",
   "execution_count": 113,
   "id": "aa3e76c6",
   "metadata": {},
   "outputs": [
    {
     "data": {
      "text/plain": [
       "'hruta'"
      ]
     },
     "execution_count": 113,
     "metadata": {},
     "output_type": "execute_result"
    }
   ],
   "source": [
    "name[3]"
   ]
  },
  {
   "cell_type": "code",
   "execution_count": 114,
   "id": "5c393f15",
   "metadata": {},
   "outputs": [
    {
     "data": {
      "text/plain": [
       "'Thane'"
      ]
     },
     "execution_count": 114,
     "metadata": {},
     "output_type": "execute_result"
    }
   ],
   "source": [
    "name[5]"
   ]
  },
  {
   "cell_type": "code",
   "execution_count": 115,
   "id": "e9321be9",
   "metadata": {},
   "outputs": [
    {
     "data": {
      "text/plain": [
       "['Akshay', 'rahul']"
      ]
     },
     "execution_count": 115,
     "metadata": {},
     "output_type": "execute_result"
    }
   ],
   "source": [
    "name[4]"
   ]
  },
  {
   "cell_type": "code",
   "execution_count": 116,
   "id": "0c116a1b",
   "metadata": {},
   "outputs": [
    {
     "data": {
      "text/plain": [
       "'Akshay'"
      ]
     },
     "execution_count": 116,
     "metadata": {},
     "output_type": "execute_result"
    }
   ],
   "source": [
    "name[4][0]"
   ]
  },
  {
   "cell_type": "code",
   "execution_count": 117,
   "id": "3f60ea15",
   "metadata": {},
   "outputs": [
    {
     "data": {
      "text/plain": [
       "'rahul'"
      ]
     },
     "execution_count": 117,
     "metadata": {},
     "output_type": "execute_result"
    }
   ],
   "source": [
    "name[4][1]"
   ]
  },
  {
   "cell_type": "code",
   "execution_count": 118,
   "id": "a5395903",
   "metadata": {},
   "outputs": [
    {
     "data": {
      "text/plain": [
       "'Aksh'"
      ]
     },
     "execution_count": 118,
     "metadata": {},
     "output_type": "execute_result"
    }
   ],
   "source": [
    "name[4][0][0:4]"
   ]
  },
  {
   "cell_type": "code",
   "execution_count": 119,
   "id": "2e2969b8",
   "metadata": {},
   "outputs": [
    {
     "data": {
      "text/plain": [
       "'rahu'"
      ]
     },
     "execution_count": 119,
     "metadata": {},
     "output_type": "execute_result"
    }
   ],
   "source": [
    "name[4][1][0:4]"
   ]
  },
  {
   "cell_type": "code",
   "execution_count": 120,
   "id": "6bbf392a",
   "metadata": {},
   "outputs": [
    {
     "data": {
      "text/plain": [
       "'rut'"
      ]
     },
     "execution_count": 120,
     "metadata": {},
     "output_type": "execute_result"
    }
   ],
   "source": [
    "name[2][0:3]"
   ]
  },
  {
   "cell_type": "code",
   "execution_count": 121,
   "id": "8288a691",
   "metadata": {},
   "outputs": [
    {
     "data": {
      "text/plain": [
       "['Prasad',\n",
       " 'Kinjal',\n",
       " 'rutuja',\n",
       " 'hruta',\n",
       " ['Akshay', 'rahul'],\n",
       " 'Thane',\n",
       " 'develearn']"
      ]
     },
     "execution_count": 121,
     "metadata": {},
     "output_type": "execute_result"
    }
   ],
   "source": [
    "name"
   ]
  },
  {
   "cell_type": "code",
   "execution_count": 122,
   "id": "55402ecf",
   "metadata": {},
   "outputs": [
    {
     "data": {
      "text/plain": [
       "('Prasad',\n",
       " 'Kinjal',\n",
       " 'rutuja',\n",
       " 'hruta',\n",
       " 'Akshay',\n",
       " 'rahul',\n",
       " 'Thane',\n",
       " 'develearn')"
      ]
     },
     "execution_count": 122,
     "metadata": {},
     "output_type": "execute_result"
    }
   ],
   "source": [
    "#Tuple \n",
    "#properties of tuple\n",
    "#unchangeable/Mutable\n",
    "#() round brackets\n",
    "#Ordered/Indexing\n",
    "#tuple are Constructor(tuple())\n",
    "#allow duplicates\n",
    "#all data types are allowed(heterogenous)\n",
    "\n",
    "name = ('Prasad','Kinjal','rutuja','hruta','Akshay','rahul','Thane','develearn')\n",
    "name"
   ]
  },
  {
   "cell_type": "code",
   "execution_count": 123,
   "id": "3e033ae4",
   "metadata": {},
   "outputs": [
    {
     "data": {
      "text/plain": [
       "tuple"
      ]
     },
     "execution_count": 123,
     "metadata": {},
     "output_type": "execute_result"
    }
   ],
   "source": [
    "type(name)"
   ]
  },
  {
   "cell_type": "code",
   "execution_count": 124,
   "id": "eed71851",
   "metadata": {},
   "outputs": [
    {
     "data": {
      "text/plain": [
       "8"
      ]
     },
     "execution_count": 124,
     "metadata": {},
     "output_type": "execute_result"
    }
   ],
   "source": [
    "len(name)"
   ]
  },
  {
   "cell_type": "code",
   "execution_count": 125,
   "id": "d7043707",
   "metadata": {},
   "outputs": [
    {
     "data": {
      "text/plain": [
       "'Akshay'"
      ]
     },
     "execution_count": 125,
     "metadata": {},
     "output_type": "execute_result"
    }
   ],
   "source": [
    "#access of item\n",
    "\n",
    "name[4]"
   ]
  },
  {
   "cell_type": "code",
   "execution_count": 126,
   "id": "991df4e9",
   "metadata": {},
   "outputs": [
    {
     "data": {
      "text/plain": [
       "'hruta'"
      ]
     },
     "execution_count": 126,
     "metadata": {},
     "output_type": "execute_result"
    }
   ],
   "source": [
    "name[3]"
   ]
  },
  {
   "cell_type": "code",
   "execution_count": 128,
   "id": "1c01f179",
   "metadata": {},
   "outputs": [],
   "source": [
    "name1 = name[0:4]"
   ]
  },
  {
   "cell_type": "code",
   "execution_count": 129,
   "id": "dde46a59",
   "metadata": {},
   "outputs": [
    {
     "data": {
      "text/plain": [
       "('Prasad', 'Kinjal', 'rutuja', 'hruta')"
      ]
     },
     "execution_count": 129,
     "metadata": {},
     "output_type": "execute_result"
    }
   ],
   "source": [
    "name1"
   ]
  },
  {
   "cell_type": "code",
   "execution_count": 130,
   "id": "9cc238a6",
   "metadata": {},
   "outputs": [
    {
     "data": {
      "text/plain": [
       "('Prasad',\n",
       " 'Kinjal',\n",
       " 'rutuja',\n",
       " 'hruta',\n",
       " 'Akshay',\n",
       " 'rahul',\n",
       " 'Thane',\n",
       " 'develearn')"
      ]
     },
     "execution_count": 130,
     "metadata": {},
     "output_type": "execute_result"
    }
   ],
   "source": [
    "name"
   ]
  },
  {
   "cell_type": "code",
   "execution_count": 131,
   "id": "a754fa50",
   "metadata": {},
   "outputs": [
    {
     "data": {
      "text/plain": [
       "list"
      ]
     },
     "execution_count": 131,
     "metadata": {},
     "output_type": "execute_result"
    }
   ],
   "source": [
    "a = [1,2,3,4,5]\n",
    "type(a)"
   ]
  },
  {
   "cell_type": "code",
   "execution_count": 132,
   "id": "bd6e2285",
   "metadata": {},
   "outputs": [],
   "source": [
    "#tuple Constructor\n",
    "b = tuple(a)"
   ]
  },
  {
   "cell_type": "code",
   "execution_count": 133,
   "id": "f0b0e7bc",
   "metadata": {},
   "outputs": [
    {
     "data": {
      "text/plain": [
       "(1, 2, 3, 4, 5)"
      ]
     },
     "execution_count": 133,
     "metadata": {},
     "output_type": "execute_result"
    }
   ],
   "source": [
    "b"
   ]
  },
  {
   "cell_type": "code",
   "execution_count": 134,
   "id": "422f29a8",
   "metadata": {},
   "outputs": [
    {
     "data": {
      "text/plain": [
       "tuple"
      ]
     },
     "execution_count": 134,
     "metadata": {},
     "output_type": "execute_result"
    }
   ],
   "source": [
    "type(b)"
   ]
  },
  {
   "cell_type": "code",
   "execution_count": 135,
   "id": "6c523eaa",
   "metadata": {},
   "outputs": [
    {
     "data": {
      "text/plain": [
       "[1, 2, 3, 4, 5]"
      ]
     },
     "execution_count": 135,
     "metadata": {},
     "output_type": "execute_result"
    }
   ],
   "source": [
    "a"
   ]
  },
  {
   "cell_type": "code",
   "execution_count": 136,
   "id": "7459152d",
   "metadata": {},
   "outputs": [
    {
     "data": {
      "text/plain": [
       "(1, 2, 3, 4, 5)"
      ]
     },
     "execution_count": 136,
     "metadata": {},
     "output_type": "execute_result"
    }
   ],
   "source": [
    "b"
   ]
  },
  {
   "cell_type": "code",
   "execution_count": 137,
   "id": "0e7c01ef",
   "metadata": {},
   "outputs": [
    {
     "data": {
      "text/plain": [
       "('Prasad',\n",
       " 'Kinjal',\n",
       " 'rutuja',\n",
       " 'hruta',\n",
       " 'Akshay',\n",
       " 'rahul',\n",
       " 'Thane',\n",
       " 'develearn')"
      ]
     },
     "execution_count": 137,
     "metadata": {},
     "output_type": "execute_result"
    }
   ],
   "source": [
    "name"
   ]
  },
  {
   "cell_type": "code",
   "execution_count": 139,
   "id": "80bfb730",
   "metadata": {},
   "outputs": [],
   "source": [
    "x = list(name)"
   ]
  },
  {
   "cell_type": "code",
   "execution_count": 140,
   "id": "247e1ad3",
   "metadata": {},
   "outputs": [
    {
     "data": {
      "text/plain": [
       "['Prasad',\n",
       " 'Kinjal',\n",
       " 'rutuja',\n",
       " 'hruta',\n",
       " 'Akshay',\n",
       " 'rahul',\n",
       " 'Thane',\n",
       " 'develearn']"
      ]
     },
     "execution_count": 140,
     "metadata": {},
     "output_type": "execute_result"
    }
   ],
   "source": [
    "x"
   ]
  },
  {
   "cell_type": "code",
   "execution_count": 141,
   "id": "eb0ef736",
   "metadata": {},
   "outputs": [],
   "source": [
    "x.append('Harbour')"
   ]
  },
  {
   "cell_type": "code",
   "execution_count": 142,
   "id": "f45dfe7a",
   "metadata": {},
   "outputs": [
    {
     "data": {
      "text/plain": [
       "['Prasad',\n",
       " 'Kinjal',\n",
       " 'rutuja',\n",
       " 'hruta',\n",
       " 'Akshay',\n",
       " 'rahul',\n",
       " 'Thane',\n",
       " 'develearn',\n",
       " 'Harbour']"
      ]
     },
     "execution_count": 142,
     "metadata": {},
     "output_type": "execute_result"
    }
   ],
   "source": [
    "x"
   ]
  },
  {
   "cell_type": "code",
   "execution_count": 143,
   "id": "58e856c8",
   "metadata": {},
   "outputs": [],
   "source": [
    "name = tuple(x)"
   ]
  },
  {
   "cell_type": "code",
   "execution_count": 144,
   "id": "8c399b88",
   "metadata": {},
   "outputs": [
    {
     "data": {
      "text/plain": [
       "('Prasad',\n",
       " 'Kinjal',\n",
       " 'rutuja',\n",
       " 'hruta',\n",
       " 'Akshay',\n",
       " 'rahul',\n",
       " 'Thane',\n",
       " 'develearn',\n",
       " 'Harbour')"
      ]
     },
     "execution_count": 144,
     "metadata": {},
     "output_type": "execute_result"
    }
   ],
   "source": [
    "name"
   ]
  },
  {
   "cell_type": "code",
   "execution_count": 145,
   "id": "564c888a",
   "metadata": {},
   "outputs": [],
   "source": [
    "#what is difference between tuple and list.\n",
    "\n",
    "\n",
    "#unpack tuple single\n",
    "f = ('Apple','banana','Cherry')\n",
    "(red,yellow,white) = f"
   ]
  },
  {
   "cell_type": "code",
   "execution_count": 146,
   "id": "d54b70ef",
   "metadata": {},
   "outputs": [
    {
     "name": "stdout",
     "output_type": "stream",
     "text": [
      "Apple\n",
      "banana\n",
      "Cherry\n"
     ]
    }
   ],
   "source": [
    "print(red)\n",
    "print(yellow)\n",
    "print(white)"
   ]
  },
  {
   "cell_type": "code",
   "execution_count": 148,
   "id": "3b5be058",
   "metadata": {},
   "outputs": [
    {
     "ename": "ValueError",
     "evalue": "too many values to unpack (expected 3)",
     "output_type": "error",
     "traceback": [
      "\u001b[1;31m---------------------------------------------------------------------------\u001b[0m",
      "\u001b[1;31mValueError\u001b[0m                                Traceback (most recent call last)",
      "Cell \u001b[1;32mIn[148], line 2\u001b[0m\n\u001b[0;32m      1\u001b[0m f \u001b[38;5;241m=\u001b[39m (\u001b[38;5;124m'\u001b[39m\u001b[38;5;124mApple\u001b[39m\u001b[38;5;124m'\u001b[39m,\u001b[38;5;124m'\u001b[39m\u001b[38;5;124mbanana\u001b[39m\u001b[38;5;124m'\u001b[39m,\u001b[38;5;124m'\u001b[39m\u001b[38;5;124mCherry\u001b[39m\u001b[38;5;124m'\u001b[39m,\u001b[38;5;124m'\u001b[39m\u001b[38;5;124mkiwi\u001b[39m\u001b[38;5;124m'\u001b[39m,\u001b[38;5;124m'\u001b[39m\u001b[38;5;124mgrapes\u001b[39m\u001b[38;5;124m'\u001b[39m)\n\u001b[1;32m----> 2\u001b[0m (red,yellow,white) \u001b[38;5;241m=\u001b[39m f\n",
      "\u001b[1;31mValueError\u001b[0m: too many values to unpack (expected 3)"
     ]
    }
   ],
   "source": [
    "f = ('Apple','banana','Cherry','kiwi','grapes')\n",
    "(red,yellow,white) = f"
   ]
  },
  {
   "cell_type": "code",
   "execution_count": 153,
   "id": "8180af24",
   "metadata": {},
   "outputs": [],
   "source": [
    "#using *(astrick)\n",
    "f = ('Apple','banana','Cherry','kiwi','grapes')\n",
    "(red,*yellow,white) = f"
   ]
  },
  {
   "cell_type": "code",
   "execution_count": 154,
   "id": "722f5402",
   "metadata": {},
   "outputs": [
    {
     "data": {
      "text/plain": [
       "['banana', 'Cherry', 'kiwi']"
      ]
     },
     "execution_count": 154,
     "metadata": {},
     "output_type": "execute_result"
    }
   ],
   "source": [
    "yellow"
   ]
  },
  {
   "cell_type": "code",
   "execution_count": null,
   "id": "dec48b0c",
   "metadata": {},
   "outputs": [],
   "source": []
  }
 ],
 "metadata": {
  "kernelspec": {
   "display_name": "Python 3 (ipykernel)",
   "language": "python",
   "name": "python3"
  },
  "language_info": {
   "codemirror_mode": {
    "name": "ipython",
    "version": 3
   },
   "file_extension": ".py",
   "mimetype": "text/x-python",
   "name": "python",
   "nbconvert_exporter": "python",
   "pygments_lexer": "ipython3",
   "version": "3.11.5"
  }
 },
 "nbformat": 4,
 "nbformat_minor": 5
}
